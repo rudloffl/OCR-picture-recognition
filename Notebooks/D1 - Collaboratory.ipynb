{
  "nbformat": 4,
  "nbformat_minor": 0,
  "metadata": {
    "colab": {
      "name": "D1 - Collaboratory.ipynb",
      "version": "0.3.2",
      "views": {},
      "default_view": {},
      "provenance": [],
      "collapsed_sections": [
        "xkKnCH_FeEtI",
        "205fBgQche4A",
        "BehTe1CxiEDW",
        "Nh4EyuDj1XFO",
        "tZEwpFYu6VgC"
      ]
    },
    "kernelspec": {
      "display_name": "Python 3",
      "language": "python",
      "name": "python3"
    },
    "accelerator": "GPU"
  },
  "cells": [
    {
      "metadata": {
        "id": "arRSgXZi1XDC",
        "colab_type": "code",
        "colab": {
          "autoexec": {
            "startup": false,
            "wait_interval": 0
          },
          "base_uri": "https://localhost:8080/",
          "height": 34
        },
        "outputId": "2f9d440f-b4cc-40b5-a463-61fd08efd2f2",
        "executionInfo": {
          "status": "ok",
          "timestamp": 1524680091770,
          "user_tz": 300,
          "elapsed": 542,
          "user": {
            "displayName": "Laurent Rudloff",
            "photoUrl": "https://lh3.googleusercontent.com/a/default-user=s128",
            "userId": "104166800392809817224"
          }
        }
      },
      "cell_type": "code",
      "source": [
        "import numpy as np\n",
        "import pandas as pd\n",
        "import skimage\n",
        "print(skimage.__version__)"
      ],
      "execution_count": 1,
      "outputs": [
        {
          "output_type": "stream",
          "text": [
            "0.13.1\n"
          ],
          "name": "stdout"
        }
      ]
    },
    {
      "metadata": {
        "id": "nf6qkckD1XDQ",
        "colab_type": "code",
        "colab": {
          "autoexec": {
            "startup": false,
            "wait_interval": 0
          },
          "base_uri": "https://localhost:8080/",
          "height": 34
        },
        "outputId": "2c9758a1-807e-46d3-9e8b-59051bfbc5f0",
        "executionInfo": {
          "status": "ok",
          "timestamp": 1524680093988,
          "user_tz": 300,
          "elapsed": 1450,
          "user": {
            "displayName": "Laurent Rudloff",
            "photoUrl": "https://lh3.googleusercontent.com/a/default-user=s128",
            "userId": "104166800392809817224"
          }
        }
      },
      "cell_type": "code",
      "source": [
        "!ls"
      ],
      "execution_count": 2,
      "outputs": [
        {
          "output_type": "stream",
          "text": [
            "datalab\r\n"
          ],
          "name": "stdout"
        }
      ]
    },
    {
      "metadata": {
        "id": "ABhNCIjt1kwE",
        "colab_type": "text"
      },
      "cell_type": "markdown",
      "source": [
        "# Misc info"
      ]
    },
    {
      "metadata": {
        "id": "dIFtMzKi1XDy",
        "colab_type": "code",
        "colab": {
          "autoexec": {
            "startup": false,
            "wait_interval": 0
          }
        }
      },
      "cell_type": "code",
      "source": [
        "url = 'http://vision.stanford.edu/aditya86/ImageNetDogs/'\n",
        "num_classes = 120\n",
        "num_channels = 3"
      ],
      "execution_count": 0,
      "outputs": []
    },
    {
      "metadata": {
        "id": "iiqO6InU1XDa",
        "colab_type": "text"
      },
      "cell_type": "markdown",
      "source": [
        "# Sub-features"
      ]
    },
    {
      "metadata": {
        "id": "gUWi-U3V1XDc",
        "colab_type": "code",
        "colab": {
          "autoexec": {
            "startup": false,
            "wait_interval": 0
          }
        }
      },
      "cell_type": "code",
      "source": [
        "#Create folders\n",
        "import os\n",
        "def folder_create(path):\n",
        "    os.makedirs(os.path.join(path), exist_ok=True)"
      ],
      "execution_count": 0,
      "outputs": []
    },
    {
      "metadata": {
        "id": "vCuyJVAw1XDk",
        "colab_type": "code",
        "colab": {
          "autoexec": {
            "startup": false,
            "wait_interval": 0
          }
        }
      },
      "cell_type": "code",
      "source": [
        "#Dowload files\n",
        "from six.moves.urllib.request import urlretrieve\n",
        "def downloadfile(filename, targetloc='.', url=url):\n",
        "    dest_filename = os.path.join(targetloc, filename)\n",
        "    filename, _ = urlretrieve(url + filename, dest_filename)\n",
        "    print(dest_filename, 'created')\n",
        "    return filename"
      ],
      "execution_count": 0,
      "outputs": []
    },
    {
      "metadata": {
        "id": "3Od66x131XDs",
        "colab_type": "code",
        "colab": {
          "autoexec": {
            "startup": false,
            "wait_interval": 0
          }
        }
      },
      "cell_type": "code",
      "source": [
        "#Extract files\n",
        "import tarfile\n",
        "import sys\n",
        "def extract(filename, target, location = '.'):\n",
        "    \n",
        "    tar = tarfile.open(filename)\n",
        "    sys.stdout.flush()\n",
        "    tar.extractall(target)\n",
        "    tar.close()\n",
        "    print(filename, 'created')"
      ],
      "execution_count": 0,
      "outputs": []
    },
    {
      "metadata": {
        "id": "vMNXOMpI1XDw",
        "colab_type": "text"
      },
      "cell_type": "markdown",
      "source": [
        "# dataset preparation"
      ]
    },
    {
      "metadata": {
        "id": "ilc2_bqH1XD6",
        "colab_type": "text"
      },
      "cell_type": "markdown",
      "source": [
        "## Folder creation"
      ]
    },
    {
      "metadata": {
        "id": "DEI-U-0L1XD8",
        "colab_type": "code",
        "colab": {
          "autoexec": {
            "startup": false,
            "wait_interval": 0
          }
        }
      },
      "cell_type": "code",
      "source": [
        "# Folder creation\n",
        "folder_create('lists')\n",
        "folder_create('train')\n",
        "folder_create('test')\n",
        "folder_create('features')\n",
        "folder_create('Annotation')"
      ],
      "execution_count": 0,
      "outputs": []
    },
    {
      "metadata": {
        "id": "fltpfZo01XEE",
        "colab_type": "text"
      },
      "cell_type": "markdown",
      "source": [
        "## downloading"
      ]
    },
    {
      "metadata": {
        "id": "cpTjtuPH1XEI",
        "colab_type": "code",
        "colab": {
          "autoexec": {
            "startup": false,
            "wait_interval": 0
          },
          "base_uri": "https://localhost:8080/",
          "height": 86
        },
        "outputId": "20ca3d78-de37-4433-edb3-765286944185",
        "executionInfo": {
          "status": "ok",
          "timestamp": 1524680257946,
          "user_tz": 300,
          "elapsed": 160318,
          "user": {
            "displayName": "Laurent Rudloff",
            "photoUrl": "https://lh3.googleusercontent.com/a/default-user=s128",
            "userId": "104166800392809817224"
          }
        }
      },
      "cell_type": "code",
      "source": [
        "#Datadownloading\n",
        "downloadfile('lists.tar')\n",
        "downloadfile('annotation.tar')\n",
        "downloadfile('images.tar')\n",
        "#downloadfile('train_data.mat', targetloc = 'features')\n",
        "#downloadfile('test_data.mat', targetloc = 'features')"
      ],
      "execution_count": 8,
      "outputs": [
        {
          "output_type": "stream",
          "text": [
            "./lists.tar created\n",
            "./annotation.tar created\n",
            "./images.tar created\n"
          ],
          "name": "stdout"
        },
        {
          "output_type": "execute_result",
          "data": {
            "text/plain": [
              "'./images.tar'"
            ]
          },
          "metadata": {
            "tags": []
          },
          "execution_count": 8
        }
      ]
    },
    {
      "metadata": {
        "id": "NO7s7B0N1XEW",
        "colab_type": "text"
      },
      "cell_type": "markdown",
      "source": [
        "## Data preparation"
      ]
    },
    {
      "metadata": {
        "id": "NLJfsYXh1XEc",
        "colab_type": "code",
        "colab": {
          "autoexec": {
            "startup": false,
            "wait_interval": 0
          },
          "base_uri": "https://localhost:8080/",
          "height": 69
        },
        "outputId": "897f0155-6b0b-41d1-ebc1-a897ebfd1574",
        "executionInfo": {
          "status": "ok",
          "timestamp": 1524680272122,
          "user_tz": 300,
          "elapsed": 14060,
          "user": {
            "displayName": "Laurent Rudloff",
            "photoUrl": "https://lh3.googleusercontent.com/a/default-user=s128",
            "userId": "104166800392809817224"
          }
        }
      },
      "cell_type": "code",
      "source": [
        "#File extraction\n",
        "extract('lists.tar', target='lists/')\n",
        "extract('annotation.tar', target='.')\n",
        "extract('images.tar', target='.')"
      ],
      "execution_count": 9,
      "outputs": [
        {
          "output_type": "stream",
          "text": [
            "lists.tar created\n",
            "annotation.tar created\n",
            "images.tar created\n"
          ],
          "name": "stdout"
        }
      ]
    },
    {
      "metadata": {
        "id": "qratOxx21xZI",
        "colab_type": "code",
        "colab": {
          "autoexec": {
            "startup": false,
            "wait_interval": 0
          },
          "base_uri": "https://localhost:8080/",
          "height": 52
        },
        "outputId": "ffbaebd4-55bf-4677-dcf8-4677cfa04238",
        "executionInfo": {
          "status": "ok",
          "timestamp": 1524680273652,
          "user_tz": 300,
          "elapsed": 1454,
          "user": {
            "displayName": "Laurent Rudloff",
            "photoUrl": "https://lh3.googleusercontent.com/a/default-user=s128",
            "userId": "104166800392809817224"
          }
        }
      },
      "cell_type": "code",
      "source": [
        "!ls"
      ],
      "execution_count": 10,
      "outputs": [
        {
          "output_type": "stream",
          "text": [
            "Annotation\tdatalab   Images      lists\t test\r\n",
            "annotation.tar\tfeatures  images.tar  lists.tar  train\r\n"
          ],
          "name": "stdout"
        }
      ]
    },
    {
      "metadata": {
        "id": "Lqy8bsCW1XEm",
        "colab_type": "code",
        "colab": {
          "autoexec": {
            "startup": false,
            "wait_interval": 0
          },
          "base_uri": "https://localhost:8080/",
          "height": 34
        },
        "outputId": "c0f5334b-c28e-4f0d-dc0b-3c5f3a0f2a04",
        "executionInfo": {
          "status": "ok",
          "timestamp": 1524680274506,
          "user_tz": 300,
          "elapsed": 752,
          "user": {
            "displayName": "Laurent Rudloff",
            "photoUrl": "https://lh3.googleusercontent.com/a/default-user=s128",
            "userId": "104166800392809817224"
          }
        }
      },
      "cell_type": "code",
      "source": [
        "import scipy.io as sio\n",
        "test_list = sio.loadmat('lists/test_list.mat')\n",
        "train_list = sio.loadmat('lists/train_list.mat')\n",
        "test_list.keys()"
      ],
      "execution_count": 11,
      "outputs": [
        {
          "output_type": "execute_result",
          "data": {
            "text/plain": [
              "dict_keys(['__header__', '__version__', '__globals__', 'file_list', 'annotation_list', 'labels'])"
            ]
          },
          "metadata": {
            "tags": []
          },
          "execution_count": 11
        }
      ]
    },
    {
      "metadata": {
        "id": "GPDJo0R91XEy",
        "colab_type": "code",
        "colab": {
          "autoexec": {
            "startup": false,
            "wait_interval": 0
          }
        }
      },
      "cell_type": "code",
      "source": [
        "from bs4 import BeautifulSoup\n",
        "from skimage.io import imread, imsave\n",
        "from skimage import transform\n",
        "\n",
        "def spreadfiles(listmat, serie=None, annotation='Annotation', images='Images'):\n",
        "    counter = 0\n",
        "    for filepath in listmat['file_list']:\n",
        "        counter +=1\n",
        "        if counter % 500 == 0:\n",
        "            print(f'{counter} files done')\n",
        "        cleanedfilepath = filepath[0][0]\n",
        "        filename = os.path.split(cleanedfilepath)[-1].split('.')[0]\n",
        "        foldername = os.path.split(cleanedfilepath)[0]\n",
        "        details = {}\n",
        "        with open(os.path.join(annotation, foldername, filename), 'r', encoding='utf-8') as f:\n",
        "            soup = BeautifulSoup(f, 'html.parser')\n",
        "            dog = soup.find('object')\n",
        "            details['xmin'] = int(dog.xmin.string)\n",
        "            details['xmax'] = int(dog.xmax.string)\n",
        "            details['ymin'] = int(dog.ymin.string)\n",
        "            details['ymax'] = int(dog.ymax.string)\n",
        "            #details['breed'] = dog.find_all('name')[0].string\n",
        "        #print(os.path.join(images, foldername, f'{filename}.jpg'))\n",
        "        image_data = imread(os.path.join(images, foldername, f'{filename}.jpg'))\n",
        "        new_image_data = image_data[details['ymin']:details['ymax'],details['xmin']:details['xmax'],:]\n",
        "        newpath = os.path.join(serie, foldername)\n",
        "        #print(newpath)\n",
        "        folder_create(newpath)\n",
        "        try:\n",
        "            imsave(os.path.join(newpath, f'{filename}.jpg'), new_image_data)\n",
        "        except:\n",
        "            print(f'problem with {filename} :-(')\n"
      ],
      "execution_count": 0,
      "outputs": []
    },
    {
      "metadata": {
        "id": "N4dYeuYC1XE6",
        "colab_type": "code",
        "colab": {
          "autoexec": {
            "startup": false,
            "wait_interval": 0
          },
          "base_uri": "https://localhost:8080/",
          "height": 347
        },
        "outputId": "f8e52c49-bf2f-45b3-df2c-fa1ae9b35a8d",
        "executionInfo": {
          "status": "ok",
          "timestamp": 1524680379692,
          "user_tz": 300,
          "elapsed": 104546,
          "user": {
            "displayName": "Laurent Rudloff",
            "photoUrl": "https://lh3.googleusercontent.com/a/default-user=s128",
            "userId": "104166800392809817224"
          }
        }
      },
      "cell_type": "code",
      "source": [
        "%%time\n",
        "spreadfiles(test_list, serie='test')\n",
        "\n"
      ],
      "execution_count": 13,
      "outputs": [
        {
          "output_type": "stream",
          "text": [
            "500 files done\n",
            "1000 files done\n",
            "1500 files done\n",
            "2000 files done\n",
            "2500 files done\n",
            "3000 files done\n",
            "3500 files done\n",
            "4000 files done\n",
            "4500 files done\n",
            "5000 files done\n",
            "5500 files done\n",
            "6000 files done\n",
            "6500 files done\n",
            "7000 files done\n",
            "7500 files done\n",
            "8000 files done\n",
            "8500 files done\n",
            "CPU times: user 1min 42s, sys: 1.37 s, total: 1min 44s\n",
            "Wall time: 1min 44s\n"
          ],
          "name": "stdout"
        }
      ]
    },
    {
      "metadata": {
        "id": "IAw1LqF5EYpC",
        "colab_type": "code",
        "colab": {
          "autoexec": {
            "startup": false,
            "wait_interval": 0
          },
          "base_uri": "https://localhost:8080/",
          "height": 469
        },
        "outputId": "c5005d62-a4d6-4296-be70-85dc3586208b",
        "executionInfo": {
          "status": "ok",
          "timestamp": 1524680527288,
          "user_tz": 300,
          "elapsed": 147528,
          "user": {
            "displayName": "Laurent Rudloff",
            "photoUrl": "https://lh3.googleusercontent.com/a/default-user=s128",
            "userId": "104166800392809817224"
          }
        }
      },
      "cell_type": "code",
      "source": [
        "%%time\n",
        "spreadfiles(train_list, serie='train')"
      ],
      "execution_count": 14,
      "outputs": [
        {
          "output_type": "stream",
          "text": [
            "500 files done\n",
            "1000 files done\n",
            "1500 files done\n",
            "2000 files done\n",
            "2500 files done\n",
            "3000 files done\n",
            "3500 files done\n",
            "4000 files done\n",
            "4500 files done\n",
            "5000 files done\n",
            "5500 files done\n",
            "6000 files done\n",
            "6500 files done\n",
            "7000 files done\n",
            "7500 files done\n",
            "8000 files done\n",
            "8500 files done\n",
            "9000 files done\n",
            "9500 files done\n",
            "10000 files done\n",
            "10500 files done\n",
            "11000 files done\n",
            "11500 files done\n",
            "12000 files done\n",
            "CPU times: user 2min 24s, sys: 1.9 s, total: 2min 26s\n",
            "Wall time: 2min 27s\n"
          ],
          "name": "stdout"
        }
      ]
    },
    {
      "metadata": {
        "id": "RR-Zd_XKYctq",
        "colab_type": "text"
      },
      "cell_type": "markdown",
      "source": [
        "# FastAI and pytorch"
      ]
    },
    {
      "metadata": {
        "id": "xkKnCH_FeEtI",
        "colab_type": "text"
      },
      "cell_type": "markdown",
      "source": [
        "## General install"
      ]
    },
    {
      "metadata": {
        "id": "MiVbw17QYbnM",
        "colab_type": "code",
        "colab": {
          "autoexec": {
            "startup": false,
            "wait_interval": 0
          },
          "base_uri": "https://localhost:8080/",
          "height": 4327
        },
        "outputId": "e5b5a651-4af3-4924-bf54-f80cb7b5567e",
        "executionInfo": {
          "status": "ok",
          "timestamp": 1524680664692,
          "user_tz": 300,
          "elapsed": 137290,
          "user": {
            "displayName": "Laurent Rudloff",
            "photoUrl": "https://lh3.googleusercontent.com/a/default-user=s128",
            "userId": "104166800392809817224"
          }
        }
      },
      "cell_type": "code",
      "source": [
        "# FastAI install\n",
        "!pip install fastai\n",
        "!pip install opencv-python\n",
        "!apt update && apt install -y libsm6 libxext6\n",
        "!pip3 install http://download.pytorch.org/whl/cu80/torch-0.3.0.post4-cp36-cp36m-linux_x86_64.whl \n",
        "!pip3 install torchvision"
      ],
      "execution_count": 15,
      "outputs": [
        {
          "output_type": "stream",
          "text": [
            "Collecting fastai\n",
            "  Downloading https://files.pythonhosted.org/packages/fb/7e/047b29a6d769b343d00b52c120757a5f71e0ef353b08d8b857a2a8735ad0/fastai-0.6.tar.gz (429kB)\n",
            "\u001b[K    100% |████████████████████████████████| 430kB 2.5MB/s \n",
            "\u001b[?25hCollecting awscli (from fastai)\n",
            "  Downloading https://files.pythonhosted.org/packages/8d/7b/a55a38fdefd2991c37bdc87a36fbbd159cc59c655a5de0b60ebaaf195ae5/awscli-1.15.8-py2.py3-none-any.whl (1.3MB)\n",
            "\u001b[K    100% |████████████████████████████████| 1.3MB 1.1MB/s \n",
            "\u001b[?25hCollecting bcolz (from fastai)\n",
            "  Downloading https://files.pythonhosted.org/packages/5c/4e/23942de9d5c0fb16f10335fa83e52b431bcb8c0d4a8419c9ac206268c279/bcolz-1.2.1.tar.gz (1.5MB)\n",
            "\u001b[K    100% |████████████████████████████████| 1.5MB 986kB/s \n",
            "\u001b[?25hRequirement already satisfied: bleach in /usr/local/lib/python3.6/dist-packages (from fastai)\n",
            "Requirement already satisfied: certifi in /usr/local/lib/python3.6/dist-packages (from fastai)\n",
            "Requirement already satisfied: cycler in /usr/local/lib/python3.6/dist-packages (from fastai)\n",
            "Requirement already satisfied: decorator in /usr/local/lib/python3.6/dist-packages (from fastai)\n",
            "Requirement already satisfied: entrypoints in /usr/local/lib/python3.6/dist-packages (from fastai)\n",
            "Collecting feather-format (from fastai)\n",
            "  Downloading https://files.pythonhosted.org/packages/08/55/940b97cc6f19a19f5dab9efef2f68a0ce43a7632f858b272391f0b851a7e/feather-format-0.4.0.tar.gz\n",
            "Collecting graphviz (from fastai)\n",
            "  Downloading https://files.pythonhosted.org/packages/05/e4/8fcc76823534d47f079c0ff1b3d8b57784e8fba63ceb1ded32c9f4dd993c/graphviz-0.8.2-py2.py3-none-any.whl\n",
            "Requirement already satisfied: html5lib in /usr/local/lib/python3.6/dist-packages (from fastai)\n",
            "Requirement already satisfied: ipykernel in /usr/local/lib/python3.6/dist-packages (from fastai)\n",
            "Requirement already satisfied: ipython in /usr/local/lib/python3.6/dist-packages (from fastai)\n",
            "Requirement already satisfied: ipython-genutils in /usr/local/lib/python3.6/dist-packages (from fastai)\n",
            "Collecting ipywidgets (from fastai)\n",
            "  Downloading https://files.pythonhosted.org/packages/7d/24/fabc09ad81c6071159a4d12d5bfbddcbea69bd9e3b16c3250ef300c0285f/ipywidgets-7.2.1-py2.py3-none-any.whl (106kB)\n",
            "\u001b[K    100% |████████████████████████████████| 112kB 9.2MB/s \n",
            "\u001b[?25hCollecting isoweek (from fastai)\n",
            "  Downloading https://files.pythonhosted.org/packages/c2/d4/fe7e2637975c476734fcbf53776e650a29680194eb0dd21dbdc020ca92de/isoweek-1.3.3-py2.py3-none-any.whl\n",
            "Collecting jedi (from fastai)\n",
            "  Downloading https://files.pythonhosted.org/packages/e7/42/074192a165622e645ed4aeade63e76e56b3496a044569b3c6cae3a918352/jedi-0.12.0-py2.py3-none-any.whl (172kB)\n",
            "\u001b[K    100% |████████████████████████████████| 174kB 5.5MB/s \n",
            "\u001b[?25hRequirement already satisfied: Jinja2 in /usr/local/lib/python3.6/dist-packages (from fastai)\n",
            "Requirement already satisfied: jsonschema in /usr/local/lib/python3.6/dist-packages (from fastai)\n",
            "Collecting jupyter (from fastai)\n",
            "  Downloading https://files.pythonhosted.org/packages/83/df/0f5dd132200728a86190397e1ea87cd76244e42d39ec5e88efd25b2abd7e/jupyter-1.0.0-py2.py3-none-any.whl\n",
            "Requirement already satisfied: jupyter-client in /usr/local/lib/python3.6/dist-packages (from fastai)\n",
            "Collecting jupyter-console (from fastai)\n",
            "  Downloading https://files.pythonhosted.org/packages/77/82/6469cd7fccf7958cbe5dce2e623f1e3c5e27f1bb1ad36d90519bc2d5d370/jupyter_console-5.2.0-py2.py3-none-any.whl\n",
            "Collecting jupyter_contrib_nbextensions (from fastai)\n",
            "  Downloading https://files.pythonhosted.org/packages/d2/f1/57cd4d05d7f070e662844a925d6f6d726ecaf93d8cc2d7b56a66c765fb42/jupyter_contrib_nbextensions-0.5.0-py2.py3-none-any.whl (20.9MB)\n",
            "\u001b[K    100% |████████████████████████████████| 20.9MB 71kB/s \n"
          ],
          "name": "stdout"
        },
        {
          "output_type": "stream",
          "text": [
            "\u001b[?25hRequirement already satisfied: jupyter-core in /usr/local/lib/python3.6/dist-packages (from fastai)\r\n",
            "Collecting kaggle-cli (from fastai)\n",
            "  Downloading https://files.pythonhosted.org/packages/67/61/710d02460bc4367ffd1f5e71cd9c031fb278f78aa0e8e32ca9dd99a2add8/kaggle-cli-0.12.13.tar.gz\n",
            "Requirement already satisfied: MarkupSafe in /usr/local/lib/python3.6/dist-packages (from fastai)\n",
            "Requirement already satisfied: matplotlib in /usr/local/lib/python3.6/dist-packages (from fastai)\n",
            "Requirement already satisfied: mistune in /usr/local/lib/python3.6/dist-packages (from fastai)\n",
            "Requirement already satisfied: nbconvert in /usr/local/lib/python3.6/dist-packages (from fastai)\n",
            "Requirement already satisfied: nbformat in /usr/local/lib/python3.6/dist-packages (from fastai)\n",
            "Requirement already satisfied: notebook in /usr/local/lib/python3.6/dist-packages (from fastai)\n",
            "Requirement already satisfied: numpy in /usr/local/lib/python3.6/dist-packages (from fastai)\n",
            "Requirement already satisfied: olefile in /usr/local/lib/python3.6/dist-packages (from fastai)\n",
            "Requirement already satisfied: opencv-python in /usr/local/lib/python3.6/dist-packages (from fastai)\n",
            "Requirement already satisfied: pandas in /usr/local/lib/python3.6/dist-packages (from fastai)\n",
            "Collecting pandas_summary (from fastai)\n",
            "  Downloading https://files.pythonhosted.org/packages/3d/a7/0364272be0c6561c45d67edec8a7bf0532d56b830438168f9078f7720f63/pandas-summary-0.0.41.tar.gz\n",
            "Requirement already satisfied: pandocfilters in /usr/local/lib/python3.6/dist-packages (from fastai)\n",
            "Requirement already satisfied: pexpect in /usr/local/lib/python3.6/dist-packages (from fastai)\n",
            "Requirement already satisfied: pickleshare in /usr/local/lib/python3.6/dist-packages (from fastai)\n",
            "Requirement already satisfied: Pillow in /usr/local/lib/python3.6/dist-packages (from fastai)\n",
            "Collecting plotnine (from fastai)\n",
            "  Downloading https://files.pythonhosted.org/packages/3a/68/cf39dfde4e9fd886703621e3393cd8103cb48d5ecc95b8f048ec148e53a6/plotnine-0.3.0-py2.py3-none-any.whl (3.4MB)\n",
            "\u001b[K    100% |████████████████████████████████| 3.4MB 427kB/s \n",
            "\u001b[?25hRequirement already satisfied: prompt-toolkit in /usr/local/lib/python3.6/dist-packages (from fastai)\n",
            "Requirement already satisfied: ptyprocess in /usr/local/lib/python3.6/dist-packages (from fastai)\n",
            "Requirement already satisfied: Pygments in /usr/local/lib/python3.6/dist-packages (from fastai)\n",
            "Requirement already satisfied: pyparsing in /usr/local/lib/python3.6/dist-packages (from fastai)\n",
            "Requirement already satisfied: python-dateutil in /usr/local/lib/python3.6/dist-packages (from fastai)\n",
            "Requirement already satisfied: pytz in /usr/local/lib/python3.6/dist-packages (from fastai)\n",
            "Requirement already satisfied: PyYAML in /usr/local/lib/python3.6/dist-packages (from fastai)\n",
            "Requirement already satisfied: pyzmq in /usr/local/lib/python3.6/dist-packages (from fastai)\n",
            "Collecting qtconsole (from fastai)\n",
            "  Downloading https://files.pythonhosted.org/packages/90/ff/047e0dca2627b162866920e7aa93f04523c0ae81e5c67060eec85701992d/qtconsole-4.3.1-py2.py3-none-any.whl (108kB)\n",
            "\u001b[K    100% |████████████████████████████████| 112kB 9.4MB/s \n",
            "\u001b[?25hRequirement already satisfied: scipy in /usr/local/lib/python3.6/dist-packages (from fastai)\n",
            "Requirement already satisfied: seaborn in /usr/local/lib/python3.6/dist-packages (from fastai)\n",
            "Requirement already satisfied: simplegeneric in /usr/local/lib/python3.6/dist-packages (from fastai)\n",
            "Requirement already satisfied: six in /usr/local/lib/python3.6/dist-packages (from fastai)\n",
            "Collecting sklearn_pandas (from fastai)\n",
            "  Downloading https://files.pythonhosted.org/packages/c5/9e/42d7bcddb09a3ff52d0c60c810ba5d0fded28abbe320c85bbf7368192956/sklearn_pandas-1.6.0-py2.py3-none-any.whl\n",
            "Requirement already satisfied: terminado in /usr/local/lib/python3.6/dist-packages (from fastai)\n",
            "Requirement already satisfied: testpath in /usr/local/lib/python3.6/dist-packages (from fastai)\n",
            "Collecting torchtext (from fastai)\n",
            "  Downloading https://files.pythonhosted.org/packages/78/90/474d5944d43001a6e72b9aaed5c3e4f77516fbef2317002da2096fd8b5ea/torchtext-0.2.3.tar.gz (42kB)\n",
            "\u001b[K    100% |████████████████████████████████| 51kB 5.7MB/s \n",
            "\u001b[?25hRequirement already satisfied: tornado in /usr/local/lib/python3.6/dist-packages (from fastai)\n",
            "Collecting tqdm (from fastai)\n",
            "  Downloading https://files.pythonhosted.org/packages/c2/d4/bf1d99216672eef50392c009a8d0f282c4b643e4f764c962ff7b611ebce4/tqdm-4.23.1-py2.py3-none-any.whl (42kB)\n",
            "\u001b[K    100% |████████████████████████████████| 51kB 11.7MB/s \n",
            "\u001b[?25hRequirement already satisfied: traitlets in /usr/local/lib/python3.6/dist-packages (from fastai)\n",
            "Requirement already satisfied: wcwidth in /usr/local/lib/python3.6/dist-packages (from fastai)\n",
            "Requirement already satisfied: webencodings in /usr/local/lib/python3.6/dist-packages (from fastai)\n",
            "Collecting widgetsnbextension (from fastai)\n",
            "  Downloading https://files.pythonhosted.org/packages/ff/fa/64acc09fc845a6b2dc0724d6f3f81e829b778ed5e9a7559567b4f19a3f4b/widgetsnbextension-3.2.1-py2.py3-none-any.whl (2.2MB)\n",
            "\u001b[K    100% |████████████████████████████████| 2.2MB 550kB/s \n"
          ],
          "name": "stdout"
        },
        {
          "output_type": "stream",
          "text": [
            "\u001b[?25hCollecting colorama<=0.3.7,>=0.2.5 (from awscli->fastai)\n",
            "  Downloading https://files.pythonhosted.org/packages/b7/8e/ddb32ddaabd431813e180ca224e844bab8ad42fbb47ee07553f0ec44cd86/colorama-0.3.7-py2.py3-none-any.whl\n",
            "Collecting s3transfer<0.2.0,>=0.1.12 (from awscli->fastai)\n",
            "  Downloading https://files.pythonhosted.org/packages/d7/14/2a0004d487464d120c9fb85313a75cd3d71a7506955be458eebfe19a6b1d/s3transfer-0.1.13-py2.py3-none-any.whl (59kB)\n",
            "\u001b[K    100% |████████████████████████████████| 61kB 10.3MB/s \n",
            "\u001b[?25hCollecting botocore==1.10.8 (from awscli->fastai)\n",
            "  Downloading https://files.pythonhosted.org/packages/15/79/634cdf6195c6ff76dff97452660277866974e23a7959ee462a3f568d0117/botocore-1.10.8-py2.py3-none-any.whl (4.2MB)\n",
            "\u001b[K    100% |████████████████████████████████| 4.2MB 342kB/s \n",
            "\u001b[?25hCollecting docutils>=0.10 (from awscli->fastai)\n",
            "  Downloading https://files.pythonhosted.org/packages/36/fa/08e9e6e0e3cbd1d362c3bbee8d01d0aedb2155c4ac112b19ef3cae8eed8d/docutils-0.14-py3-none-any.whl (543kB)\n",
            "\u001b[K    100% |████████████████████████████████| 552kB 2.7MB/s \n",
            "\u001b[?25hRequirement already satisfied: rsa<=3.5.0,>=3.1.2 in /usr/local/lib/python3.6/dist-packages (from awscli->fastai)\n",
            "Collecting pyarrow>=0.4.0 (from feather-format->fastai)\n",
            "  Downloading https://files.pythonhosted.org/packages/fe/27/576e6c979bfa5f63070f809c930aa85d6198b91d17a64866234597ba861f/pyarrow-0.9.0-cp36-cp36m-manylinux1_x86_64.whl (13.7MB)\n",
            "\u001b[K    100% |████████████████████████████████| 13.7MB 112kB/s \n",
            "\u001b[?25hRequirement already satisfied: setuptools>=18.5 in /usr/local/lib/python3.6/dist-packages (from ipython->fastai)\n",
            "Collecting parso>=0.2.0 (from jedi->fastai)\n",
            "  Downloading https://files.pythonhosted.org/packages/63/69/0c383765d192006330bfaae27a2c5d0933fb4760c5aacd933b8b19391693/parso-0.2.0-py2.py3-none-any.whl (90kB)\n",
            "\u001b[K    100% |████████████████████████████████| 92kB 10.7MB/s \n",
            "\u001b[?25hCollecting jupyter-nbextensions-configurator>=0.4.0 (from jupyter_contrib_nbextensions->fastai)\n",
            "  Downloading https://files.pythonhosted.org/packages/d1/d8/6bf103e0eafd17caef39c37ff70b8d61bfb21cc8cd91c81ba51755421a34/jupyter_nbextensions_configurator-0.4.0-py2.py3-none-any.whl (466kB)\n",
            "\u001b[K    100% |████████████████████████████████| 471kB 2.4MB/s \n",
            "\u001b[?25hCollecting jupyter-contrib-core>=0.3.3 (from jupyter_contrib_nbextensions->fastai)\n",
            "  Downloading https://files.pythonhosted.org/packages/e6/8f/04a752a8b66a66e7092c035e5d87d2502ac7ec07f9fb6059059b6c0dc272/jupyter_contrib_core-0.3.3-py2.py3-none-any.whl\n",
            "Collecting lxml (from jupyter_contrib_nbextensions->fastai)\n",
            "  Downloading https://files.pythonhosted.org/packages/a7/b9/ccf46cea0f698b40bca2a9c1a44039c336fe1988b82de4f7353be7a8396a/lxml-4.2.1-cp36-cp36m-manylinux1_x86_64.whl (5.6MB)\n",
            "\u001b[K    100% |████████████████████████████████| 5.7MB 249kB/s \n",
            "\u001b[?25hCollecting jupyter-latex-envs>=1.3.8 (from jupyter_contrib_nbextensions->fastai)\n",
            "  Downloading https://files.pythonhosted.org/packages/98/db/ef83fb7a8dd71a1c38d8cc5484bb5226dcd8dd996483d6ad3d944670c57b/jupyter_latex_envs-1.4.4.tar.gz (855kB)\n",
            "\u001b[K    100% |████████████████████████████████| 860kB 1.5MB/s \n",
            "\u001b[?25hCollecting jupyter-highlight-selected-word>=0.1.1 (from jupyter_contrib_nbextensions->fastai)\n",
            "  Downloading https://files.pythonhosted.org/packages/50/d7/19ab7cfd60bf268d2abbacc52d4295a40f52d74dfc0d938e4761ee5e598b/jupyter_highlight_selected_word-0.2.0-py2.py3-none-any.whl\n",
            "Collecting cliff<2.9,>=2.8.0 (from kaggle-cli->fastai)\n",
            "  Downloading https://files.pythonhosted.org/packages/ee/e8/140ad9b5826920a8b85c187095e7725b87b913fc40243aa66dd04e9d82d6/cliff-2.8.1.tar.gz (73kB)\n",
            "\u001b[K    100% |████████████████████████████████| 81kB 6.8MB/s \n",
            "\u001b[?25hCollecting MechanicalSoup<0.9,>=0.7.0 (from kaggle-cli->fastai)\n",
            "  Downloading https://files.pythonhosted.org/packages/5c/2e/f63ed26b51e36efa4cc22cad18187fcb0a253f756d548c96bb931f13de98/MechanicalSoup-0.8.0-py2.py3-none-any.whl\n",
            "Collecting cssselect<1.1,>=1.0.1 (from kaggle-cli->fastai)\n",
            "  Downloading https://files.pythonhosted.org/packages/7b/44/25b7283e50585f0b4156960691d951b05d061abf4a714078393e51929b30/cssselect-1.0.3-py2.py3-none-any.whl\n",
            "Collecting configparser (from kaggle-cli->fastai)\n"
          ],
          "name": "stdout"
        },
        {
          "output_type": "stream",
          "text": [
            "  Downloading https://files.pythonhosted.org/packages/7c/69/c2ce7e91c89dc073eb1aa74c0621c3eefbffe8216b3f9af9d3885265c01c/configparser-3.5.0.tar.gz\n",
            "Collecting progressbar2<3.35,>=3.34.3 (from kaggle-cli->fastai)\n",
            "  Downloading https://files.pythonhosted.org/packages/87/31/b984e17bcc7491c1baeda3906fe3abc14cb5cd5dbd046ab46d9fc7a2edfd/progressbar2-3.34.3-py2.py3-none-any.whl\n",
            "Requirement already satisfied: beautifulsoup4<4.7,>=4.6.0 in /usr/local/lib/python3.6/dist-packages (from kaggle-cli->fastai)\n",
            "Requirement already satisfied: statsmodels>=0.8.0 in /usr/local/lib/python3.6/dist-packages (from plotnine->fastai)\n",
            "Collecting mizani>=0.4.1 (from plotnine->fastai)\n",
            "  Downloading https://files.pythonhosted.org/packages/52/01/8a3b4c6e45749674a1e5241174b4b63cd6435125e124bec275f3e02c96ac/mizani-0.4.6-py2.py3-none-any.whl (65kB)\n",
            "\u001b[K    100% |████████████████████████████████| 71kB 11.1MB/s \n",
            "\u001b[?25hRequirement already satisfied: patsy>=0.4.1 in /usr/local/lib/python3.6/dist-packages (from plotnine->fastai)\n",
            "Requirement already satisfied: scikit-learn>=0.15.0 in /usr/local/lib/python3.6/dist-packages (from sklearn_pandas->fastai)\n",
            "Requirement already satisfied: requests in /usr/local/lib/python3.6/dist-packages (from torchtext->fastai)\n",
            "Collecting jmespath<1.0.0,>=0.7.1 (from botocore==1.10.8->awscli->fastai)\n",
            "  Downloading https://files.pythonhosted.org/packages/b7/31/05c8d001f7f87f0f07289a5fc0fc3832e9a57f2dbd4d3b0fee70e0d51365/jmespath-0.9.3-py2.py3-none-any.whl\n",
            "Requirement already satisfied: pyasn1>=0.1.3 in /usr/local/lib/python3.6/dist-packages (from rsa<=3.5.0,>=3.1.2->awscli->fastai)\n",
            "Collecting pbr!=2.1.0,>=2.0.0 (from cliff<2.9,>=2.8.0->kaggle-cli->fastai)\n",
            "  Downloading https://files.pythonhosted.org/packages/e1/ba/f95e3ec83f93919b1437028e989cf3fa5ff4f5cae4a1f62255f71deddb5b/pbr-4.0.2-py2.py3-none-any.whl (98kB)\n",
            "\u001b[K    100% |████████████████████████████████| 102kB 7.6MB/s \n",
            "\u001b[?25hCollecting cmd2>=0.6.7 (from cliff<2.9,>=2.8.0->kaggle-cli->fastai)\n",
            "  Downloading https://files.pythonhosted.org/packages/ee/02/faa35704449a68f18db39ee9a047e32c8b569e672daadfef3501259fe6bb/cmd2-0.8.5-py2.py3-none-any.whl (51kB)\n",
            "\u001b[K    100% |████████████████████████████████| 61kB 8.2MB/s \n",
            "\u001b[?25hCollecting PrettyTable<0.8,>=0.7.1 (from cliff<2.9,>=2.8.0->kaggle-cli->fastai)\n",
            "  Downloading https://files.pythonhosted.org/packages/ef/30/4b0746848746ed5941f052479e7c23d2b56d174b82f4fd34a25e389831f5/prettytable-0.7.2.tar.bz2\n",
            "Collecting stevedore>=1.20.0 (from cliff<2.9,>=2.8.0->kaggle-cli->fastai)\n",
            "  Downloading https://files.pythonhosted.org/packages/17/6b/3b7d6d08b2ab3e5ef09e01c9f7b3b590ee135f289bb94553419e40922c25/stevedore-1.28.0-py2.py3-none-any.whl\n",
            "Collecting python-utils>=2.1.0 (from progressbar2<3.35,>=3.34.3->kaggle-cli->fastai)\n",
            "  Downloading https://files.pythonhosted.org/packages/eb/a0/19119d8b7c05be49baf6c593f11c432d571b70d805f2fe94c0585e55e4c8/python_utils-2.3.0-py2.py3-none-any.whl\n",
            "Collecting palettable (from mizani>=0.4.1->plotnine->fastai)\n",
            "  Downloading https://files.pythonhosted.org/packages/ba/cc/54b3ebfc5d3369e242c600ed49dcdcd3f53a9ac46b082da274386859c821/palettable-3.1.0-py2.py3-none-any.whl (78kB)\n",
            "\u001b[K    100% |████████████████████████████████| 81kB 10.9MB/s \n",
            "\u001b[?25hRequirement already satisfied: urllib3<1.23,>=1.21.1 in /usr/local/lib/python3.6/dist-packages (from requests->torchtext->fastai)\n",
            "Requirement already satisfied: chardet<3.1.0,>=3.0.2 in /usr/local/lib/python3.6/dist-packages (from requests->torchtext->fastai)\n",
            "Requirement already satisfied: idna<2.7,>=2.5 in /usr/local/lib/python3.6/dist-packages (from requests->torchtext->fastai)\n",
            "Collecting pyperclip (from cmd2>=0.6.7->cliff<2.9,>=2.8.0->kaggle-cli->fastai)\n",
            "  Downloading https://files.pythonhosted.org/packages/5b/06/86e3c6a55cacef0e4ec7c25379ff7fcd1a88fd939ecefd442b535c792fa4/pyperclip-1.6.0.tar.gz\n",
            "Building wheels for collected packages: fastai, bcolz, feather-format, kaggle-cli, pandas-summary, torchtext, jupyter-latex-envs, cliff, configparser, PrettyTable, pyperclip\n",
            "  Running setup.py bdist_wheel for fastai ... \u001b[?25l-\b \b\\\b \bdone\n",
            "\u001b[?25h  Stored in directory: /content/.cache/pip/wheels/98/2b/88/fe4cfe5bfa9cfea91cdfd2fe205f88746bf103f7b2994dffba\n",
            "  Running setup.py bdist_wheel for bcolz ... \u001b[?25l-\b \b\\\b \b|\b \b/\b \b-\b \b\\\b \b|"
          ],
          "name": "stdout"
        },
        {
          "output_type": "stream",
          "text": [
            "\b \b/\b \b-\b \b\\\b \b|\b \b/\b \b-\b \b\\\b \b|\b \b/\b \b-\b \b\\\b \b|\b \b/\b \b-\b \b\\\b \b|\b \b/\b \b-\b \b\\\b \b|\b \b/\b \b-\b \b\\\b \b|\b \b/\b \b-\b \b\\\b \b|\b \b/\b \b-\b \b\\\b \b|\b \b/\b \b-\b \b\\\b \b|\b \b/\b \b-\b \b\\\b \b|\b \b/\b \b-\b \b\\\b \b|\b \b/\b \b-\b \b\\\b \b|\b \b/\b \b-\b \b\\\b \b|\b \b/\b \bdone\n",
            "\u001b[?25h  Stored in directory: /content/.cache/pip/wheels/9f/78/26/fb8c0acb91a100dc8914bf236c4eaa4b207cb876893c40b745\n",
            "  Running setup.py bdist_wheel for feather-format ... \u001b[?25l-\b \bdone\n",
            "\u001b[?25h  Stored in directory: /content/.cache/pip/wheels/85/7d/12/2dfa5c0195f921ac935f5e8f27deada74972edc0ae9988a9c1\n",
            "  Running setup.py bdist_wheel for kaggle-cli ... \u001b[?25l-\b \bdone\n",
            "\u001b[?25h  Stored in directory: /content/.cache/pip/wheels/d5/bb/10/c1dd1b08c7433c943cb55c46367ae3f891415e8a37300ff8a7\n",
            "  Running setup.py bdist_wheel for pandas-summary ... \u001b[?25l-\b \bdone\n",
            "\u001b[?25h  Stored in directory: /content/.cache/pip/wheels/86/a9/6b/36b727a9ec687dac08bd3d0501cddd7b1a223943513eb04a03\n",
            "  Running setup.py bdist_wheel for torchtext ... \u001b[?25l-\b \bdone\n",
            "\u001b[?25h  Stored in directory: /content/.cache/pip/wheels/42/a6/f4/b267328bde6bb680094a0c173e8e5627ccc99543abded97204\n",
            "  Running setup.py bdist_wheel for jupyter-latex-envs ... \u001b[?25l-\b \b\\\b \bdone\n",
            "\u001b[?25h  Stored in directory: /content/.cache/pip/wheels/65/c1/0f/b90b6d7032c79ee40181fdadb72b2ef9a186f02269d6c52f02\n",
            "  Running setup.py bdist_wheel for cliff ... \u001b[?25l-\b \b\\\b \bdone\n",
            "\u001b[?25h  Stored in directory: /content/.cache/pip/wheels/50/00/6d/d4aeb5ccdd47dd76800592b26f943e4959bc705b2d4e6e54e1\n",
            "  Running setup.py bdist_wheel for configparser ... \u001b[?25l-\b \bdone\n",
            "\u001b[?25h  Stored in directory: /content/.cache/pip/wheels/a3/61/79/424ef897a2f3b14684a7de5d89e8600b460b89663e6ce9d17c\n",
            "  Running setup.py bdist_wheel for PrettyTable ... \u001b[?25l-\b \bdone\n",
            "\u001b[?25h  Stored in directory: /content/.cache/pip/wheels/80/34/1c/3967380d9676d162cb59513bd9dc862d0584e045a162095606\n",
            "  Running setup.py bdist_wheel for pyperclip ... \u001b[?25l-\b \bdone\n",
            "\u001b[?25h  Stored in directory: /content/.cache/pip/wheels/a7/68/ef/ab1ef01625334f10a979e9fe5ef79e1c4fd4cdf4b710a0067b\n",
            "Successfully built fastai bcolz feather-format kaggle-cli pandas-summary torchtext jupyter-latex-envs cliff configparser PrettyTable pyperclip\n",
            "Installing collected packages: colorama, jmespath, docutils, botocore, s3transfer, awscli, bcolz, pyarrow, feather-format, graphviz, widgetsnbextension, ipywidgets, isoweek, parso, jedi, qtconsole, jupyter-console, jupyter, jupyter-contrib-core, jupyter-nbextensions-configurator, lxml, jupyter-latex-envs, jupyter-highlight-selected-word, jupyter-contrib-nbextensions, pbr, pyperclip, cmd2, PrettyTable, stevedore, cliff, MechanicalSoup, cssselect, configparser, python-utils, progressbar2, kaggle-cli, pandas-summary, palettable, mizani, plotnine, sklearn-pandas, tqdm, torchtext, fastai\n",
            "Successfully installed MechanicalSoup-0.8.0 PrettyTable-0.7.2 awscli-1.15.8 bcolz-1.2.1 botocore-1.10.8 cliff-2.8.1 cmd2-0.8.5 colorama-0.3.7 configparser-3.5.0 cssselect-1.0.3 docutils-0.14 fastai-0.6 feather-format-0.4.0 graphviz-0.8.2 ipywidgets-7.2.1 isoweek-1.3.3 jedi-0.12.0 jmespath-0.9.3 jupyter-1.0.0 jupyter-console-5.2.0 jupyter-contrib-core-0.3.3 jupyter-contrib-nbextensions-0.5.0 jupyter-highlight-selected-word-0.2.0 jupyter-latex-envs-1.4.4 jupyter-nbextensions-configurator-0.4.0 kaggle-cli-0.12.13 lxml-4.2.1 mizani-0.4.6 palettable-3.1.0 pandas-summary-0.0.41 parso-0.2.0 pbr-4.0.2 plotnine-0.3.0 progressbar2-3.34.3 pyarrow-0.9.0 pyperclip-1.6.0 python-utils-2.3.0 qtconsole-4.3.1 s3transfer-0.1.13 sklearn-pandas-1.6.0 stevedore-1.28.0 torchtext-0.2.3 tqdm-4.23.1 widgetsnbextension-3.2.1\n",
            "\u001b[33mYou are using pip version 9.0.3, however version 10.0.1 is available.\n",
            "You should consider upgrading via the 'pip install --upgrade pip' command.\u001b[0m\n",
            "Requirement already satisfied: opencv-python in /usr/local/lib/python3.6/dist-packages\n",
            "Requirement already satisfied: numpy>=1.11.3 in /usr/local/lib/python3.6/dist-packages (from opencv-python)\n",
            "\u001b[33mYou are using pip version 9.0.3, however version 10.0.1 is available.\n",
            "You should consider upgrading via the 'pip install --upgrade pip' command.\u001b[0m\n",
            "Get:1 http://security.ubuntu.com/ubuntu artful-security InRelease [83.2 kB]\n",
            "Hit:2 http://archive.ubuntu.com/ubuntu artful InRelease\n",
            "Get:3 http://archive.ubuntu.com/ubuntu artful-updates InRelease [88.7 kB]\n",
            "Get:4 http://security.ubuntu.com/ubuntu artful-security/universe Sources [18.6 kB]\n",
            "Get:5 http://security.ubuntu.com/ubuntu artful-security/main amd64 Packages [198 kB]\n",
            "Get:6 http://archive.ubuntu.com/ubuntu artful-backports InRelease [74.6 kB]\n",
            "0% [6 InRelease 22.9 kB/74.6 kB 31%] [5 Packages 129 kB/198 kB 65%]\u001b[0m"
          ],
          "name": "stdout"
        },
        {
          "output_type": "stream",
          "text": [
            "Get:7 http://security.ubuntu.com/ubuntu artful-security/universe amd64 Packages [74.3 kB]\n",
            "Get:8 http://archive.ubuntu.com/ubuntu artful-updates/universe Sources [40.3 kB]\n",
            "Get:9 http://archive.ubuntu.com/ubuntu artful-updates/universe amd64 Packages [136 kB]\n",
            "Get:10 http://archive.ubuntu.com/ubuntu artful-updates/main amd64 Packages [323 kB]\n",
            "Fetched 1,036 kB in 1s (650 kB/s)\n",
            "Reading package lists... Done\n",
            "Building dependency tree       \n",
            "Reading state information... Done\n",
            "13 packages can be upgraded. Run 'apt list --upgradable' to see them.\n",
            "Reading package lists... Done\n",
            "Building dependency tree       \n",
            "Reading state information... Done\n",
            "libsm6 is already the newest version (2:1.2.2-1).\n",
            "libxext6 is already the newest version (2:1.3.3-1).\n",
            "0 upgraded, 0 newly installed, 0 to remove and 13 not upgraded.\n",
            "Collecting torch==0.3.0.post4 from http://download.pytorch.org/whl/cu80/torch-0.3.0.post4-cp36-cp36m-linux_x86_64.whl\n",
            "  Downloading http://download.pytorch.org/whl/cu80/torch-0.3.0.post4-cp36-cp36m-linux_x86_64.whl (592.3MB)\n",
            "\u001b[K    33% |██████████▉                     | 199.6MB 51.7MB/s eta 0:00:08"
          ],
          "name": "stdout"
        },
        {
          "output_type": "stream",
          "text": [
            "\u001b[K    100% |████████████████████████████████| 592.3MB 32.4MB/s \n",
            "\u001b[?25hRequirement already satisfied: pyyaml in /usr/local/lib/python3.6/dist-packages (from torch==0.3.0.post4)\n",
            "Requirement already satisfied: numpy in /usr/local/lib/python3.6/dist-packages (from torch==0.3.0.post4)\n",
            "Installing collected packages: torch\n",
            "Successfully installed torch-0.3.0.post4\n",
            "\u001b[33mYou are using pip version 9.0.3, however version 10.0.1 is available.\n",
            "You should consider upgrading via the 'pip install --upgrade pip' command.\u001b[0m\n",
            "Collecting torchvision\n",
            "  Downloading https://files.pythonhosted.org/packages/ca/0d/f00b2885711e08bd71242ebe7b96561e6f6d01fdb4b9dcf4d37e2e13c5e1/torchvision-0.2.1-py2.py3-none-any.whl (54kB)\n",
            "\u001b[K    100% |████████████████████████████████| 61kB 3.2MB/s \n",
            "\u001b[?25hRequirement already satisfied: six in /usr/local/lib/python3.6/dist-packages (from torchvision)\n",
            "Requirement already satisfied: numpy in /usr/local/lib/python3.6/dist-packages (from torchvision)\n",
            "Collecting pillow>=4.1.1 (from torchvision)\n",
            "  Downloading https://files.pythonhosted.org/packages/5f/4b/8b54ab9d37b93998c81b364557dff9f61972c0f650efa0ceaf470b392740/Pillow-5.1.0-cp36-cp36m-manylinux1_x86_64.whl (2.0MB)\n",
            "\u001b[K    100% |████████████████████████████████| 2.0MB 683kB/s \n",
            "\u001b[?25hRequirement already satisfied: torch in /usr/local/lib/python3.6/dist-packages (from torchvision)\n",
            "Requirement already satisfied: pyyaml in /usr/local/lib/python3.6/dist-packages (from torch->torchvision)\n",
            "Installing collected packages: pillow, torchvision\n",
            "  Found existing installation: Pillow 4.0.0\n",
            "    Uninstalling Pillow-4.0.0:\n",
            "      Successfully uninstalled Pillow-4.0.0\n",
            "Successfully installed pillow-5.1.0 torchvision-0.2.1\n",
            "\u001b[33mYou are using pip version 9.0.3, however version 10.0.1 is available.\n",
            "You should consider upgrading via the 'pip install --upgrade pip' command.\u001b[0m\n"
          ],
          "name": "stdout"
        }
      ]
    },
    {
      "metadata": {
        "id": "EVj1jszZeJHu",
        "colab_type": "text"
      },
      "cell_type": "markdown",
      "source": [
        "## Model"
      ]
    },
    {
      "metadata": {
        "id": "B18kyee3Yb8E",
        "colab_type": "code",
        "colab": {
          "autoexec": {
            "startup": false,
            "wait_interval": 0
          }
        }
      },
      "cell_type": "code",
      "source": [
        "from fastai.imports import *\n",
        "from fastai.torch_imports import *\n",
        "from fastai.transforms import *\n",
        "from fastai.conv_learner import *\n",
        "from fastai.model import *\n",
        "from fastai.dataset import *\n",
        "from fastai.sgdr import *\n",
        "from fastai.plots import *"
      ],
      "execution_count": 0,
      "outputs": []
    },
    {
      "metadata": {
        "id": "Sd9SvGZGYcAw",
        "colab_type": "code",
        "colab": {
          "autoexec": {
            "startup": false,
            "wait_interval": 0
          }
        }
      },
      "cell_type": "code",
      "source": [
        "torch.cuda.set_device(0)"
      ],
      "execution_count": 0,
      "outputs": []
    },
    {
      "metadata": {
        "id": "3nlcmdRaZyMs",
        "colab_type": "code",
        "colab": {
          "autoexec": {
            "startup": false,
            "wait_interval": 0
          }
        }
      },
      "cell_type": "code",
      "source": [
        "PATH = ''\n",
        "sz = 224\n",
        "arch = resnet50\n",
        "bs = 58"
      ],
      "execution_count": 0,
      "outputs": []
    },
    {
      "metadata": {
        "id": "H8RnpEU-ZySE",
        "colab_type": "code",
        "colab": {
          "autoexec": {
            "startup": false,
            "wait_interval": 0
          }
        }
      },
      "cell_type": "code",
      "source": [
        "#data augmentatiom\n",
        "tfms = tfms_from_model(arch, sz, aug_tfms=transforms_side_on, max_zoom=1.1)\n",
        "# dataset cration\n",
        "data = ImageClassifierData.from_paths(PATH, trn_name='train', val_name='test', tfms=tfms, bs=bs)"
      ],
      "execution_count": 0,
      "outputs": []
    },
    {
      "metadata": {
        "id": "cEqIbU2pZyXa",
        "colab_type": "code",
        "colab": {
          "autoexec": {
            "startup": false,
            "wait_interval": 0
          },
          "base_uri": "https://localhost:8080/",
          "height": 34
        },
        "outputId": "82c1b40a-ba3f-4d6a-a86e-c4330d3d5297",
        "executionInfo": {
          "status": "ok",
          "timestamp": 1524683948912,
          "user_tz": 300,
          "elapsed": 544,
          "user": {
            "displayName": "Laurent Rudloff",
            "photoUrl": "https://lh3.googleusercontent.com/a/default-user=s128",
            "userId": "104166800392809817224"
          }
        }
      },
      "cell_type": "code",
      "source": [
        "fn = PATH + data.trn_ds.fnames[1]; fn"
      ],
      "execution_count": 5,
      "outputs": [
        {
          "output_type": "execute_result",
          "data": {
            "text/plain": [
              "'train/n02085620-Chihuahua/n02085620_2614.jpg'"
            ]
          },
          "metadata": {
            "tags": []
          },
          "execution_count": 5
        }
      ]
    },
    {
      "metadata": {
        "id": "sNiHGeG7Zycs",
        "colab_type": "code",
        "colab": {
          "autoexec": {
            "startup": false,
            "wait_interval": 0
          },
          "base_uri": "https://localhost:8080/",
          "height": 389
        },
        "outputId": "e3bf4472-af47-493c-b4d9-4a75e58671d8",
        "executionInfo": {
          "status": "ok",
          "timestamp": 1524683950604,
          "user_tz": 300,
          "elapsed": 586,
          "user": {
            "displayName": "Laurent Rudloff",
            "photoUrl": "https://lh3.googleusercontent.com/a/default-user=s128",
            "userId": "104166800392809817224"
          }
        }
      },
      "cell_type": "code",
      "source": [
        "img = PIL.Image.open(fn); img"
      ],
      "execution_count": 6,
      "outputs": [
        {
          "output_type": "execute_result",
          "data": {
            "image/png": "[encoded data removed]",
            "text/plain": [
              "<PIL.JpegImagePlugin.JpegImageFile image mode=RGB size=182x372 at 0x7F49783095F8>"
            ]
          },
          "metadata": {
            "tags": []
          },
          "execution_count": 6
        }
      ]
    },
    {
      "metadata": {
        "id": "HWemCa_MZyhm",
        "colab_type": "code",
        "colab": {
          "autoexec": {
            "startup": false,
            "wait_interval": 0
          }
        }
      },
      "cell_type": "code",
      "source": [
        "#def get_data(sz, bs): # sz: image size, bs: batch size\n",
        "#    tfms = tfms_from_model(arch, sz, aug_tfms=transforms_side_on, max_zoom=1.1)\n",
        "#    data = ImageClassifierData.from_paths(PATH, trn_name='train', val_name='test', tfms=tfms, bs=bs, )\n",
        "    \n",
        "    # http://forums.fast.ai/t/how-to-train-on-the-full-dataset-using-imageclassifierdata-from-csv/7761/13\n",
        "    # http://forums.fast.ai/t/how-to-train-on-the-full-dataset-using-imageclassifierdata-from-csv/7761/37\n",
        "#    return data if sz > 300 else data.resize(340, 'tmp')"
      ],
      "execution_count": 0,
      "outputs": []
    },
    {
      "metadata": {
        "id": "-jE6Nu-4Zyk4",
        "colab_type": "code",
        "colab": {
          "autoexec": {
            "startup": false,
            "wait_interval": 0
          },
          "base_uri": "https://localhost:8080/",
          "height": 52
        },
        "outputId": "b8479c71-d661-42a2-85c8-d6d7dff1763b",
        "executionInfo": {
          "status": "ok",
          "timestamp": 1524683954976,
          "user_tz": 300,
          "elapsed": 728,
          "user": {
            "displayName": "Laurent Rudloff",
            "photoUrl": "https://lh3.googleusercontent.com/a/default-user=s128",
            "userId": "104166800392809817224"
          }
        }
      },
      "cell_type": "code",
      "source": [
        "# Precompute data\n",
        "#data = get_data(sz, bs)"
      ],
      "execution_count": 8,
      "outputs": [
        {
          "output_type": "display_data",
          "data": {
            "application/vnd.jupyter.widget-view+json": {
              "model_id": "da620e845e1940d0a289bd0c0f3adc25",
              "version_minor": 0,
              "version_major": 2
            },
            "text/plain": [
              "HBox(children=(IntProgress(value=0, max=6), HTML(value='')))"
            ]
          },
          "metadata": {
            "tags": []
          }
        },
        {
          "output_type": "stream",
          "text": [
            "\n"
          ],
          "name": "stdout"
        }
      ]
    },
    {
      "metadata": {
        "id": "SplbOjybZynk",
        "colab_type": "code",
        "colab": {
          "autoexec": {
            "startup": false,
            "wait_interval": 0
          },
          "base_uri": "https://localhost:8080/",
          "height": 52
        },
        "outputId": "94ba8d51-995f-4a68-8bf9-1b7aca1fb17d",
        "executionInfo": {
          "status": "ok",
          "timestamp": 1524691905210,
          "user_tz": 300,
          "elapsed": 183034,
          "user": {
            "displayName": "Laurent Rudloff",
            "photoUrl": "https://lh3.googleusercontent.com/a/default-user=s128",
            "userId": "104166800392809817224"
          }
        }
      },
      "cell_type": "code",
      "source": [
        "learn = ConvLearner.pretrained(arch, data, precompute=True)"
      ],
      "execution_count": 127,
      "outputs": [
        {
          "output_type": "stream",
          "text": [
            "100%|██████████| 207/207 [01:44<00:00,  1.97it/s]\n",
            "100%|██████████| 148/148 [01:15<00:00,  1.95it/s]\n"
          ],
          "name": "stdout"
        }
      ]
    },
    {
      "metadata": {
        "id": "v1eQcuZdkGhK",
        "colab_type": "code",
        "colab": {
          "autoexec": {
            "startup": false,
            "wait_interval": 0
          },
          "base_uri": "https://localhost:8080/",
          "height": 52
        },
        "outputId": "a781434c-bf56-4150-dd16-045be6aa8063",
        "executionInfo": {
          "status": "ok",
          "timestamp": 1524691924984,
          "user_tz": 300,
          "elapsed": 7472,
          "user": {
            "displayName": "Laurent Rudloff",
            "photoUrl": "https://lh3.googleusercontent.com/a/default-user=s128",
            "userId": "104166800392809817224"
          }
        }
      },
      "cell_type": "code",
      "source": [
        "lrf = learn.lr_find()\n",
        "lrf"
      ],
      "execution_count": 128,
      "outputs": [
        {
          "output_type": "display_data",
          "data": {
            "application/vnd.jupyter.widget-view+json": {
              "model_id": "0026d941cd3b49b0a7152c13dca03651",
              "version_minor": 0,
              "version_major": 2
            },
            "text/plain": [
              "HBox(children=(IntProgress(value=0, description='Epoch', max=1), HTML(value='')))"
            ]
          },
          "metadata": {
            "tags": []
          }
        },
        {
          "output_type": "stream",
          "text": [
            " 90%|████████▉ | 186/207 [00:07<00:00, 26.15it/s, loss=10.4]\n"
          ],
          "name": "stdout"
        }
      ]
    },
    {
      "metadata": {
        "id": "In5_EjEjk-Ly",
        "colab_type": "code",
        "colab": {
          "autoexec": {
            "startup": false,
            "wait_interval": 0
          },
          "base_uri": "https://localhost:8080/",
          "height": 361
        },
        "outputId": "a2712a2c-87dd-4b2f-d179-7ea1a0c52a52",
        "executionInfo": {
          "status": "ok",
          "timestamp": 1524691942874,
          "user_tz": 300,
          "elapsed": 460,
          "user": {
            "displayName": "Laurent Rudloff",
            "photoUrl": "https://lh3.googleusercontent.com/a/default-user=s128",
            "userId": "104166800392809817224"
          }
        }
      },
      "cell_type": "code",
      "source": [
        "learn.sched.plot_lr()"
      ],
      "execution_count": 129,
      "outputs": [
        {
          "output_type": "display_data",
          "data": {
            "image/png": "[encoded data removed]",
            "text/plain": [
              "<matplotlib.figure.Figure at 0x7f49781a8438>"
            ]
          },
          "metadata": {
            "tags": []
          }
        }
      ]
    },
    {
      "metadata": {
        "id": "q5bp5VXNlE1y",
        "colab_type": "code",
        "colab": {
          "autoexec": {
            "startup": false,
            "wait_interval": 0
          },
          "base_uri": "https://localhost:8080/",
          "height": 365
        },
        "outputId": "09ba0268-392a-4296-ea30-d3f9c1769348",
        "executionInfo": {
          "status": "ok",
          "timestamp": 1524691947164,
          "user_tz": 300,
          "elapsed": 850,
          "user": {
            "displayName": "Laurent Rudloff",
            "photoUrl": "https://lh3.googleusercontent.com/a/default-user=s128",
            "userId": "104166800392809817224"
          }
        }
      },
      "cell_type": "code",
      "source": [
        "learn.sched.plot()"
      ],
      "execution_count": 130,
      "outputs": [
        {
          "output_type": "display_data",
          "data": {
            "image/png": "[encoded data removed]",
            "text/plain": [
              "<matplotlib.figure.Figure at 0x7f49781b2cf8>"
            ]
          },
          "metadata": {
            "tags": []
          }
        }
      ]
    },
    {
      "metadata": {
        "id": "zJq_W6zdZyfo",
        "colab_type": "code",
        "colab": {
          "autoexec": {
            "startup": false,
            "wait_interval": 0
          },
          "base_uri": "https://localhost:8080/",
          "height": 139
        },
        "outputId": "93241d24-2a80-480a-e9fc-b1fb6d521f5d",
        "executionInfo": {
          "status": "ok",
          "timestamp": 1524691992412,
          "user_tz": 300,
          "elapsed": 38318,
          "user": {
            "displayName": "Laurent Rudloff",
            "photoUrl": "https://lh3.googleusercontent.com/a/default-user=s128",
            "userId": "104166800392809817224"
          }
        }
      },
      "cell_type": "code",
      "source": [
        "learn.fit(1e-1, 5)"
      ],
      "execution_count": 131,
      "outputs": [
        {
          "output_type": "display_data",
          "data": {
            "application/vnd.jupyter.widget-view+json": {
              "model_id": "f5a4bf61f8764e3eb68501eb2f289ac5",
              "version_minor": 0,
              "version_major": 2
            },
            "text/plain": [
              "HBox(children=(IntProgress(value=0, description='Epoch', max=5), HTML(value='')))"
            ]
          },
          "metadata": {
            "tags": []
          }
        },
        {
          "output_type": "stream",
          "text": [
            "[0.      1.00684 0.63892 0.81231]\n",
            "[1.      0.71757 0.56997 0.82546]\n",
            "[2.      0.55225 0.57534 0.83606]\n",
            " 63%|██████▎   | 130/207 [00:04<00:02, 27.93it/s, loss=0.478]"
          ],
          "name": "stdout"
        },
        {
          "output_type": "stream",
          "text": [
            "[3.      0.47614 0.55409 0.84377]\n",
            "[4.      0.44229 0.55301 0.84656]\n",
            "\n"
          ],
          "name": "stdout"
        }
      ]
    },
    {
      "metadata": {
        "id": "205fBgQche4A",
        "colab_type": "text"
      },
      "cell_type": "markdown",
      "source": [
        "## Data augmentation"
      ]
    },
    {
      "metadata": {
        "id": "oY30pJi4ZyU4",
        "colab_type": "code",
        "colab": {
          "autoexec": {
            "startup": false,
            "wait_interval": 0
          },
          "base_uri": "https://localhost:8080/",
          "height": 52
        },
        "outputId": "b016db72-6364-4bb3-95d3-72a252355eec",
        "executionInfo": {
          "status": "ok",
          "timestamp": 1524690372722,
          "user_tz": 300,
          "elapsed": 312,
          "user": {
            "displayName": "Laurent Rudloff",
            "photoUrl": "https://lh3.googleusercontent.com/a/default-user=s128",
            "userId": "104166800392809817224"
          }
        }
      },
      "cell_type": "code",
      "source": [
        "data = get_data(sz, bs)"
      ],
      "execution_count": 77,
      "outputs": [
        {
          "output_type": "display_data",
          "data": {
            "application/vnd.jupyter.widget-view+json": {
              "model_id": "bcdfdcb13ad94a33bed1ea227230763d",
              "version_minor": 0,
              "version_major": 2
            },
            "text/plain": [
              "HBox(children=(IntProgress(value=0, max=6), HTML(value='')))"
            ]
          },
          "metadata": {
            "tags": []
          }
        },
        {
          "output_type": "stream",
          "text": [
            "\n"
          ],
          "name": "stdout"
        }
      ]
    },
    {
      "metadata": {
        "id": "1iX1piDrZyP0",
        "colab_type": "code",
        "colab": {
          "autoexec": {
            "startup": false,
            "wait_interval": 0
          }
        }
      },
      "cell_type": "code",
      "source": [
        "learn = ConvLearner.pretrained(arch, data, precompute=True, ps=0.5)"
      ],
      "execution_count": 0,
      "outputs": []
    },
    {
      "metadata": {
        "id": "sO4pUQDvoREg",
        "colab_type": "code",
        "colab": {
          "autoexec": {
            "startup": false,
            "wait_interval": 0
          },
          "base_uri": "https://localhost:8080/",
          "height": 4307
        },
        "outputId": "52af86fd-d107-4b10-fc8b-1a39f894c09c",
        "executionInfo": {
          "status": "ok",
          "timestamp": 1524690386404,
          "user_tz": 300,
          "elapsed": 6580,
          "user": {
            "displayName": "Laurent Rudloff",
            "photoUrl": "https://lh3.googleusercontent.com/a/default-user=s128",
            "userId": "104166800392809817224"
          }
        }
      },
      "cell_type": "code",
      "source": [
        "lrf = learn.lr_find()"
      ],
      "execution_count": 79,
      "outputs": [
        {
          "output_type": "display_data",
          "data": {
            "application/vnd.jupyter.widget-view+json": {
              "model_id": "dd9da0d52dd842cd8f6bd02a0d15370f",
              "version_minor": 0,
              "version_major": 2
            },
            "text/plain": [
              "HBox(children=(IntProgress(value=0, description='Epoch', max=1), HTML(value='')))"
            ]
          },
          "metadata": {
            "tags": []
          }
        },
        {
          "output_type": "stream",
          "text": [
            "\n",
            "  0%|          | 0/207 [00:00<?, ?it/s]\u001b[A\n",
            "  0%|          | 0/207 [00:00<?, ?it/s, loss=5.37]\u001b[A\n",
            "  0%|          | 1/207 [00:00<00:28,  7.17it/s, loss=5.37]\u001b[A\n",
            "  0%|          | 1/207 [00:00<00:36,  5.67it/s, loss=5.53]\u001b[A\n",
            "  0%|          | 1/207 [00:00<00:57,  3.56it/s, loss=5.49]\u001b[A\n",
            "  1%|▏         | 3/207 [00:00<00:20, 10.11it/s, loss=5.49]\u001b[A\n",
            "  1%|▏         | 3/207 [00:00<00:22,  9.05it/s, loss=5.5] \u001b[A\n",
            "  1%|▏         | 3/207 [00:00<00:26,  7.83it/s, loss=5.46]\u001b[A\n",
            "  2%|▏         | 5/207 [00:00<00:16, 12.48it/s, loss=5.46]\u001b[A\n",
            "  2%|▏         | 5/207 [00:00<00:17, 11.47it/s, loss=5.44]\u001b[A\n",
            "  2%|▏         | 5/207 [00:00<00:19, 10.37it/s, loss=5.48]\u001b[A\n",
            "  3%|▎         | 7/207 [00:00<00:14, 13.65it/s, loss=5.48]\u001b[A\n",
            "  3%|▎         | 7/207 [00:00<00:15, 12.62it/s, loss=5.51]\u001b[A\n",
            "  3%|▎         | 7/207 [00:00<00:17, 11.75it/s, loss=5.5] \u001b[A\n",
            "  4%|▍         | 9/207 [00:00<00:13, 14.61it/s, loss=5.5]\u001b[A\n",
            "  4%|▍         | 9/207 [00:00<00:14, 13.48it/s, loss=5.47]\u001b[A\n",
            "  4%|▍         | 9/207 [00:00<00:15, 12.54it/s, loss=5.48]\u001b[A\n",
            "  5%|▌         | 11/207 [00:00<00:13, 14.89it/s, loss=5.48]\u001b[A\n",
            "  5%|▌         | 11/207 [00:00<00:14, 13.98it/s, loss=5.48]\u001b[A\n",
            "  5%|▌         | 11/207 [00:00<00:14, 13.10it/s, loss=5.49]\u001b[A\n",
            "  6%|▋         | 13/207 [00:00<00:12, 14.94it/s, loss=5.49]\u001b[A\n",
            "  6%|▋         | 13/207 [00:00<00:13, 14.31it/s, loss=5.48]\u001b[A\n",
            "  6%|▋         | 13/207 [00:00<00:14, 13.42it/s, loss=5.46]\u001b[A\n",
            "  7%|▋         | 15/207 [00:00<00:12, 15.14it/s, loss=5.46]\u001b[A\n",
            "  7%|▋         | 15/207 [00:01<00:13, 14.39it/s, loss=5.46]\u001b[A\n",
            "  7%|▋         | 15/207 [00:01<00:14, 13.69it/s, loss=5.46]\u001b[A\n",
            "  8%|▊         | 17/207 [00:01<00:12, 15.17it/s, loss=5.46]\u001b[A\n",
            "  8%|▊         | 17/207 [00:01<00:12, 14.74it/s, loss=5.45]\u001b[A\n",
            "  8%|▊         | 17/207 [00:01<00:13, 14.28it/s, loss=5.46]\u001b[A\n",
            "  9%|▉         | 19/207 [00:01<00:12, 15.57it/s, loss=5.46]\u001b[A\n",
            "  9%|▉         | 19/207 [00:01<00:12, 15.05it/s, loss=5.47]\u001b[A\n",
            "  9%|▉         | 19/207 [00:01<00:13, 14.43it/s, loss=5.47]\u001b[A\n",
            " 10%|█         | 21/207 [00:01<00:11, 15.73it/s, loss=5.47]\u001b[A"
          ],
          "name": "stdout"
        },
        {
          "output_type": "stream",
          "text": [
            "\n",
            " 10%|█         | 21/207 [00:01<00:12, 15.06it/s, loss=5.46]\u001b[A\n",
            " 10%|█         | 21/207 [00:01<00:12, 14.55it/s, loss=5.46]\u001b[A\n",
            " 11%|█         | 23/207 [00:01<00:11, 15.61it/s, loss=5.46]\u001b[A\n",
            " 11%|█         | 23/207 [00:01<00:12, 15.15it/s, loss=5.46]\u001b[A\n",
            " 11%|█         | 23/207 [00:01<00:12, 14.73it/s, loss=5.46]\u001b[A\n",
            " 12%|█▏        | 25/207 [00:01<00:11, 15.86it/s, loss=5.46]\u001b[A\n",
            " 12%|█▏        | 25/207 [00:01<00:11, 15.43it/s, loss=5.46]\u001b[A\n",
            " 12%|█▏        | 25/207 [00:01<00:12, 15.01it/s, loss=5.47]\u001b[A\n",
            " 13%|█▎        | 27/207 [00:01<00:11, 16.06it/s, loss=5.47]\u001b[A\n",
            " 13%|█▎        | 27/207 [00:01<00:11, 15.69it/s, loss=5.46]\u001b[A\n",
            " 13%|█▎        | 27/207 [00:01<00:11, 15.23it/s, loss=5.46]\u001b[A\n",
            " 14%|█▍        | 29/207 [00:01<00:11, 16.15it/s, loss=5.46]\u001b[A\n",
            " 14%|█▍        | 29/207 [00:01<00:11, 15.75it/s, loss=5.47]\u001b[A\n",
            " 14%|█▍        | 29/207 [00:01<00:11, 15.27it/s, loss=5.48]\u001b[A\n",
            " 15%|█▍        | 31/207 [00:01<00:10, 16.17it/s, loss=5.48]\u001b[A\n",
            " 15%|█▍        | 31/207 [00:01<00:11, 15.75it/s, loss=5.47]\u001b[A\n",
            " 15%|█▍        | 31/207 [00:02<00:11, 15.36it/s, loss=5.47]\u001b[A\n",
            " 16%|█▌        | 33/207 [00:02<00:10, 16.16it/s, loss=5.47]\u001b[A\n",
            " 16%|█▌        | 33/207 [00:02<00:10, 15.87it/s, loss=5.46]\u001b[A\n",
            " 16%|█▌        | 33/207 [00:02<00:11, 15.43it/s, loss=5.46]\u001b[A\n",
            " 17%|█▋        | 35/207 [00:02<00:10, 16.18it/s, loss=5.46]\u001b[A\n",
            " 17%|█▋        | 35/207 [00:02<00:10, 15.91it/s, loss=5.45]\u001b[A\n",
            " 17%|█▋        | 35/207 [00:02<00:11, 15.48it/s, loss=5.45]\u001b[A\n",
            " 18%|█▊        | 37/207 [00:02<00:10, 16.19it/s, loss=5.45]\u001b[A\n",
            " 18%|█▊        | 37/207 [00:02<00:10, 15.88it/s, loss=5.46]\u001b[A\n",
            " 18%|█▊        | 37/207 [00:02<00:10, 15.50it/s, loss=5.45]\u001b[A\n",
            " 19%|█▉        | 39/207 [00:02<00:10, 16.16it/s, loss=5.45]\u001b[A\n",
            " 19%|█▉        | 39/207 [00:02<00:10, 15.87it/s, loss=5.45]\u001b[A\n",
            " 19%|█▉        | 39/207 [00:02<00:10, 15.50it/s, loss=5.45]\u001b[A\n",
            " 20%|█▉        | 41/207 [00:02<00:10, 16.19it/s, loss=5.45]\u001b[A\n",
            " 20%|█▉        | 41/207 [00:02<00:10, 15.94it/s, loss=5.45]\u001b[A\n",
            " 20%|█▉        | 41/207 [00:02<00:10, 15.64it/s, loss=5.45]\u001b[A\n"
          ],
          "name": "stdout"
        },
        {
          "output_type": "stream",
          "text": [
            " 21%|██        | 43/207 [00:02<00:10, 16.22it/s, loss=5.45]\u001b[A\n",
            " 21%|██        | 43/207 [00:02<00:10, 15.96it/s, loss=5.45]\u001b[A\n",
            " 21%|██        | 43/207 [00:02<00:10, 15.63it/s, loss=5.44]\u001b[A\n",
            " 22%|██▏       | 45/207 [00:02<00:09, 16.30it/s, loss=5.44]\u001b[A\n",
            " 22%|██▏       | 45/207 [00:02<00:10, 15.96it/s, loss=5.44]\u001b[A\n",
            " 22%|██▏       | 45/207 [00:02<00:10, 15.69it/s, loss=5.43]\u001b[A\n",
            " 23%|██▎       | 47/207 [00:02<00:09, 16.28it/s, loss=5.43]\u001b[A\n",
            " 23%|██▎       | 47/207 [00:02<00:09, 16.02it/s, loss=5.43]\u001b[A\n",
            " 23%|██▎       | 47/207 [00:02<00:10, 15.83it/s, loss=5.43]\u001b[A\n",
            " 24%|██▎       | 49/207 [00:02<00:09, 16.36it/s, loss=5.43]\u001b[A\n",
            " 24%|██▎       | 49/207 [00:03<00:09, 16.13it/s, loss=5.43]\u001b[A\n",
            " 24%|██▎       | 49/207 [00:03<00:09, 15.90it/s, loss=5.42]\u001b[A\n",
            " 25%|██▍       | 51/207 [00:03<00:09, 16.40it/s, loss=5.42]\u001b[A\n",
            " 25%|██▍       | 51/207 [00:03<00:09, 16.14it/s, loss=5.42]\u001b[A\n",
            " 25%|██▍       | 51/207 [00:03<00:09, 15.91it/s, loss=5.42]\u001b[A\n",
            " 26%|██▌       | 53/207 [00:03<00:09, 16.43it/s, loss=5.42]\u001b[A\n",
            " 26%|██▌       | 53/207 [00:03<00:09, 16.12it/s, loss=5.43]\u001b[A\n",
            " 26%|██▌       | 53/207 [00:03<00:09, 15.92it/s, loss=5.43]\u001b[A\n",
            " 27%|██▋       | 55/207 [00:03<00:09, 16.40it/s, loss=5.43]\u001b[A\n",
            " 27%|██▋       | 55/207 [00:03<00:09, 16.10it/s, loss=5.42]\u001b[A\n",
            " 27%|██▋       | 55/207 [00:03<00:09, 15.89it/s, loss=5.42]\u001b[A\n",
            " 28%|██▊       | 57/207 [00:03<00:09, 16.35it/s, loss=5.42]\u001b[A\n",
            " 28%|██▊       | 57/207 [00:03<00:09, 16.13it/s, loss=5.42]\u001b[A\n",
            " 28%|██▊       | 57/207 [00:03<00:09, 15.97it/s, loss=5.41]\u001b[A\n",
            " 29%|██▊       | 59/207 [00:03<00:09, 16.41it/s, loss=5.41]\u001b[A\n",
            " 29%|██▊       | 59/207 [00:03<00:09, 16.22it/s, loss=5.41]\u001b[A\n",
            " 29%|██▊       | 59/207 [00:03<00:09, 16.04it/s, loss=5.41]\u001b[A\n",
            " 29%|██▉       | 61/207 [00:03<00:08, 16.48it/s, loss=5.41]\u001b[A\n",
            " 29%|██▉       | 61/207 [00:03<00:08, 16.31it/s, loss=5.41]\u001b[A\n",
            " 29%|██▉       | 61/207 [00:03<00:09, 16.09it/s, loss=5.41]\u001b[A\n",
            " 30%|███       | 63/207 [00:03<00:08, 16.53it/s, loss=5.41]\u001b[A\n",
            " 30%|███       | 63/207 [00:03<00:08, 16.32it/s, loss=5.4] \u001b[A\n"
          ],
          "name": "stdout"
        },
        {
          "output_type": "stream",
          "text": [
            " 30%|███       | 63/207 [00:03<00:08, 16.07it/s, loss=5.39]\u001b[A\n",
            " 31%|███▏      | 65/207 [00:03<00:08, 16.49it/s, loss=5.39]\u001b[A\n",
            " 31%|███▏      | 65/207 [00:03<00:08, 16.30it/s, loss=5.39]\u001b[A\n",
            " 31%|███▏      | 65/207 [00:04<00:08, 16.10it/s, loss=5.38]\u001b[A\n",
            " 32%|███▏      | 67/207 [00:04<00:08, 16.50it/s, loss=5.38]\u001b[A\n",
            " 32%|███▏      | 67/207 [00:04<00:08, 16.32it/s, loss=5.38]\u001b[A\n",
            " 32%|███▏      | 67/207 [00:04<00:08, 16.16it/s, loss=5.38]\u001b[A\n",
            " 33%|███▎      | 69/207 [00:04<00:08, 16.55it/s, loss=5.38]\u001b[A\n",
            " 33%|███▎      | 69/207 [00:04<00:08, 16.33it/s, loss=5.37]\u001b[A\n",
            " 33%|███▎      | 69/207 [00:04<00:08, 16.18it/s, loss=5.37]\u001b[A\n",
            " 34%|███▍      | 71/207 [00:04<00:08, 16.57it/s, loss=5.37]\u001b[A\n",
            " 34%|███▍      | 71/207 [00:04<00:08, 16.40it/s, loss=5.36]\u001b[A\n",
            " 34%|███▍      | 71/207 [00:04<00:08, 16.23it/s, loss=5.36]\u001b[A\n",
            " 35%|███▌      | 73/207 [00:04<00:08, 16.60it/s, loss=5.36]\u001b[A\n",
            " 35%|███▌      | 73/207 [00:04<00:08, 16.42it/s, loss=5.35]\u001b[A\n",
            " 35%|███▌      | 73/207 [00:04<00:08, 16.25it/s, loss=5.34]\u001b[A\n",
            " 36%|███▌      | 75/207 [00:04<00:07, 16.61it/s, loss=5.34]\u001b[A\n",
            " 36%|███▌      | 75/207 [00:04<00:08, 16.46it/s, loss=5.33]\u001b[A\n",
            " 36%|███▌      | 75/207 [00:04<00:08, 16.25it/s, loss=5.33]\u001b[A\n",
            " 37%|███▋      | 77/207 [00:04<00:07, 16.60it/s, loss=5.33]\u001b[A\n",
            " 37%|███▋      | 77/207 [00:04<00:07, 16.45it/s, loss=5.32]\u001b[A\n",
            " 37%|███▋      | 77/207 [00:04<00:07, 16.36it/s, loss=5.31]\u001b[A\n",
            " 37%|███▋      | 77/207 [00:04<00:08, 16.24it/s, loss=5.3] \u001b[A\n",
            " 39%|███▊      | 80/207 [00:04<00:07, 16.86it/s, loss=5.3]\u001b[A\n",
            " 39%|███▊      | 80/207 [00:04<00:07, 16.80it/s, loss=5.29]\u001b[A\n",
            " 39%|███▊      | 80/207 [00:04<00:07, 16.76it/s, loss=5.28]\u001b[A\n",
            " 39%|███▊      | 80/207 [00:04<00:07, 16.72it/s, loss=5.27]\u001b[A\n",
            " 39%|███▊      | 80/207 [00:04<00:07, 16.68it/s, loss=5.27]\u001b[A\n",
            " 39%|███▊      | 80/207 [00:04<00:07, 16.64it/s, loss=5.25]\u001b[A\n",
            " 39%|███▊      | 80/207 [00:04<00:07, 16.59it/s, loss=5.24]\u001b[A\n",
            " 39%|███▊      | 80/207 [00:04<00:07, 16.55it/s, loss=5.23]\u001b[A\n",
            " 39%|███▊      | 80/207 [00:04<00:07, 16.51it/s, loss=5.21]\u001b[A\n"
          ],
          "name": "stdout"
        },
        {
          "output_type": "stream",
          "text": [
            " 43%|████▎     | 88/207 [00:04<00:06, 18.13it/s, loss=5.21]\u001b[A\n",
            " 43%|████▎     | 88/207 [00:04<00:06, 18.09it/s, loss=5.19]\u001b[A\n",
            " 43%|████▎     | 88/207 [00:04<00:06, 18.05it/s, loss=5.18]\u001b[A\n",
            " 43%|████▎     | 88/207 [00:04<00:06, 18.00it/s, loss=5.17]\u001b[A\n",
            " 43%|████▎     | 88/207 [00:04<00:06, 17.96it/s, loss=5.16]\u001b[A\n",
            " 43%|████▎     | 88/207 [00:04<00:06, 17.91it/s, loss=5.14]\u001b[A\n",
            " 43%|████▎     | 88/207 [00:04<00:06, 17.87it/s, loss=5.13]\u001b[A\n",
            " 43%|████▎     | 88/207 [00:04<00:06, 17.84it/s, loss=5.11]\u001b[A\n",
            " 43%|████▎     | 88/207 [00:04<00:06, 17.78it/s, loss=5.09]\u001b[A\n",
            " 46%|████▋     | 96/207 [00:04<00:05, 19.37it/s, loss=5.09]\u001b[A\n",
            " 46%|████▋     | 96/207 [00:04<00:05, 19.33it/s, loss=5.06]\u001b[A\n",
            " 46%|████▋     | 96/207 [00:04<00:05, 19.29it/s, loss=5.04]\u001b[A\n",
            " 46%|████▋     | 96/207 [00:04<00:05, 19.24it/s, loss=5.02]\u001b[A\n",
            " 46%|████▋     | 96/207 [00:05<00:05, 19.19it/s, loss=4.98]\u001b[A\n",
            " 46%|████▋     | 96/207 [00:05<00:05, 19.15it/s, loss=4.95]\u001b[A\n",
            " 46%|████▋     | 96/207 [00:05<00:05, 19.11it/s, loss=4.93]\u001b[A\n",
            " 46%|████▋     | 96/207 [00:05<00:05, 19.07it/s, loss=4.9] \u001b[A\n",
            " 46%|████▋     | 96/207 [00:05<00:05, 19.02it/s, loss=4.87]\u001b[A\n",
            " 46%|████▋     | 96/207 [00:05<00:05, 18.98it/s, loss=4.83]\u001b[A\n",
            " 51%|█████     | 105/207 [00:05<00:04, 20.74it/s, loss=4.83]\u001b[A\n",
            " 51%|█████     | 105/207 [00:05<00:04, 20.70it/s, loss=4.79]\u001b[A\n",
            " 51%|█████     | 105/207 [00:05<00:04, 20.65it/s, loss=4.76]\u001b[A\n",
            " 51%|█████     | 105/207 [00:05<00:04, 20.61it/s, loss=4.72]\u001b[A\n",
            " 51%|█████     | 105/207 [00:05<00:04, 20.57it/s, loss=4.69]\u001b[A\n",
            " 51%|█████     | 105/207 [00:05<00:04, 20.52it/s, loss=4.64]\u001b[A\n",
            " 51%|█████     | 105/207 [00:05<00:04, 20.48it/s, loss=4.6] \u001b[A\n",
            " 51%|█████     | 105/207 [00:05<00:04, 20.43it/s, loss=4.56]\u001b[A\n",
            " 51%|█████     | 105/207 [00:05<00:05, 20.39it/s, loss=4.52]\u001b[A\n",
            " 51%|█████     | 105/207 [00:05<00:05, 20.35it/s, loss=4.48]\u001b[A\n",
            " 55%|█████▌    | 114/207 [00:05<00:04, 22.07it/s, loss=4.48]\u001b[A\n",
            " 55%|█████▌    | 114/207 [00:05<00:04, 22.01it/s, loss=4.43]\u001b[A\n",
            " 55%|█████▌    | 114/207 [00:05<00:04, 21.97it/s, loss=4.38]\u001b[A\n"
          ],
          "name": "stdout"
        },
        {
          "output_type": "stream",
          "text": [
            " 55%|█████▌    | 114/207 [00:05<00:04, 21.93it/s, loss=4.33]\u001b[A\n",
            " 55%|█████▌    | 114/207 [00:05<00:04, 21.88it/s, loss=4.29]\u001b[A\n",
            " 55%|█████▌    | 114/207 [00:05<00:04, 21.82it/s, loss=4.25]\u001b[A\n",
            " 55%|█████▌    | 114/207 [00:05<00:04, 21.77it/s, loss=4.21]\u001b[A\n",
            " 55%|█████▌    | 114/207 [00:05<00:04, 21.73it/s, loss=4.16]\u001b[A\n",
            " 55%|█████▌    | 114/207 [00:05<00:04, 21.69it/s, loss=4.11]\u001b[A\n",
            " 55%|█████▌    | 114/207 [00:05<00:04, 21.62it/s, loss=4.06]\u001b[A\n",
            " 59%|█████▉    | 123/207 [00:05<00:03, 23.31it/s, loss=4.06]\u001b[A\n",
            " 59%|█████▉    | 123/207 [00:05<00:03, 23.27it/s, loss=4.02]\u001b[A\n",
            " 59%|█████▉    | 123/207 [00:05<00:03, 23.22it/s, loss=3.97]\u001b[A\n",
            " 59%|█████▉    | 123/207 [00:05<00:03, 23.17it/s, loss=3.92]\u001b[A\n",
            " 59%|█████▉    | 123/207 [00:05<00:03, 23.13it/s, loss=3.87]\u001b[A\n",
            " 59%|█████▉    | 123/207 [00:05<00:03, 23.08it/s, loss=3.83]\u001b[A\n",
            " 59%|█████▉    | 123/207 [00:05<00:03, 23.03it/s, loss=3.79]\u001b[A\n",
            " 59%|█████▉    | 123/207 [00:05<00:03, 22.98it/s, loss=3.74]\u001b[A\n",
            " 59%|█████▉    | 123/207 [00:05<00:03, 22.92it/s, loss=3.68]\u001b[A\n",
            " 59%|█████▉    | 123/207 [00:05<00:03, 22.88it/s, loss=3.63]\u001b[A\n",
            " 64%|██████▍   | 132/207 [00:05<00:03, 24.53it/s, loss=3.63]\u001b[A\n",
            " 64%|██████▍   | 132/207 [00:05<00:03, 24.49it/s, loss=3.58]\u001b[A\n",
            " 64%|██████▍   | 132/207 [00:05<00:03, 24.44it/s, loss=3.54]\u001b[A\n",
            " 64%|██████▍   | 132/207 [00:05<00:03, 24.38it/s, loss=3.5] \u001b[A\n",
            " 64%|██████▍   | 132/207 [00:05<00:03, 24.33it/s, loss=3.46]\u001b[A\n",
            " 64%|██████▍   | 132/207 [00:05<00:03, 24.28it/s, loss=3.41]\u001b[A\n",
            " 64%|██████▍   | 132/207 [00:05<00:03, 24.22it/s, loss=3.37]\u001b[A\n",
            " 64%|██████▍   | 132/207 [00:05<00:03, 24.18it/s, loss=3.33]\u001b[A\n",
            " 64%|██████▍   | 132/207 [00:05<00:03, 24.13it/s, loss=3.29]\u001b[A\n",
            " 64%|██████▍   | 132/207 [00:05<00:03, 24.08it/s, loss=3.25]\u001b[A\n",
            " 68%|██████▊   | 141/207 [00:05<00:02, 25.70it/s, loss=3.25]\u001b[A\n",
            " 68%|██████▊   | 141/207 [00:05<00:02, 25.64it/s, loss=3.21]\u001b[A\n",
            " 68%|██████▊   | 141/207 [00:05<00:02, 25.59it/s, loss=3.17]\u001b[A\n",
            " 68%|██████▊   | 141/207 [00:05<00:02, 25.54it/s, loss=3.14]\u001b[A\n",
            " 68%|██████▊   | 141/207 [00:05<00:02, 25.49it/s, loss=3.1] \u001b[A"
          ],
          "name": "stdout"
        },
        {
          "output_type": "stream",
          "text": [
            "\n",
            " 68%|██████▊   | 141/207 [00:05<00:02, 25.44it/s, loss=3.06]\u001b[A\n",
            " 68%|██████▊   | 141/207 [00:05<00:02, 25.38it/s, loss=3.04]\u001b[A\n",
            " 68%|██████▊   | 141/207 [00:05<00:02, 25.32it/s, loss=3]   \u001b[A\n",
            " 68%|██████▊   | 141/207 [00:05<00:02, 25.27it/s, loss=2.97]\u001b[A\n",
            " 68%|██████▊   | 141/207 [00:05<00:02, 25.23it/s, loss=2.94]\u001b[A\n",
            " 72%|███████▏  | 150/207 [00:05<00:02, 26.82it/s, loss=2.94]\u001b[A\n",
            " 72%|███████▏  | 150/207 [00:05<00:02, 26.77it/s, loss=2.9] \u001b[A\n",
            " 72%|███████▏  | 150/207 [00:05<00:02, 26.72it/s, loss=2.87]\u001b[A\n",
            " 72%|███████▏  | 150/207 [00:05<00:02, 26.67it/s, loss=2.85]\u001b[A\n",
            " 72%|███████▏  | 150/207 [00:05<00:02, 26.62it/s, loss=2.82]\u001b[A\n",
            " 72%|███████▏  | 150/207 [00:05<00:02, 26.57it/s, loss=2.81]\u001b[A\n",
            " 72%|███████▏  | 150/207 [00:05<00:02, 26.51it/s, loss=2.79]\u001b[A\n",
            " 72%|███████▏  | 150/207 [00:05<00:02, 26.47it/s, loss=2.77]\u001b[A\n",
            " 72%|███████▏  | 150/207 [00:05<00:02, 26.40it/s, loss=2.76]\u001b[A\n",
            " 72%|███████▏  | 150/207 [00:05<00:02, 26.35it/s, loss=2.75]\u001b[A\n",
            " 77%|███████▋  | 159/207 [00:05<00:01, 27.91it/s, loss=2.75]\u001b[A\n",
            " 77%|███████▋  | 159/207 [00:05<00:01, 27.85it/s, loss=2.74]\u001b[A\n",
            " 77%|███████▋  | 159/207 [00:05<00:01, 27.81it/s, loss=2.74]\u001b[A\n",
            " 77%|███████▋  | 159/207 [00:05<00:01, 27.76it/s, loss=2.73]\u001b[A\n",
            " 77%|███████▋  | 159/207 [00:05<00:01, 27.70it/s, loss=2.73]\u001b[A\n",
            " 77%|███████▋  | 159/207 [00:05<00:01, 27.65it/s, loss=2.74]\u001b[A\n",
            " 77%|███████▋  | 159/207 [00:05<00:01, 27.59it/s, loss=2.75]\u001b[A\n",
            " 77%|███████▋  | 159/207 [00:05<00:01, 27.54it/s, loss=2.74]\u001b[A\n",
            " 77%|███████▋  | 159/207 [00:05<00:01, 27.48it/s, loss=2.75]\u001b[A\n",
            " 77%|███████▋  | 159/207 [00:05<00:01, 27.42it/s, loss=2.77]\u001b[A\n",
            " 81%|████████  | 168/207 [00:05<00:01, 28.94it/s, loss=2.77]\u001b[A\n",
            " 81%|████████  | 168/207 [00:05<00:01, 28.89it/s, loss=2.79]\u001b[A\n",
            " 81%|████████  | 168/207 [00:05<00:01, 28.84it/s, loss=2.8] \u001b[A\n",
            " 81%|████████  | 168/207 [00:05<00:01, 28.79it/s, loss=2.82]\u001b[A\n",
            " 81%|████████  | 168/207 [00:05<00:01, 28.73it/s, loss=2.84]\u001b[A\n",
            " 81%|████████  | 168/207 [00:05<00:01, 28.67it/s, loss=2.85]\u001b[A\n",
            " 81%|████████  | 168/207 [00:05<00:01, 28.62it/s, loss=2.88]\u001b[A"
          ],
          "name": "stdout"
        },
        {
          "output_type": "stream",
          "text": [
            "\n",
            " 81%|████████  | 168/207 [00:05<00:01, 28.56it/s, loss=2.91]\u001b[A\n",
            " 81%|████████  | 168/207 [00:05<00:01, 28.50it/s, loss=2.98]\u001b[A\n",
            " 81%|████████  | 168/207 [00:05<00:01, 28.43it/s, loss=3.03]\u001b[A\n",
            " 86%|████████▌ | 177/207 [00:05<00:01, 29.94it/s, loss=3.03]\u001b[A\n",
            " 86%|████████▌ | 177/207 [00:05<00:01, 29.89it/s, loss=3.12]\u001b[A\n",
            " 86%|████████▌ | 177/207 [00:05<00:01, 29.83it/s, loss=3.23]\u001b[A\n",
            " 86%|████████▌ | 177/207 [00:05<00:01, 29.78it/s, loss=3.31]\u001b[A\n",
            " 86%|████████▌ | 177/207 [00:05<00:01, 29.72it/s, loss=3.42]\u001b[A\n",
            " 86%|████████▌ | 177/207 [00:05<00:01, 29.67it/s, loss=3.6] \u001b[A\n",
            " 86%|████████▌ | 177/207 [00:05<00:01, 29.61it/s, loss=3.75]\u001b[A\n",
            " 86%|████████▌ | 177/207 [00:05<00:01, 29.56it/s, loss=4.03]\u001b[A\n",
            " 86%|████████▌ | 177/207 [00:05<00:01, 29.51it/s, loss=4.69]\u001b[A\n",
            " 86%|████████▌ | 177/207 [00:06<00:01, 29.45it/s, loss=5.3] \u001b[A\n",
            " 90%|████████▉ | 186/207 [00:06<00:00, 30.92it/s, loss=5.3]\u001b[A\n",
            " 90%|████████▉ | 186/207 [00:06<00:00, 30.86it/s, loss=6.49]\u001b[A\n",
            " 90%|████████▉ | 186/207 [00:06<00:00, 30.80it/s, loss=8.06]\u001b[A\n",
            " 90%|████████▉ | 186/207 [00:06<00:00, 30.74it/s, loss=9.5] \u001b[A\n",
            " 90%|████████▉ | 186/207 [00:06<00:00, 30.68it/s, loss=12.9]\u001b[A\n",
            "\n",
            "                                                            \u001b[A"
          ],
          "name": "stdout"
        }
      ]
    },
    {
      "metadata": {
        "id": "ChSVMdjwoRLc",
        "colab_type": "code",
        "colab": {
          "autoexec": {
            "startup": false,
            "wait_interval": 0
          },
          "base_uri": "https://localhost:8080/",
          "height": 361
        },
        "outputId": "3e83bb80-6dfa-453a-9715-26b3f1d9d849",
        "executionInfo": {
          "status": "ok",
          "timestamp": 1524690387006,
          "user_tz": 300,
          "elapsed": 532,
          "user": {
            "displayName": "Laurent Rudloff",
            "photoUrl": "https://lh3.googleusercontent.com/a/default-user=s128",
            "userId": "104166800392809817224"
          }
        }
      },
      "cell_type": "code",
      "source": [
        "learn.sched.plot_lr()"
      ],
      "execution_count": 80,
      "outputs": [
        {
          "output_type": "display_data",
          "data": {
            "image/png": "[encoded data removed]",
            "text/plain": [
              "<matplotlib.figure.Figure at 0x7f49221c6128>"
            ]
          },
          "metadata": {
            "tags": []
          }
        }
      ]
    },
    {
      "metadata": {
        "id": "-039AA9WoRAk",
        "colab_type": "code",
        "colab": {
          "autoexec": {
            "startup": false,
            "wait_interval": 0
          },
          "base_uri": "https://localhost:8080/",
          "height": 365
        },
        "outputId": "fdd47ff1-1caf-4360-cddd-1db892b8d5bd",
        "executionInfo": {
          "status": "ok",
          "timestamp": 1524690388876,
          "user_tz": 300,
          "elapsed": 760,
          "user": {
            "displayName": "Laurent Rudloff",
            "photoUrl": "https://lh3.googleusercontent.com/a/default-user=s128",
            "userId": "104166800392809817224"
          }
        }
      },
      "cell_type": "code",
      "source": [
        "learn.sched.plot()"
      ],
      "execution_count": 81,
      "outputs": [
        {
          "output_type": "display_data",
          "data": {
            "image/png": "[encoded data removed]",
            "text/plain": [
              "<matplotlib.figure.Figure at 0x7f4976693400>"
            ]
          },
          "metadata": {
            "tags": []
          }
        }
      ]
    },
    {
      "metadata": {
        "id": "XVV1PY8SZyJ-",
        "colab_type": "code",
        "colab": {
          "autoexec": {
            "startup": false,
            "wait_interval": 0
          },
          "base_uri": "https://localhost:8080/",
          "height": 2729
        },
        "outputId": "4e414183-0437-4316-8e6f-8e002533e198",
        "executionInfo": {
          "status": "ok",
          "timestamp": 1524690408610,
          "user_tz": 300,
          "elapsed": 16874,
          "user": {
            "displayName": "Laurent Rudloff",
            "photoUrl": "https://lh3.googleusercontent.com/a/default-user=s128",
            "userId": "104166800392809817224"
          }
        }
      },
      "cell_type": "code",
      "source": [
        "learn.fit(1e-2, 2)"
      ],
      "execution_count": 82,
      "outputs": [
        {
          "output_type": "display_data",
          "data": {
            "application/vnd.jupyter.widget-view+json": {
              "model_id": "7e3759c93c38412e860b29bdcf67c930",
              "version_minor": 0,
              "version_major": 2
            },
            "text/plain": [
              "HBox(children=(IntProgress(value=0, description='Epoch', max=2), HTML(value='')))"
            ]
          },
          "metadata": {
            "tags": []
          }
        },
        {
          "output_type": "stream",
          "text": [
            "\n",
            "  0%|          | 0/207 [00:00<?, ?it/s]\u001b[A\n",
            "  0%|          | 0/207 [00:00<?, ?it/s, loss=5.47]\u001b[A\n",
            "  0%|          | 1/207 [00:00<00:29,  7.07it/s, loss=5.47]\u001b[A\n",
            "  0%|          | 1/207 [00:00<00:34,  5.96it/s, loss=5.44]\u001b[A\n",
            "  0%|          | 1/207 [00:00<00:43,  4.69it/s, loss=5.43]\u001b[A\n",
            "  1%|▏         | 3/207 [00:00<00:16, 12.40it/s, loss=5.43]\u001b[A\n",
            "  1%|▏         | 3/207 [00:00<00:19, 10.68it/s, loss=5.43]\u001b[A\n",
            "  1%|▏         | 3/207 [00:00<00:22,  9.22it/s, loss=5.43]\u001b[A\n",
            "  2%|▏         | 5/207 [00:00<00:14, 14.36it/s, loss=5.43]\u001b[A\n",
            "  2%|▏         | 5/207 [00:00<00:16, 12.40it/s, loss=5.39]\u001b[A\n",
            "  2%|▏         | 5/207 [00:00<00:17, 11.44it/s, loss=5.35]\u001b[A\n",
            "  3%|▎         | 7/207 [00:00<00:13, 15.06it/s, loss=5.35]\u001b[A\n",
            "  3%|▎         | 7/207 [00:00<00:14, 13.73it/s, loss=5.29]\u001b[A\n",
            "  3%|▎         | 7/207 [00:00<00:15, 12.66it/s, loss=5.26]\u001b[A\n",
            "  4%|▍         | 9/207 [00:00<00:12, 15.64it/s, loss=5.26]\u001b[A\n",
            "  4%|▍         | 9/207 [00:00<00:13, 14.70it/s, loss=5.19]\u001b[A\n",
            "  4%|▍         | 9/207 [00:00<00:14, 13.67it/s, loss=5.13]\u001b[A\n",
            "  5%|▌         | 11/207 [00:00<00:12, 16.26it/s, loss=5.13]\u001b[A\n",
            "  5%|▌         | 11/207 [00:00<00:12, 15.25it/s, loss=5.07]\u001b[A\n",
            "  5%|▌         | 11/207 [00:00<00:13, 14.50it/s, loss=5.02]\u001b[A\n",
            "  6%|▋         | 13/207 [00:00<00:11, 16.52it/s, loss=5.02]\u001b[A\n",
            "  6%|▋         | 13/207 [00:00<00:12, 15.44it/s, loss=4.96]\u001b[A\n",
            "  6%|▋         | 13/207 [00:00<00:13, 14.62it/s, loss=4.93]\u001b[A\n",
            "  7%|▋         | 15/207 [00:00<00:11, 16.51it/s, loss=4.93]\u001b[A\n",
            "  7%|▋         | 15/207 [00:00<00:12, 15.60it/s, loss=4.88]\u001b[A\n",
            "  7%|▋         | 15/207 [00:01<00:12, 14.94it/s, loss=4.84]\u001b[A\n",
            "  8%|▊         | 17/207 [00:01<00:11, 16.59it/s, loss=4.84]\u001b[A\n",
            "  8%|▊         | 17/207 [00:01<00:11, 15.85it/s, loss=4.79]\u001b[A\n",
            "  8%|▊         | 17/207 [00:01<00:12, 15.11it/s, loss=4.73]\u001b[A\n",
            "  9%|▉         | 19/207 [00:01<00:11, 16.56it/s, loss=4.73]\u001b[A\n",
            "  9%|▉         | 19/207 [00:01<00:11, 15.90it/s, loss=4.7] \u001b[A\n",
            "  9%|▉         | 19/207 [00:01<00:12, 15.19it/s, loss=4.66]\u001b[A\n",
            " 10%|█         | 21/207 [00:01<00:11, 16.43it/s, loss=4.66]"
          ],
          "name": "stdout"
        },
        {
          "output_type": "stream",
          "text": [
            "\u001b[A\n",
            " 10%|█         | 21/207 [00:01<00:11, 15.87it/s, loss=4.6] \u001b[A\n",
            " 10%|█         | 21/207 [00:01<00:12, 15.30it/s, loss=4.55]\u001b[A\n",
            " 11%|█         | 23/207 [00:01<00:11, 16.54it/s, loss=4.55]\u001b[A\n",
            " 11%|█         | 23/207 [00:01<00:11, 16.07it/s, loss=4.48]\u001b[A\n",
            " 11%|█         | 23/207 [00:01<00:11, 15.57it/s, loss=4.42]\u001b[A\n",
            " 12%|█▏        | 25/207 [00:01<00:10, 16.65it/s, loss=4.42]\u001b[A\n",
            " 12%|█▏        | 25/207 [00:01<00:11, 16.13it/s, loss=4.37]\u001b[A\n",
            " 12%|█▏        | 25/207 [00:01<00:11, 15.77it/s, loss=4.32]\u001b[A\n",
            " 13%|█▎        | 27/207 [00:01<00:10, 16.68it/s, loss=4.32]\u001b[A\n",
            " 13%|█▎        | 27/207 [00:01<00:11, 16.21it/s, loss=4.27]\u001b[A\n",
            " 13%|█▎        | 27/207 [00:01<00:11, 15.76it/s, loss=4.22]\u001b[A\n",
            " 14%|█▍        | 29/207 [00:01<00:10, 16.68it/s, loss=4.22]\u001b[A\n",
            " 14%|█▍        | 29/207 [00:01<00:10, 16.29it/s, loss=4.17]\u001b[A\n",
            " 14%|█▍        | 29/207 [00:01<00:11, 15.90it/s, loss=4.11]\u001b[A\n",
            " 15%|█▍        | 31/207 [00:01<00:10, 16.76it/s, loss=4.11]\u001b[A\n",
            " 15%|█▍        | 31/207 [00:01<00:10, 16.37it/s, loss=4.07]\u001b[A\n",
            " 15%|█▍        | 31/207 [00:01<00:11, 15.96it/s, loss=4.02]\u001b[A\n",
            " 16%|█▌        | 33/207 [00:01<00:10, 16.84it/s, loss=4.02]\u001b[A\n",
            " 16%|█▌        | 33/207 [00:02<00:10, 16.44it/s, loss=3.98]\u001b[A\n",
            " 16%|█▌        | 33/207 [00:02<00:10, 16.05it/s, loss=3.93]\u001b[A\n",
            " 17%|█▋        | 35/207 [00:02<00:10, 16.86it/s, loss=3.93]\u001b[A\n",
            " 17%|█▋        | 35/207 [00:02<00:10, 16.50it/s, loss=3.88]\u001b[A\n",
            " 17%|█▋        | 35/207 [00:02<00:10, 16.17it/s, loss=3.84]\u001b[A\n",
            " 18%|█▊        | 37/207 [00:02<00:10, 16.89it/s, loss=3.84]\u001b[A\n",
            " 18%|█▊        | 37/207 [00:02<00:10, 16.53it/s, loss=3.8] \u001b[A\n",
            " 18%|█▊        | 37/207 [00:02<00:10, 16.22it/s, loss=3.76]\u001b[A\n",
            " 19%|█▉        | 39/207 [00:02<00:09, 16.90it/s, loss=3.76]\u001b[A\n",
            " 19%|█▉        | 39/207 [00:02<00:10, 16.63it/s, loss=3.73]\u001b[A\n",
            " 19%|█▉        | 39/207 [00:02<00:10, 16.27it/s, loss=3.68]\u001b[A\n",
            " 20%|█▉        | 41/207 [00:02<00:09, 16.96it/s, loss=3.68]\u001b[A\n",
            " 20%|█▉        | 41/207 [00:02<00:09, 16.61it/s, loss=3.64]\u001b[A\n",
            " 20%|█▉        | 41/207 [00:02<00:10, 16.28it/s, loss=3.6] \u001b[A"
          ],
          "name": "stdout"
        },
        {
          "output_type": "stream",
          "text": [
            "\n",
            " 21%|██        | 43/207 [00:02<00:09, 16.93it/s, loss=3.6]\u001b[A\n",
            " 21%|██        | 43/207 [00:02<00:09, 16.62it/s, loss=3.56]\u001b[A\n",
            " 21%|██        | 43/207 [00:02<00:10, 16.36it/s, loss=3.52]\u001b[A\n",
            " 22%|██▏       | 45/207 [00:02<00:09, 17.00it/s, loss=3.52]\u001b[A\n",
            " 22%|██▏       | 45/207 [00:02<00:09, 16.69it/s, loss=3.48]\u001b[A\n",
            " 22%|██▏       | 45/207 [00:02<00:09, 16.43it/s, loss=3.46]\u001b[A\n",
            " 23%|██▎       | 47/207 [00:02<00:09, 17.00it/s, loss=3.46]\u001b[A\n",
            " 23%|██▎       | 47/207 [00:02<00:09, 16.69it/s, loss=3.41]\u001b[A\n",
            " 23%|██▎       | 47/207 [00:02<00:09, 16.45it/s, loss=3.38]\u001b[A\n",
            " 24%|██▎       | 49/207 [00:02<00:09, 17.01it/s, loss=3.38]\u001b[A\n",
            " 24%|██▎       | 49/207 [00:02<00:09, 16.75it/s, loss=3.34]\u001b[A\n",
            " 24%|██▎       | 49/207 [00:02<00:09, 16.52it/s, loss=3.3] \u001b[A\n",
            " 25%|██▍       | 51/207 [00:02<00:09, 17.06it/s, loss=3.3]\u001b[A\n",
            " 25%|██▍       | 51/207 [00:03<00:09, 16.88it/s, loss=3.27]\u001b[A\n",
            " 25%|██▍       | 51/207 [00:03<00:09, 16.57it/s, loss=3.24]\u001b[A\n",
            " 26%|██▌       | 53/207 [00:03<00:08, 17.13it/s, loss=3.24]\u001b[A\n",
            " 26%|██▌       | 53/207 [00:03<00:09, 16.93it/s, loss=3.21]\u001b[A\n",
            " 26%|██▌       | 53/207 [00:03<00:09, 16.70it/s, loss=3.17]\u001b[A\n",
            " 27%|██▋       | 55/207 [00:03<00:08, 17.17it/s, loss=3.17]\u001b[A\n",
            " 27%|██▋       | 55/207 [00:03<00:08, 16.94it/s, loss=3.14]\u001b[A\n",
            " 27%|██▋       | 55/207 [00:03<00:09, 16.69it/s, loss=3.1] \u001b[A\n",
            " 28%|██▊       | 57/207 [00:03<00:08, 17.15it/s, loss=3.1]\u001b[A\n",
            " 28%|██▊       | 57/207 [00:03<00:08, 16.89it/s, loss=3.07]\u001b[A\n",
            " 28%|██▊       | 57/207 [00:03<00:08, 16.69it/s, loss=3.04]\u001b[A\n",
            " 29%|██▊       | 59/207 [00:03<00:08, 17.10it/s, loss=3.04]\u001b[A\n",
            " 29%|██▊       | 59/207 [00:03<00:08, 16.92it/s, loss=3.01]\u001b[A\n",
            " 29%|██▊       | 59/207 [00:03<00:08, 16.71it/s, loss=2.98]\u001b[A\n",
            " 29%|██▉       | 61/207 [00:03<00:08, 17.19it/s, loss=2.98]\u001b[A\n",
            " 29%|██▉       | 61/207 [00:03<00:08, 16.91it/s, loss=2.95]\u001b[A\n",
            " 29%|██▉       | 61/207 [00:03<00:08, 16.72it/s, loss=2.92]\u001b[A\n",
            " 30%|███       | 63/207 [00:03<00:08, 17.17it/s, loss=2.92]\u001b[A\n",
            " 30%|███       | 63/207 [00:03<00:08, 16.92it/s, loss=2.89]\u001b[A\n"
          ],
          "name": "stdout"
        },
        {
          "output_type": "stream",
          "text": [
            " 30%|███       | 63/207 [00:03<00:08, 16.70it/s, loss=2.86]\u001b[A\n",
            " 31%|███▏      | 65/207 [00:03<00:08, 17.14it/s, loss=2.86]\u001b[A\n",
            " 31%|███▏      | 65/207 [00:03<00:08, 16.91it/s, loss=2.84]\u001b[A\n",
            " 31%|███▏      | 65/207 [00:03<00:08, 16.69it/s, loss=2.81]\u001b[A\n",
            " 32%|███▏      | 67/207 [00:03<00:08, 17.12it/s, loss=2.81]\u001b[A\n",
            " 32%|███▏      | 67/207 [00:03<00:08, 16.84it/s, loss=2.78]\u001b[A\n",
            " 32%|███▏      | 67/207 [00:04<00:08, 16.67it/s, loss=2.75]\u001b[A\n",
            " 33%|███▎      | 69/207 [00:04<00:08, 17.07it/s, loss=2.75]\u001b[A\n",
            " 33%|███▎      | 69/207 [00:04<00:08, 16.88it/s, loss=2.72]\u001b[A\n",
            " 33%|███▎      | 69/207 [00:04<00:08, 16.71it/s, loss=2.7] \u001b[A\n",
            " 34%|███▍      | 71/207 [00:04<00:07, 17.09it/s, loss=2.7]\u001b[A\n",
            " 34%|███▍      | 71/207 [00:04<00:08, 16.89it/s, loss=2.68]\u001b[A\n",
            " 34%|███▍      | 71/207 [00:04<00:08, 16.71it/s, loss=2.65]\u001b[A\n",
            " 35%|███▌      | 73/207 [00:04<00:07, 17.09it/s, loss=2.65]\u001b[A\n",
            " 35%|███▌      | 73/207 [00:04<00:07, 16.87it/s, loss=2.63]\u001b[A\n",
            " 35%|███▌      | 73/207 [00:04<00:08, 16.71it/s, loss=2.6] \u001b[A\n",
            " 36%|███▌      | 75/207 [00:04<00:07, 17.09it/s, loss=2.6]\u001b[A\n",
            " 36%|███▌      | 75/207 [00:04<00:07, 16.90it/s, loss=2.57]\u001b[A\n",
            " 36%|███▌      | 75/207 [00:04<00:07, 16.73it/s, loss=2.54]\u001b[A\n",
            " 37%|███▋      | 77/207 [00:04<00:07, 17.11it/s, loss=2.54]\u001b[A\n",
            " 37%|███▋      | 77/207 [00:04<00:07, 16.93it/s, loss=2.51]\u001b[A\n",
            " 37%|███▋      | 77/207 [00:04<00:07, 16.74it/s, loss=2.49]\u001b[A\n",
            " 38%|███▊      | 79/207 [00:04<00:07, 17.09it/s, loss=2.49]\u001b[A\n",
            " 38%|███▊      | 79/207 [00:04<00:07, 16.92it/s, loss=2.47]\u001b[A\n",
            " 38%|███▊      | 79/207 [00:04<00:07, 16.76it/s, loss=2.45]\u001b[A\n",
            " 39%|███▉      | 81/207 [00:04<00:07, 17.11it/s, loss=2.45]\u001b[A\n",
            " 39%|███▉      | 81/207 [00:04<00:07, 17.00it/s, loss=2.43]\u001b[A\n",
            " 39%|███▉      | 81/207 [00:04<00:07, 16.93it/s, loss=2.41]\u001b[A\n",
            " 39%|███▉      | 81/207 [00:04<00:07, 16.90it/s, loss=2.39]\u001b[A\n",
            " 39%|███▉      | 81/207 [00:04<00:07, 16.86it/s, loss=2.36]\u001b[A\n",
            " 39%|███▉      | 81/207 [00:04<00:07, 16.81it/s, loss=2.34]\u001b[A\n",
            " 39%|███▉      | 81/207 [00:04<00:07, 16.77it/s, loss=2.32]\u001b[A\n"
          ],
          "name": "stdout"
        },
        {
          "output_type": "stream",
          "text": [
            " 42%|████▏     | 87/207 [00:04<00:06, 18.00it/s, loss=2.32]\u001b[A\n",
            " 42%|████▏     | 87/207 [00:04<00:06, 17.96it/s, loss=2.3] \u001b[A\n",
            " 42%|████▏     | 87/207 [00:04<00:06, 17.92it/s, loss=2.28]\u001b[A\n",
            " 42%|████▏     | 87/207 [00:04<00:06, 17.89it/s, loss=2.25]\u001b[A\n",
            " 42%|████▏     | 87/207 [00:04<00:06, 17.85it/s, loss=2.23]\u001b[A\n",
            " 42%|████▏     | 87/207 [00:04<00:06, 17.81it/s, loss=2.22]\u001b[A\n",
            " 42%|████▏     | 87/207 [00:04<00:06, 17.78it/s, loss=2.2] \u001b[A\n",
            " 42%|████▏     | 87/207 [00:04<00:06, 17.75it/s, loss=2.18]\u001b[A\n",
            " 42%|████▏     | 87/207 [00:04<00:06, 17.71it/s, loss=2.16]\u001b[A\n",
            " 42%|████▏     | 87/207 [00:04<00:06, 17.68it/s, loss=2.13]\u001b[A\n",
            " 42%|████▏     | 87/207 [00:04<00:06, 17.64it/s, loss=2.12]\u001b[A\n",
            " 47%|████▋     | 97/207 [00:04<00:05, 19.65it/s, loss=2.12]\u001b[A\n",
            " 47%|████▋     | 97/207 [00:04<00:05, 19.60it/s, loss=2.1] \u001b[A\n",
            " 47%|████▋     | 97/207 [00:04<00:05, 19.56it/s, loss=2.09]\u001b[A\n",
            " 47%|████▋     | 97/207 [00:04<00:05, 19.52it/s, loss=2.07]\u001b[A\n",
            " 47%|████▋     | 97/207 [00:04<00:05, 19.48it/s, loss=2.05]\u001b[A\n",
            " 47%|████▋     | 97/207 [00:04<00:05, 19.43it/s, loss=2.04]\u001b[A\n",
            " 47%|████▋     | 97/207 [00:05<00:05, 19.39it/s, loss=2.03]\u001b[A\n",
            " 47%|████▋     | 97/207 [00:05<00:05, 19.35it/s, loss=2.02]\u001b[A\n",
            " 47%|████▋     | 97/207 [00:05<00:05, 19.30it/s, loss=2.01]\u001b[A\n",
            " 47%|████▋     | 97/207 [00:05<00:05, 19.26it/s, loss=2]   \u001b[A\n",
            " 66%|██████▌   | 137/207 [00:05<00:02, 25.51it/s, loss=1.65]"
          ],
          "name": "stdout"
        },
        {
          "output_type": "stream",
          "text": [
            "[0.      1.20878 0.64256 0.83677]\n",
            "[1.      0.73794 0.52398 0.84994]\n",
            "\n"
          ],
          "name": "stdout"
        }
      ]
    },
    {
      "metadata": {
        "id": "_CBNG1SHochy",
        "colab_type": "code",
        "colab": {
          "autoexec": {
            "startup": false,
            "wait_interval": 0
          }
        }
      },
      "cell_type": "code",
      "source": [
        ""
      ],
      "execution_count": 0,
      "outputs": []
    },
    {
      "metadata": {
        "id": "goi9hovIYb_G",
        "colab_type": "code",
        "colab": {
          "autoexec": {
            "startup": false,
            "wait_interval": 0
          }
        }
      },
      "cell_type": "code",
      "source": [
        "learn.precompute = False"
      ],
      "execution_count": 0,
      "outputs": []
    },
    {
      "metadata": {
        "id": "odPEEZkRhz58",
        "colab_type": "code",
        "colab": {
          "autoexec": {
            "startup": false,
            "wait_interval": 0
          },
          "base_uri": "https://localhost:8080/",
          "height": 159
        },
        "outputId": "eb660b18-5f67-4e00-88c1-f29515d3155b",
        "executionInfo": {
          "status": "ok",
          "timestamp": 1524684951802,
          "user_tz": 300,
          "elapsed": 918210,
          "user": {
            "displayName": "Laurent Rudloff",
            "photoUrl": "https://lh3.googleusercontent.com/a/default-user=s128",
            "userId": "104166800392809817224"
          }
        }
      },
      "cell_type": "code",
      "source": [
        "learn.fit(1e-2, 5, cycle_len=1)"
      ],
      "execution_count": 21,
      "outputs": [
        {
          "output_type": "display_data",
          "data": {
            "application/vnd.jupyter.widget-view+json": {
              "model_id": "d0e3ea6faa2f45dcb3bc74228fc752d0",
              "version_minor": 0,
              "version_major": 2
            },
            "text/plain": [
              "HBox(children=(IntProgress(value=0, description='Epoch', max=5), HTML(value='')))"
            ]
          },
          "metadata": {
            "tags": []
          }
        },
        {
          "output_type": "stream",
          "text": [
            "[0.      0.751   0.48208 0.85774]\n",
            "[1.      0.68973 0.47437 0.85611]\n",
            " 67%|██████▋   | 138/207 [01:17<00:38,  1.77it/s, loss=0.658]"
          ],
          "name": "stdout"
        },
        {
          "output_type": "stream",
          "text": [
            "[2.      0.69257 0.4667  0.85646]\n",
            "[3.      0.64521 0.45743 0.8603 ]\n",
            " 98%|█████████▊| 203/207 [01:50<00:02,  1.84it/s, loss=0.622]"
          ],
          "name": "stdout"
        },
        {
          "output_type": "stream",
          "text": [
            "[4.      0.62424 0.45178 0.86007]\n",
            "\n"
          ],
          "name": "stdout"
        }
      ]
    },
    {
      "metadata": {
        "id": "BehTe1CxiEDW",
        "colab_type": "text"
      },
      "cell_type": "markdown",
      "source": [
        "## Increase size"
      ]
    },
    {
      "metadata": {
        "id": "mrVdMUkJh0Go",
        "colab_type": "code",
        "colab": {
          "autoexec": {
            "startup": false,
            "wait_interval": 0
          },
          "base_uri": "https://localhost:8080/",
          "height": 52
        },
        "outputId": "66b34d37-4834-49ab-e2a6-daa96d04fcb8",
        "executionInfo": {
          "status": "ok",
          "timestamp": 1524682029444,
          "user_tz": 300,
          "elapsed": 414,
          "user": {
            "displayName": "Laurent Rudloff",
            "photoUrl": "https://lh3.googleusercontent.com/a/default-user=s128",
            "userId": "104166800392809817224"
          }
        }
      },
      "cell_type": "code",
      "source": [
        "# Starting training on small images for a few epochs, then switching to bigger images, and continuing training is an amazingly effective way to avoid overfitting.\n",
        "\n",
        "# http://forums.fast.ai/t/planet-classification-challenge/7824/96\n",
        "# set_data doesn’t change the model at all. It just gives it new data to train with.\n",
        "learn.set_data(get_data(299, bs)) \n",
        "learn.freeze()"
      ],
      "execution_count": 37,
      "outputs": [
        {
          "output_type": "display_data",
          "data": {
            "application/vnd.jupyter.widget-view+json": {
              "model_id": "185601f5d5734190ad653dee941cd4f6",
              "version_minor": 0,
              "version_major": 2
            },
            "text/plain": [
              "HBox(children=(IntProgress(value=0, max=6), HTML(value='')))"
            ]
          },
          "metadata": {
            "tags": []
          }
        },
        {
          "output_type": "stream",
          "text": [
            "\n"
          ],
          "name": "stdout"
        }
      ]
    },
    {
      "metadata": {
        "id": "5SkwtKF-wVva",
        "colab_type": "text"
      },
      "cell_type": "markdown",
      "source": [
        "https://becominghuman.ai/3-lines-of-code-deciphering-fast-ai-658e79151af8"
      ]
    },
    {
      "metadata": {
        "id": "Z5mb1_RSh0EY",
        "colab_type": "code",
        "colab": {
          "autoexec": {
            "startup": false,
            "wait_interval": 0
          },
          "base_uri": "https://localhost:8080/",
          "height": 124
        },
        "outputId": "37933958-3a44-4e41-d929-b4dee18174e7",
        "executionInfo": {
          "status": "ok",
          "timestamp": 1524682583030,
          "user_tz": 300,
          "elapsed": 553390,
          "user": {
            "displayName": "Laurent Rudloff",
            "photoUrl": "https://lh3.googleusercontent.com/a/default-user=s128",
            "userId": "104166800392809817224"
          }
        }
      },
      "cell_type": "code",
      "source": [
        "learn.fit(1e-1, 3, cycle_len=1)"
      ],
      "execution_count": 38,
      "outputs": [
        {
          "output_type": "display_data",
          "data": {
            "application/vnd.jupyter.widget-view+json": {
              "model_id": "c31269b75abc441397bb5a0964d6b78a",
              "version_minor": 0,
              "version_major": 2
            },
            "text/plain": [
              "HBox(children=(IntProgress(value=0, description='Epoch', max=3), HTML(value='')))"
            ]
          },
          "metadata": {
            "tags": []
          }
        },
        {
          "output_type": "stream",
          "text": [
            "[0.      0.91697 0.51708 0.84165]\n",
            "[1.      0.8107  0.4905  0.84866]\n",
            " 67%|██████▋   | 139/207 [01:17<00:37,  1.79it/s, loss=0.777]"
          ],
          "name": "stdout"
        },
        {
          "output_type": "stream",
          "text": [
            "[2.      0.72769 0.47946 0.84924]\n",
            "\n"
          ],
          "name": "stdout"
        }
      ]
    },
    {
      "metadata": {
        "id": "9349eC81h0Bu",
        "colab_type": "code",
        "colab": {
          "autoexec": {
            "startup": false,
            "wait_interval": 0
          },
          "base_uri": "https://localhost:8080/",
          "height": 193
        },
        "outputId": "c966ae9b-01b8-4eb6-baf1-9526ae0383d1",
        "executionInfo": {
          "status": "ok",
          "timestamp": 1524683867546,
          "user_tz": 300,
          "elapsed": 1284406,
          "user": {
            "displayName": "Laurent Rudloff",
            "photoUrl": "https://lh3.googleusercontent.com/a/default-user=s128",
            "userId": "104166800392809817224"
          }
        }
      },
      "cell_type": "code",
      "source": [
        "# When you are under fitting, it means cycle_len=1 is too short (learning rate is getting reset before it had the chance to zoom in properly).\n",
        "learn.fit(1e-2, 3, cycle_len=1, cycle_mult=2) # 1+2+4 = 7 epochs"
      ],
      "execution_count": 39,
      "outputs": [
        {
          "output_type": "display_data",
          "data": {
            "application/vnd.jupyter.widget-view+json": {
              "model_id": "03a5de1fa6324d69a7dd6115836b00ab",
              "version_minor": 0,
              "version_major": 2
            },
            "text/plain": [
              "HBox(children=(IntProgress(value=0, description='Epoch', max=7), HTML(value='')))"
            ]
          },
          "metadata": {
            "tags": []
          }
        },
        {
          "output_type": "stream",
          "text": [
            "[0.      0.59932 0.46476 0.85342]\n",
            "[1.      0.58632 0.45122 0.85797]\n",
            " 67%|██████▋   | 138/207 [01:17<00:38,  1.79it/s, loss=0.551]"
          ],
          "name": "stdout"
        },
        {
          "output_type": "stream",
          "text": [
            "[2.      0.5687  0.44737 0.85914]\n",
            "[3.      0.56001 0.4481  0.85623]\n",
            " 98%|█████████▊| 203/207 [01:49<00:02,  1.85it/s, loss=0.532]"
          ],
          "name": "stdout"
        },
        {
          "output_type": "stream",
          "text": [
            "[4.      0.5397  0.44237 0.85984]\n",
            "[5.      0.5221  0.4394  0.86007]\n",
            "[6.      0.52238 0.43752 0.86159]\n",
            "\n"
          ],
          "name": "stdout"
        }
      ]
    },
    {
      "metadata": {
        "id": "WU9Y4bPmhz9W",
        "colab_type": "code",
        "colab": {
          "autoexec": {
            "startup": false,
            "wait_interval": 0
          },
          "base_uri": "https://localhost:8080/",
          "height": 361
        },
        "outputId": "f8d6bd4e-ca3f-4be2-fefa-6af037354afb",
        "executionInfo": {
          "status": "ok",
          "timestamp": 1524683868350,
          "user_tz": 300,
          "elapsed": 508,
          "user": {
            "displayName": "Laurent Rudloff",
            "photoUrl": "https://lh3.googleusercontent.com/a/default-user=s128",
            "userId": "104166800392809817224"
          }
        }
      },
      "cell_type": "code",
      "source": [
        "learn.sched.plot_lr()"
      ],
      "execution_count": 40,
      "outputs": [
        {
          "output_type": "display_data",
          "data": {
            "image/png": "[encoded data removed]",
            "text/plain": [
              "<matplotlib.figure.Figure at 0x7faf25f7cc18>"
            ]
          },
          "metadata": {
            "tags": []
          }
        }
      ]
    },
    {
      "metadata": {
        "id": "RCOShDbmuXMs",
        "colab_type": "text"
      },
      "cell_type": "markdown",
      "source": [
        "## Single picture prediction"
      ]
    },
    {
      "metadata": {
        "id": "Cd-oSk0XnXYa",
        "colab_type": "code",
        "colab": {
          "autoexec": {
            "startup": false,
            "wait_interval": 0
          }
        }
      },
      "cell_type": "code",
      "source": [
        "preds = np.argmax(learn.predict(), axis=1)"
      ],
      "execution_count": 0,
      "outputs": []
    },
    {
      "metadata": {
        "id": "qYsxQXy5otAc",
        "colab_type": "code",
        "colab": {
          "autoexec": {
            "startup": false,
            "wait_interval": 0
          },
          "base_uri": "https://localhost:8080/",
          "height": 34
        },
        "outputId": "25c45111-605f-4c96-af03-e07be05b8b56",
        "executionInfo": {
          "status": "ok",
          "timestamp": 1524692019226,
          "user_tz": 300,
          "elapsed": 324,
          "user": {
            "displayName": "Laurent Rudloff",
            "photoUrl": "https://lh3.googleusercontent.com/a/default-user=s128",
            "userId": "104166800392809817224"
          }
        }
      },
      "cell_type": "code",
      "source": [
        "# Accuracy measurement\n",
        "from sklearn.metrics import accuracy_score\n",
        "accuracy_score(data.val_y, preds)"
      ],
      "execution_count": 133,
      "outputs": [
        {
          "output_type": "execute_result",
          "data": {
            "text/plain": [
              "0.8447552447552448"
            ]
          },
          "metadata": {
            "tags": []
          },
          "execution_count": 133
        }
      ]
    },
    {
      "metadata": {
        "id": "CMgen0-AduQ-",
        "colab_type": "code",
        "colab": {
          "autoexec": {
            "startup": false,
            "wait_interval": 0
          },
          "base_uri": "https://localhost:8080/",
          "height": 34
        },
        "outputId": "03a53f3f-0108-4f91-d57f-a6654a9b1430",
        "executionInfo": {
          "status": "ok",
          "timestamp": 1524693083892,
          "user_tz": 300,
          "elapsed": 556,
          "user": {
            "displayName": "Laurent Rudloff",
            "photoUrl": "https://lh3.googleusercontent.com/a/default-user=s128",
            "userId": "104166800392809817224"
          }
        }
      },
      "cell_type": "code",
      "source": [
        "fn = data.val_ds.fnames[3]\n",
        "img = open_image(fn)\n",
        "#data.val_ds.fnames\n",
        "#data.val_y.shape\n",
        "#dir(data.val_ds.get)\n",
        "\n",
        "img[None].shape\n",
        "im = tfms[0](img)\n",
        "print(im[None].shape)\n",
        "#learn.predict_array(img[None])"
      ],
      "execution_count": 153,
      "outputs": [
        {
          "output_type": "stream",
          "text": [
            "(1, 3, 224, 224)\n"
          ],
          "name": "stdout"
        }
      ]
    },
    {
      "metadata": {
        "id": "YU-x_NCWrY0K",
        "colab_type": "code",
        "colab": {
          "autoexec": {
            "startup": false,
            "wait_interval": 0
          }
        }
      },
      "cell_type": "code",
      "source": [
        "trn_tfms, val_tfms = tfms_from_model(arch, sz)\n",
        "im = val_tfms(open_image(fn))\n",
        "#type(im[None])\n",
        "learn.precompute = False\n",
        "\n",
        "preds = learn.predict_array(im[None])"
      ],
      "execution_count": 0,
      "outputs": []
    },
    {
      "metadata": {
        "id": "iWUYtyHwzRuG",
        "colab_type": "code",
        "colab": {
          "autoexec": {
            "startup": false,
            "wait_interval": 0
          },
          "base_uri": "https://localhost:8080/",
          "height": 260
        },
        "outputId": "56edff5f-3400-4a9e-f9b1-b63d87e37d53",
        "executionInfo": {
          "status": "ok",
          "timestamp": 1524693298536,
          "user_tz": 300,
          "elapsed": 298,
          "user": {
            "displayName": "Laurent Rudloff",
            "photoUrl": "https://lh3.googleusercontent.com/a/default-user=s128",
            "userId": "104166800392809817224"
          }
        }
      },
      "cell_type": "code",
      "source": [
        "preds"
      ],
      "execution_count": 161,
      "outputs": [
        {
          "output_type": "execute_result",
          "data": {
            "text/plain": [
              "array([[ -0.0177 , -12.1672 ,  -5.77734, -11.19813, -11.19142,  -9.63881, -10.5947 ,  -7.6468 , -15.50553,\n",
              "        -14.81105, -14.77317,  -7.08685, -16.11213, -13.82802, -13.00547, -13.78302, -12.64841, -15.26416,\n",
              "        -12.07078, -14.71197,  -6.75717, -12.71002, -13.4233 , -15.72697, -15.01722, -13.83628, -11.82986,\n",
              "        -12.69083,  -9.66999, -12.79382, -11.976  , -10.94385, -15.69435, -15.03969, -11.32151, -12.53809,\n",
              "         -6.42345, -11.36324, -11.1753 , -11.81222, -14.10696, -10.26   , -11.57936, -11.0928 , -10.76904,\n",
              "        -10.25733, -18.03718, -18.25967, -11.8008 , -17.79871, -13.60939, -13.87804, -10.4323 , -11.80712,\n",
              "        -12.00982, -14.23423,  -9.66383,  -8.80578, -13.66871, -13.18867, -13.72032, -10.66869, -13.34754,\n",
              "        -12.02522, -12.62975, -12.64715, -14.91919, -14.3043 ,  -9.96647, -12.82264, -13.74575, -14.71649,\n",
              "        -12.22147, -15.11864, -14.79957, -13.47038, -12.5036 , -16.23468, -14.6666 , -12.85061, -14.9505 ,\n",
              "        -14.25122, -17.06688, -12.05086, -17.32279, -15.08754, -12.99875, -15.53425, -15.37645, -17.26623,\n",
              "        -15.17764, -12.52121, -15.20376, -18.16155,  -8.07769, -16.95173, -16.00694, -12.51723, -12.41782,\n",
              "        -12.4196 , -11.94101, -11.80703, -14.16668, -19.92673, -13.26366, -11.23313, -12.33633,  -6.79098,\n",
              "        -12.2745 , -13.4847 , -12.47519, -10.09496, -13.89813,  -8.84681,  -4.865  , -16.17662,  -8.75189,\n",
              "        -12.77019, -14.52194, -13.5167 ]], dtype=float32)"
            ]
          },
          "metadata": {
            "tags": []
          },
          "execution_count": 161
        }
      ]
    },
    {
      "metadata": {
        "id": "Nh4EyuDj1XFO",
        "colab_type": "text"
      },
      "cell_type": "markdown",
      "source": [
        "# VGG19"
      ]
    },
    {
      "metadata": {
        "id": "nx2NoOOn1XFQ",
        "colab_type": "code",
        "colab": {
          "autoexec": {
            "startup": false,
            "wait_interval": 0
          },
          "base_uri": "https://localhost:8080/",
          "height": 52
        },
        "outputId": "7e899125-cb40-446c-e855-183b5f6cfb6c",
        "executionInfo": {
          "status": "ok",
          "timestamp": 1524683878174,
          "user_tz": 300,
          "elapsed": 8340,
          "user": {
            "displayName": "Laurent Rudloff",
            "photoUrl": "https://lh3.googleusercontent.com/a/default-user=s128",
            "userId": "104166800392809817224"
          }
        }
      },
      "cell_type": "code",
      "source": [
        "import numpy as np\n",
        "import keras\n",
        "from keras.applications.vgg19 import VGG19\n",
        "from keras.models import Model\n",
        "from keras.layers import Dense, Dropout, Flatten\n",
        "print(keras.__version__)"
      ],
      "execution_count": 41,
      "outputs": [
        {
          "output_type": "stream",
          "text": [
            "Using TensorFlow backend.\n"
          ],
          "name": "stderr"
        },
        {
          "output_type": "stream",
          "text": [
            "2.1.5\n"
          ],
          "name": "stdout"
        }
      ]
    },
    {
      "metadata": {
        "id": "7pYkJfKe1XFU",
        "colab_type": "code",
        "colab": {
          "autoexec": {
            "startup": false,
            "wait_interval": 0
          }
        }
      },
      "cell_type": "code",
      "source": [
        "im_size = 90\n",
        "num_class = 120\n",
        "batch_size = 32"
      ],
      "execution_count": 0,
      "outputs": []
    },
    {
      "metadata": {
        "id": "fTAqW8vM1XFY",
        "colab_type": "code",
        "colab": {
          "autoexec": {
            "startup": false,
            "wait_interval": 0
          },
          "base_uri": "https://localhost:8080/",
          "height": 1007
        },
        "outputId": "a9e17f8c-82ac-4633-8cf1-c8ca0356ea13",
        "executionInfo": {
          "status": "ok",
          "timestamp": 1524683910374,
          "user_tz": 300,
          "elapsed": 16512,
          "user": {
            "displayName": "Laurent Rudloff",
            "photoUrl": "https://lh3.googleusercontent.com/a/default-user=s128",
            "userId": "104166800392809817224"
          }
        }
      },
      "cell_type": "code",
      "source": [
        "# Create the base pre-trained model\n",
        "# Can't download weights in the kernel\n",
        "base_model = VGG19(#weights='imagenet',\n",
        "    weights = 'imagenet', include_top=False, input_shape=(im_size, im_size, 3))\n",
        "\n",
        "# Add a new top layer\n",
        "x = base_model.output\n",
        "x = Flatten()(x)\n",
        "predictions = Dense(num_class, activation='softmax')(x)\n",
        "\n",
        "# This is the model we will train\n",
        "model = Model(inputs=base_model.input, outputs=predictions)\n",
        "\n",
        "# First: train only the top layers (which were randomly initialized)\n",
        "for layer in base_model.layers:\n",
        "    layer.trainable = False\n",
        "\n",
        "model.compile(loss='categorical_crossentropy', \n",
        "              optimizer='adam', \n",
        "              metrics=['accuracy'])\n",
        "\n",
        "callbacks_list = [keras.callbacks.EarlyStopping(monitor='val_acc', patience=3, verbose=1)]\n",
        "model.summary()"
      ],
      "execution_count": 43,
      "outputs": [
        {
          "output_type": "stream",
          "text": [
            "Downloading data from https://github.com/fchollet/deep-learning-models/releases/download/v0.1/vgg19_weights_tf_dim_ordering_tf_kernels_notop.h5\n",
            "80142336/80134624 [==============================] - 15s 0us/step\n",
            "_________________________________________________________________\n",
            "Layer (type)                 Output Shape              Param #   \n",
            "=================================================================\n",
            "input_1 (InputLayer)         (None, 90, 90, 3)         0         \n",
            "_________________________________________________________________\n",
            "block1_conv1 (Conv2D)        (None, 90, 90, 64)        1792      \n",
            "_________________________________________________________________\n",
            "block1_conv2 (Conv2D)        (None, 90, 90, 64)        36928     \n",
            "_________________________________________________________________\n",
            "block1_pool (MaxPooling2D)   (None, 45, 45, 64)        0         \n",
            "_________________________________________________________________\n",
            "block2_conv1 (Conv2D)        (None, 45, 45, 128)       73856     \n",
            "_________________________________________________________________\n",
            "block2_conv2 (Conv2D)        (None, 45, 45, 128)       147584    \n",
            "_________________________________________________________________\n",
            "block2_pool (MaxPooling2D)   (None, 22, 22, 128)       0         \n",
            "_________________________________________________________________\n",
            "block3_conv1 (Conv2D)        (None, 22, 22, 256)       295168    \n",
            "_________________________________________________________________\n",
            "block3_conv2 (Conv2D)        (None, 22, 22, 256)       590080    \n",
            "_________________________________________________________________\n",
            "block3_conv3 (Conv2D)        (None, 22, 22, 256)       590080    \n",
            "_________________________________________________________________\n",
            "block3_conv4 (Conv2D)        (None, 22, 22, 256)       590080    \n",
            "_________________________________________________________________\n",
            "block3_pool (MaxPooling2D)   (None, 11, 11, 256)       0         \n",
            "_________________________________________________________________\n",
            "block4_conv1 (Conv2D)        (None, 11, 11, 512)       1180160   \n",
            "_________________________________________________________________\n",
            "block4_conv2 (Conv2D)        (None, 11, 11, 512)       2359808   \n",
            "_________________________________________________________________\n",
            "block4_conv3 (Conv2D)        (None, 11, 11, 512)       2359808   \n",
            "_________________________________________________________________\n",
            "block4_conv4 (Conv2D)        (None, 11, 11, 512)       2359808   \n",
            "_________________________________________________________________\n",
            "block4_pool (MaxPooling2D)   (None, 5, 5, 512)         0         \n",
            "_________________________________________________________________\n",
            "block5_conv1 (Conv2D)        (None, 5, 5, 512)         2359808   \n",
            "_________________________________________________________________\n",
            "block5_conv2 (Conv2D)        (None, 5, 5, 512)         2359808   \n",
            "_________________________________________________________________\n",
            "block5_conv3 (Conv2D)        (None, 5, 5, 512)         2359808   \n",
            "_________________________________________________________________\n",
            "block5_conv4 (Conv2D)        (None, 5, 5, 512)         2359808   \n",
            "_________________________________________________________________\n",
            "block5_pool (MaxPooling2D)   (None, 2, 2, 512)         0         \n",
            "_________________________________________________________________\n",
            "flatten_1 (Flatten)          (None, 2048)              0         \n",
            "_________________________________________________________________\n",
            "dense_1 (Dense)              (None, 120)               245880    \n",
            "=================================================================\n",
            "Total params: 20,270,264\n",
            "Trainable params: 245,880\n",
            "Non-trainable params: 20,024,384\n",
            "_________________________________________________________________\n"
          ],
          "name": "stdout"
        }
      ]
    },
    {
      "metadata": {
        "id": "eLPSMRNl1XFi",
        "colab_type": "code",
        "colab": {
          "autoexec": {
            "startup": false,
            "wait_interval": 0
          }
        }
      },
      "cell_type": "code",
      "source": [
        "import numpy as np\n",
        "from keras.preprocessing.image import ImageDataGenerator\n",
        "from keras.preprocessing import image\n",
        "from keras.layers import Dropout, Flatten, Dense\n",
        "from keras.applications import ResNet50\n",
        "from keras.models import Model, Sequential\n",
        "from keras.layers import Dense, GlobalAveragePooling2D\n",
        "from keras import backend as K\n",
        "from keras.applications.resnet50 import preprocess_input"
      ],
      "execution_count": 0,
      "outputs": []
    },
    {
      "metadata": {
        "id": "_hdyHCJb1XFo",
        "colab_type": "code",
        "colab": {
          "autoexec": {
            "startup": false,
            "wait_interval": 0
          }
        }
      },
      "cell_type": "code",
      "source": [
        "train_data_dir = f'train'\n",
        "validation_data_dir = f'test'"
      ],
      "execution_count": 0,
      "outputs": []
    },
    {
      "metadata": {
        "id": "uqbRSywk1XFy",
        "colab_type": "code",
        "colab": {
          "autoexec": {
            "startup": false,
            "wait_interval": 0
          },
          "base_uri": "https://localhost:8080/",
          "height": 52
        },
        "outputId": "4859324c-5bc0-4331-9b71-ef733714a495",
        "executionInfo": {
          "status": "ok",
          "timestamp": 1524683914848,
          "user_tz": 300,
          "elapsed": 1956,
          "user": {
            "displayName": "Laurent Rudloff",
            "photoUrl": "https://lh3.googleusercontent.com/a/default-user=s128",
            "userId": "104166800392809817224"
          }
        }
      },
      "cell_type": "code",
      "source": [
        "from keras.preprocessing.image import ImageDataGenerator\n",
        "train_datagen = ImageDataGenerator(rotation_range=40,\n",
        "                                   shear_range=0.2,\n",
        "                                   #channel_shift_range=20,\n",
        "                                   #width_shift_range=0.2,\n",
        "                                   #height_shift_range=0.2,\n",
        "                                   zoom_range=0.2,\n",
        "                                   horizontal_flip=True,\n",
        "                                   rescale=1./255)\n",
        "\n",
        "test_datagen = ImageDataGenerator(rescale=1./255)\n",
        "\n",
        "train_generator = train_datagen.flow_from_directory(train_data_dir,\n",
        "                                                    target_size=(im_size,im_size),\n",
        "                                                    class_mode='categorical',\n",
        "                                                    batch_size=batch_size)\n",
        "\n",
        "validation_generator = test_datagen.flow_from_directory(validation_data_dir, \n",
        "                                                        target_size=(im_size,im_size),\n",
        "                                                        class_mode='categorical',\n",
        "                                                        batch_size=batch_size)"
      ],
      "execution_count": 46,
      "outputs": [
        {
          "output_type": "stream",
          "text": [
            "Found 12000 images belonging to 120 classes.\n",
            "Found 8580 images belonging to 120 classes.\n"
          ],
          "name": "stdout"
        }
      ]
    },
    {
      "metadata": {
        "id": "mjgoPOgf1XF6",
        "colab_type": "code",
        "colab": {
          "autoexec": {
            "startup": false,
            "wait_interval": 0
          },
          "base_uri": "https://localhost:8080/",
          "height": 34
        },
        "outputId": "dd33ad85-900c-4d02-eed3-c920535fe49d"
      },
      "cell_type": "code",
      "source": [
        "%%time\n",
        "model.fit_generator(train_generator,\n",
        "                    train_generator.n // batch_size, epochs=3,\n",
        "                    workers=4,\n",
        "                    validation_data=validation_generator,\n",
        "                    validation_steps=validation_generator.n // batch_size)"
      ],
      "execution_count": 0,
      "outputs": [
        {
          "output_type": "stream",
          "text": [
            "Epoch 1/3\n"
          ],
          "name": "stdout"
        }
      ]
    },
    {
      "metadata": {
        "id": "tZEwpFYu6VgC",
        "colab_type": "text"
      },
      "cell_type": "markdown",
      "source": [
        "# VGG16"
      ]
    },
    {
      "metadata": {
        "id": "HzxxzBLH1XGU",
        "colab_type": "code",
        "colab": {
          "autoexec": {
            "startup": false,
            "wait_interval": 0
          },
          "base_uri": "https://localhost:8080/",
          "height": 52
        },
        "outputId": "faee34d4-5521-4569-a119-16d1e38e730d",
        "executionInfo": {
          "status": "ok",
          "timestamp": 1524091584532,
          "user_tz": 300,
          "elapsed": 1934,
          "user": {
            "displayName": "Laurent Rudloff",
            "photoUrl": "https://lh3.googleusercontent.com/a/default-user=s128",
            "userId": "104166800392809817224"
          }
        }
      },
      "cell_type": "code",
      "source": [
        "import keras\n",
        "from keras.applications.vgg16 import VGG16\n",
        "from keras.models import Model\n",
        "from keras.layers import Dense, Dropout, Flatten\n",
        "print(keras.__version__)"
      ],
      "execution_count": 1,
      "outputs": [
        {
          "output_type": "stream",
          "text": [
            "Using TensorFlow backend.\n"
          ],
          "name": "stderr"
        },
        {
          "output_type": "stream",
          "text": [
            "2.1.5\n"
          ],
          "name": "stdout"
        }
      ]
    },
    {
      "metadata": {
        "id": "e861ZwTr1XGY",
        "colab_type": "code",
        "colab": {
          "autoexec": {
            "startup": false,
            "wait_interval": 0
          }
        }
      },
      "cell_type": "code",
      "source": [
        "im_size = 224\n",
        "num_class = 120\n",
        "batch_size = 32"
      ],
      "execution_count": 0,
      "outputs": []
    },
    {
      "metadata": {
        "id": "FFf9UPaY6l8Y",
        "colab_type": "code",
        "colab": {
          "autoexec": {
            "startup": false,
            "wait_interval": 0
          },
          "base_uri": "https://localhost:8080/",
          "height": 923
        },
        "outputId": "900ca519-1ca7-4294-942d-1931f0aff654",
        "executionInfo": {
          "status": "ok",
          "timestamp": 1524093743662,
          "user_tz": 300,
          "elapsed": 3634,
          "user": {
            "displayName": "Laurent Rudloff",
            "photoUrl": "https://lh3.googleusercontent.com/a/default-user=s128",
            "userId": "104166800392809817224"
          }
        }
      },
      "cell_type": "code",
      "source": [
        "# Create the base pre-trained model\n",
        "# Can't download weights in the kernel\n",
        "base_model = VGG16(weights='imagenet', include_top=False, input_shape=(im_size, im_size, 3))\n",
        "#base_model = keras.applications.resnet50.ResNet50(include_top=False, weights='imagenet', input_shape=(im_size, im_size, 3))\n",
        "\n",
        "# Add a new top layer\n",
        "x = base_model.output\n",
        "x = Flatten()(x)\n",
        "predictions = Dense(num_class, activation='softmax')(x)\n",
        "\n",
        "# This is the model we will train\n",
        "model = Model(inputs=base_model.input, outputs=predictions)\n",
        "\n",
        "# First: train only the top layers (which were randomly initialized)\n",
        "for layer in base_model.layers:\n",
        "    layer.trainable = False\n",
        "\n",
        "model.compile(loss='categorical_crossentropy', \n",
        "              optimizer='adam', \n",
        "              metrics=['accuracy'])\n",
        "\n",
        "#callbacks_list = [keras.callbacks.EarlyStopping(monitor='val_acc', patience=3, verbose=1)]\n",
        "model.summary()"
      ],
      "execution_count": 14,
      "outputs": [
        {
          "output_type": "stream",
          "text": [
            "Downloading data from https://github.com/fchollet/deep-learning-models/releases/download/v0.1/vgg16_weights_tf_dim_ordering_tf_kernels_notop.h5\n",
            "58892288/58889256 [==============================] - 1s 0us/step\n",
            "_________________________________________________________________\n",
            "Layer (type)                 Output Shape              Param #   \n",
            "=================================================================\n",
            "input_4 (InputLayer)         (None, 224, 224, 3)       0         \n",
            "_________________________________________________________________\n",
            "block1_conv1 (Conv2D)        (None, 224, 224, 64)      1792      \n",
            "_________________________________________________________________\n",
            "block1_conv2 (Conv2D)        (None, 224, 224, 64)      36928     \n",
            "_________________________________________________________________\n",
            "block1_pool (MaxPooling2D)   (None, 112, 112, 64)      0         \n",
            "_________________________________________________________________\n",
            "block2_conv1 (Conv2D)        (None, 112, 112, 128)     73856     \n",
            "_________________________________________________________________\n",
            "block2_conv2 (Conv2D)        (None, 112, 112, 128)     147584    \n",
            "_________________________________________________________________\n",
            "block2_pool (MaxPooling2D)   (None, 56, 56, 128)       0         \n",
            "_________________________________________________________________\n",
            "block3_conv1 (Conv2D)        (None, 56, 56, 256)       295168    \n",
            "_________________________________________________________________\n",
            "block3_conv2 (Conv2D)        (None, 56, 56, 256)       590080    \n",
            "_________________________________________________________________\n",
            "block3_conv3 (Conv2D)        (None, 56, 56, 256)       590080    \n",
            "_________________________________________________________________\n",
            "block3_pool (MaxPooling2D)   (None, 28, 28, 256)       0         \n",
            "_________________________________________________________________\n",
            "block4_conv1 (Conv2D)        (None, 28, 28, 512)       1180160   \n",
            "_________________________________________________________________\n",
            "block4_conv2 (Conv2D)        (None, 28, 28, 512)       2359808   \n",
            "_________________________________________________________________\n",
            "block4_conv3 (Conv2D)        (None, 28, 28, 512)       2359808   \n",
            "_________________________________________________________________\n",
            "block4_pool (MaxPooling2D)   (None, 14, 14, 512)       0         \n",
            "_________________________________________________________________\n",
            "block5_conv1 (Conv2D)        (None, 14, 14, 512)       2359808   \n",
            "_________________________________________________________________\n",
            "block5_conv2 (Conv2D)        (None, 14, 14, 512)       2359808   \n",
            "_________________________________________________________________\n",
            "block5_conv3 (Conv2D)        (None, 14, 14, 512)       2359808   \n",
            "_________________________________________________________________\n",
            "block5_pool (MaxPooling2D)   (None, 7, 7, 512)         0         \n",
            "_________________________________________________________________\n",
            "flatten_4 (Flatten)          (None, 25088)             0         \n",
            "_________________________________________________________________\n",
            "dense_4 (Dense)              (None, 120)               3010680   \n",
            "=================================================================\n",
            "Total params: 17,725,368\n",
            "Trainable params: 3,010,680\n",
            "Non-trainable params: 14,714,688\n",
            "_________________________________________________________________\n"
          ],
          "name": "stdout"
        }
      ]
    },
    {
      "metadata": {
        "id": "HweV9lMW6mGs",
        "colab_type": "code",
        "colab": {
          "autoexec": {
            "startup": false,
            "wait_interval": 0
          }
        }
      },
      "cell_type": "code",
      "source": [
        "import numpy as np\n",
        "from keras.preprocessing.image import ImageDataGenerator\n",
        "from keras.preprocessing import image\n",
        "from keras.layers import Dropout, Flatten, Dense\n",
        "from keras.applications import ResNet50\n",
        "from keras.models import Model, Sequential\n",
        "from keras.layers import Dense, GlobalAveragePooling2D\n",
        "from keras import backend as K\n",
        "from keras.applications.resnet50 import preprocess_input"
      ],
      "execution_count": 0,
      "outputs": []
    },
    {
      "metadata": {
        "id": "On2C5Om16mEU",
        "colab_type": "code",
        "colab": {
          "autoexec": {
            "startup": false,
            "wait_interval": 0
          }
        }
      },
      "cell_type": "code",
      "source": [
        "train_data_dir = f'train'\n",
        "validation_data_dir = f'test'"
      ],
      "execution_count": 0,
      "outputs": []
    },
    {
      "metadata": {
        "id": "yc_bT0TF6mCA",
        "colab_type": "code",
        "colab": {
          "autoexec": {
            "startup": false,
            "wait_interval": 0
          },
          "base_uri": "https://localhost:8080/",
          "height": 52
        },
        "outputId": "1783e679-71d8-4b96-fa46-51a8cc6af6d3",
        "executionInfo": {
          "status": "ok",
          "timestamp": 1524093749822,
          "user_tz": 300,
          "elapsed": 2956,
          "user": {
            "displayName": "Laurent Rudloff",
            "photoUrl": "https://lh3.googleusercontent.com/a/default-user=s128",
            "userId": "104166800392809817224"
          }
        }
      },
      "cell_type": "code",
      "source": [
        "from keras.preprocessing.image import ImageDataGenerator\n",
        "train_datagen = ImageDataGenerator(rotation_range=40,\n",
        "                                   shear_range=0.2,\n",
        "                                   #channel_shift_range=20,\n",
        "                                   #width_shift_range=0.2,\n",
        "                                   #height_shift_range=0.2,\n",
        "                                   zoom_range=0.2,\n",
        "                                   horizontal_flip=True,\n",
        "                                   rescale=1./255)\n",
        "\n",
        "test_datagen = ImageDataGenerator(rescale=1./255)\n",
        "\n",
        "train_generator = train_datagen.flow_from_directory(train_data_dir,\n",
        "                                                    target_size=(im_size,im_size),\n",
        "                                                    class_mode='categorical',\n",
        "                                                    batch_size=batch_size)\n",
        "\n",
        "validation_generator = test_datagen.flow_from_directory(validation_data_dir, \n",
        "                                                        target_size=(im_size,im_size),\n",
        "                                                        class_mode='categorical',\n",
        "                                                        batch_size=batch_size)"
      ],
      "execution_count": 17,
      "outputs": [
        {
          "output_type": "stream",
          "text": [
            "Found 12000 images belonging to 120 classes.\n",
            "Found 8580 images belonging to 120 classes.\n"
          ],
          "name": "stdout"
        }
      ]
    },
    {
      "metadata": {
        "id": "iFzGxvbl6l_u",
        "colab_type": "code",
        "colab": {
          "autoexec": {
            "startup": false,
            "wait_interval": 0
          },
          "base_uri": "https://localhost:8080/",
          "height": 436
        },
        "outputId": "6f4f5e94-a91d-4722-dd5a-a1c29a89b5e2",
        "executionInfo": {
          "status": "ok",
          "timestamp": 1524097595174,
          "user_tz": 300,
          "elapsed": 2707158,
          "user": {
            "displayName": "Laurent Rudloff",
            "photoUrl": "https://lh3.googleusercontent.com/a/default-user=s128",
            "userId": "104166800392809817224"
          }
        }
      },
      "cell_type": "code",
      "source": [
        "%%time\n",
        "model.fit_generator(train_generator,\n",
        "                    train_generator.n // batch_size, epochs=10,\n",
        "                    workers=4,\n",
        "                    validation_data=validation_generator,\n",
        "                    validation_steps=validation_generator.n // batch_size)"
      ],
      "execution_count": 19,
      "outputs": [
        {
          "output_type": "stream",
          "text": [
            "Epoch 1/10\n",
            "375/375 [==============================] - 275s 733ms/step - loss: 4.4024 - acc: 0.3592 - val_loss: 5.3017 - val_acc: 0.2794\n",
            "Epoch 2/10\n",
            "287/375 [=====================>........] - ETA: 42s - loss: 4.2033 - acc: 0.3942"
          ],
          "name": "stdout"
        },
        {
          "output_type": "stream",
          "text": [
            "375/375 [==============================] - 271s 724ms/step - loss: 4.2919 - acc: 0.3883 - val_loss: 5.9346 - val_acc: 0.2631\n",
            "Epoch 3/10\n",
            "375/375 [==============================] - 272s 726ms/step - loss: 4.2137 - acc: 0.4148 - val_loss: 6.0316 - val_acc: 0.2774\n",
            "Epoch 4/10\n",
            " 31/375 [=>............................] - ETA: 2:13 - loss: 3.7998 - acc: 0.4637"
          ],
          "name": "stdout"
        },
        {
          "output_type": "stream",
          "text": [
            "375/375 [==============================] - 271s 724ms/step - loss: 3.9682 - acc: 0.4485 - val_loss: 5.5201 - val_acc: 0.3142\n",
            "Epoch 5/10\n",
            "332/375 [=========================>....] - ETA: 20s - loss: 3.7306 - acc: 0.4768"
          ],
          "name": "stdout"
        },
        {
          "output_type": "stream",
          "text": [
            "375/375 [==============================] - 271s 723ms/step - loss: 3.7008 - acc: 0.4779 - val_loss: 5.9179 - val_acc: 0.2956\n",
            "Epoch 6/10\n",
            "375/375 [==============================] - 271s 723ms/step - loss: 3.6878 - acc: 0.4917 - val_loss: 5.4270 - val_acc: 0.3203\n",
            "Epoch 7/10\n",
            " 41/375 [==>...........................] - ETA: 2:15 - loss: 3.1389 - acc: 0.5579"
          ],
          "name": "stdout"
        },
        {
          "output_type": "stream",
          "text": [
            "375/375 [==============================] - 271s 723ms/step - loss: 3.5247 - acc: 0.5181 - val_loss: 5.8014 - val_acc: 0.3071\n",
            "Epoch 8/10\n",
            "336/375 [=========================>....] - ETA: 18s - loss: 3.4004 - acc: 0.5276"
          ],
          "name": "stdout"
        },
        {
          "output_type": "stream",
          "text": [
            "375/375 [==============================] - 269s 717ms/step - loss: 3.4098 - acc: 0.5256 - val_loss: 5.8011 - val_acc: 0.3117\n",
            "Epoch 9/10\n",
            "375/375 [==============================] - 268s 714ms/step - loss: 3.4905 - acc: 0.5213 - val_loss: 5.7182 - val_acc: 0.3288\n",
            "Epoch 10/10\n",
            " 42/375 [==>...........................] - ETA: 2:14 - loss: 3.3029 - acc: 0.5603"
          ],
          "name": "stdout"
        },
        {
          "output_type": "stream",
          "text": [
            "375/375 [==============================] - 267s 712ms/step - loss: 3.2983 - acc: 0.5511 - val_loss: 5.6619 - val_acc: 0.3308\n",
            "CPU times: user 1h 9min 2s, sys: 3min 40s, total: 1h 12min 43s\n",
            "Wall time: 45min 6s\n"
          ],
          "name": "stdout"
        },
        {
          "output_type": "execute_result",
          "data": {
            "text/plain": [
              "<keras.callbacks.History at 0x7f91dfa8a5f8>"
            ]
          },
          "metadata": {
            "tags": []
          },
          "execution_count": 19
        }
      ]
    },
    {
      "metadata": {
        "id": "8Bp7J6u46l52",
        "colab_type": "code",
        "colab": {
          "autoexec": {
            "startup": false,
            "wait_interval": 0
          }
        }
      },
      "cell_type": "code",
      "source": [
        ""
      ],
      "execution_count": 0,
      "outputs": []
    },
    {
      "metadata": {
        "id": "ITLHat2F6l3e",
        "colab_type": "code",
        "colab": {
          "autoexec": {
            "startup": false,
            "wait_interval": 0
          }
        }
      },
      "cell_type": "code",
      "source": [
        ""
      ],
      "execution_count": 0,
      "outputs": []
    },
    {
      "metadata": {
        "id": "xwG-wipv6l0o",
        "colab_type": "code",
        "colab": {
          "autoexec": {
            "startup": false,
            "wait_interval": 0
          }
        }
      },
      "cell_type": "code",
      "source": [
        ""
      ],
      "execution_count": 0,
      "outputs": []
    },
    {
      "metadata": {
        "id": "SAPAjDVf1XGc",
        "colab_type": "code",
        "colab": {
          "autoexec": {
            "startup": false,
            "wait_interval": 0
          }
        }
      },
      "cell_type": "code",
      "source": [
        ""
      ],
      "execution_count": 0,
      "outputs": []
    }
  ]
}