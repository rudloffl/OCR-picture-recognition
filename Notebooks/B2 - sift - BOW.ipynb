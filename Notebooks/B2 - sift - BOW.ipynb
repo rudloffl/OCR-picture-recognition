{
 "cells": [
  {
   "cell_type": "code",
   "execution_count": 1,
   "metadata": {},
   "outputs": [],
   "source": [
    "import numpy as np\n",
    "import matplotlib.pyplot as plt\n",
    "import os\n",
    "import pandas as pd\n",
    "from skimage.io import imread\n",
    "from skimage import img_as_ubyte"
   ]
  },
  {
   "cell_type": "markdown",
   "metadata": {},
   "source": [
    "# Data loading"
   ]
  },
  {
   "cell_type": "code",
   "execution_count": 2,
   "metadata": {},
   "outputs": [
    {
     "data": {
      "text/html": [
       "<div>\n",
       "<style scoped>\n",
       "    .dataframe tbody tr th:only-of-type {\n",
       "        vertical-align: middle;\n",
       "    }\n",
       "\n",
       "    .dataframe tbody tr th {\n",
       "        vertical-align: top;\n",
       "    }\n",
       "\n",
       "    .dataframe thead th {\n",
       "        text-align: right;\n",
       "    }\n",
       "</style>\n",
       "<table border=\"1\" class=\"dataframe\">\n",
       "  <thead>\n",
       "    <tr style=\"text-align: right;\">\n",
       "      <th></th>\n",
       "      <th>breed</th>\n",
       "      <th>file</th>\n",
       "      <th>xmin</th>\n",
       "      <th>ymin</th>\n",
       "      <th>xmax</th>\n",
       "      <th>ymax</th>\n",
       "      <th>foldername</th>\n",
       "      <th>filename</th>\n",
       "      <th>dog_number</th>\n",
       "      <th>prepfilename</th>\n",
       "      <th>xdelta</th>\n",
       "      <th>ydelta</th>\n",
       "    </tr>\n",
       "  </thead>\n",
       "  <tbody>\n",
       "    <tr>\n",
       "      <th>n02085620_10074</th>\n",
       "      <td>Chihuahua</td>\n",
       "      <td>n02085620_10074</td>\n",
       "      <td>25.0</td>\n",
       "      <td>10.0</td>\n",
       "      <td>276.0</td>\n",
       "      <td>498.0</td>\n",
       "      <td>02085620</td>\n",
       "      <td>n02085620_10074</td>\n",
       "      <td>1</td>\n",
       "      <td>n02085620_10074-Chihuahua_cr1</td>\n",
       "      <td>251.0</td>\n",
       "      <td>488.0</td>\n",
       "    </tr>\n",
       "    <tr>\n",
       "      <th>n02085620_10131</th>\n",
       "      <td>Chihuahua</td>\n",
       "      <td>n02085620_10131</td>\n",
       "      <td>49.0</td>\n",
       "      <td>9.0</td>\n",
       "      <td>393.0</td>\n",
       "      <td>493.0</td>\n",
       "      <td>02085620</td>\n",
       "      <td>n02085620_10131</td>\n",
       "      <td>1</td>\n",
       "      <td>n02085620_10131-Chihuahua_cr1</td>\n",
       "      <td>344.0</td>\n",
       "      <td>484.0</td>\n",
       "    </tr>\n",
       "    <tr>\n",
       "      <th>n02085620_10621</th>\n",
       "      <td>Chihuahua</td>\n",
       "      <td>n02085620_10621</td>\n",
       "      <td>142.0</td>\n",
       "      <td>43.0</td>\n",
       "      <td>335.0</td>\n",
       "      <td>250.0</td>\n",
       "      <td>02085620</td>\n",
       "      <td>n02085620_10621</td>\n",
       "      <td>1</td>\n",
       "      <td>n02085620_10621-Chihuahua_cr1</td>\n",
       "      <td>193.0</td>\n",
       "      <td>207.0</td>\n",
       "    </tr>\n",
       "    <tr>\n",
       "      <th>n02085620_1073</th>\n",
       "      <td>Chihuahua</td>\n",
       "      <td>n02085620_1073</td>\n",
       "      <td>0.0</td>\n",
       "      <td>27.0</td>\n",
       "      <td>312.0</td>\n",
       "      <td>498.0</td>\n",
       "      <td>02085620</td>\n",
       "      <td>n02085620_1073</td>\n",
       "      <td>1</td>\n",
       "      <td>n02085620_1073-Chihuahua_cr1</td>\n",
       "      <td>312.0</td>\n",
       "      <td>471.0</td>\n",
       "    </tr>\n",
       "    <tr>\n",
       "      <th>n02085620_10976</th>\n",
       "      <td>Chihuahua</td>\n",
       "      <td>n02085620_10976</td>\n",
       "      <td>90.0</td>\n",
       "      <td>104.0</td>\n",
       "      <td>242.0</td>\n",
       "      <td>452.0</td>\n",
       "      <td>02085620</td>\n",
       "      <td>n02085620_10976</td>\n",
       "      <td>1</td>\n",
       "      <td>n02085620_10976-Chihuahua_cr1</td>\n",
       "      <td>152.0</td>\n",
       "      <td>348.0</td>\n",
       "    </tr>\n",
       "  </tbody>\n",
       "</table>\n",
       "</div>"
      ],
      "text/plain": [
       "                     breed             file   xmin   ymin   xmax   ymax  \\\n",
       "n02085620_10074  Chihuahua  n02085620_10074   25.0   10.0  276.0  498.0   \n",
       "n02085620_10131  Chihuahua  n02085620_10131   49.0    9.0  393.0  493.0   \n",
       "n02085620_10621  Chihuahua  n02085620_10621  142.0   43.0  335.0  250.0   \n",
       "n02085620_1073   Chihuahua   n02085620_1073    0.0   27.0  312.0  498.0   \n",
       "n02085620_10976  Chihuahua  n02085620_10976   90.0  104.0  242.0  452.0   \n",
       "\n",
       "                foldername         filename  dog_number  \\\n",
       "n02085620_10074   02085620  n02085620_10074           1   \n",
       "n02085620_10131   02085620  n02085620_10131           1   \n",
       "n02085620_10621   02085620  n02085620_10621           1   \n",
       "n02085620_1073    02085620   n02085620_1073           1   \n",
       "n02085620_10976   02085620  n02085620_10976           1   \n",
       "\n",
       "                                  prepfilename  xdelta  ydelta  \n",
       "n02085620_10074  n02085620_10074-Chihuahua_cr1   251.0   488.0  \n",
       "n02085620_10131  n02085620_10131-Chihuahua_cr1   344.0   484.0  \n",
       "n02085620_10621  n02085620_10621-Chihuahua_cr1   193.0   207.0  \n",
       "n02085620_1073    n02085620_1073-Chihuahua_cr1   312.0   471.0  \n",
       "n02085620_10976  n02085620_10976-Chihuahua_cr1   152.0   348.0  "
      ]
     },
     "execution_count": 2,
     "metadata": {},
     "output_type": "execute_result"
    }
   ],
   "source": [
    "dataset = pd.read_csv('Z1-picture_cropping.csv', index_col=0, dtype={'foldername':'object'})\n",
    "dataset.head()"
   ]
  },
  {
   "cell_type": "code",
   "execution_count": 102,
   "metadata": {},
   "outputs": [
    {
     "data": {
      "text/html": [
       "<div>\n",
       "<style scoped>\n",
       "    .dataframe tbody tr th:only-of-type {\n",
       "        vertical-align: middle;\n",
       "    }\n",
       "\n",
       "    .dataframe tbody tr th {\n",
       "        vertical-align: top;\n",
       "    }\n",
       "\n",
       "    .dataframe thead th {\n",
       "        text-align: right;\n",
       "    }\n",
       "</style>\n",
       "<table border=\"1\" class=\"dataframe\">\n",
       "  <thead>\n",
       "    <tr style=\"text-align: right;\">\n",
       "      <th></th>\n",
       "      <th>breed</th>\n",
       "      <th>file</th>\n",
       "      <th>xmin</th>\n",
       "      <th>ymin</th>\n",
       "      <th>xmax</th>\n",
       "      <th>ymax</th>\n",
       "      <th>foldername</th>\n",
       "      <th>filename</th>\n",
       "      <th>dog_number</th>\n",
       "      <th>prepfilename</th>\n",
       "      <th>xdelta</th>\n",
       "      <th>ydelta</th>\n",
       "      <th>breed_code</th>\n",
       "    </tr>\n",
       "  </thead>\n",
       "  <tbody>\n",
       "    <tr>\n",
       "      <th>n02085620_10074</th>\n",
       "      <td>Chihuahua</td>\n",
       "      <td>n02085620_10074</td>\n",
       "      <td>25.0</td>\n",
       "      <td>10.0</td>\n",
       "      <td>276.0</td>\n",
       "      <td>498.0</td>\n",
       "      <td>02085620</td>\n",
       "      <td>n02085620_10074</td>\n",
       "      <td>1</td>\n",
       "      <td>n02085620_10074-Chihuahua_cr1</td>\n",
       "      <td>251.0</td>\n",
       "      <td>488.0</td>\n",
       "      <td>17</td>\n",
       "    </tr>\n",
       "    <tr>\n",
       "      <th>n02085620_10131</th>\n",
       "      <td>Chihuahua</td>\n",
       "      <td>n02085620_10131</td>\n",
       "      <td>49.0</td>\n",
       "      <td>9.0</td>\n",
       "      <td>393.0</td>\n",
       "      <td>493.0</td>\n",
       "      <td>02085620</td>\n",
       "      <td>n02085620_10131</td>\n",
       "      <td>1</td>\n",
       "      <td>n02085620_10131-Chihuahua_cr1</td>\n",
       "      <td>344.0</td>\n",
       "      <td>484.0</td>\n",
       "      <td>17</td>\n",
       "    </tr>\n",
       "    <tr>\n",
       "      <th>n02085620_10621</th>\n",
       "      <td>Chihuahua</td>\n",
       "      <td>n02085620_10621</td>\n",
       "      <td>142.0</td>\n",
       "      <td>43.0</td>\n",
       "      <td>335.0</td>\n",
       "      <td>250.0</td>\n",
       "      <td>02085620</td>\n",
       "      <td>n02085620_10621</td>\n",
       "      <td>1</td>\n",
       "      <td>n02085620_10621-Chihuahua_cr1</td>\n",
       "      <td>193.0</td>\n",
       "      <td>207.0</td>\n",
       "      <td>17</td>\n",
       "    </tr>\n",
       "    <tr>\n",
       "      <th>n02085620_1073</th>\n",
       "      <td>Chihuahua</td>\n",
       "      <td>n02085620_1073</td>\n",
       "      <td>0.0</td>\n",
       "      <td>27.0</td>\n",
       "      <td>312.0</td>\n",
       "      <td>498.0</td>\n",
       "      <td>02085620</td>\n",
       "      <td>n02085620_1073</td>\n",
       "      <td>1</td>\n",
       "      <td>n02085620_1073-Chihuahua_cr1</td>\n",
       "      <td>312.0</td>\n",
       "      <td>471.0</td>\n",
       "      <td>17</td>\n",
       "    </tr>\n",
       "    <tr>\n",
       "      <th>n02085620_10976</th>\n",
       "      <td>Chihuahua</td>\n",
       "      <td>n02085620_10976</td>\n",
       "      <td>90.0</td>\n",
       "      <td>104.0</td>\n",
       "      <td>242.0</td>\n",
       "      <td>452.0</td>\n",
       "      <td>02085620</td>\n",
       "      <td>n02085620_10976</td>\n",
       "      <td>1</td>\n",
       "      <td>n02085620_10976-Chihuahua_cr1</td>\n",
       "      <td>152.0</td>\n",
       "      <td>348.0</td>\n",
       "      <td>17</td>\n",
       "    </tr>\n",
       "  </tbody>\n",
       "</table>\n",
       "</div>"
      ],
      "text/plain": [
       "                     breed             file   xmin   ymin   xmax   ymax  \\\n",
       "n02085620_10074  Chihuahua  n02085620_10074   25.0   10.0  276.0  498.0   \n",
       "n02085620_10131  Chihuahua  n02085620_10131   49.0    9.0  393.0  493.0   \n",
       "n02085620_10621  Chihuahua  n02085620_10621  142.0   43.0  335.0  250.0   \n",
       "n02085620_1073   Chihuahua   n02085620_1073    0.0   27.0  312.0  498.0   \n",
       "n02085620_10976  Chihuahua  n02085620_10976   90.0  104.0  242.0  452.0   \n",
       "\n",
       "                foldername         filename  dog_number  \\\n",
       "n02085620_10074   02085620  n02085620_10074           1   \n",
       "n02085620_10131   02085620  n02085620_10131           1   \n",
       "n02085620_10621   02085620  n02085620_10621           1   \n",
       "n02085620_1073    02085620   n02085620_1073           1   \n",
       "n02085620_10976   02085620  n02085620_10976           1   \n",
       "\n",
       "                                  prepfilename  xdelta  ydelta  breed_code  \n",
       "n02085620_10074  n02085620_10074-Chihuahua_cr1   251.0   488.0          17  \n",
       "n02085620_10131  n02085620_10131-Chihuahua_cr1   344.0   484.0          17  \n",
       "n02085620_10621  n02085620_10621-Chihuahua_cr1   193.0   207.0          17  \n",
       "n02085620_1073    n02085620_1073-Chihuahua_cr1   312.0   471.0          17  \n",
       "n02085620_10976  n02085620_10976-Chihuahua_cr1   152.0   348.0          17  "
      ]
     },
     "execution_count": 102,
     "metadata": {},
     "output_type": "execute_result"
    }
   ],
   "source": [
    "from sklearn import preprocessing\n",
    "\n",
    "le = preprocessing.LabelEncoder()\n",
    "le.fit(dataset['breed'])\n",
    "#print(le.classes_)\n",
    "dataset['breed_code'] = le.transform(dataset['breed'])\n",
    "dataset.head()"
   ]
  },
  {
   "cell_type": "code",
   "execution_count": 4,
   "metadata": {},
   "outputs": [
    {
     "data": {
      "text/plain": [
       "(3629, 13)"
      ]
     },
     "execution_count": 4,
     "metadata": {},
     "output_type": "execute_result"
    }
   ],
   "source": [
    "#dataset downsizing\n",
    "dataset = dataset[dataset['breed_code'] <=20]\n",
    "dataset.shape"
   ]
  },
  {
   "cell_type": "markdown",
   "metadata": {},
   "source": [
    "# OpenCV features"
   ]
  },
  {
   "cell_type": "code",
   "execution_count": 5,
   "metadata": {},
   "outputs": [],
   "source": [
    "import cv2"
   ]
  },
  {
   "cell_type": "markdown",
   "metadata": {},
   "source": [
    "## Swift"
   ]
  },
  {
   "cell_type": "code",
   "execution_count": 6,
   "metadata": {},
   "outputs": [
    {
     "name": "stdout",
     "output_type": "stream",
     "text": [
      "(array([[ 65.,   9.,  52., ...,   0.,   0.,   1.],\n",
      "       [  8.,   2.,   1., ...,  23.,  13.,   1.],\n",
      "       [ 92.,  23.,   0., ...,  20.,  13.,  11.],\n",
      "       ...,\n",
      "       [  0.,   0.,   0., ...,  10.,  32.,  20.],\n",
      "       [119.,   7.,   1., ...,   0.,   0.,   0.],\n",
      "       [137.,  33.,   3., ...,   0.,   0.,   0.]], dtype=float32), array([[[162,  62,  60],\n",
      "        [152,  52,  50],\n",
      "        [146,  43,  44],\n",
      "        ...,\n",
      "        [226, 158, 137],\n",
      "        [215, 144, 124],\n",
      "        [207, 132, 113]],\n",
      "\n",
      "       [[163,  65,  64],\n",
      "        [151,  51,  51],\n",
      "        [143,  40,  43],\n",
      "        ...,\n",
      "        [234, 166, 143],\n",
      "        [224, 153, 131],\n",
      "        [215, 143, 121]],\n",
      "\n",
      "       [[173,  74,  77],\n",
      "        [159,  58,  62],\n",
      "        [149,  46,  50],\n",
      "        ...,\n",
      "        [220, 153, 126],\n",
      "        [214, 144, 118],\n",
      "        [207, 135, 110]],\n",
      "\n",
      "       ...,\n",
      "\n",
      "       [[115, 109,  51],\n",
      "        [101,  95,  35],\n",
      "        [ 91,  87,  26],\n",
      "        ...,\n",
      "        [142, 167, 109],\n",
      "        [123, 143,  80],\n",
      "        [108, 123,  56]],\n",
      "\n",
      "       [[ 91,  82,  25],\n",
      "        [ 90,  84,  24],\n",
      "        [ 98,  94,  31],\n",
      "        ...,\n",
      "        [160, 185, 130],\n",
      "        [140, 160,  99],\n",
      "        [123, 137,  75]],\n",
      "\n",
      "       [[ 88,  79,  22],\n",
      "        [ 96,  87,  28],\n",
      "        [107, 102,  38],\n",
      "        ...,\n",
      "        [172, 196, 144],\n",
      "        [152, 169, 114],\n",
      "        [135, 146,  86]]], dtype=uint8))\n"
     ]
    },
    {
     "data": {
      "text/plain": [
       "<matplotlib.image.AxesImage at 0x1c1c3d6630>"
      ]
     },
     "execution_count": 6,
     "metadata": {},
     "output_type": "execute_result"
    },
    {
     "data": {
      "image/png": "[encoded data removed]",
      "text/plain": [
       "<Figure size 432x288 with 1 Axes>"
      ]
     },
     "metadata": {},
     "output_type": "display_data"
    }
   ],
   "source": [
    "def sift_features(picture):\n",
    "    imcv = img_as_ubyte(picture)\n",
    "    imcv_gr = cv2.cvtColor(imcv, cv2.COLOR_BGR2GRAY)\n",
    "    sift = cv2.xfeatures2d.SIFT_create()\n",
    "    \n",
    "    imcv_kp, imcv_desc = sift.detectAndCompute(imcv_gr, None)\n",
    "    \n",
    "    #plt.imshow(cv2.drawKeypoints(imcv, imcv_kp, imcv,flags=cv2.DRAW_MATCHES_FLAGS_DRAW_RICH_KEYPOINTS))\n",
    "    \n",
    "    return imcv_desc, cv2.drawKeypoints(imcv, imcv_kp, imcv,flags=cv2.DRAW_MATCHES_FLAGS_DRAW_RICH_KEYPOINTS)\n",
    "\n",
    "picture = imread('../Images/n02085620-Chihuahua/n02085620_10131.jpg')\n",
    "print(sift_features(picture))\n",
    "plt.imshow(picture)"
   ]
  },
  {
   "cell_type": "markdown",
   "metadata": {},
   "source": [
    "## Dominant color"
   ]
  },
  {
   "cell_type": "code",
   "execution_count": 7,
   "metadata": {},
   "outputs": [
    {
     "data": {
      "text/plain": [
       "array([[ 35.674004 ,  58.184067 ,  32.712276 ],\n",
       "       [251.75835  , 233.06233  , 226.43938  ],\n",
       "       [178.93512  , 168.6346   , 126.18691  ],\n",
       "       [109.27871  ,  20.615084 ,  13.917275 ],\n",
       "       [ 83.13699  , 103.46002  ,  70.40139  ],\n",
       "       [ 59.862686 ,  78.891106 ,  49.039318 ],\n",
       "       [128.11893  ,  47.04774  ,  32.86129  ],\n",
       "       [121.91851  , 130.636    ,  94.09295  ],\n",
       "       [231.6364   , 134.4089   , 145.86711  ],\n",
       "       [ 59.788063 ,  15.047878 ,   8.208531 ],\n",
       "       [208.49261  ,  66.50082  , 101.78181  ],\n",
       "       [242.98468  , 191.40956  , 176.50313  ],\n",
       "       [ 81.81654  ,  30.093346 ,  20.566544 ],\n",
       "       [ 18.179216 ,   6.9120107,   4.333307 ],\n",
       "       [  2.517321 ,   4.64038  ,   2.6082225],\n",
       "       [ 49.612137 ,  32.845234 ,  21.300709 ],\n",
       "       [ 16.442322 ,  32.80054  ,  16.051401 ],\n",
       "       [192.96107  , 117.79723  ,  82.96345  ],\n",
       "       [168.47447  ,  66.32093  ,  48.018852 ],\n",
       "       [ 35.451385 ,  15.526252 ,   9.112034 ]], dtype=float32)"
      ]
     },
     "execution_count": 7,
     "metadata": {},
     "output_type": "execute_result"
    }
   ],
   "source": [
    "def color_domincance(picture, n_cluster=20):\n",
    "    #Converts to openCV\n",
    "    imcv = img_as_ubyte(picture)\n",
    "        \n",
    "    #Flatten all the pixels\n",
    "    Z = imcv.reshape((-1,3))\n",
    "\n",
    "    # convert to np.float32\n",
    "    Z = np.float32(Z)\n",
    "\n",
    "    # define criteria, number of clusters(K) and apply kmeans()\n",
    "    criteria = (cv2.TERM_CRITERIA_EPS + cv2.TERM_CRITERIA_MAX_ITER, 10, 1.0)\n",
    "    K = n_cluster\n",
    "    ret, label, color_dominance = cv2.kmeans(Z,K,None,criteria,10,cv2.KMEANS_RANDOM_CENTERS)\n",
    "    return color_dominance\n",
    "\n",
    "picture = imread('../Images/n02085620-Chihuahua/n02085620_10131.jpg')\n",
    "color_domincance(picture)"
   ]
  },
  {
   "cell_type": "markdown",
   "metadata": {},
   "source": [
    "# Picture loading and treatment"
   ]
  },
  {
   "cell_type": "code",
   "execution_count": 8,
   "metadata": {},
   "outputs": [
    {
     "name": "stderr",
     "output_type": "stream",
     "text": [
      "/Users/cricket/anaconda3/lib/python3.6/site-packages/skimage/exposure/exposure.py:63: UserWarning: This might be a color image. The histogram will be computed on the flattened image. You can instead apply this function to each color channel.\n",
      "  warn(\"This might be a color image. The histogram will be \"\n",
      "/Users/cricket/anaconda3/lib/python3.6/site-packages/skimage/util/dtype.py:122: UserWarning: Possible precision loss when converting from float64 to uint8\n",
      "  .format(dtypeobj_in, dtypeobj_out))\n"
     ]
    }
   ],
   "source": [
    "from skimage.restoration import estimate_sigma, denoise_nl_means\n",
    "from skimage.filters import gaussian\n",
    "from skimage import exposure\n",
    "from skimage.util import crop\n",
    "from PIL import Image\n",
    "\n",
    "def pictureloader(picture, save_file=True):\n",
    "    \n",
    "    xmax = int(picture.xmax)\n",
    "    ymax = int(picture.ymax)\n",
    "    xmin = int(picture.xmin)\n",
    "    ymin = int(picture.ymin)\n",
    "    foldername = picture.foldername\n",
    "    breed = picture.breed\n",
    "    filename = picture.filename\n",
    "    prepfilename = picture.prepfilename\n",
    "    breed_code = picture.breed_code\n",
    "        \n",
    "    #Image opening\n",
    "    img = imread('../Images/n{}-{}/{}.jpg'.format(foldername, breed, filename))\n",
    "            \n",
    "    #Image cropping\n",
    "    area = (xmin, ymin, xmax, ymax)\n",
    "    img = Image.fromarray(img).crop(area)\n",
    "    img=np.array(img)\n",
    "            \n",
    "    #Image equalization\n",
    "    img = exposure.equalize_hist(img)\n",
    "            \n",
    "    #Gaussian blur fliter\n",
    "    img = gaussian(img, sigma=1, multichannel=True)\n",
    "    \n",
    "    \n",
    "    #Non linear mean\n",
    "    patch_kw = dict(patch_size=5,      # 5x5 patches\n",
    "                        patch_distance=6,  # 13x13 search area\n",
    "                        multichannel=True)\n",
    "    #sigma_est = np.mean(estimate_sigma(img, multichannel=True, average_sigmas=False))\n",
    "    #img = denoise_nl_means(img, h=10*sigma_est, fast_mode=True, **patch_kw)\n",
    "\n",
    "    descriptors, pic = sift_features(img)\n",
    "    colors = color_domincance(img)\n",
    "    \n",
    "    #plt.imshow(pic)\n",
    "    #plt.show()\n",
    "    \n",
    "    if save_file:\n",
    "        cv2.imwrite('../pics/{}.jpg'.format(prepfilename),pic)\n",
    "\n",
    "    \n",
    "    return descriptors, colors, breed_code\n",
    "\n",
    "descriptors, colors , breed_code = pictureloader(dataset.iloc[1])"
   ]
  },
  {
   "cell_type": "markdown",
   "metadata": {},
   "source": [
    "# Dataset creation"
   ]
  },
  {
   "cell_type": "code",
   "execution_count": 47,
   "metadata": {},
   "outputs": [
    {
     "name": "stderr",
     "output_type": "stream",
     "text": [
      "/Users/cricket/anaconda3/lib/python3.6/site-packages/skimage/exposure/exposure.py:63: UserWarning: This might be a color image. The histogram will be computed on the flattened image. You can instead apply this function to each color channel.\n",
      "  warn(\"This might be a color image. The histogram will be \"\n",
      "/Users/cricket/anaconda3/lib/python3.6/site-packages/skimage/util/dtype.py:122: UserWarning: Possible precision loss when converting from float64 to uint8\n",
      "  .format(dtypeobj_in, dtypeobj_out))\n"
     ]
    }
   ],
   "source": [
    "keypoints = []\n",
    "colors = []\n",
    "y = []\n",
    "\n",
    "for _, picture in dataset.iterrows():\n",
    "    descriptors, colorsdom, breed = pictureloader(picture, save_file=False)\n",
    "    keypoints.append(descriptors)\n",
    "    colors.append(colorsdom)\n",
    "    y.append(breed)\n",
    "\n",
    "X = np.array([keypoints, colors])\n",
    "y = np.array(y)"
   ]
  },
  {
   "cell_type": "markdown",
   "metadata": {},
   "source": [
    "# Dataset saving"
   ]
  },
  {
   "cell_type": "code",
   "execution_count": 49,
   "metadata": {},
   "outputs": [],
   "source": [
    "np.savez('Z2 - bowsift', X=X, y=y)"
   ]
  },
  {
   "cell_type": "markdown",
   "metadata": {},
   "source": [
    "# Dataset loading"
   ]
  },
  {
   "cell_type": "code",
   "execution_count": 9,
   "metadata": {},
   "outputs": [
    {
     "data": {
      "text/plain": [
       "['X', 'y']"
      ]
     },
     "execution_count": 9,
     "metadata": {},
     "output_type": "execute_result"
    }
   ],
   "source": [
    "saved = np.load('Z2 - bowsift.npz')\n",
    "saved.files"
   ]
  },
  {
   "cell_type": "code",
   "execution_count": 10,
   "metadata": {},
   "outputs": [],
   "source": [
    "X = saved['X']\n",
    "y = saved['y']"
   ]
  },
  {
   "cell_type": "code",
   "execution_count": 11,
   "metadata": {},
   "outputs": [
    {
     "data": {
      "text/html": [
       "<div>\n",
       "<style scoped>\n",
       "    .dataframe tbody tr th:only-of-type {\n",
       "        vertical-align: middle;\n",
       "    }\n",
       "\n",
       "    .dataframe tbody tr th {\n",
       "        vertical-align: top;\n",
       "    }\n",
       "\n",
       "    .dataframe thead th {\n",
       "        text-align: right;\n",
       "    }\n",
       "</style>\n",
       "<table border=\"1\" class=\"dataframe\">\n",
       "  <thead>\n",
       "    <tr style=\"text-align: right;\">\n",
       "      <th></th>\n",
       "      <th>breed</th>\n",
       "      <th>colors</th>\n",
       "      <th>kp</th>\n",
       "    </tr>\n",
       "  </thead>\n",
       "  <tbody>\n",
       "    <tr>\n",
       "      <th>0</th>\n",
       "      <td>17</td>\n",
       "      <td>[[225.183, 215.0582, 203.66414], [245.17618, 2...</td>\n",
       "      <td>[[10.0, 150.0, 73.0, 8.0, 1.0, 0.0, 0.0, 1.0, ...</td>\n",
       "    </tr>\n",
       "    <tr>\n",
       "      <th>1</th>\n",
       "      <td>17</td>\n",
       "      <td>[[220.76161, 175.43912, 151.00299], [137.83487...</td>\n",
       "      <td>[[0.0, 40.0, 59.0, 20.0, 48.0, 23.0, 4.0, 0.0,...</td>\n",
       "    </tr>\n",
       "    <tr>\n",
       "      <th>2</th>\n",
       "      <td>17</td>\n",
       "      <td>[[87.80137, 58.983776, 42.832012], [38.192036,...</td>\n",
       "      <td>[[0.0, 0.0, 0.0, 0.0, 31.0, 152.0, 6.0, 0.0, 9...</td>\n",
       "    </tr>\n",
       "    <tr>\n",
       "      <th>3</th>\n",
       "      <td>17</td>\n",
       "      <td>[[43.866714, 44.879726, 23.525673], [72.696915...</td>\n",
       "      <td>[[2.0, 1.0, 2.0, 35.0, 101.0, 51.0, 11.0, 3.0,...</td>\n",
       "    </tr>\n",
       "    <tr>\n",
       "      <th>4</th>\n",
       "      <td>17</td>\n",
       "      <td>[[253.18033, 243.05464, 220.67212], [66.120285...</td>\n",
       "      <td>[[40.0, 20.0, 6.0, 0.0, 2.0, 2.0, 5.0, 33.0, 6...</td>\n",
       "    </tr>\n",
       "  </tbody>\n",
       "</table>\n",
       "</div>"
      ],
      "text/plain": [
       "   breed                                             colors  \\\n",
       "0     17  [[225.183, 215.0582, 203.66414], [245.17618, 2...   \n",
       "1     17  [[220.76161, 175.43912, 151.00299], [137.83487...   \n",
       "2     17  [[87.80137, 58.983776, 42.832012], [38.192036,...   \n",
       "3     17  [[43.866714, 44.879726, 23.525673], [72.696915...   \n",
       "4     17  [[253.18033, 243.05464, 220.67212], [66.120285...   \n",
       "\n",
       "                                                  kp  \n",
       "0  [[10.0, 150.0, 73.0, 8.0, 1.0, 0.0, 0.0, 1.0, ...  \n",
       "1  [[0.0, 40.0, 59.0, 20.0, 48.0, 23.0, 4.0, 0.0,...  \n",
       "2  [[0.0, 0.0, 0.0, 0.0, 31.0, 152.0, 6.0, 0.0, 9...  \n",
       "3  [[2.0, 1.0, 2.0, 35.0, 101.0, 51.0, 11.0, 3.0,...  \n",
       "4  [[40.0, 20.0, 6.0, 0.0, 2.0, 2.0, 5.0, 33.0, 6...  "
      ]
     },
     "execution_count": 11,
     "metadata": {},
     "output_type": "execute_result"
    }
   ],
   "source": [
    "d = {'kp':X[0], 'colors':X[1], 'breed':y}\n",
    "df = pd.DataFrame(data=d)\n",
    "df['colors'] = df['colors'].apply(np.array)\n",
    "df['kp'] = df['kp'].apply(np.array)\n",
    "df.head()"
   ]
  },
  {
   "cell_type": "markdown",
   "metadata": {},
   "source": [
    "# Dataset downsizing"
   ]
  },
  {
   "cell_type": "code",
   "execution_count": 13,
   "metadata": {},
   "outputs": [
    {
     "data": {
      "text/plain": [
       "array([17,  8,  0, 20,  3,  6, 10,  2,  5, 18, 11, 16, 14,  9, 12, 19,  7,\n",
       "        4, 13, 15,  1])"
      ]
     },
     "execution_count": 13,
     "metadata": {},
     "output_type": "execute_result"
    }
   ],
   "source": [
    "df['breed'].unique()"
   ]
  },
  {
   "cell_type": "code",
   "execution_count": 14,
   "metadata": {},
   "outputs": [
    {
     "data": {
      "text/plain": [
       "array([0, 3, 2, 4, 1])"
      ]
     },
     "execution_count": 14,
     "metadata": {},
     "output_type": "execute_result"
    }
   ],
   "source": [
    "df = df[df['breed']<5]\n",
    "df['breed'].unique()"
   ]
  },
  {
   "cell_type": "markdown",
   "metadata": {},
   "source": [
    "# Data separation"
   ]
  },
  {
   "cell_type": "code",
   "execution_count": null,
   "metadata": {},
   "outputs": [],
   "source": []
  },
  {
   "cell_type": "code",
   "execution_count": 15,
   "metadata": {},
   "outputs": [],
   "source": [
    "from sklearn.model_selection import train_test_split\n",
    "X_train, X_test, y_train, y_test = train_test_split(df[['kp', 'colors']], df['breed'], test_size=0.33, random_state=0, stratify=df['breed'])\n"
   ]
  },
  {
   "cell_type": "code",
   "execution_count": null,
   "metadata": {},
   "outputs": [],
   "source": []
  },
  {
   "cell_type": "markdown",
   "metadata": {},
   "source": [
    "# Blocs creation"
   ]
  },
  {
   "cell_type": "code",
   "execution_count": 16,
   "metadata": {},
   "outputs": [],
   "source": [
    "from sklearn.base import BaseEstimator, TransformerMixin"
   ]
  },
  {
   "cell_type": "markdown",
   "metadata": {},
   "source": [
    "## Standardisation"
   ]
  },
  {
   "cell_type": "code",
   "execution_count": 31,
   "metadata": {},
   "outputs": [],
   "source": [
    "from sklearn.preprocessing import StandardScaler\n",
    "\n",
    "class Standselector(BaseEstimator, TransformerMixin):\n",
    "    \n",
    "    def __init__(self, column):\n",
    "        self.scaler = StandardScaler()\n",
    "        self.column = column\n",
    "    \n",
    "    def fit(self, X, y=None):\n",
    "        Xasm = np.concatenate(X[self.column].tolist())\n",
    "        self.scaler.fit(Xasm)\n",
    "        return self\n",
    "        \n",
    "    \n",
    "    def transform(self, X, y=None):\n",
    "        toreturn = []\n",
    "        for color in X[self.column]:\n",
    "            toreturn.append(self.scaler.transform(color))\n",
    "        return toreturn\n",
    "\n",
    "colorstand = Standselector('kp')\n",
    "#colorstand.fit(X_train)\n",
    "#color_std = colorstand.transform(X_train)\n",
    "#color_std"
   ]
  },
  {
   "cell_type": "markdown",
   "metadata": {},
   "source": [
    "## Kmeans"
   ]
  },
  {
   "cell_type": "code",
   "execution_count": 32,
   "metadata": {},
   "outputs": [],
   "source": [
    "from sklearn.cluster import KMeans\n",
    "import inspect\n",
    "\n",
    "class KmeansPlus(BaseEstimator, TransformerMixin):\n",
    "    \n",
    "    def __init__(self, n_clusters=50, verbose=0, random_state=0):\n",
    "        args, _, _, values = inspect.getargvalues(inspect.currentframe())\n",
    "        values.pop(\"self\")\n",
    "        \n",
    "        for arg, val in values.items():\n",
    "            setattr(self, arg, val)\n",
    "        \n",
    "    \n",
    "    def fit(self, X, y=None):\n",
    "        self.kmeans = KMeans(n_clusters=self.n_clusters,\n",
    "                             verbose=self.verbose,\n",
    "                             random_state=self.random_state)\n",
    "        Xasm = np.concatenate(X)\n",
    "        \n",
    "        idx = np.random.randint(Xasm.shape[0], size=10000)\n",
    "        Xsample = Xasm[idx,:]\n",
    "        \n",
    "        self.kmeans.fit(Xsample)\n",
    "        return self\n",
    "        \n",
    "    \n",
    "    def transform(self, X, y=None):\n",
    "        toreturn = []\n",
    "        for color in X:\n",
    "            color = self.kmeans.predict(color)\n",
    "            toappend = ' '.join(['c{}'.format(x) for x in color])\n",
    "            toreturn.append(toappend)\n",
    "        return toreturn\n",
    "\n",
    "colorkmeans = KmeansPlus()\n",
    "#colorkmeans.fit(color_std)\n",
    "#bagofcolors = colorkmeans.transform(color_std)\n",
    "#bagofcolors"
   ]
  },
  {
   "cell_type": "markdown",
   "metadata": {},
   "source": [
    "## Counvectorizer"
   ]
  },
  {
   "cell_type": "code",
   "execution_count": 33,
   "metadata": {},
   "outputs": [],
   "source": [
    "from sklearn.feature_extraction.text import CountVectorizer\n",
    "\n",
    "class CvectPlus(BaseEstimator, TransformerMixin):\n",
    "    \n",
    "    def __init__(self, **kwargs):\n",
    "        self.params = {'max_df':1.0, 'min_df':1, 'max_features':None, 'analyzer':'word', **kwargs}\n",
    "        self.cvect = CountVectorizer(**self.params)\n",
    "    \n",
    "    def fit(self, X, y=None):\n",
    "        self.cvect.fit(X)\n",
    "        return self\n",
    "        \n",
    "    \n",
    "    def transform(self, X, y=None):\n",
    "        return self.cvect.transform(X)\n",
    "    \n",
    "    def get_params(self, deep=True):\n",
    "        return self.params\n",
    "    \n",
    "    def set_params(self, **params):\n",
    "        self.params = {**self.params, **params}\n",
    "        self.kmeans.set_params(**params)\n",
    "        return self\n",
    "\n",
    "colorcvect = CvectPlus()\n",
    "#colorcvect.fit(bagofcolors)\n",
    "#colorcvect.transform(bagofcolors)"
   ]
  },
  {
   "cell_type": "markdown",
   "metadata": {},
   "source": [
    "# Pipelines creation"
   ]
  },
  {
   "cell_type": "code",
   "execution_count": 34,
   "metadata": {},
   "outputs": [],
   "source": [
    "from sklearn.pipeline import Pipeline"
   ]
  },
  {
   "cell_type": "code",
   "execution_count": 35,
   "metadata": {},
   "outputs": [],
   "source": [
    "#Color pipe\n",
    "pipecol = [('stdcol', Standselector('colors')), ('kmcol',KmeansPlus()), ('cvectcol', CvectPlus())]\n",
    "colorpipe = Pipeline(pipecol)"
   ]
  },
  {
   "cell_type": "code",
   "execution_count": 36,
   "metadata": {},
   "outputs": [],
   "source": [
    "#descriptors pipe\n",
    "pipekp = [('stdkp', Standselector('kp')), ('kmkp',KmeansPlus()), ('cvectkp', CvectPlus())]\n",
    "kppipe = Pipeline(pipekp)"
   ]
  },
  {
   "cell_type": "markdown",
   "metadata": {},
   "source": [
    "# Feature Union doesn't work with gridsearch, so..."
   ]
  },
  {
   "cell_type": "code",
   "execution_count": 37,
   "metadata": {},
   "outputs": [
    {
     "data": {
      "text/plain": [
       "FeatureunionPlus(color_n_clusters=10, kp_n_clusters=10)"
      ]
     },
     "execution_count": 37,
     "metadata": {},
     "output_type": "execute_result"
    }
   ],
   "source": [
    "from sklearn.preprocessing import StandardScaler\n",
    "from sklearn.cluster import KMeans\n",
    "\n",
    "class FeatureunionPlus(BaseEstimator, TransformerMixin):\n",
    "    \n",
    "    def __init__(self, **kwargs):\n",
    "        self.params = {'kp_n_clusters':10, 'color_n_clusters':10, **kwargs}\n",
    "        \n",
    "        self.kp_scaler = StandardScaler()\n",
    "        self.color_scaler = StandardScaler()\n",
    "        self.kp_kmeans = KMeans(n_clusters=self.params['kp_n_clusters'])\n",
    "        self.color_kmeans = KMeans(n_clusters=self.params['color_n_clusters'])\n",
    "    \n",
    "    def fit(self, X, y=None):\n",
    "        keyp = X['kp'].tolist()\n",
    "        colors = X['colors'].tolist()\n",
    "        \n",
    "        Xkpasm = np.concatenate(keyp)\n",
    "        Xcolorsasm = np.concatenate(colors)\n",
    "        \n",
    "        idx = np.random.randint(Xkpasm.shape[0], size=5000)\n",
    "        Xkpsample = Xkpasm[idx,:]\n",
    "        \n",
    "        idx = np.random.randint(Xcolorsasm.shape[0], size=5000)\n",
    "        Xcolorssample = Xcolorsasm[idx,:]\n",
    "        \n",
    "        Xcolscaled = self.color_scaler.fit_transform(Xcolorssample)\n",
    "        Xkpscaled = self.kp_scaler.fit_transform(Xkpsample)\n",
    "        \n",
    "        self.kp_kmeans.fit(Xkpscaled)\n",
    "        self.color_kmeans.fit(Xcolscaled)\n",
    "        \n",
    "        return self\n",
    "        \n",
    "    \n",
    "    def transform(self, X, y=None):\n",
    "        keyp = X['kp'].tolist()\n",
    "        colors = X['colors'].tolist()\n",
    "        \n",
    "        keylist = []\n",
    "        colorlist = []\n",
    "        \n",
    "        for keypoint in keyp:\n",
    "            scaled = self.kp_scaler.transform(keypoint)\n",
    "            label = self.kp_kmeans.predict(scaled)\n",
    "            toappend = ' '.join(['kp{}'.format(x) for x in label])\n",
    "            keylist.append(toappend)\n",
    "        \n",
    "        for color in colors:\n",
    "            scaled = self.color_scaler.transform(color)\n",
    "            label = self.color_kmeans.predict(scaled)\n",
    "            toappend = ' '.join(['cl{}'.format(x) for x in label])\n",
    "            colorlist.append(toappend)\n",
    "        \n",
    "        toreturn = []\n",
    "        for string1, string2 in zip(keylist, colorlist):\n",
    "            toreturn.append(string1 + ' ' +string2)\n",
    "        \n",
    "        return toreturn\n",
    "    \n",
    "    def get_params(self, deep=True):\n",
    "        return self.params\n",
    "    \n",
    "    def set_params(self, **params):\n",
    "        self.params = {**self.params, **params}\n",
    "        self.kp_kmeans.set_params(n_clusters=self.params['kp_n_clusters'])\n",
    "        self.color_kmeans.set_params(n_clusters=self.params['color_n_clusters'])\n",
    "        return self\n",
    "\n",
    "featureunion = FeatureunionPlus()\n",
    "#featureunion.fit(X_test)\n",
    "#featureunion.transform(X_test)"
   ]
  },
  {
   "cell_type": "markdown",
   "metadata": {},
   "source": [
    "# Feature union"
   ]
  },
  {
   "cell_type": "code",
   "execution_count": 60,
   "metadata": {},
   "outputs": [],
   "source": [
    "from sklearn.pipeline import FeatureUnion\n",
    "features = [('kp', kppipe), ('color', colorpipe)]\n",
    "featureasm = FeatureUnion(features)"
   ]
  },
  {
   "cell_type": "markdown",
   "metadata": {},
   "source": [
    "# Confusion matrix"
   ]
  },
  {
   "cell_type": "code",
   "execution_count": 109,
   "metadata": {},
   "outputs": [
    {
     "data": {
      "text/plain": [
       "array(['Afghan_hound', 'African_hunting_dog', 'Airedale',\n",
       "       'American_Staffordshire_terrier', 'Appenzeller',\n",
       "       'Australian_terrier', 'Bedlington_terrier', 'Bernese_mountain_dog',\n",
       "       'Blenheim_spaniel', 'Border_collie', 'Border_terrier',\n",
       "       'Boston_bull', 'Bouvier_des_Flandres', 'Brabancon_griffon',\n",
       "       'Brittany_spaniel', 'Cardigan', 'Chesapeake_Bay_retriever',\n",
       "       'Chihuahua', 'Dandie_Dinmont', 'Doberman', 'English_foxhound'],\n",
       "      dtype=object)"
      ]
     },
     "execution_count": 109,
     "metadata": {},
     "output_type": "execute_result"
    }
   ],
   "source": [
    "le.classes_"
   ]
  },
  {
   "cell_type": "code",
   "execution_count": 126,
   "metadata": {},
   "outputs": [
    {
     "name": "stderr",
     "output_type": "stream",
     "text": [
      "/Users/cricket/anaconda3/lib/python3.6/site-packages/sklearn/preprocessing/label.py:151: DeprecationWarning: The truth value of an empty array is ambiguous. Returning False, but in future this will result in an error. Use `array.size > 0` to check that an array is not empty.\n",
      "  if diff:\n",
      "/Users/cricket/anaconda3/lib/python3.6/site-packages/sklearn/preprocessing/label.py:151: DeprecationWarning: The truth value of an empty array is ambiguous. Returning False, but in future this will result in an error. Use `array.size > 0` to check that an array is not empty.\n",
      "  if diff:\n",
      "/Users/cricket/anaconda3/lib/python3.6/site-packages/sklearn/preprocessing/label.py:151: DeprecationWarning: The truth value of an empty array is ambiguous. Returning False, but in future this will result in an error. Use `array.size > 0` to check that an array is not empty.\n",
      "  if diff:\n",
      "/Users/cricket/anaconda3/lib/python3.6/site-packages/sklearn/preprocessing/label.py:151: DeprecationWarning: The truth value of an empty array is ambiguous. Returning False, but in future this will result in an error. Use `array.size > 0` to check that an array is not empty.\n",
      "  if diff:\n",
      "/Users/cricket/anaconda3/lib/python3.6/site-packages/sklearn/preprocessing/label.py:151: DeprecationWarning: The truth value of an empty array is ambiguous. Returning False, but in future this will result in an error. Use `array.size > 0` to check that an array is not empty.\n",
      "  if diff:\n"
     ]
    },
    {
     "data": {
      "text/plain": [
       "['Afghan_hound',\n",
       " 'African_hunting_dog',\n",
       " 'Airedale',\n",
       " 'American_Staffordshire_terrier',\n",
       " 'Appenzeller']"
      ]
     },
     "execution_count": 126,
     "metadata": {},
     "output_type": "execute_result"
    }
   ],
   "source": [
    "le.get_params(deep=True)\n",
    "[le.inverse_transform(x) for x in range(5)]"
   ]
  },
  {
   "cell_type": "code",
   "execution_count": 117,
   "metadata": {},
   "outputs": [
    {
     "name": "stderr",
     "output_type": "stream",
     "text": [
      "/Users/cricket/anaconda3/lib/python3.6/site-packages/sklearn/preprocessing/label.py:151: DeprecationWarning: The truth value of an empty array is ambiguous. Returning False, but in future this will result in an error. Use `array.size > 0` to check that an array is not empty.\n",
      "  if diff:\n",
      "/Users/cricket/anaconda3/lib/python3.6/site-packages/sklearn/preprocessing/label.py:151: DeprecationWarning: The truth value of an empty array is ambiguous. Returning False, but in future this will result in an error. Use `array.size > 0` to check that an array is not empty.\n",
      "  if diff:\n",
      "/Users/cricket/anaconda3/lib/python3.6/site-packages/sklearn/preprocessing/label.py:151: DeprecationWarning: The truth value of an empty array is ambiguous. Returning False, but in future this will result in an error. Use `array.size > 0` to check that an array is not empty.\n",
      "  if diff:\n",
      "/Users/cricket/anaconda3/lib/python3.6/site-packages/sklearn/preprocessing/label.py:151: DeprecationWarning: The truth value of an empty array is ambiguous. Returning False, but in future this will result in an error. Use `array.size > 0` to check that an array is not empty.\n",
      "  if diff:\n",
      "/Users/cricket/anaconda3/lib/python3.6/site-packages/sklearn/preprocessing/label.py:151: DeprecationWarning: The truth value of an empty array is ambiguous. Returning False, but in future this will result in an error. Use `array.size > 0` to check that an array is not empty.\n",
      "  if diff:\n"
     ]
    },
    {
     "data": {
      "image/png": "[encoded data removed]",
      "text/plain": [
       "<Figure size 432x288 with 2 Axes>"
      ]
     },
     "metadata": {},
     "output_type": "display_data"
    }
   ],
   "source": [
    "from sklearn.metrics import confusion_matrix\n",
    "import matplotlib.pyplot as plt\n",
    "import itertools\n",
    "\n",
    "def plot_confusion_matrix(clf, le=le, cmap=plt.cm.Blues, title='Confusion Matrix'):\n",
    "\n",
    "    cm = confusion_matrix(y_test, clf.predict(X_test))\n",
    "    plt.imshow(cm, interpolation='nearest', cmap=cmap)\n",
    "    plt.title(title)\n",
    "    plt.colorbar()\n",
    "    tick_marks = np.arange(cm.shape[0])\n",
    "    classes = [le.inverse_transform(x) for x in range(cm.shape[0])]\n",
    "    plt.xticks(tick_marks, classes, rotation=90)\n",
    "    plt.yticks(tick_marks, classes)\n",
    "\n",
    "    fmt = 'd'\n",
    "    thresh = cm.max() / 2.\n",
    "    for i, j in itertools.product(range(cm.shape[0]), range(cm.shape[1])):\n",
    "        plt.text(j, i, format(cm[i, j], fmt),\n",
    "                 horizontalalignment=\"center\",\n",
    "                 color=\"white\" if cm[i, j] > thresh else \"black\")\n",
    "\n",
    "    plt.tight_layout()\n",
    "    plt.ylabel('True label')\n",
    "    plt.xlabel('Predicted label')\n",
    "    plt.show()\n",
    "\n",
    "#plot_confusion_matrix(pipekpcolor)"
   ]
  },
  {
   "cell_type": "markdown",
   "metadata": {},
   "source": [
    "# Scoring method"
   ]
  },
  {
   "cell_type": "code",
   "execution_count": 39,
   "metadata": {},
   "outputs": [],
   "source": [
    "from sklearn.metrics import accuracy_score\n",
    "from sklearn.metrics import make_scorer\n",
    "\n",
    "scorer = make_scorer(accuracy_score)"
   ]
  },
  {
   "cell_type": "markdown",
   "metadata": {},
   "source": [
    "# Cross Validation"
   ]
  },
  {
   "cell_type": "code",
   "execution_count": 40,
   "metadata": {},
   "outputs": [],
   "source": [
    "from sklearn.model_selection import StratifiedKFold\n",
    "\n",
    "skf = StratifiedKFold(n_splits=3)\n"
   ]
  },
  {
   "cell_type": "markdown",
   "metadata": {},
   "source": [
    "## KP only"
   ]
  },
  {
   "cell_type": "markdown",
   "metadata": {},
   "source": [
    "## Classifier creation"
   ]
  },
  {
   "cell_type": "code",
   "execution_count": 41,
   "metadata": {},
   "outputs": [],
   "source": [
    "from sklearn.ensemble import RandomForestClassifier"
   ]
  },
  {
   "cell_type": "code",
   "execution_count": 44,
   "metadata": {},
   "outputs": [
    {
     "data": {
      "text/plain": [
       "0.369281045751634"
      ]
     },
     "execution_count": 44,
     "metadata": {},
     "output_type": "execute_result"
    }
   ],
   "source": [
    "listpipek = [('stdcol', Standselector('colors')), ('kmcol',KmeansPlus()), ('cvectcol', CvectPlus()), ('rfc',RandomForestClassifier(n_estimators=100))]\n",
    "pipekpcolor = Pipeline(listpipek)\n",
    "pipekpcolor.fit(X_train, y_train)\n",
    "\n",
    "pipekpcolor.score(X_test, y_test)"
   ]
  },
  {
   "cell_type": "code",
   "execution_count": 45,
   "metadata": {},
   "outputs": [
    {
     "data": {
      "text/plain": [
       "0.369281045751634"
      ]
     },
     "execution_count": 45,
     "metadata": {},
     "output_type": "execute_result"
    }
   ],
   "source": [
    "accuracy_score(y_test, pipekpcolor.predict(X_test))"
   ]
  },
  {
   "cell_type": "code",
   "execution_count": 118,
   "metadata": {},
   "outputs": [
    {
     "name": "stderr",
     "output_type": "stream",
     "text": [
      "/Users/cricket/anaconda3/lib/python3.6/site-packages/sklearn/preprocessing/label.py:151: DeprecationWarning: The truth value of an empty array is ambiguous. Returning False, but in future this will result in an error. Use `array.size > 0` to check that an array is not empty.\n",
      "  if diff:\n",
      "/Users/cricket/anaconda3/lib/python3.6/site-packages/sklearn/preprocessing/label.py:151: DeprecationWarning: The truth value of an empty array is ambiguous. Returning False, but in future this will result in an error. Use `array.size > 0` to check that an array is not empty.\n",
      "  if diff:\n",
      "/Users/cricket/anaconda3/lib/python3.6/site-packages/sklearn/preprocessing/label.py:151: DeprecationWarning: The truth value of an empty array is ambiguous. Returning False, but in future this will result in an error. Use `array.size > 0` to check that an array is not empty.\n",
      "  if diff:\n",
      "/Users/cricket/anaconda3/lib/python3.6/site-packages/sklearn/preprocessing/label.py:151: DeprecationWarning: The truth value of an empty array is ambiguous. Returning False, but in future this will result in an error. Use `array.size > 0` to check that an array is not empty.\n",
      "  if diff:\n",
      "/Users/cricket/anaconda3/lib/python3.6/site-packages/sklearn/preprocessing/label.py:151: DeprecationWarning: The truth value of an empty array is ambiguous. Returning False, but in future this will result in an error. Use `array.size > 0` to check that an array is not empty.\n",
      "  if diff:\n"
     ]
    },
    {
     "data": {
      "image/png": "[encoded data removed]",
      "text/plain": [
       "<Figure size 432x288 with 2 Axes>"
      ]
     },
     "metadata": {},
     "output_type": "display_data"
    }
   ],
   "source": [
    "plot_confusion_matrix(pipekpcolor)"
   ]
  },
  {
   "cell_type": "markdown",
   "metadata": {},
   "source": [
    "## Gridsearch"
   ]
  },
  {
   "cell_type": "code",
   "execution_count": 53,
   "metadata": {},
   "outputs": [
    {
     "name": "stdout",
     "output_type": "stream",
     "text": [
      "Fitting 3 folds for each of 4 candidates, totalling 12 fits\n",
      "[CV] kmcol__n_clusters=220 ...........................................\n",
      "[CV] kmcol__n_clusters=220 ...........................................\n",
      "[CV] . kmcol__n_clusters=220, score=0.33653846153846156, total=   6.9s\n",
      "[CV] kmcol__n_clusters=220 ...........................................\n",
      "[CV] .. kmcol__n_clusters=220, score=0.3671497584541063, total=   6.8s\n",
      "[CV] kmcol__n_clusters=190 ...........................................\n",
      "[CV] . kmcol__n_clusters=220, score=0.38235294117647056, total=   7.2s\n",
      "[CV] kmcol__n_clusters=190 ...........................................\n",
      "[CV] . kmcol__n_clusters=190, score=0.35096153846153844, total=   6.4s\n",
      "[CV] kmcol__n_clusters=190 ...........................................\n",
      "[CV] ... kmcol__n_clusters=190, score=0.357487922705314, total=   6.2s\n",
      "[CV] kmcol__n_clusters=200 ...........................................\n",
      "[CV] .. kmcol__n_clusters=190, score=0.3284313725490196, total=   6.2s\n",
      "[CV] kmcol__n_clusters=200 ...........................................\n",
      "[CV] . kmcol__n_clusters=200, score=0.34615384615384615, total=   7.2s\n",
      "[CV] kmcol__n_clusters=200 ...........................................\n",
      "[CV] .. kmcol__n_clusters=200, score=0.2995169082125604, total=   6.7s\n",
      "[CV] kmcol__n_clusters=210 ...........................................\n",
      "[CV] . kmcol__n_clusters=200, score=0.30392156862745096, total=   6.5s\n",
      "[CV] kmcol__n_clusters=210 ...........................................\n",
      "[CV] ............... kmcol__n_clusters=210, score=0.375, total=   6.7s\n"
     ]
    },
    {
     "name": "stderr",
     "output_type": "stream",
     "text": [
      "[Parallel(n_jobs=-2)]: Done  10 out of  12 | elapsed:   48.3s remaining:    9.7s\n"
     ]
    },
    {
     "name": "stdout",
     "output_type": "stream",
     "text": [
      "[CV] kmcol__n_clusters=210 ...........................................\n",
      "[CV] .. kmcol__n_clusters=210, score=0.3671497584541063, total=   6.2s\n",
      "[CV] . kmcol__n_clusters=210, score=0.36764705882352944, total=   6.3s\n"
     ]
    },
    {
     "name": "stderr",
     "output_type": "stream",
     "text": [
      "[Parallel(n_jobs=-2)]: Done  12 out of  12 | elapsed:   56.0s finished\n"
     ]
    },
    {
     "data": {
      "text/plain": [
       "GridSearchCV(cv=StratifiedKFold(n_splits=3, random_state=None, shuffle=False),\n",
       "       error_score='raise',\n",
       "       estimator=Pipeline(memory=None,\n",
       "     steps=[('stdcol', Standselector(column='colors')), ('kmcol', KmeansPlus(n_clusters=50, random_state=0, verbose=0)), ('cvectcol', CvectPlus(analyzer='word', max_df=1.0, max_features=None, min_df=1)), ('rfc', RandomForestClassifier(bootstrap=True, class_weight=None, criterion='gini',\n",
       "            max_d...n_jobs=1,\n",
       "            oob_score=False, random_state=None, verbose=0,\n",
       "            warm_start=False))]),\n",
       "       fit_params=None, iid=True, n_jobs=-2,\n",
       "       param_grid={'kmcol__n_clusters': [220, 190, 200, 210]},\n",
       "       pre_dispatch='2*n_jobs', refit=True, return_train_score='warn',\n",
       "       scoring=make_scorer(accuracy_score), verbose=5)"
      ]
     },
     "execution_count": 53,
     "metadata": {},
     "output_type": "execute_result"
    }
   ],
   "source": [
    "from sklearn.model_selection import GridSearchCV\n",
    "\n",
    "parameters = {'kmcol__n_clusters':[220,190,200, 210],}\n",
    "\n",
    "clfkpgs = GridSearchCV(pipekpcolor, param_grid=parameters, scoring=scorer, n_jobs=-2, cv=skf, verbose=5)\n",
    "#clfkpancolorgs\n",
    "clfkpgs.fit(X_train, y_train)\n",
    "#clfkpancolorgs.get_params().keys()"
   ]
  },
  {
   "cell_type": "code",
   "execution_count": 54,
   "metadata": {},
   "outputs": [
    {
     "data": {
      "text/plain": [
       "0.369281045751634"
      ]
     },
     "execution_count": 54,
     "metadata": {},
     "output_type": "execute_result"
    }
   ],
   "source": [
    "clfkpgs.score(X_test, y_test)"
   ]
  },
  {
   "cell_type": "code",
   "execution_count": 55,
   "metadata": {},
   "outputs": [
    {
     "data": {
      "text/plain": [
       "{'kmcol__n_clusters': 210}"
      ]
     },
     "execution_count": 55,
     "metadata": {},
     "output_type": "execute_result"
    }
   ],
   "source": [
    "clfkpgs.best_params_"
   ]
  },
  {
   "cell_type": "markdown",
   "metadata": {},
   "source": [
    "# KP and colors"
   ]
  },
  {
   "cell_type": "code",
   "execution_count": 56,
   "metadata": {},
   "outputs": [],
   "source": [
    "clflist = [('featureasm',featureasm), ('rfc',RandomForestClassifier(n_estimators=100))]\n",
    "clfpipe = Pipeline(clflist)"
   ]
  },
  {
   "cell_type": "code",
   "execution_count": 57,
   "metadata": {},
   "outputs": [
    {
     "data": {
      "text/plain": [
       "Pipeline(memory=None,\n",
       "     steps=[('featureasm', FeatureUnion(n_jobs=2,\n",
       "       transformer_list=[('kp', Pipeline(memory=None,\n",
       "     steps=[('stdkp', Standselector(column='kp')), ('kmkp', KmeansPlus(n_clusters=50, random_state=0, verbose=0)), ('cvectkp', CvectPlus(analyzer='word', max_df=1.0, max_features=None, min_df=1))])), (...n_jobs=1,\n",
       "            oob_score=False, random_state=None, verbose=0,\n",
       "            warm_start=False))])"
      ]
     },
     "execution_count": 57,
     "metadata": {},
     "output_type": "execute_result"
    }
   ],
   "source": [
    "clfpipe.fit(X_train, y_train)"
   ]
  },
  {
   "cell_type": "code",
   "execution_count": 58,
   "metadata": {},
   "outputs": [
    {
     "data": {
      "text/plain": [
       "0.48366013071895425"
      ]
     },
     "execution_count": 58,
     "metadata": {},
     "output_type": "execute_result"
    }
   ],
   "source": [
    "clfpipe.score(X_test, y_test)"
   ]
  },
  {
   "cell_type": "markdown",
   "metadata": {},
   "source": [
    "## Key point optimization"
   ]
  },
  {
   "cell_type": "code",
   "execution_count": 61,
   "metadata": {
    "scrolled": true
   },
   "outputs": [
    {
     "name": "stdout",
     "output_type": "stream",
     "text": [
      "Fitting 3 folds for each of 9 candidates, totalling 27 fits\n",
      "[CV] featureasm__color__kmcol__n_clusters=6, featureasm__kp__kmkp__n_clusters=225 \n",
      "[CV] featureasm__color__kmcol__n_clusters=6, featureasm__kp__kmkp__n_clusters=225 \n",
      "[CV] featureasm__color__kmcol__n_clusters=6, featureasm__kp__kmkp__n_clusters=225 \n",
      "[CV]  featureasm__color__kmcol__n_clusters=6, featureasm__kp__kmkp__n_clusters=225, score=0.4326923076923077, total=  33.3s\n",
      "[CV]  featureasm__color__kmcol__n_clusters=6, featureasm__kp__kmkp__n_clusters=225, score=0.3526570048309179, total=  32.0s\n",
      "[CV] featureasm__color__kmcol__n_clusters=6, featureasm__kp__kmkp__n_clusters=175 \n",
      "[CV] featureasm__color__kmcol__n_clusters=6, featureasm__kp__kmkp__n_clusters=175 \n",
      "[CV]  featureasm__color__kmcol__n_clusters=6, featureasm__kp__kmkp__n_clusters=225, score=0.4068627450980392, total=  30.8s\n",
      "[CV] featureasm__color__kmcol__n_clusters=6, featureasm__kp__kmkp__n_clusters=175 \n",
      "[CV]  featureasm__color__kmcol__n_clusters=6, featureasm__kp__kmkp__n_clusters=175, score=0.44711538461538464, total=  32.9s\n",
      "[CV] featureasm__color__kmcol__n_clusters=6, featureasm__kp__kmkp__n_clusters=200 \n",
      "[CV]  featureasm__color__kmcol__n_clusters=6, featureasm__kp__kmkp__n_clusters=175, score=0.391304347826087, total=  32.1s\n",
      "[CV] featureasm__color__kmcol__n_clusters=6, featureasm__kp__kmkp__n_clusters=200 \n",
      "[CV]  featureasm__color__kmcol__n_clusters=6, featureasm__kp__kmkp__n_clusters=175, score=0.4215686274509804, total=  33.4s\n",
      "[CV] featureasm__color__kmcol__n_clusters=6, featureasm__kp__kmkp__n_clusters=200 \n",
      "[CV]  featureasm__color__kmcol__n_clusters=6, featureasm__kp__kmkp__n_clusters=200, score=0.40384615384615385, total=  38.5s\n",
      "[CV] featureasm__color__kmcol__n_clusters=10, featureasm__kp__kmkp__n_clusters=225 \n",
      "[CV]  featureasm__color__kmcol__n_clusters=6, featureasm__kp__kmkp__n_clusters=200, score=0.4444444444444444, total=  45.3s\n",
      "[CV] featureasm__color__kmcol__n_clusters=10, featureasm__kp__kmkp__n_clusters=225 \n",
      "[CV]  featureasm__color__kmcol__n_clusters=6, featureasm__kp__kmkp__n_clusters=200, score=0.4411764705882353, total= 1.3min\n",
      "[CV] featureasm__color__kmcol__n_clusters=10, featureasm__kp__kmkp__n_clusters=225 \n",
      "[CV]  featureasm__color__kmcol__n_clusters=10, featureasm__kp__kmkp__n_clusters=225, score=0.3798076923076923, total= 1.6min\n",
      "[CV] featureasm__color__kmcol__n_clusters=10, featureasm__kp__kmkp__n_clusters=175 \n",
      "[CV]  featureasm__color__kmcol__n_clusters=10, featureasm__kp__kmkp__n_clusters=225, score=0.4057971014492754, total= 1.5min\n",
      "[CV] featureasm__color__kmcol__n_clusters=10, featureasm__kp__kmkp__n_clusters=175 \n",
      "[CV]  featureasm__color__kmcol__n_clusters=10, featureasm__kp__kmkp__n_clusters=225, score=0.4117647058823529, total= 1.3min\n"
     ]
    },
    {
     "name": "stderr",
     "output_type": "stream",
     "text": [
      "[Parallel(n_jobs=-2)]: Done  12 tasks      | elapsed:  4.6min\n"
     ]
    },
    {
     "name": "stdout",
     "output_type": "stream",
     "text": [
      "[CV] featureasm__color__kmcol__n_clusters=10, featureasm__kp__kmkp__n_clusters=175 \n",
      "[CV]  featureasm__color__kmcol__n_clusters=10, featureasm__kp__kmkp__n_clusters=175, score=0.42788461538461536, total=  58.6s\n",
      "[CV] featureasm__color__kmcol__n_clusters=10, featureasm__kp__kmkp__n_clusters=200 \n",
      "[CV]  featureasm__color__kmcol__n_clusters=10, featureasm__kp__kmkp__n_clusters=175, score=0.3961352657004831, total=  37.5s\n",
      "[CV] featureasm__color__kmcol__n_clusters=10, featureasm__kp__kmkp__n_clusters=200 \n",
      "[CV]  featureasm__color__kmcol__n_clusters=10, featureasm__kp__kmkp__n_clusters=175, score=0.4215686274509804, total=  52.3s\n",
      "[CV] featureasm__color__kmcol__n_clusters=10, featureasm__kp__kmkp__n_clusters=200 \n",
      "[CV]  featureasm__color__kmcol__n_clusters=10, featureasm__kp__kmkp__n_clusters=200, score=0.47115384615384615, total= 1.3min\n",
      "[CV] featureasm__color__kmcol__n_clusters=15, featureasm__kp__kmkp__n_clusters=225 \n",
      "[CV]  featureasm__color__kmcol__n_clusters=10, featureasm__kp__kmkp__n_clusters=200, score=0.37681159420289856, total= 1.3min\n",
      "[CV] featureasm__color__kmcol__n_clusters=15, featureasm__kp__kmkp__n_clusters=225 \n",
      "[CV]  featureasm__color__kmcol__n_clusters=10, featureasm__kp__kmkp__n_clusters=200, score=0.4019607843137255, total= 3.8min\n",
      "[CV] featureasm__color__kmcol__n_clusters=15, featureasm__kp__kmkp__n_clusters=225 \n",
      "[CV]  featureasm__color__kmcol__n_clusters=15, featureasm__kp__kmkp__n_clusters=225, score=0.44711538461538464, total= 4.9min\n",
      "[CV] featureasm__color__kmcol__n_clusters=15, featureasm__kp__kmkp__n_clusters=175 \n",
      "[CV]  featureasm__color__kmcol__n_clusters=15, featureasm__kp__kmkp__n_clusters=225, score=0.38164251207729466, total= 4.7min\n",
      "[CV] featureasm__color__kmcol__n_clusters=15, featureasm__kp__kmkp__n_clusters=175 \n",
      "[CV]  featureasm__color__kmcol__n_clusters=15, featureasm__kp__kmkp__n_clusters=225, score=0.4019607843137255, total= 2.3min\n",
      "[CV] featureasm__color__kmcol__n_clusters=15, featureasm__kp__kmkp__n_clusters=175 \n",
      "[CV]  featureasm__color__kmcol__n_clusters=15, featureasm__kp__kmkp__n_clusters=175, score=0.4182692307692308, total=  46.2s\n",
      "[CV] featureasm__color__kmcol__n_clusters=15, featureasm__kp__kmkp__n_clusters=200 \n",
      "[CV]  featureasm__color__kmcol__n_clusters=15, featureasm__kp__kmkp__n_clusters=175, score=0.41545893719806765, total= 6.5min\n",
      "[CV] featureasm__color__kmcol__n_clusters=15, featureasm__kp__kmkp__n_clusters=200 \n",
      "[CV]  featureasm__color__kmcol__n_clusters=15, featureasm__kp__kmkp__n_clusters=175, score=0.4166666666666667, total= 5.0min\n",
      "[CV] featureasm__color__kmcol__n_clusters=15, featureasm__kp__kmkp__n_clusters=200 \n",
      "[CV]  featureasm__color__kmcol__n_clusters=15, featureasm__kp__kmkp__n_clusters=200, score=0.41346153846153844, total= 5.8min\n",
      "[CV]  featureasm__color__kmcol__n_clusters=15, featureasm__kp__kmkp__n_clusters=200, score=0.4106280193236715, total= 1.9min\n",
      "[CV]  featureasm__color__kmcol__n_clusters=15, featureasm__kp__kmkp__n_clusters=200, score=0.4019607843137255, total= 1.1min\n"
     ]
    },
    {
     "name": "stderr",
     "output_type": "stream",
     "text": [
      "[Parallel(n_jobs=-2)]: Done  27 out of  27 | elapsed: 21.5min finished\n"
     ]
    },
    {
     "data": {
      "text/plain": [
       "GridSearchCV(cv=StratifiedKFold(n_splits=3, random_state=None, shuffle=False),\n",
       "       error_score='raise',\n",
       "       estimator=Pipeline(memory=None,\n",
       "     steps=[('featureasm', FeatureUnion(n_jobs=1,\n",
       "       transformer_list=[('kp', Pipeline(memory=None,\n",
       "     steps=[('stdkp', Standselector(column='kp')), ('kmkp', KmeansPlus(n_clusters=50, random_state=0, verbose=0)), ('cvectkp', CvectPlus(analyzer='word', max_df=1.0, max_features=None, min_df=1))])), (...n_jobs=1,\n",
       "            oob_score=False, random_state=None, verbose=0,\n",
       "            warm_start=False))]),\n",
       "       fit_params=None, iid=True, n_jobs=-2,\n",
       "       param_grid={'featureasm__kp__kmkp__n_clusters': [225, 175, 200], 'featureasm__color__kmcol__n_clusters': [6, 10, 15]},\n",
       "       pre_dispatch='2*n_jobs', refit=True, return_train_score='warn',\n",
       "       scoring=make_scorer(accuracy_score), verbose=5)"
      ]
     },
     "execution_count": 61,
     "metadata": {},
     "output_type": "execute_result"
    }
   ],
   "source": [
    "clflist = [('featureasm',featureasm), ('rfc',RandomForestClassifier(n_estimators=1000, max_depth=100))]\n",
    "clfpipe = Pipeline(clflist)\n",
    "\n",
    "parameters = {'featureasm__kp__kmkp__n_clusters':[225, 175, 200],\n",
    "              'featureasm__color__kmcol__n_clusters':[6,10,15]}\n",
    "\n",
    "clfkpcolorsgs = GridSearchCV(clfpipe, param_grid=parameters, n_jobs=-2, scoring=scorer, cv=skf, verbose=5)\n",
    "\n",
    "clfkpcolorsgs.fit(X_train, y_train)\n",
    "#clfkpcolorsgs.best_params_"
   ]
  },
  {
   "cell_type": "code",
   "execution_count": 62,
   "metadata": {},
   "outputs": [
    {
     "data": {
      "text/plain": [
       "0.4215686274509804"
      ]
     },
     "execution_count": 62,
     "metadata": {},
     "output_type": "execute_result"
    }
   ],
   "source": [
    "clfkpcolorsgs.score(X_test, y_test)"
   ]
  },
  {
   "cell_type": "code",
   "execution_count": 63,
   "metadata": {},
   "outputs": [
    {
     "data": {
      "text/plain": [
       "{'featureasm__color__kmcol__n_clusters': 6,\n",
       " 'featureasm__kp__kmkp__n_clusters': 200}"
      ]
     },
     "execution_count": 63,
     "metadata": {},
     "output_type": "execute_result"
    }
   ],
   "source": [
    "clfkpcolorsgs.best_params_"
   ]
  },
  {
   "cell_type": "code",
   "execution_count": 119,
   "metadata": {},
   "outputs": [
    {
     "name": "stderr",
     "output_type": "stream",
     "text": [
      "/Users/cricket/anaconda3/lib/python3.6/site-packages/sklearn/preprocessing/label.py:151: DeprecationWarning: The truth value of an empty array is ambiguous. Returning False, but in future this will result in an error. Use `array.size > 0` to check that an array is not empty.\n",
      "  if diff:\n",
      "/Users/cricket/anaconda3/lib/python3.6/site-packages/sklearn/preprocessing/label.py:151: DeprecationWarning: The truth value of an empty array is ambiguous. Returning False, but in future this will result in an error. Use `array.size > 0` to check that an array is not empty.\n",
      "  if diff:\n",
      "/Users/cricket/anaconda3/lib/python3.6/site-packages/sklearn/preprocessing/label.py:151: DeprecationWarning: The truth value of an empty array is ambiguous. Returning False, but in future this will result in an error. Use `array.size > 0` to check that an array is not empty.\n",
      "  if diff:\n",
      "/Users/cricket/anaconda3/lib/python3.6/site-packages/sklearn/preprocessing/label.py:151: DeprecationWarning: The truth value of an empty array is ambiguous. Returning False, but in future this will result in an error. Use `array.size > 0` to check that an array is not empty.\n",
      "  if diff:\n",
      "/Users/cricket/anaconda3/lib/python3.6/site-packages/sklearn/preprocessing/label.py:151: DeprecationWarning: The truth value of an empty array is ambiguous. Returning False, but in future this will result in an error. Use `array.size > 0` to check that an array is not empty.\n",
      "  if diff:\n"
     ]
    },
    {
     "data": {
      "image/png": "[encoded data removed]",
      "text/plain": [
       "<Figure size 432x288 with 2 Axes>"
      ]
     },
     "metadata": {},
     "output_type": "display_data"
    }
   ],
   "source": [
    "plot_confusion_matrix(clfkpcolorsgs)"
   ]
  },
  {
   "cell_type": "markdown",
   "metadata": {},
   "source": [
    "# Knearest neighbour"
   ]
  },
  {
   "cell_type": "code",
   "execution_count": 84,
   "metadata": {},
   "outputs": [],
   "source": [
    "from sklearn.neighbors import KNeighborsClassifier\n",
    "knnlist = [('featureasm',featureasm), ('knn',KNeighborsClassifier())]\n",
    "knnpipe = Pipeline(knnlist)"
   ]
  },
  {
   "cell_type": "code",
   "execution_count": 90,
   "metadata": {},
   "outputs": [
    {
     "name": "stdout",
     "output_type": "stream",
     "text": [
      "Fitting 3 folds for each of 27 candidates, totalling 81 fits\n",
      "[CV] featureasm__color__kmcol__n_clusters=12, featureasm__kp__kmkp__n_clusters=200, knn__n_neighbors=4 \n",
      "[CV]  featureasm__color__kmcol__n_clusters=12, featureasm__kp__kmkp__n_clusters=200, knn__n_neighbors=4, score=0.3557692307692308, total=  19.4s\n",
      "[CV] featureasm__color__kmcol__n_clusters=12, featureasm__kp__kmkp__n_clusters=200, knn__n_neighbors=4 \n"
     ]
    },
    {
     "name": "stderr",
     "output_type": "stream",
     "text": [
      "[Parallel(n_jobs=1)]: Done   1 out of   1 | elapsed:   21.0s remaining:    0.0s\n"
     ]
    },
    {
     "name": "stdout",
     "output_type": "stream",
     "text": [
      "[CV]  featureasm__color__kmcol__n_clusters=12, featureasm__kp__kmkp__n_clusters=200, knn__n_neighbors=4, score=0.357487922705314, total=  18.7s\n",
      "[CV] featureasm__color__kmcol__n_clusters=12, featureasm__kp__kmkp__n_clusters=200, knn__n_neighbors=4 \n"
     ]
    },
    {
     "name": "stderr",
     "output_type": "stream",
     "text": [
      "[Parallel(n_jobs=1)]: Done   2 out of   2 | elapsed:   41.3s remaining:    0.0s\n"
     ]
    },
    {
     "name": "stdout",
     "output_type": "stream",
     "text": [
      "[CV]  featureasm__color__kmcol__n_clusters=12, featureasm__kp__kmkp__n_clusters=200, knn__n_neighbors=4, score=0.36764705882352944, total=  18.3s\n",
      "[CV] featureasm__color__kmcol__n_clusters=12, featureasm__kp__kmkp__n_clusters=200, knn__n_neighbors=5 \n"
     ]
    },
    {
     "name": "stderr",
     "output_type": "stream",
     "text": [
      "[Parallel(n_jobs=1)]: Done   3 out of   3 | elapsed:  1.0min remaining:    0.0s\n"
     ]
    },
    {
     "name": "stdout",
     "output_type": "stream",
     "text": [
      "[CV]  featureasm__color__kmcol__n_clusters=12, featureasm__kp__kmkp__n_clusters=200, knn__n_neighbors=5, score=0.3317307692307692, total=  19.6s\n",
      "[CV] featureasm__color__kmcol__n_clusters=12, featureasm__kp__kmkp__n_clusters=200, knn__n_neighbors=5 \n"
     ]
    },
    {
     "name": "stderr",
     "output_type": "stream",
     "text": [
      "[Parallel(n_jobs=1)]: Done   4 out of   4 | elapsed:  1.4min remaining:    0.0s\n"
     ]
    },
    {
     "name": "stdout",
     "output_type": "stream",
     "text": [
      "[CV]  featureasm__color__kmcol__n_clusters=12, featureasm__kp__kmkp__n_clusters=200, knn__n_neighbors=5, score=0.28019323671497587, total=  18.9s\n",
      "[CV] featureasm__color__kmcol__n_clusters=12, featureasm__kp__kmkp__n_clusters=200, knn__n_neighbors=5 \n",
      "[CV]  featureasm__color__kmcol__n_clusters=12, featureasm__kp__kmkp__n_clusters=200, knn__n_neighbors=5, score=0.4117647058823529, total=  19.4s\n",
      "[CV] featureasm__color__kmcol__n_clusters=12, featureasm__kp__kmkp__n_clusters=200, knn__n_neighbors=6 \n",
      "[CV]  featureasm__color__kmcol__n_clusters=12, featureasm__kp__kmkp__n_clusters=200, knn__n_neighbors=6, score=0.4230769230769231, total=  19.0s\n",
      "[CV] featureasm__color__kmcol__n_clusters=12, featureasm__kp__kmkp__n_clusters=200, knn__n_neighbors=6 \n",
      "[CV]  featureasm__color__kmcol__n_clusters=12, featureasm__kp__kmkp__n_clusters=200, knn__n_neighbors=6, score=0.32367149758454106, total=  19.1s\n",
      "[CV] featureasm__color__kmcol__n_clusters=12, featureasm__kp__kmkp__n_clusters=200, knn__n_neighbors=6 \n",
      "[CV]  featureasm__color__kmcol__n_clusters=12, featureasm__kp__kmkp__n_clusters=200, knn__n_neighbors=6, score=0.3480392156862745, total=  18.6s\n",
      "[CV] featureasm__color__kmcol__n_clusters=12, featureasm__kp__kmkp__n_clusters=175, knn__n_neighbors=4 \n",
      "[CV]  featureasm__color__kmcol__n_clusters=12, featureasm__kp__kmkp__n_clusters=175, knn__n_neighbors=4, score=0.3701923076923077, total=  17.9s\n",
      "[CV] featureasm__color__kmcol__n_clusters=12, featureasm__kp__kmkp__n_clusters=175, knn__n_neighbors=4 \n",
      "[CV]  featureasm__color__kmcol__n_clusters=12, featureasm__kp__kmkp__n_clusters=175, knn__n_neighbors=4, score=0.36231884057971014, total=  17.7s\n",
      "[CV] featureasm__color__kmcol__n_clusters=12, featureasm__kp__kmkp__n_clusters=175, knn__n_neighbors=4 \n",
      "[CV]  featureasm__color__kmcol__n_clusters=12, featureasm__kp__kmkp__n_clusters=175, knn__n_neighbors=4, score=0.35294117647058826, total=  17.9s\n",
      "[CV] featureasm__color__kmcol__n_clusters=12, featureasm__kp__kmkp__n_clusters=175, knn__n_neighbors=5 \n",
      "[CV]  featureasm__color__kmcol__n_clusters=12, featureasm__kp__kmkp__n_clusters=175, knn__n_neighbors=5, score=0.3317307692307692, total=  18.3s\n",
      "[CV] featureasm__color__kmcol__n_clusters=12, featureasm__kp__kmkp__n_clusters=175, knn__n_neighbors=5 \n",
      "[CV]  featureasm__color__kmcol__n_clusters=12, featureasm__kp__kmkp__n_clusters=175, knn__n_neighbors=5, score=0.3188405797101449, total=  17.3s\n",
      "[CV] featureasm__color__kmcol__n_clusters=12, featureasm__kp__kmkp__n_clusters=175, knn__n_neighbors=5 \n",
      "[CV]  featureasm__color__kmcol__n_clusters=12, featureasm__kp__kmkp__n_clusters=175, knn__n_neighbors=5, score=0.35294117647058826, total=  18.3s\n",
      "[CV] featureasm__color__kmcol__n_clusters=12, featureasm__kp__kmkp__n_clusters=175, knn__n_neighbors=6 \n",
      "[CV]  featureasm__color__kmcol__n_clusters=12, featureasm__kp__kmkp__n_clusters=175, knn__n_neighbors=6, score=0.3798076923076923, total=  18.2s\n",
      "[CV] featureasm__color__kmcol__n_clusters=12, featureasm__kp__kmkp__n_clusters=175, knn__n_neighbors=6 \n",
      "[CV]  featureasm__color__kmcol__n_clusters=12, featureasm__kp__kmkp__n_clusters=175, knn__n_neighbors=6, score=0.33816425120772947, total=  18.2s\n",
      "[CV] featureasm__color__kmcol__n_clusters=12, featureasm__kp__kmkp__n_clusters=175, knn__n_neighbors=6 \n",
      "[CV]  featureasm__color__kmcol__n_clusters=12, featureasm__kp__kmkp__n_clusters=175, knn__n_neighbors=6, score=0.4166666666666667, total=  17.8s\n",
      "[CV] featureasm__color__kmcol__n_clusters=12, featureasm__kp__kmkp__n_clusters=150, knn__n_neighbors=4 \n",
      "[CV]  featureasm__color__kmcol__n_clusters=12, featureasm__kp__kmkp__n_clusters=150, knn__n_neighbors=4, score=0.35096153846153844, total=  17.1s\n",
      "[CV] featureasm__color__kmcol__n_clusters=12, featureasm__kp__kmkp__n_clusters=150, knn__n_neighbors=4 \n",
      "[CV]  featureasm__color__kmcol__n_clusters=12, featureasm__kp__kmkp__n_clusters=150, knn__n_neighbors=4, score=0.3285024154589372, total=  16.5s\n",
      "[CV] featureasm__color__kmcol__n_clusters=12, featureasm__kp__kmkp__n_clusters=150, knn__n_neighbors=4 \n",
      "[CV]  featureasm__color__kmcol__n_clusters=12, featureasm__kp__kmkp__n_clusters=150, knn__n_neighbors=4, score=0.3627450980392157, total=  16.8s\n",
      "[CV] featureasm__color__kmcol__n_clusters=12, featureasm__kp__kmkp__n_clusters=150, knn__n_neighbors=5 \n",
      "[CV]  featureasm__color__kmcol__n_clusters=12, featureasm__kp__kmkp__n_clusters=150, knn__n_neighbors=5, score=0.3942307692307692, total=  16.7s\n",
      "[CV] featureasm__color__kmcol__n_clusters=12, featureasm__kp__kmkp__n_clusters=150, knn__n_neighbors=5 \n",
      "[CV]  featureasm__color__kmcol__n_clusters=12, featureasm__kp__kmkp__n_clusters=150, knn__n_neighbors=5, score=0.34782608695652173, total=  16.7s\n",
      "[CV] featureasm__color__kmcol__n_clusters=12, featureasm__kp__kmkp__n_clusters=150, knn__n_neighbors=5 \n",
      "[CV]  featureasm__color__kmcol__n_clusters=12, featureasm__kp__kmkp__n_clusters=150, knn__n_neighbors=5, score=0.38235294117647056, total=  17.0s\n",
      "[CV] featureasm__color__kmcol__n_clusters=12, featureasm__kp__kmkp__n_clusters=150, knn__n_neighbors=6 \n",
      "[CV]  featureasm__color__kmcol__n_clusters=12, featureasm__kp__kmkp__n_clusters=150, knn__n_neighbors=6, score=0.39903846153846156, total=  16.9s\n",
      "[CV] featureasm__color__kmcol__n_clusters=12, featureasm__kp__kmkp__n_clusters=150, knn__n_neighbors=6 \n",
      "[CV]  featureasm__color__kmcol__n_clusters=12, featureasm__kp__kmkp__n_clusters=150, knn__n_neighbors=6, score=0.357487922705314, total=  17.0s\n",
      "[CV] featureasm__color__kmcol__n_clusters=12, featureasm__kp__kmkp__n_clusters=150, knn__n_neighbors=6 \n",
      "[CV]  featureasm__color__kmcol__n_clusters=12, featureasm__kp__kmkp__n_clusters=150, knn__n_neighbors=6, score=0.37745098039215685, total=  16.8s\n",
      "[CV] featureasm__color__kmcol__n_clusters=14, featureasm__kp__kmkp__n_clusters=200, knn__n_neighbors=4 \n",
      "[CV]  featureasm__color__kmcol__n_clusters=14, featureasm__kp__kmkp__n_clusters=200, knn__n_neighbors=4, score=0.3605769230769231, total=  19.1s\n",
      "[CV] featureasm__color__kmcol__n_clusters=14, featureasm__kp__kmkp__n_clusters=200, knn__n_neighbors=4 \n",
      "[CV]  featureasm__color__kmcol__n_clusters=14, featureasm__kp__kmkp__n_clusters=200, knn__n_neighbors=4, score=0.3671497584541063, total=  20.0s\n",
      "[CV] featureasm__color__kmcol__n_clusters=14, featureasm__kp__kmkp__n_clusters=200, knn__n_neighbors=4 \n",
      "[CV]  featureasm__color__kmcol__n_clusters=14, featureasm__kp__kmkp__n_clusters=200, knn__n_neighbors=4, score=0.35784313725490197, total=  19.1s\n",
      "[CV] featureasm__color__kmcol__n_clusters=14, featureasm__kp__kmkp__n_clusters=200, knn__n_neighbors=5 \n",
      "[CV]  featureasm__color__kmcol__n_clusters=14, featureasm__kp__kmkp__n_clusters=200, knn__n_neighbors=5, score=0.3701923076923077, total=  19.3s\n",
      "[CV] featureasm__color__kmcol__n_clusters=14, featureasm__kp__kmkp__n_clusters=200, knn__n_neighbors=5 \n",
      "[CV]  featureasm__color__kmcol__n_clusters=14, featureasm__kp__kmkp__n_clusters=200, knn__n_neighbors=5, score=0.3188405797101449, total=  19.5s\n",
      "[CV] featureasm__color__kmcol__n_clusters=14, featureasm__kp__kmkp__n_clusters=200, knn__n_neighbors=5 \n",
      "[CV]  featureasm__color__kmcol__n_clusters=14, featureasm__kp__kmkp__n_clusters=200, knn__n_neighbors=5, score=0.3872549019607843, total=  19.1s\n",
      "[CV] featureasm__color__kmcol__n_clusters=14, featureasm__kp__kmkp__n_clusters=200, knn__n_neighbors=6 \n",
      "[CV]  featureasm__color__kmcol__n_clusters=14, featureasm__kp__kmkp__n_clusters=200, knn__n_neighbors=6, score=0.35096153846153844, total=  18.9s\n",
      "[CV] featureasm__color__kmcol__n_clusters=14, featureasm__kp__kmkp__n_clusters=200, knn__n_neighbors=6 \n",
      "[CV]  featureasm__color__kmcol__n_clusters=14, featureasm__kp__kmkp__n_clusters=200, knn__n_neighbors=6, score=0.2946859903381642, total=  19.9s\n",
      "[CV] featureasm__color__kmcol__n_clusters=14, featureasm__kp__kmkp__n_clusters=200, knn__n_neighbors=6 \n",
      "[CV]  featureasm__color__kmcol__n_clusters=14, featureasm__kp__kmkp__n_clusters=200, knn__n_neighbors=6, score=0.4117647058823529, total=  19.3s\n",
      "[CV] featureasm__color__kmcol__n_clusters=14, featureasm__kp__kmkp__n_clusters=175, knn__n_neighbors=4 \n",
      "[CV]  featureasm__color__kmcol__n_clusters=14, featureasm__kp__kmkp__n_clusters=175, knn__n_neighbors=4, score=0.375, total=  18.1s\n",
      "[CV] featureasm__color__kmcol__n_clusters=14, featureasm__kp__kmkp__n_clusters=175, knn__n_neighbors=4 \n"
     ]
    },
    {
     "name": "stdout",
     "output_type": "stream",
     "text": [
      "[CV]  featureasm__color__kmcol__n_clusters=14, featureasm__kp__kmkp__n_clusters=175, knn__n_neighbors=4, score=0.3864734299516908, total=  17.9s\n",
      "[CV] featureasm__color__kmcol__n_clusters=14, featureasm__kp__kmkp__n_clusters=175, knn__n_neighbors=4 \n",
      "[CV]  featureasm__color__kmcol__n_clusters=14, featureasm__kp__kmkp__n_clusters=175, knn__n_neighbors=4, score=0.4362745098039216, total=  18.0s\n",
      "[CV] featureasm__color__kmcol__n_clusters=14, featureasm__kp__kmkp__n_clusters=175, knn__n_neighbors=5 \n",
      "[CV]  featureasm__color__kmcol__n_clusters=14, featureasm__kp__kmkp__n_clusters=175, knn__n_neighbors=5, score=0.35096153846153844, total=  17.4s\n",
      "[CV] featureasm__color__kmcol__n_clusters=14, featureasm__kp__kmkp__n_clusters=175, knn__n_neighbors=5 \n",
      "[CV]  featureasm__color__kmcol__n_clusters=14, featureasm__kp__kmkp__n_clusters=175, knn__n_neighbors=5, score=0.33816425120772947, total=  18.0s\n",
      "[CV] featureasm__color__kmcol__n_clusters=14, featureasm__kp__kmkp__n_clusters=175, knn__n_neighbors=5 \n",
      "[CV]  featureasm__color__kmcol__n_clusters=14, featureasm__kp__kmkp__n_clusters=175, knn__n_neighbors=5, score=0.4411764705882353, total=  17.9s\n",
      "[CV] featureasm__color__kmcol__n_clusters=14, featureasm__kp__kmkp__n_clusters=175, knn__n_neighbors=6 \n",
      "[CV]  featureasm__color__kmcol__n_clusters=14, featureasm__kp__kmkp__n_clusters=175, knn__n_neighbors=6, score=0.3701923076923077, total=  17.9s\n",
      "[CV] featureasm__color__kmcol__n_clusters=14, featureasm__kp__kmkp__n_clusters=175, knn__n_neighbors=6 \n",
      "[CV]  featureasm__color__kmcol__n_clusters=14, featureasm__kp__kmkp__n_clusters=175, knn__n_neighbors=6, score=0.34299516908212563, total=  17.7s\n",
      "[CV] featureasm__color__kmcol__n_clusters=14, featureasm__kp__kmkp__n_clusters=175, knn__n_neighbors=6 \n",
      "[CV]  featureasm__color__kmcol__n_clusters=14, featureasm__kp__kmkp__n_clusters=175, knn__n_neighbors=6, score=0.3627450980392157, total=  18.2s\n",
      "[CV] featureasm__color__kmcol__n_clusters=14, featureasm__kp__kmkp__n_clusters=150, knn__n_neighbors=4 \n",
      "[CV]  featureasm__color__kmcol__n_clusters=14, featureasm__kp__kmkp__n_clusters=150, knn__n_neighbors=4, score=0.3317307692307692, total=  16.9s\n",
      "[CV] featureasm__color__kmcol__n_clusters=14, featureasm__kp__kmkp__n_clusters=150, knn__n_neighbors=4 \n",
      "[CV]  featureasm__color__kmcol__n_clusters=14, featureasm__kp__kmkp__n_clusters=150, knn__n_neighbors=4, score=0.36231884057971014, total=  16.7s\n",
      "[CV] featureasm__color__kmcol__n_clusters=14, featureasm__kp__kmkp__n_clusters=150, knn__n_neighbors=4 \n",
      "[CV]  featureasm__color__kmcol__n_clusters=14, featureasm__kp__kmkp__n_clusters=150, knn__n_neighbors=4, score=0.3284313725490196, total=  16.1s\n",
      "[CV] featureasm__color__kmcol__n_clusters=14, featureasm__kp__kmkp__n_clusters=150, knn__n_neighbors=5 \n",
      "[CV]  featureasm__color__kmcol__n_clusters=14, featureasm__kp__kmkp__n_clusters=150, knn__n_neighbors=5, score=0.3317307692307692, total=  16.4s\n",
      "[CV] featureasm__color__kmcol__n_clusters=14, featureasm__kp__kmkp__n_clusters=150, knn__n_neighbors=5 \n",
      "[CV]  featureasm__color__kmcol__n_clusters=14, featureasm__kp__kmkp__n_clusters=150, knn__n_neighbors=5, score=0.32367149758454106, total=  16.1s\n",
      "[CV] featureasm__color__kmcol__n_clusters=14, featureasm__kp__kmkp__n_clusters=150, knn__n_neighbors=5 \n",
      "[CV]  featureasm__color__kmcol__n_clusters=14, featureasm__kp__kmkp__n_clusters=150, knn__n_neighbors=5, score=0.3382352941176471, total=  17.3s\n",
      "[CV] featureasm__color__kmcol__n_clusters=14, featureasm__kp__kmkp__n_clusters=150, knn__n_neighbors=6 \n",
      "[CV]  featureasm__color__kmcol__n_clusters=14, featureasm__kp__kmkp__n_clusters=150, knn__n_neighbors=6, score=0.34615384615384615, total=  17.3s\n",
      "[CV] featureasm__color__kmcol__n_clusters=14, featureasm__kp__kmkp__n_clusters=150, knn__n_neighbors=6 \n",
      "[CV]  featureasm__color__kmcol__n_clusters=14, featureasm__kp__kmkp__n_clusters=150, knn__n_neighbors=6, score=0.34782608695652173, total=  16.1s\n",
      "[CV] featureasm__color__kmcol__n_clusters=14, featureasm__kp__kmkp__n_clusters=150, knn__n_neighbors=6 \n",
      "[CV]  featureasm__color__kmcol__n_clusters=14, featureasm__kp__kmkp__n_clusters=150, knn__n_neighbors=6, score=0.4264705882352941, total=  16.9s\n",
      "[CV] featureasm__color__kmcol__n_clusters=16, featureasm__kp__kmkp__n_clusters=200, knn__n_neighbors=4 \n",
      "[CV]  featureasm__color__kmcol__n_clusters=16, featureasm__kp__kmkp__n_clusters=200, knn__n_neighbors=4, score=0.3125, total=  19.4s\n",
      "[CV] featureasm__color__kmcol__n_clusters=16, featureasm__kp__kmkp__n_clusters=200, knn__n_neighbors=4 \n",
      "[CV]  featureasm__color__kmcol__n_clusters=16, featureasm__kp__kmkp__n_clusters=200, knn__n_neighbors=4, score=0.36231884057971014, total=  19.2s\n",
      "[CV] featureasm__color__kmcol__n_clusters=16, featureasm__kp__kmkp__n_clusters=200, knn__n_neighbors=4 \n",
      "[CV]  featureasm__color__kmcol__n_clusters=16, featureasm__kp__kmkp__n_clusters=200, knn__n_neighbors=4, score=0.4019607843137255, total=  19.1s\n",
      "[CV] featureasm__color__kmcol__n_clusters=16, featureasm__kp__kmkp__n_clusters=200, knn__n_neighbors=5 \n",
      "[CV]  featureasm__color__kmcol__n_clusters=16, featureasm__kp__kmkp__n_clusters=200, knn__n_neighbors=5, score=0.36538461538461536, total=  19.7s\n",
      "[CV] featureasm__color__kmcol__n_clusters=16, featureasm__kp__kmkp__n_clusters=200, knn__n_neighbors=5 \n",
      "[CV]  featureasm__color__kmcol__n_clusters=16, featureasm__kp__kmkp__n_clusters=200, knn__n_neighbors=5, score=0.34782608695652173, total=  18.6s\n",
      "[CV] featureasm__color__kmcol__n_clusters=16, featureasm__kp__kmkp__n_clusters=200, knn__n_neighbors=5 \n",
      "[CV]  featureasm__color__kmcol__n_clusters=16, featureasm__kp__kmkp__n_clusters=200, knn__n_neighbors=5, score=0.3431372549019608, total=  18.8s\n",
      "[CV] featureasm__color__kmcol__n_clusters=16, featureasm__kp__kmkp__n_clusters=200, knn__n_neighbors=6 \n",
      "[CV]  featureasm__color__kmcol__n_clusters=16, featureasm__kp__kmkp__n_clusters=200, knn__n_neighbors=6, score=0.33653846153846156, total=  18.8s\n",
      "[CV] featureasm__color__kmcol__n_clusters=16, featureasm__kp__kmkp__n_clusters=200, knn__n_neighbors=6 \n",
      "[CV]  featureasm__color__kmcol__n_clusters=16, featureasm__kp__kmkp__n_clusters=200, knn__n_neighbors=6, score=0.3140096618357488, total=  19.0s\n",
      "[CV] featureasm__color__kmcol__n_clusters=16, featureasm__kp__kmkp__n_clusters=200, knn__n_neighbors=6 \n",
      "[CV]  featureasm__color__kmcol__n_clusters=16, featureasm__kp__kmkp__n_clusters=200, knn__n_neighbors=6, score=0.4215686274509804, total=  19.5s\n",
      "[CV] featureasm__color__kmcol__n_clusters=16, featureasm__kp__kmkp__n_clusters=175, knn__n_neighbors=4 \n",
      "[CV]  featureasm__color__kmcol__n_clusters=16, featureasm__kp__kmkp__n_clusters=175, knn__n_neighbors=4, score=0.3317307692307692, total=  17.8s\n",
      "[CV] featureasm__color__kmcol__n_clusters=16, featureasm__kp__kmkp__n_clusters=175, knn__n_neighbors=4 \n",
      "[CV]  featureasm__color__kmcol__n_clusters=16, featureasm__kp__kmkp__n_clusters=175, knn__n_neighbors=4, score=0.3864734299516908, total=  18.5s\n",
      "[CV] featureasm__color__kmcol__n_clusters=16, featureasm__kp__kmkp__n_clusters=175, knn__n_neighbors=4 \n",
      "[CV]  featureasm__color__kmcol__n_clusters=16, featureasm__kp__kmkp__n_clusters=175, knn__n_neighbors=4, score=0.4215686274509804, total=  18.1s\n",
      "[CV] featureasm__color__kmcol__n_clusters=16, featureasm__kp__kmkp__n_clusters=175, knn__n_neighbors=5 \n",
      "[CV]  featureasm__color__kmcol__n_clusters=16, featureasm__kp__kmkp__n_clusters=175, knn__n_neighbors=5, score=0.3798076923076923, total=  17.6s\n",
      "[CV] featureasm__color__kmcol__n_clusters=16, featureasm__kp__kmkp__n_clusters=175, knn__n_neighbors=5 \n",
      "[CV]  featureasm__color__kmcol__n_clusters=16, featureasm__kp__kmkp__n_clusters=175, knn__n_neighbors=5, score=0.33816425120772947, total=  18.0s\n",
      "[CV] featureasm__color__kmcol__n_clusters=16, featureasm__kp__kmkp__n_clusters=175, knn__n_neighbors=5 \n",
      "[CV]  featureasm__color__kmcol__n_clusters=16, featureasm__kp__kmkp__n_clusters=175, knn__n_neighbors=5, score=0.36764705882352944, total=  17.8s\n",
      "[CV] featureasm__color__kmcol__n_clusters=16, featureasm__kp__kmkp__n_clusters=175, knn__n_neighbors=6 \n",
      "[CV]  featureasm__color__kmcol__n_clusters=16, featureasm__kp__kmkp__n_clusters=175, knn__n_neighbors=6, score=0.3701923076923077, total=  17.9s\n",
      "[CV] featureasm__color__kmcol__n_clusters=16, featureasm__kp__kmkp__n_clusters=175, knn__n_neighbors=6 \n"
     ]
    },
    {
     "name": "stdout",
     "output_type": "stream",
     "text": [
      "[CV]  featureasm__color__kmcol__n_clusters=16, featureasm__kp__kmkp__n_clusters=175, knn__n_neighbors=6, score=0.3285024154589372, total=  17.6s\n",
      "[CV] featureasm__color__kmcol__n_clusters=16, featureasm__kp__kmkp__n_clusters=175, knn__n_neighbors=6 \n",
      "[CV]  featureasm__color__kmcol__n_clusters=16, featureasm__kp__kmkp__n_clusters=175, knn__n_neighbors=6, score=0.39215686274509803, total=  18.6s\n",
      "[CV] featureasm__color__kmcol__n_clusters=16, featureasm__kp__kmkp__n_clusters=150, knn__n_neighbors=4 \n",
      "[CV]  featureasm__color__kmcol__n_clusters=16, featureasm__kp__kmkp__n_clusters=150, knn__n_neighbors=4, score=0.38461538461538464, total=  17.1s\n",
      "[CV] featureasm__color__kmcol__n_clusters=16, featureasm__kp__kmkp__n_clusters=150, knn__n_neighbors=4 \n",
      "[CV]  featureasm__color__kmcol__n_clusters=16, featureasm__kp__kmkp__n_clusters=150, knn__n_neighbors=4, score=0.3285024154589372, total=  16.9s\n",
      "[CV] featureasm__color__kmcol__n_clusters=16, featureasm__kp__kmkp__n_clusters=150, knn__n_neighbors=4 \n",
      "[CV]  featureasm__color__kmcol__n_clusters=16, featureasm__kp__kmkp__n_clusters=150, knn__n_neighbors=4, score=0.3872549019607843, total=  16.5s\n",
      "[CV] featureasm__color__kmcol__n_clusters=16, featureasm__kp__kmkp__n_clusters=150, knn__n_neighbors=5 \n",
      "[CV]  featureasm__color__kmcol__n_clusters=16, featureasm__kp__kmkp__n_clusters=150, knn__n_neighbors=5, score=0.375, total=  16.4s\n",
      "[CV] featureasm__color__kmcol__n_clusters=16, featureasm__kp__kmkp__n_clusters=150, knn__n_neighbors=5 \n",
      "[CV]  featureasm__color__kmcol__n_clusters=16, featureasm__kp__kmkp__n_clusters=150, knn__n_neighbors=5, score=0.32367149758454106, total=  16.7s\n",
      "[CV] featureasm__color__kmcol__n_clusters=16, featureasm__kp__kmkp__n_clusters=150, knn__n_neighbors=5 \n",
      "[CV]  featureasm__color__kmcol__n_clusters=16, featureasm__kp__kmkp__n_clusters=150, knn__n_neighbors=5, score=0.4019607843137255, total=  16.8s\n",
      "[CV] featureasm__color__kmcol__n_clusters=16, featureasm__kp__kmkp__n_clusters=150, knn__n_neighbors=6 \n",
      "[CV]  featureasm__color__kmcol__n_clusters=16, featureasm__kp__kmkp__n_clusters=150, knn__n_neighbors=6, score=0.3701923076923077, total=  17.6s\n",
      "[CV] featureasm__color__kmcol__n_clusters=16, featureasm__kp__kmkp__n_clusters=150, knn__n_neighbors=6 \n",
      "[CV]  featureasm__color__kmcol__n_clusters=16, featureasm__kp__kmkp__n_clusters=150, knn__n_neighbors=6, score=0.3333333333333333, total=  17.4s\n",
      "[CV] featureasm__color__kmcol__n_clusters=16, featureasm__kp__kmkp__n_clusters=150, knn__n_neighbors=6 \n",
      "[CV]  featureasm__color__kmcol__n_clusters=16, featureasm__kp__kmkp__n_clusters=150, knn__n_neighbors=6, score=0.39705882352941174, total=  17.5s\n"
     ]
    },
    {
     "name": "stderr",
     "output_type": "stream",
     "text": [
      "[Parallel(n_jobs=1)]: Done  81 out of  81 | elapsed: 26.5min finished\n"
     ]
    },
    {
     "data": {
      "text/plain": [
       "{'featureasm__color__kmcol__n_clusters': 14,\n",
       " 'featureasm__kp__kmkp__n_clusters': 175,\n",
       " 'knn__n_neighbors': 4}"
      ]
     },
     "execution_count": 90,
     "metadata": {},
     "output_type": "execute_result"
    }
   ],
   "source": [
    "parameters = {'featureasm__kp__kmkp__n_clusters':[200, 175, 150],\n",
    "              'featureasm__color__kmcol__n_clusters':[12,14, 16],\n",
    "              'knn__n_neighbors':[4, 5, 6]}\n",
    "\n",
    "knnkpcolorsgs = GridSearchCV(knnpipe, param_grid=parameters, scoring=scorer, n_jobs=1, cv=skf, verbose=5)\n",
    "\n",
    "knnkpcolorsgs.fit(X_train, y_train)\n",
    "knnkpcolorsgs.best_params_"
   ]
  },
  {
   "cell_type": "code",
   "execution_count": 91,
   "metadata": {},
   "outputs": [
    {
     "data": {
      "text/plain": [
       "0.3627450980392157"
      ]
     },
     "execution_count": 91,
     "metadata": {},
     "output_type": "execute_result"
    }
   ],
   "source": [
    "knnkpcolorsgs.score(X_test, y_test)"
   ]
  },
  {
   "cell_type": "code",
   "execution_count": 92,
   "metadata": {},
   "outputs": [
    {
     "data": {
      "text/plain": [
       "{'featureasm__color__kmcol__n_clusters': 14,\n",
       " 'featureasm__kp__kmkp__n_clusters': 175,\n",
       " 'knn__n_neighbors': 4}"
      ]
     },
     "execution_count": 92,
     "metadata": {},
     "output_type": "execute_result"
    }
   ],
   "source": [
    "knnkpcolorsgs.best_params_"
   ]
  },
  {
   "cell_type": "code",
   "execution_count": 120,
   "metadata": {},
   "outputs": [
    {
     "name": "stderr",
     "output_type": "stream",
     "text": [
      "/Users/cricket/anaconda3/lib/python3.6/site-packages/sklearn/preprocessing/label.py:151: DeprecationWarning: The truth value of an empty array is ambiguous. Returning False, but in future this will result in an error. Use `array.size > 0` to check that an array is not empty.\n",
      "  if diff:\n",
      "/Users/cricket/anaconda3/lib/python3.6/site-packages/sklearn/preprocessing/label.py:151: DeprecationWarning: The truth value of an empty array is ambiguous. Returning False, but in future this will result in an error. Use `array.size > 0` to check that an array is not empty.\n",
      "  if diff:\n",
      "/Users/cricket/anaconda3/lib/python3.6/site-packages/sklearn/preprocessing/label.py:151: DeprecationWarning: The truth value of an empty array is ambiguous. Returning False, but in future this will result in an error. Use `array.size > 0` to check that an array is not empty.\n",
      "  if diff:\n",
      "/Users/cricket/anaconda3/lib/python3.6/site-packages/sklearn/preprocessing/label.py:151: DeprecationWarning: The truth value of an empty array is ambiguous. Returning False, but in future this will result in an error. Use `array.size > 0` to check that an array is not empty.\n",
      "  if diff:\n",
      "/Users/cricket/anaconda3/lib/python3.6/site-packages/sklearn/preprocessing/label.py:151: DeprecationWarning: The truth value of an empty array is ambiguous. Returning False, but in future this will result in an error. Use `array.size > 0` to check that an array is not empty.\n",
      "  if diff:\n"
     ]
    },
    {
     "data": {
      "image/png": "[encoded data removed]",
      "text/plain": [
       "<Figure size 432x288 with 2 Axes>"
      ]
     },
     "metadata": {},
     "output_type": "display_data"
    }
   ],
   "source": [
    "plot_confusion_matrix(knnkpcolorsgs)"
   ]
  },
  {
   "cell_type": "markdown",
   "metadata": {},
   "source": [
    "# Linear SVC"
   ]
  },
  {
   "cell_type": "code",
   "execution_count": 80,
   "metadata": {},
   "outputs": [],
   "source": [
    "from sklearn.svm import LinearSVC\n",
    "svclist = [('featureasm',featureasm), ('svc',LinearSVC(random_state=0, multi_class='crammer_singer'))]\n",
    "svcpipe = Pipeline(svclist)"
   ]
  },
  {
   "cell_type": "code",
   "execution_count": 81,
   "metadata": {},
   "outputs": [
    {
     "name": "stdout",
     "output_type": "stream",
     "text": [
      "Fitting 3 folds for each of 54 candidates, totalling 162 fits\n",
      "[CV] featureasm__color__kmcol__n_clusters=6, featureasm__kp__kmkp__n_clusters=225, svc__C=0.001 \n",
      "[CV]  featureasm__color__kmcol__n_clusters=6, featureasm__kp__kmkp__n_clusters=225, svc__C=0.001, score=0.4519230769230769, total=  21.3s\n",
      "[CV] featureasm__color__kmcol__n_clusters=6, featureasm__kp__kmkp__n_clusters=225, svc__C=0.001 \n"
     ]
    },
    {
     "name": "stderr",
     "output_type": "stream",
     "text": [
      "[Parallel(n_jobs=1)]: Done   1 out of   1 | elapsed:   23.0s remaining:    0.0s\n"
     ]
    },
    {
     "name": "stdout",
     "output_type": "stream",
     "text": [
      "[CV]  featureasm__color__kmcol__n_clusters=6, featureasm__kp__kmkp__n_clusters=225, svc__C=0.001, score=0.34299516908212563, total=  20.1s\n",
      "[CV] featureasm__color__kmcol__n_clusters=6, featureasm__kp__kmkp__n_clusters=225, svc__C=0.001 \n"
     ]
    },
    {
     "name": "stderr",
     "output_type": "stream",
     "text": [
      "[Parallel(n_jobs=1)]: Done   2 out of   2 | elapsed:   44.8s remaining:    0.0s\n"
     ]
    },
    {
     "name": "stdout",
     "output_type": "stream",
     "text": [
      "[CV]  featureasm__color__kmcol__n_clusters=6, featureasm__kp__kmkp__n_clusters=225, svc__C=0.001, score=0.4166666666666667, total=  20.5s\n",
      "[CV] featureasm__color__kmcol__n_clusters=6, featureasm__kp__kmkp__n_clusters=225, svc__C=0.015848931924611134 \n"
     ]
    },
    {
     "name": "stderr",
     "output_type": "stream",
     "text": [
      "[Parallel(n_jobs=1)]: Done   3 out of   3 | elapsed:  1.1min remaining:    0.0s\n"
     ]
    },
    {
     "name": "stdout",
     "output_type": "stream",
     "text": [
      "[CV]  featureasm__color__kmcol__n_clusters=6, featureasm__kp__kmkp__n_clusters=225, svc__C=0.015848931924611134, score=0.40865384615384615, total=  21.2s\n",
      "[CV] featureasm__color__kmcol__n_clusters=6, featureasm__kp__kmkp__n_clusters=225, svc__C=0.015848931924611134 \n"
     ]
    },
    {
     "name": "stderr",
     "output_type": "stream",
     "text": [
      "[Parallel(n_jobs=1)]: Done   4 out of   4 | elapsed:  1.5min remaining:    0.0s\n"
     ]
    },
    {
     "name": "stdout",
     "output_type": "stream",
     "text": [
      "[CV]  featureasm__color__kmcol__n_clusters=6, featureasm__kp__kmkp__n_clusters=225, svc__C=0.015848931924611134, score=0.36231884057971014, total=  20.9s\n",
      "[CV] featureasm__color__kmcol__n_clusters=6, featureasm__kp__kmkp__n_clusters=225, svc__C=0.015848931924611134 \n",
      "[CV]  featureasm__color__kmcol__n_clusters=6, featureasm__kp__kmkp__n_clusters=225, svc__C=0.015848931924611134, score=0.4068627450980392, total=  21.4s\n",
      "[CV] featureasm__color__kmcol__n_clusters=6, featureasm__kp__kmkp__n_clusters=225, svc__C=0.25118864315095796 \n",
      "[CV]  featureasm__color__kmcol__n_clusters=6, featureasm__kp__kmkp__n_clusters=225, svc__C=0.25118864315095796, score=0.3701923076923077, total=  20.2s\n",
      "[CV] featureasm__color__kmcol__n_clusters=6, featureasm__kp__kmkp__n_clusters=225, svc__C=0.25118864315095796 \n",
      "[CV]  featureasm__color__kmcol__n_clusters=6, featureasm__kp__kmkp__n_clusters=225, svc__C=0.25118864315095796, score=0.3671497584541063, total=  20.7s\n",
      "[CV] featureasm__color__kmcol__n_clusters=6, featureasm__kp__kmkp__n_clusters=225, svc__C=0.25118864315095796 \n",
      "[CV]  featureasm__color__kmcol__n_clusters=6, featureasm__kp__kmkp__n_clusters=225, svc__C=0.25118864315095796, score=0.37745098039215685, total=  21.1s\n",
      "[CV] featureasm__color__kmcol__n_clusters=6, featureasm__kp__kmkp__n_clusters=225, svc__C=3.981071705534969 \n",
      "[CV]  featureasm__color__kmcol__n_clusters=6, featureasm__kp__kmkp__n_clusters=225, svc__C=3.981071705534969, score=0.40384615384615385, total=  21.1s\n",
      "[CV] featureasm__color__kmcol__n_clusters=6, featureasm__kp__kmkp__n_clusters=225, svc__C=3.981071705534969 \n",
      "[CV]  featureasm__color__kmcol__n_clusters=6, featureasm__kp__kmkp__n_clusters=225, svc__C=3.981071705534969, score=0.3526570048309179, total=  20.2s\n",
      "[CV] featureasm__color__kmcol__n_clusters=6, featureasm__kp__kmkp__n_clusters=225, svc__C=3.981071705534969 \n",
      "[CV]  featureasm__color__kmcol__n_clusters=6, featureasm__kp__kmkp__n_clusters=225, svc__C=3.981071705534969, score=0.3431372549019608, total=  21.8s\n",
      "[CV] featureasm__color__kmcol__n_clusters=6, featureasm__kp__kmkp__n_clusters=225, svc__C=63.0957344480193 \n",
      "[CV]  featureasm__color__kmcol__n_clusters=6, featureasm__kp__kmkp__n_clusters=225, svc__C=63.0957344480193, score=0.3605769230769231, total=  20.3s\n",
      "[CV] featureasm__color__kmcol__n_clusters=6, featureasm__kp__kmkp__n_clusters=225, svc__C=63.0957344480193 \n",
      "[CV]  featureasm__color__kmcol__n_clusters=6, featureasm__kp__kmkp__n_clusters=225, svc__C=63.0957344480193, score=0.3333333333333333, total=  21.0s\n",
      "[CV] featureasm__color__kmcol__n_clusters=6, featureasm__kp__kmkp__n_clusters=225, svc__C=63.0957344480193 \n",
      "[CV]  featureasm__color__kmcol__n_clusters=6, featureasm__kp__kmkp__n_clusters=225, svc__C=63.0957344480193, score=0.35294117647058826, total=  20.7s\n",
      "[CV] featureasm__color__kmcol__n_clusters=6, featureasm__kp__kmkp__n_clusters=225, svc__C=1000.0 \n",
      "[CV]  featureasm__color__kmcol__n_clusters=6, featureasm__kp__kmkp__n_clusters=225, svc__C=1000.0, score=0.3317307692307692, total=  21.3s\n",
      "[CV] featureasm__color__kmcol__n_clusters=6, featureasm__kp__kmkp__n_clusters=225, svc__C=1000.0 \n",
      "[CV]  featureasm__color__kmcol__n_clusters=6, featureasm__kp__kmkp__n_clusters=225, svc__C=1000.0, score=0.37681159420289856, total=  20.6s\n",
      "[CV] featureasm__color__kmcol__n_clusters=6, featureasm__kp__kmkp__n_clusters=225, svc__C=1000.0 \n",
      "[CV]  featureasm__color__kmcol__n_clusters=6, featureasm__kp__kmkp__n_clusters=225, svc__C=1000.0, score=0.3872549019607843, total=  20.6s\n",
      "[CV] featureasm__color__kmcol__n_clusters=6, featureasm__kp__kmkp__n_clusters=175, svc__C=0.001 \n",
      "[CV]  featureasm__color__kmcol__n_clusters=6, featureasm__kp__kmkp__n_clusters=175, svc__C=0.001, score=0.40865384615384615, total=  17.8s\n",
      "[CV] featureasm__color__kmcol__n_clusters=6, featureasm__kp__kmkp__n_clusters=175, svc__C=0.001 \n",
      "[CV]  featureasm__color__kmcol__n_clusters=6, featureasm__kp__kmkp__n_clusters=175, svc__C=0.001, score=0.37681159420289856, total=  18.0s\n",
      "[CV] featureasm__color__kmcol__n_clusters=6, featureasm__kp__kmkp__n_clusters=175, svc__C=0.001 \n",
      "[CV]  featureasm__color__kmcol__n_clusters=6, featureasm__kp__kmkp__n_clusters=175, svc__C=0.001, score=0.3872549019607843, total=  18.3s\n",
      "[CV] featureasm__color__kmcol__n_clusters=6, featureasm__kp__kmkp__n_clusters=175, svc__C=0.015848931924611134 \n",
      "[CV]  featureasm__color__kmcol__n_clusters=6, featureasm__kp__kmkp__n_clusters=175, svc__C=0.015848931924611134, score=0.3942307692307692, total=  19.0s\n",
      "[CV] featureasm__color__kmcol__n_clusters=6, featureasm__kp__kmkp__n_clusters=175, svc__C=0.015848931924611134 \n",
      "[CV]  featureasm__color__kmcol__n_clusters=6, featureasm__kp__kmkp__n_clusters=175, svc__C=0.015848931924611134, score=0.32367149758454106, total=  18.0s\n",
      "[CV] featureasm__color__kmcol__n_clusters=6, featureasm__kp__kmkp__n_clusters=175, svc__C=0.015848931924611134 \n",
      "[CV]  featureasm__color__kmcol__n_clusters=6, featureasm__kp__kmkp__n_clusters=175, svc__C=0.015848931924611134, score=0.35784313725490197, total=  18.9s\n",
      "[CV] featureasm__color__kmcol__n_clusters=6, featureasm__kp__kmkp__n_clusters=175, svc__C=0.25118864315095796 \n",
      "[CV]  featureasm__color__kmcol__n_clusters=6, featureasm__kp__kmkp__n_clusters=175, svc__C=0.25118864315095796, score=0.38461538461538464, total=  19.2s\n",
      "[CV] featureasm__color__kmcol__n_clusters=6, featureasm__kp__kmkp__n_clusters=175, svc__C=0.25118864315095796 \n",
      "[CV]  featureasm__color__kmcol__n_clusters=6, featureasm__kp__kmkp__n_clusters=175, svc__C=0.25118864315095796, score=0.3285024154589372, total=  18.7s\n",
      "[CV] featureasm__color__kmcol__n_clusters=6, featureasm__kp__kmkp__n_clusters=175, svc__C=0.25118864315095796 \n",
      "[CV]  featureasm__color__kmcol__n_clusters=6, featureasm__kp__kmkp__n_clusters=175, svc__C=0.25118864315095796, score=0.35784313725490197, total=  19.3s\n",
      "[CV] featureasm__color__kmcol__n_clusters=6, featureasm__kp__kmkp__n_clusters=175, svc__C=3.981071705534969 \n",
      "[CV]  featureasm__color__kmcol__n_clusters=6, featureasm__kp__kmkp__n_clusters=175, svc__C=3.981071705534969, score=0.3605769230769231, total=  19.6s\n",
      "[CV] featureasm__color__kmcol__n_clusters=6, featureasm__kp__kmkp__n_clusters=175, svc__C=3.981071705534969 \n",
      "[CV]  featureasm__color__kmcol__n_clusters=6, featureasm__kp__kmkp__n_clusters=175, svc__C=3.981071705534969, score=0.32367149758454106, total=  18.7s\n",
      "[CV] featureasm__color__kmcol__n_clusters=6, featureasm__kp__kmkp__n_clusters=175, svc__C=3.981071705534969 \n",
      "[CV]  featureasm__color__kmcol__n_clusters=6, featureasm__kp__kmkp__n_clusters=175, svc__C=3.981071705534969, score=0.4264705882352941, total=  18.9s\n",
      "[CV] featureasm__color__kmcol__n_clusters=6, featureasm__kp__kmkp__n_clusters=175, svc__C=63.0957344480193 \n",
      "[CV]  featureasm__color__kmcol__n_clusters=6, featureasm__kp__kmkp__n_clusters=175, svc__C=63.0957344480193, score=0.375, total=  18.8s\n",
      "[CV] featureasm__color__kmcol__n_clusters=6, featureasm__kp__kmkp__n_clusters=175, svc__C=63.0957344480193 \n",
      "[CV]  featureasm__color__kmcol__n_clusters=6, featureasm__kp__kmkp__n_clusters=175, svc__C=63.0957344480193, score=0.3864734299516908, total=  18.2s\n",
      "[CV] featureasm__color__kmcol__n_clusters=6, featureasm__kp__kmkp__n_clusters=175, svc__C=63.0957344480193 \n",
      "[CV]  featureasm__color__kmcol__n_clusters=6, featureasm__kp__kmkp__n_clusters=175, svc__C=63.0957344480193, score=0.3382352941176471, total=  18.5s\n",
      "[CV] featureasm__color__kmcol__n_clusters=6, featureasm__kp__kmkp__n_clusters=175, svc__C=1000.0 \n",
      "[CV]  featureasm__color__kmcol__n_clusters=6, featureasm__kp__kmkp__n_clusters=175, svc__C=1000.0, score=0.33653846153846156, total=  19.5s\n",
      "[CV] featureasm__color__kmcol__n_clusters=6, featureasm__kp__kmkp__n_clusters=175, svc__C=1000.0 \n",
      "[CV]  featureasm__color__kmcol__n_clusters=6, featureasm__kp__kmkp__n_clusters=175, svc__C=1000.0, score=0.3285024154589372, total=  18.3s\n",
      "[CV] featureasm__color__kmcol__n_clusters=6, featureasm__kp__kmkp__n_clusters=175, svc__C=1000.0 \n",
      "[CV]  featureasm__color__kmcol__n_clusters=6, featureasm__kp__kmkp__n_clusters=175, svc__C=1000.0, score=0.3137254901960784, total=  18.9s\n",
      "[CV] featureasm__color__kmcol__n_clusters=6, featureasm__kp__kmkp__n_clusters=200, svc__C=0.001 \n",
      "[CV]  featureasm__color__kmcol__n_clusters=6, featureasm__kp__kmkp__n_clusters=200, svc__C=0.001, score=0.4326923076923077, total=  19.0s\n",
      "[CV] featureasm__color__kmcol__n_clusters=6, featureasm__kp__kmkp__n_clusters=200, svc__C=0.001 \n"
     ]
    },
    {
     "name": "stdout",
     "output_type": "stream",
     "text": [
      "[CV]  featureasm__color__kmcol__n_clusters=6, featureasm__kp__kmkp__n_clusters=200, svc__C=0.001, score=0.41545893719806765, total=  19.1s\n",
      "[CV] featureasm__color__kmcol__n_clusters=6, featureasm__kp__kmkp__n_clusters=200, svc__C=0.001 \n",
      "[CV]  featureasm__color__kmcol__n_clusters=6, featureasm__kp__kmkp__n_clusters=200, svc__C=0.001, score=0.4362745098039216, total=  19.1s\n",
      "[CV] featureasm__color__kmcol__n_clusters=6, featureasm__kp__kmkp__n_clusters=200, svc__C=0.015848931924611134 \n",
      "[CV]  featureasm__color__kmcol__n_clusters=6, featureasm__kp__kmkp__n_clusters=200, svc__C=0.015848931924611134, score=0.375, total=  19.4s\n",
      "[CV] featureasm__color__kmcol__n_clusters=6, featureasm__kp__kmkp__n_clusters=200, svc__C=0.015848931924611134 \n",
      "[CV]  featureasm__color__kmcol__n_clusters=6, featureasm__kp__kmkp__n_clusters=200, svc__C=0.015848931924611134, score=0.391304347826087, total=  19.3s\n",
      "[CV] featureasm__color__kmcol__n_clusters=6, featureasm__kp__kmkp__n_clusters=200, svc__C=0.015848931924611134 \n",
      "[CV]  featureasm__color__kmcol__n_clusters=6, featureasm__kp__kmkp__n_clusters=200, svc__C=0.015848931924611134, score=0.39705882352941174, total=  19.6s\n",
      "[CV] featureasm__color__kmcol__n_clusters=6, featureasm__kp__kmkp__n_clusters=200, svc__C=0.25118864315095796 \n",
      "[CV]  featureasm__color__kmcol__n_clusters=6, featureasm__kp__kmkp__n_clusters=200, svc__C=0.25118864315095796, score=0.3798076923076923, total=  20.0s\n",
      "[CV] featureasm__color__kmcol__n_clusters=6, featureasm__kp__kmkp__n_clusters=200, svc__C=0.25118864315095796 \n",
      "[CV]  featureasm__color__kmcol__n_clusters=6, featureasm__kp__kmkp__n_clusters=200, svc__C=0.25118864315095796, score=0.3864734299516908, total=  19.7s\n",
      "[CV] featureasm__color__kmcol__n_clusters=6, featureasm__kp__kmkp__n_clusters=200, svc__C=0.25118864315095796 \n",
      "[CV]  featureasm__color__kmcol__n_clusters=6, featureasm__kp__kmkp__n_clusters=200, svc__C=0.25118864315095796, score=0.4117647058823529, total=  19.3s\n",
      "[CV] featureasm__color__kmcol__n_clusters=6, featureasm__kp__kmkp__n_clusters=200, svc__C=3.981071705534969 \n",
      "[CV]  featureasm__color__kmcol__n_clusters=6, featureasm__kp__kmkp__n_clusters=200, svc__C=3.981071705534969, score=0.34615384615384615, total=  19.9s\n",
      "[CV] featureasm__color__kmcol__n_clusters=6, featureasm__kp__kmkp__n_clusters=200, svc__C=3.981071705534969 \n",
      "[CV]  featureasm__color__kmcol__n_clusters=6, featureasm__kp__kmkp__n_clusters=200, svc__C=3.981071705534969, score=0.32367149758454106, total=  19.8s\n",
      "[CV] featureasm__color__kmcol__n_clusters=6, featureasm__kp__kmkp__n_clusters=200, svc__C=3.981071705534969 \n",
      "[CV]  featureasm__color__kmcol__n_clusters=6, featureasm__kp__kmkp__n_clusters=200, svc__C=3.981071705534969, score=0.3284313725490196, total=  19.7s\n",
      "[CV] featureasm__color__kmcol__n_clusters=6, featureasm__kp__kmkp__n_clusters=200, svc__C=63.0957344480193 \n",
      "[CV]  featureasm__color__kmcol__n_clusters=6, featureasm__kp__kmkp__n_clusters=200, svc__C=63.0957344480193, score=0.375, total=  19.9s\n",
      "[CV] featureasm__color__kmcol__n_clusters=6, featureasm__kp__kmkp__n_clusters=200, svc__C=63.0957344480193 \n",
      "[CV]  featureasm__color__kmcol__n_clusters=6, featureasm__kp__kmkp__n_clusters=200, svc__C=63.0957344480193, score=0.3285024154589372, total=  20.2s\n",
      "[CV] featureasm__color__kmcol__n_clusters=6, featureasm__kp__kmkp__n_clusters=200, svc__C=63.0957344480193 \n",
      "[CV]  featureasm__color__kmcol__n_clusters=6, featureasm__kp__kmkp__n_clusters=200, svc__C=63.0957344480193, score=0.4019607843137255, total=  19.9s\n",
      "[CV] featureasm__color__kmcol__n_clusters=6, featureasm__kp__kmkp__n_clusters=200, svc__C=1000.0 \n",
      "[CV]  featureasm__color__kmcol__n_clusters=6, featureasm__kp__kmkp__n_clusters=200, svc__C=1000.0, score=0.3701923076923077, total=  19.6s\n",
      "[CV] featureasm__color__kmcol__n_clusters=6, featureasm__kp__kmkp__n_clusters=200, svc__C=1000.0 \n",
      "[CV]  featureasm__color__kmcol__n_clusters=6, featureasm__kp__kmkp__n_clusters=200, svc__C=1000.0, score=0.3864734299516908, total=  19.1s\n",
      "[CV] featureasm__color__kmcol__n_clusters=6, featureasm__kp__kmkp__n_clusters=200, svc__C=1000.0 \n",
      "[CV]  featureasm__color__kmcol__n_clusters=6, featureasm__kp__kmkp__n_clusters=200, svc__C=1000.0, score=0.39215686274509803, total=  19.8s\n",
      "[CV] featureasm__color__kmcol__n_clusters=8, featureasm__kp__kmkp__n_clusters=225, svc__C=0.001 \n",
      "[CV]  featureasm__color__kmcol__n_clusters=8, featureasm__kp__kmkp__n_clusters=225, svc__C=0.001, score=0.375, total=  20.3s\n",
      "[CV] featureasm__color__kmcol__n_clusters=8, featureasm__kp__kmkp__n_clusters=225, svc__C=0.001 \n",
      "[CV]  featureasm__color__kmcol__n_clusters=8, featureasm__kp__kmkp__n_clusters=225, svc__C=0.001, score=0.391304347826087, total=  21.1s\n",
      "[CV] featureasm__color__kmcol__n_clusters=8, featureasm__kp__kmkp__n_clusters=225, svc__C=0.001 \n",
      "[CV]  featureasm__color__kmcol__n_clusters=8, featureasm__kp__kmkp__n_clusters=225, svc__C=0.001, score=0.4117647058823529, total=  20.3s\n",
      "[CV] featureasm__color__kmcol__n_clusters=8, featureasm__kp__kmkp__n_clusters=225, svc__C=0.015848931924611134 \n",
      "[CV]  featureasm__color__kmcol__n_clusters=8, featureasm__kp__kmkp__n_clusters=225, svc__C=0.015848931924611134, score=0.42788461538461536, total=  20.4s\n",
      "[CV] featureasm__color__kmcol__n_clusters=8, featureasm__kp__kmkp__n_clusters=225, svc__C=0.015848931924611134 \n",
      "[CV]  featureasm__color__kmcol__n_clusters=8, featureasm__kp__kmkp__n_clusters=225, svc__C=0.015848931924611134, score=0.34299516908212563, total=  20.7s\n",
      "[CV] featureasm__color__kmcol__n_clusters=8, featureasm__kp__kmkp__n_clusters=225, svc__C=0.015848931924611134 \n",
      "[CV]  featureasm__color__kmcol__n_clusters=8, featureasm__kp__kmkp__n_clusters=225, svc__C=0.015848931924611134, score=0.35784313725490197, total=  20.7s\n",
      "[CV] featureasm__color__kmcol__n_clusters=8, featureasm__kp__kmkp__n_clusters=225, svc__C=0.25118864315095796 \n",
      "[CV]  featureasm__color__kmcol__n_clusters=8, featureasm__kp__kmkp__n_clusters=225, svc__C=0.25118864315095796, score=0.34615384615384615, total=  20.8s\n",
      "[CV] featureasm__color__kmcol__n_clusters=8, featureasm__kp__kmkp__n_clusters=225, svc__C=0.25118864315095796 \n",
      "[CV]  featureasm__color__kmcol__n_clusters=8, featureasm__kp__kmkp__n_clusters=225, svc__C=0.25118864315095796, score=0.3961352657004831, total=  21.0s\n",
      "[CV] featureasm__color__kmcol__n_clusters=8, featureasm__kp__kmkp__n_clusters=225, svc__C=0.25118864315095796 \n",
      "[CV]  featureasm__color__kmcol__n_clusters=8, featureasm__kp__kmkp__n_clusters=225, svc__C=0.25118864315095796, score=0.4019607843137255, total=  21.0s\n",
      "[CV] featureasm__color__kmcol__n_clusters=8, featureasm__kp__kmkp__n_clusters=225, svc__C=3.981071705534969 \n",
      "[CV]  featureasm__color__kmcol__n_clusters=8, featureasm__kp__kmkp__n_clusters=225, svc__C=3.981071705534969, score=0.35096153846153844, total=  21.5s\n",
      "[CV] featureasm__color__kmcol__n_clusters=8, featureasm__kp__kmkp__n_clusters=225, svc__C=3.981071705534969 \n",
      "[CV]  featureasm__color__kmcol__n_clusters=8, featureasm__kp__kmkp__n_clusters=225, svc__C=3.981071705534969, score=0.41545893719806765, total=  21.2s\n",
      "[CV] featureasm__color__kmcol__n_clusters=8, featureasm__kp__kmkp__n_clusters=225, svc__C=3.981071705534969 \n",
      "[CV]  featureasm__color__kmcol__n_clusters=8, featureasm__kp__kmkp__n_clusters=225, svc__C=3.981071705534969, score=0.36764705882352944, total=  21.2s\n",
      "[CV] featureasm__color__kmcol__n_clusters=8, featureasm__kp__kmkp__n_clusters=225, svc__C=63.0957344480193 \n",
      "[CV]  featureasm__color__kmcol__n_clusters=8, featureasm__kp__kmkp__n_clusters=225, svc__C=63.0957344480193, score=0.3605769230769231, total=  21.1s\n",
      "[CV] featureasm__color__kmcol__n_clusters=8, featureasm__kp__kmkp__n_clusters=225, svc__C=63.0957344480193 \n",
      "[CV]  featureasm__color__kmcol__n_clusters=8, featureasm__kp__kmkp__n_clusters=225, svc__C=63.0957344480193, score=0.3961352657004831, total=  20.7s\n",
      "[CV] featureasm__color__kmcol__n_clusters=8, featureasm__kp__kmkp__n_clusters=225, svc__C=63.0957344480193 \n",
      "[CV]  featureasm__color__kmcol__n_clusters=8, featureasm__kp__kmkp__n_clusters=225, svc__C=63.0957344480193, score=0.31862745098039214, total=  20.7s\n",
      "[CV] featureasm__color__kmcol__n_clusters=8, featureasm__kp__kmkp__n_clusters=225, svc__C=1000.0 \n",
      "[CV]  featureasm__color__kmcol__n_clusters=8, featureasm__kp__kmkp__n_clusters=225, svc__C=1000.0, score=0.4230769230769231, total=  20.5s\n",
      "[CV] featureasm__color__kmcol__n_clusters=8, featureasm__kp__kmkp__n_clusters=225, svc__C=1000.0 \n"
     ]
    },
    {
     "name": "stdout",
     "output_type": "stream",
     "text": [
      "[CV]  featureasm__color__kmcol__n_clusters=8, featureasm__kp__kmkp__n_clusters=225, svc__C=1000.0, score=0.3333333333333333, total=  20.8s\n",
      "[CV] featureasm__color__kmcol__n_clusters=8, featureasm__kp__kmkp__n_clusters=225, svc__C=1000.0 \n",
      "[CV]  featureasm__color__kmcol__n_clusters=8, featureasm__kp__kmkp__n_clusters=225, svc__C=1000.0, score=0.37745098039215685, total=  21.0s\n",
      "[CV] featureasm__color__kmcol__n_clusters=8, featureasm__kp__kmkp__n_clusters=175, svc__C=0.001 \n",
      "[CV]  featureasm__color__kmcol__n_clusters=8, featureasm__kp__kmkp__n_clusters=175, svc__C=0.001, score=0.3894230769230769, total=  18.7s\n",
      "[CV] featureasm__color__kmcol__n_clusters=8, featureasm__kp__kmkp__n_clusters=175, svc__C=0.001 \n",
      "[CV]  featureasm__color__kmcol__n_clusters=8, featureasm__kp__kmkp__n_clusters=175, svc__C=0.001, score=0.4057971014492754, total=  17.9s\n",
      "[CV] featureasm__color__kmcol__n_clusters=8, featureasm__kp__kmkp__n_clusters=175, svc__C=0.001 \n",
      "[CV]  featureasm__color__kmcol__n_clusters=8, featureasm__kp__kmkp__n_clusters=175, svc__C=0.001, score=0.3627450980392157, total=  17.8s\n",
      "[CV] featureasm__color__kmcol__n_clusters=8, featureasm__kp__kmkp__n_clusters=175, svc__C=0.015848931924611134 \n",
      "[CV]  featureasm__color__kmcol__n_clusters=8, featureasm__kp__kmkp__n_clusters=175, svc__C=0.015848931924611134, score=0.3173076923076923, total=  19.4s\n",
      "[CV] featureasm__color__kmcol__n_clusters=8, featureasm__kp__kmkp__n_clusters=175, svc__C=0.015848931924611134 \n",
      "[CV]  featureasm__color__kmcol__n_clusters=8, featureasm__kp__kmkp__n_clusters=175, svc__C=0.015848931924611134, score=0.2995169082125604, total=  18.9s\n",
      "[CV] featureasm__color__kmcol__n_clusters=8, featureasm__kp__kmkp__n_clusters=175, svc__C=0.015848931924611134 \n",
      "[CV]  featureasm__color__kmcol__n_clusters=8, featureasm__kp__kmkp__n_clusters=175, svc__C=0.015848931924611134, score=0.3627450980392157, total=  18.7s\n",
      "[CV] featureasm__color__kmcol__n_clusters=8, featureasm__kp__kmkp__n_clusters=175, svc__C=0.25118864315095796 \n",
      "[CV]  featureasm__color__kmcol__n_clusters=8, featureasm__kp__kmkp__n_clusters=175, svc__C=0.25118864315095796, score=0.36538461538461536, total=  19.3s\n",
      "[CV] featureasm__color__kmcol__n_clusters=8, featureasm__kp__kmkp__n_clusters=175, svc__C=0.25118864315095796 \n",
      "[CV]  featureasm__color__kmcol__n_clusters=8, featureasm__kp__kmkp__n_clusters=175, svc__C=0.25118864315095796, score=0.36231884057971014, total=  18.9s\n",
      "[CV] featureasm__color__kmcol__n_clusters=8, featureasm__kp__kmkp__n_clusters=175, svc__C=0.25118864315095796 \n",
      "[CV]  featureasm__color__kmcol__n_clusters=8, featureasm__kp__kmkp__n_clusters=175, svc__C=0.25118864315095796, score=0.37745098039215685, total=  18.9s\n",
      "[CV] featureasm__color__kmcol__n_clusters=8, featureasm__kp__kmkp__n_clusters=175, svc__C=3.981071705534969 \n",
      "[CV]  featureasm__color__kmcol__n_clusters=8, featureasm__kp__kmkp__n_clusters=175, svc__C=3.981071705534969, score=0.33653846153846156, total=  19.1s\n",
      "[CV] featureasm__color__kmcol__n_clusters=8, featureasm__kp__kmkp__n_clusters=175, svc__C=3.981071705534969 \n",
      "[CV]  featureasm__color__kmcol__n_clusters=8, featureasm__kp__kmkp__n_clusters=175, svc__C=3.981071705534969, score=0.36231884057971014, total=  19.6s\n",
      "[CV] featureasm__color__kmcol__n_clusters=8, featureasm__kp__kmkp__n_clusters=175, svc__C=3.981071705534969 \n",
      "[CV]  featureasm__color__kmcol__n_clusters=8, featureasm__kp__kmkp__n_clusters=175, svc__C=3.981071705534969, score=0.3431372549019608, total=  20.2s\n",
      "[CV] featureasm__color__kmcol__n_clusters=8, featureasm__kp__kmkp__n_clusters=175, svc__C=63.0957344480193 \n",
      "[CV]  featureasm__color__kmcol__n_clusters=8, featureasm__kp__kmkp__n_clusters=175, svc__C=63.0957344480193, score=0.3557692307692308, total=  19.9s\n",
      "[CV] featureasm__color__kmcol__n_clusters=8, featureasm__kp__kmkp__n_clusters=175, svc__C=63.0957344480193 \n",
      "[CV]  featureasm__color__kmcol__n_clusters=8, featureasm__kp__kmkp__n_clusters=175, svc__C=63.0957344480193, score=0.34782608695652173, total=  19.5s\n",
      "[CV] featureasm__color__kmcol__n_clusters=8, featureasm__kp__kmkp__n_clusters=175, svc__C=63.0957344480193 \n",
      "[CV]  featureasm__color__kmcol__n_clusters=8, featureasm__kp__kmkp__n_clusters=175, svc__C=63.0957344480193, score=0.36764705882352944, total=  19.0s\n",
      "[CV] featureasm__color__kmcol__n_clusters=8, featureasm__kp__kmkp__n_clusters=175, svc__C=1000.0 \n",
      "[CV]  featureasm__color__kmcol__n_clusters=8, featureasm__kp__kmkp__n_clusters=175, svc__C=1000.0, score=0.34134615384615385, total=  19.5s\n",
      "[CV] featureasm__color__kmcol__n_clusters=8, featureasm__kp__kmkp__n_clusters=175, svc__C=1000.0 \n",
      "[CV]  featureasm__color__kmcol__n_clusters=8, featureasm__kp__kmkp__n_clusters=175, svc__C=1000.0, score=0.3140096618357488, total=  18.5s\n",
      "[CV] featureasm__color__kmcol__n_clusters=8, featureasm__kp__kmkp__n_clusters=175, svc__C=1000.0 \n",
      "[CV]  featureasm__color__kmcol__n_clusters=8, featureasm__kp__kmkp__n_clusters=175, svc__C=1000.0, score=0.35784313725490197, total=  18.7s\n",
      "[CV] featureasm__color__kmcol__n_clusters=8, featureasm__kp__kmkp__n_clusters=200, svc__C=0.001 \n",
      "[CV]  featureasm__color__kmcol__n_clusters=8, featureasm__kp__kmkp__n_clusters=200, svc__C=0.001, score=0.4230769230769231, total=  19.8s\n",
      "[CV] featureasm__color__kmcol__n_clusters=8, featureasm__kp__kmkp__n_clusters=200, svc__C=0.001 \n",
      "[CV]  featureasm__color__kmcol__n_clusters=8, featureasm__kp__kmkp__n_clusters=200, svc__C=0.001, score=0.3961352657004831, total=  19.7s\n",
      "[CV] featureasm__color__kmcol__n_clusters=8, featureasm__kp__kmkp__n_clusters=200, svc__C=0.001 \n",
      "[CV]  featureasm__color__kmcol__n_clusters=8, featureasm__kp__kmkp__n_clusters=200, svc__C=0.001, score=0.36764705882352944, total=  19.8s\n",
      "[CV] featureasm__color__kmcol__n_clusters=8, featureasm__kp__kmkp__n_clusters=200, svc__C=0.015848931924611134 \n",
      "[CV]  featureasm__color__kmcol__n_clusters=8, featureasm__kp__kmkp__n_clusters=200, svc__C=0.015848931924611134, score=0.40865384615384615, total=  19.8s\n",
      "[CV] featureasm__color__kmcol__n_clusters=8, featureasm__kp__kmkp__n_clusters=200, svc__C=0.015848931924611134 \n",
      "[CV]  featureasm__color__kmcol__n_clusters=8, featureasm__kp__kmkp__n_clusters=200, svc__C=0.015848931924611134, score=0.38164251207729466, total=  19.9s\n",
      "[CV] featureasm__color__kmcol__n_clusters=8, featureasm__kp__kmkp__n_clusters=200, svc__C=0.015848931924611134 \n",
      "[CV]  featureasm__color__kmcol__n_clusters=8, featureasm__kp__kmkp__n_clusters=200, svc__C=0.015848931924611134, score=0.4215686274509804, total=  20.0s\n",
      "[CV] featureasm__color__kmcol__n_clusters=8, featureasm__kp__kmkp__n_clusters=200, svc__C=0.25118864315095796 \n",
      "[CV]  featureasm__color__kmcol__n_clusters=8, featureasm__kp__kmkp__n_clusters=200, svc__C=0.25118864315095796, score=0.2692307692307692, total=  19.8s\n",
      "[CV] featureasm__color__kmcol__n_clusters=8, featureasm__kp__kmkp__n_clusters=200, svc__C=0.25118864315095796 \n",
      "[CV]  featureasm__color__kmcol__n_clusters=8, featureasm__kp__kmkp__n_clusters=200, svc__C=0.25118864315095796, score=0.357487922705314, total=  20.3s\n",
      "[CV] featureasm__color__kmcol__n_clusters=8, featureasm__kp__kmkp__n_clusters=200, svc__C=0.25118864315095796 \n",
      "[CV]  featureasm__color__kmcol__n_clusters=8, featureasm__kp__kmkp__n_clusters=200, svc__C=0.25118864315095796, score=0.35784313725490197, total=  19.6s\n",
      "[CV] featureasm__color__kmcol__n_clusters=8, featureasm__kp__kmkp__n_clusters=200, svc__C=3.981071705534969 \n",
      "[CV]  featureasm__color__kmcol__n_clusters=8, featureasm__kp__kmkp__n_clusters=200, svc__C=3.981071705534969, score=0.34615384615384615, total=  19.7s\n",
      "[CV] featureasm__color__kmcol__n_clusters=8, featureasm__kp__kmkp__n_clusters=200, svc__C=3.981071705534969 \n",
      "[CV]  featureasm__color__kmcol__n_clusters=8, featureasm__kp__kmkp__n_clusters=200, svc__C=3.981071705534969, score=0.3671497584541063, total=  19.3s\n",
      "[CV] featureasm__color__kmcol__n_clusters=8, featureasm__kp__kmkp__n_clusters=200, svc__C=3.981071705534969 \n",
      "[CV]  featureasm__color__kmcol__n_clusters=8, featureasm__kp__kmkp__n_clusters=200, svc__C=3.981071705534969, score=0.3088235294117647, total=  19.5s\n",
      "[CV] featureasm__color__kmcol__n_clusters=8, featureasm__kp__kmkp__n_clusters=200, svc__C=63.0957344480193 \n",
      "[CV]  featureasm__color__kmcol__n_clusters=8, featureasm__kp__kmkp__n_clusters=200, svc__C=63.0957344480193, score=0.3557692307692308, total=  20.0s\n",
      "[CV] featureasm__color__kmcol__n_clusters=8, featureasm__kp__kmkp__n_clusters=200, svc__C=63.0957344480193 \n"
     ]
    },
    {
     "name": "stdout",
     "output_type": "stream",
     "text": [
      "[CV]  featureasm__color__kmcol__n_clusters=8, featureasm__kp__kmkp__n_clusters=200, svc__C=63.0957344480193, score=0.40096618357487923, total=  19.7s\n",
      "[CV] featureasm__color__kmcol__n_clusters=8, featureasm__kp__kmkp__n_clusters=200, svc__C=63.0957344480193 \n",
      "[CV]  featureasm__color__kmcol__n_clusters=8, featureasm__kp__kmkp__n_clusters=200, svc__C=63.0957344480193, score=0.37745098039215685, total=  20.1s\n",
      "[CV] featureasm__color__kmcol__n_clusters=8, featureasm__kp__kmkp__n_clusters=200, svc__C=1000.0 \n",
      "[CV]  featureasm__color__kmcol__n_clusters=8, featureasm__kp__kmkp__n_clusters=200, svc__C=1000.0, score=0.33653846153846156, total=  20.4s\n",
      "[CV] featureasm__color__kmcol__n_clusters=8, featureasm__kp__kmkp__n_clusters=200, svc__C=1000.0 \n",
      "[CV]  featureasm__color__kmcol__n_clusters=8, featureasm__kp__kmkp__n_clusters=200, svc__C=1000.0, score=0.391304347826087, total=  19.2s\n",
      "[CV] featureasm__color__kmcol__n_clusters=8, featureasm__kp__kmkp__n_clusters=200, svc__C=1000.0 \n",
      "[CV]  featureasm__color__kmcol__n_clusters=8, featureasm__kp__kmkp__n_clusters=200, svc__C=1000.0, score=0.44607843137254904, total=  19.6s\n",
      "[CV] featureasm__color__kmcol__n_clusters=10, featureasm__kp__kmkp__n_clusters=225, svc__C=0.001 \n",
      "[CV]  featureasm__color__kmcol__n_clusters=10, featureasm__kp__kmkp__n_clusters=225, svc__C=0.001, score=0.42788461538461536, total=  20.2s\n",
      "[CV] featureasm__color__kmcol__n_clusters=10, featureasm__kp__kmkp__n_clusters=225, svc__C=0.001 \n",
      "[CV]  featureasm__color__kmcol__n_clusters=10, featureasm__kp__kmkp__n_clusters=225, svc__C=0.001, score=0.43478260869565216, total=  20.3s\n",
      "[CV] featureasm__color__kmcol__n_clusters=10, featureasm__kp__kmkp__n_clusters=225, svc__C=0.001 \n",
      "[CV]  featureasm__color__kmcol__n_clusters=10, featureasm__kp__kmkp__n_clusters=225, svc__C=0.001, score=0.37745098039215685, total=  21.2s\n",
      "[CV] featureasm__color__kmcol__n_clusters=10, featureasm__kp__kmkp__n_clusters=225, svc__C=0.015848931924611134 \n",
      "[CV]  featureasm__color__kmcol__n_clusters=10, featureasm__kp__kmkp__n_clusters=225, svc__C=0.015848931924611134, score=0.38461538461538464, total=  21.0s\n",
      "[CV] featureasm__color__kmcol__n_clusters=10, featureasm__kp__kmkp__n_clusters=225, svc__C=0.015848931924611134 \n",
      "[CV]  featureasm__color__kmcol__n_clusters=10, featureasm__kp__kmkp__n_clusters=225, svc__C=0.015848931924611134, score=0.3526570048309179, total=  21.2s\n",
      "[CV] featureasm__color__kmcol__n_clusters=10, featureasm__kp__kmkp__n_clusters=225, svc__C=0.015848931924611134 \n",
      "[CV]  featureasm__color__kmcol__n_clusters=10, featureasm__kp__kmkp__n_clusters=225, svc__C=0.015848931924611134, score=0.31862745098039214, total=  21.1s\n",
      "[CV] featureasm__color__kmcol__n_clusters=10, featureasm__kp__kmkp__n_clusters=225, svc__C=0.25118864315095796 \n",
      "[CV]  featureasm__color__kmcol__n_clusters=10, featureasm__kp__kmkp__n_clusters=225, svc__C=0.25118864315095796, score=0.3557692307692308, total=  21.7s\n",
      "[CV] featureasm__color__kmcol__n_clusters=10, featureasm__kp__kmkp__n_clusters=225, svc__C=0.25118864315095796 \n",
      "[CV]  featureasm__color__kmcol__n_clusters=10, featureasm__kp__kmkp__n_clusters=225, svc__C=0.25118864315095796, score=0.357487922705314, total=  20.7s\n",
      "[CV] featureasm__color__kmcol__n_clusters=10, featureasm__kp__kmkp__n_clusters=225, svc__C=0.25118864315095796 \n",
      "[CV]  featureasm__color__kmcol__n_clusters=10, featureasm__kp__kmkp__n_clusters=225, svc__C=0.25118864315095796, score=0.3480392156862745, total=  20.5s\n",
      "[CV] featureasm__color__kmcol__n_clusters=10, featureasm__kp__kmkp__n_clusters=225, svc__C=3.981071705534969 \n",
      "[CV]  featureasm__color__kmcol__n_clusters=10, featureasm__kp__kmkp__n_clusters=225, svc__C=3.981071705534969, score=0.3557692307692308, total=  20.5s\n",
      "[CV] featureasm__color__kmcol__n_clusters=10, featureasm__kp__kmkp__n_clusters=225, svc__C=3.981071705534969 \n",
      "[CV]  featureasm__color__kmcol__n_clusters=10, featureasm__kp__kmkp__n_clusters=225, svc__C=3.981071705534969, score=0.30917874396135264, total=  21.1s\n",
      "[CV] featureasm__color__kmcol__n_clusters=10, featureasm__kp__kmkp__n_clusters=225, svc__C=3.981071705534969 \n",
      "[CV]  featureasm__color__kmcol__n_clusters=10, featureasm__kp__kmkp__n_clusters=225, svc__C=3.981071705534969, score=0.38235294117647056, total=  20.7s\n",
      "[CV] featureasm__color__kmcol__n_clusters=10, featureasm__kp__kmkp__n_clusters=225, svc__C=63.0957344480193 \n",
      "[CV]  featureasm__color__kmcol__n_clusters=10, featureasm__kp__kmkp__n_clusters=225, svc__C=63.0957344480193, score=0.3605769230769231, total=  21.5s\n",
      "[CV] featureasm__color__kmcol__n_clusters=10, featureasm__kp__kmkp__n_clusters=225, svc__C=63.0957344480193 \n",
      "[CV]  featureasm__color__kmcol__n_clusters=10, featureasm__kp__kmkp__n_clusters=225, svc__C=63.0957344480193, score=0.3719806763285024, total=  20.6s\n",
      "[CV] featureasm__color__kmcol__n_clusters=10, featureasm__kp__kmkp__n_clusters=225, svc__C=63.0957344480193 \n",
      "[CV]  featureasm__color__kmcol__n_clusters=10, featureasm__kp__kmkp__n_clusters=225, svc__C=63.0957344480193, score=0.3872549019607843, total=  20.7s\n",
      "[CV] featureasm__color__kmcol__n_clusters=10, featureasm__kp__kmkp__n_clusters=225, svc__C=1000.0 \n",
      "[CV]  featureasm__color__kmcol__n_clusters=10, featureasm__kp__kmkp__n_clusters=225, svc__C=1000.0, score=0.3894230769230769, total=  20.9s\n",
      "[CV] featureasm__color__kmcol__n_clusters=10, featureasm__kp__kmkp__n_clusters=225, svc__C=1000.0 \n",
      "[CV]  featureasm__color__kmcol__n_clusters=10, featureasm__kp__kmkp__n_clusters=225, svc__C=1000.0, score=0.36231884057971014, total=  21.1s\n",
      "[CV] featureasm__color__kmcol__n_clusters=10, featureasm__kp__kmkp__n_clusters=225, svc__C=1000.0 \n",
      "[CV]  featureasm__color__kmcol__n_clusters=10, featureasm__kp__kmkp__n_clusters=225, svc__C=1000.0, score=0.36764705882352944, total=  20.8s\n",
      "[CV] featureasm__color__kmcol__n_clusters=10, featureasm__kp__kmkp__n_clusters=175, svc__C=0.001 \n",
      "[CV]  featureasm__color__kmcol__n_clusters=10, featureasm__kp__kmkp__n_clusters=175, svc__C=0.001, score=0.42788461538461536, total=  18.4s\n",
      "[CV] featureasm__color__kmcol__n_clusters=10, featureasm__kp__kmkp__n_clusters=175, svc__C=0.001 \n",
      "[CV]  featureasm__color__kmcol__n_clusters=10, featureasm__kp__kmkp__n_clusters=175, svc__C=0.001, score=0.4396135265700483, total=  18.1s\n",
      "[CV] featureasm__color__kmcol__n_clusters=10, featureasm__kp__kmkp__n_clusters=175, svc__C=0.001 \n",
      "[CV]  featureasm__color__kmcol__n_clusters=10, featureasm__kp__kmkp__n_clusters=175, svc__C=0.001, score=0.3480392156862745, total=  18.9s\n",
      "[CV] featureasm__color__kmcol__n_clusters=10, featureasm__kp__kmkp__n_clusters=175, svc__C=0.015848931924611134 \n",
      "[CV]  featureasm__color__kmcol__n_clusters=10, featureasm__kp__kmkp__n_clusters=175, svc__C=0.015848931924611134, score=0.40384615384615385, total=  18.2s\n",
      "[CV] featureasm__color__kmcol__n_clusters=10, featureasm__kp__kmkp__n_clusters=175, svc__C=0.015848931924611134 \n",
      "[CV]  featureasm__color__kmcol__n_clusters=10, featureasm__kp__kmkp__n_clusters=175, svc__C=0.015848931924611134, score=0.3333333333333333, total=  18.9s\n",
      "[CV] featureasm__color__kmcol__n_clusters=10, featureasm__kp__kmkp__n_clusters=175, svc__C=0.015848931924611134 \n",
      "[CV]  featureasm__color__kmcol__n_clusters=10, featureasm__kp__kmkp__n_clusters=175, svc__C=0.015848931924611134, score=0.4117647058823529, total=  18.8s\n",
      "[CV] featureasm__color__kmcol__n_clusters=10, featureasm__kp__kmkp__n_clusters=175, svc__C=0.25118864315095796 \n",
      "[CV]  featureasm__color__kmcol__n_clusters=10, featureasm__kp__kmkp__n_clusters=175, svc__C=0.25118864315095796, score=0.34134615384615385, total=  19.0s\n",
      "[CV] featureasm__color__kmcol__n_clusters=10, featureasm__kp__kmkp__n_clusters=175, svc__C=0.25118864315095796 \n",
      "[CV]  featureasm__color__kmcol__n_clusters=10, featureasm__kp__kmkp__n_clusters=175, svc__C=0.25118864315095796, score=0.38164251207729466, total=  18.9s\n",
      "[CV] featureasm__color__kmcol__n_clusters=10, featureasm__kp__kmkp__n_clusters=175, svc__C=0.25118864315095796 \n",
      "[CV]  featureasm__color__kmcol__n_clusters=10, featureasm__kp__kmkp__n_clusters=175, svc__C=0.25118864315095796, score=0.37254901960784315, total=  19.1s\n",
      "[CV] featureasm__color__kmcol__n_clusters=10, featureasm__kp__kmkp__n_clusters=175, svc__C=3.981071705534969 \n",
      "[CV]  featureasm__color__kmcol__n_clusters=10, featureasm__kp__kmkp__n_clusters=175, svc__C=3.981071705534969, score=0.35096153846153844, total=  18.7s\n",
      "[CV] featureasm__color__kmcol__n_clusters=10, featureasm__kp__kmkp__n_clusters=175, svc__C=3.981071705534969 \n"
     ]
    },
    {
     "name": "stdout",
     "output_type": "stream",
     "text": [
      "[CV]  featureasm__color__kmcol__n_clusters=10, featureasm__kp__kmkp__n_clusters=175, svc__C=3.981071705534969, score=0.3140096618357488, total=  19.2s\n",
      "[CV] featureasm__color__kmcol__n_clusters=10, featureasm__kp__kmkp__n_clusters=175, svc__C=3.981071705534969 \n",
      "[CV]  featureasm__color__kmcol__n_clusters=10, featureasm__kp__kmkp__n_clusters=175, svc__C=3.981071705534969, score=0.35294117647058826, total=  19.4s\n",
      "[CV] featureasm__color__kmcol__n_clusters=10, featureasm__kp__kmkp__n_clusters=175, svc__C=63.0957344480193 \n",
      "[CV]  featureasm__color__kmcol__n_clusters=10, featureasm__kp__kmkp__n_clusters=175, svc__C=63.0957344480193, score=0.34615384615384615, total=  19.2s\n",
      "[CV] featureasm__color__kmcol__n_clusters=10, featureasm__kp__kmkp__n_clusters=175, svc__C=63.0957344480193 \n",
      "[CV]  featureasm__color__kmcol__n_clusters=10, featureasm__kp__kmkp__n_clusters=175, svc__C=63.0957344480193, score=0.391304347826087, total=  18.8s\n",
      "[CV] featureasm__color__kmcol__n_clusters=10, featureasm__kp__kmkp__n_clusters=175, svc__C=63.0957344480193 \n",
      "[CV]  featureasm__color__kmcol__n_clusters=10, featureasm__kp__kmkp__n_clusters=175, svc__C=63.0957344480193, score=0.3284313725490196, total=  19.3s\n",
      "[CV] featureasm__color__kmcol__n_clusters=10, featureasm__kp__kmkp__n_clusters=175, svc__C=1000.0 \n",
      "[CV]  featureasm__color__kmcol__n_clusters=10, featureasm__kp__kmkp__n_clusters=175, svc__C=1000.0, score=0.35096153846153844, total=  19.5s\n",
      "[CV] featureasm__color__kmcol__n_clusters=10, featureasm__kp__kmkp__n_clusters=175, svc__C=1000.0 \n",
      "[CV]  featureasm__color__kmcol__n_clusters=10, featureasm__kp__kmkp__n_clusters=175, svc__C=1000.0, score=0.37681159420289856, total=  20.1s\n",
      "[CV] featureasm__color__kmcol__n_clusters=10, featureasm__kp__kmkp__n_clusters=175, svc__C=1000.0 \n",
      "[CV]  featureasm__color__kmcol__n_clusters=10, featureasm__kp__kmkp__n_clusters=175, svc__C=1000.0, score=0.35784313725490197, total=  19.3s\n",
      "[CV] featureasm__color__kmcol__n_clusters=10, featureasm__kp__kmkp__n_clusters=200, svc__C=0.001 \n",
      "[CV]  featureasm__color__kmcol__n_clusters=10, featureasm__kp__kmkp__n_clusters=200, svc__C=0.001, score=0.4326923076923077, total=  19.7s\n",
      "[CV] featureasm__color__kmcol__n_clusters=10, featureasm__kp__kmkp__n_clusters=200, svc__C=0.001 \n",
      "[CV]  featureasm__color__kmcol__n_clusters=10, featureasm__kp__kmkp__n_clusters=200, svc__C=0.001, score=0.4492753623188406, total=  20.2s\n",
      "[CV] featureasm__color__kmcol__n_clusters=10, featureasm__kp__kmkp__n_clusters=200, svc__C=0.001 \n",
      "[CV]  featureasm__color__kmcol__n_clusters=10, featureasm__kp__kmkp__n_clusters=200, svc__C=0.001, score=0.4117647058823529, total=  19.9s\n",
      "[CV] featureasm__color__kmcol__n_clusters=10, featureasm__kp__kmkp__n_clusters=200, svc__C=0.015848931924611134 \n",
      "[CV]  featureasm__color__kmcol__n_clusters=10, featureasm__kp__kmkp__n_clusters=200, svc__C=0.015848931924611134, score=0.33653846153846156, total=  19.7s\n",
      "[CV] featureasm__color__kmcol__n_clusters=10, featureasm__kp__kmkp__n_clusters=200, svc__C=0.015848931924611134 \n",
      "[CV]  featureasm__color__kmcol__n_clusters=10, featureasm__kp__kmkp__n_clusters=200, svc__C=0.015848931924611134, score=0.36231884057971014, total=  20.8s\n",
      "[CV] featureasm__color__kmcol__n_clusters=10, featureasm__kp__kmkp__n_clusters=200, svc__C=0.015848931924611134 \n",
      "[CV]  featureasm__color__kmcol__n_clusters=10, featureasm__kp__kmkp__n_clusters=200, svc__C=0.015848931924611134, score=0.4019607843137255, total=  20.3s\n",
      "[CV] featureasm__color__kmcol__n_clusters=10, featureasm__kp__kmkp__n_clusters=200, svc__C=0.25118864315095796 \n",
      "[CV]  featureasm__color__kmcol__n_clusters=10, featureasm__kp__kmkp__n_clusters=200, svc__C=0.25118864315095796, score=0.3605769230769231, total=  20.0s\n",
      "[CV] featureasm__color__kmcol__n_clusters=10, featureasm__kp__kmkp__n_clusters=200, svc__C=0.25118864315095796 \n",
      "[CV]  featureasm__color__kmcol__n_clusters=10, featureasm__kp__kmkp__n_clusters=200, svc__C=0.25118864315095796, score=0.42028985507246375, total=  19.7s\n",
      "[CV] featureasm__color__kmcol__n_clusters=10, featureasm__kp__kmkp__n_clusters=200, svc__C=0.25118864315095796 \n",
      "[CV]  featureasm__color__kmcol__n_clusters=10, featureasm__kp__kmkp__n_clusters=200, svc__C=0.25118864315095796, score=0.35294117647058826, total=  20.7s\n",
      "[CV] featureasm__color__kmcol__n_clusters=10, featureasm__kp__kmkp__n_clusters=200, svc__C=3.981071705534969 \n",
      "[CV]  featureasm__color__kmcol__n_clusters=10, featureasm__kp__kmkp__n_clusters=200, svc__C=3.981071705534969, score=0.375, total=  20.2s\n",
      "[CV] featureasm__color__kmcol__n_clusters=10, featureasm__kp__kmkp__n_clusters=200, svc__C=3.981071705534969 \n",
      "[CV]  featureasm__color__kmcol__n_clusters=10, featureasm__kp__kmkp__n_clusters=200, svc__C=3.981071705534969, score=0.3671497584541063, total=  20.0s\n",
      "[CV] featureasm__color__kmcol__n_clusters=10, featureasm__kp__kmkp__n_clusters=200, svc__C=3.981071705534969 \n",
      "[CV]  featureasm__color__kmcol__n_clusters=10, featureasm__kp__kmkp__n_clusters=200, svc__C=3.981071705534969, score=0.35294117647058826, total=  19.8s\n",
      "[CV] featureasm__color__kmcol__n_clusters=10, featureasm__kp__kmkp__n_clusters=200, svc__C=63.0957344480193 \n",
      "[CV]  featureasm__color__kmcol__n_clusters=10, featureasm__kp__kmkp__n_clusters=200, svc__C=63.0957344480193, score=0.3701923076923077, total=  20.1s\n",
      "[CV] featureasm__color__kmcol__n_clusters=10, featureasm__kp__kmkp__n_clusters=200, svc__C=63.0957344480193 \n",
      "[CV]  featureasm__color__kmcol__n_clusters=10, featureasm__kp__kmkp__n_clusters=200, svc__C=63.0957344480193, score=0.3333333333333333, total=  20.9s\n",
      "[CV] featureasm__color__kmcol__n_clusters=10, featureasm__kp__kmkp__n_clusters=200, svc__C=63.0957344480193 \n",
      "[CV]  featureasm__color__kmcol__n_clusters=10, featureasm__kp__kmkp__n_clusters=200, svc__C=63.0957344480193, score=0.47549019607843135, total=  20.0s\n",
      "[CV] featureasm__color__kmcol__n_clusters=10, featureasm__kp__kmkp__n_clusters=200, svc__C=1000.0 \n",
      "[CV]  featureasm__color__kmcol__n_clusters=10, featureasm__kp__kmkp__n_clusters=200, svc__C=1000.0, score=0.34134615384615385, total=  20.6s\n",
      "[CV] featureasm__color__kmcol__n_clusters=10, featureasm__kp__kmkp__n_clusters=200, svc__C=1000.0 \n",
      "[CV]  featureasm__color__kmcol__n_clusters=10, featureasm__kp__kmkp__n_clusters=200, svc__C=1000.0, score=0.3333333333333333, total=  20.3s\n",
      "[CV] featureasm__color__kmcol__n_clusters=10, featureasm__kp__kmkp__n_clusters=200, svc__C=1000.0 \n",
      "[CV]  featureasm__color__kmcol__n_clusters=10, featureasm__kp__kmkp__n_clusters=200, svc__C=1000.0, score=0.3137254901960784, total=  20.3s\n"
     ]
    },
    {
     "name": "stderr",
     "output_type": "stream",
     "text": [
      "[Parallel(n_jobs=1)]: Done 162 out of 162 | elapsed: 58.1min finished\n"
     ]
    },
    {
     "data": {
      "text/plain": [
       "{'featureasm__color__kmcol__n_clusters': 10,\n",
       " 'featureasm__kp__kmkp__n_clusters': 200,\n",
       " 'svc__C': 0.001}"
      ]
     },
     "execution_count": 81,
     "metadata": {},
     "output_type": "execute_result"
    }
   ],
   "source": [
    "parameters = {'featureasm__kp__kmkp__n_clusters':[225, 175, 200],\n",
    "              'featureasm__color__kmcol__n_clusters':[6,8,10],\n",
    "              'svc__C':np.logspace(-3,3,6)}\n",
    "\n",
    "svckpcolorsgs = GridSearchCV(svcpipe, param_grid=parameters, scoring=scorer, n_jobs=1, cv=skf, verbose=5)\n",
    "\n",
    "svckpcolorsgs.fit(X_train, y_train)\n",
    "svckpcolorsgs.best_params_"
   ]
  },
  {
   "cell_type": "code",
   "execution_count": 82,
   "metadata": {},
   "outputs": [
    {
     "data": {
      "text/plain": [
       "0.42810457516339867"
      ]
     },
     "execution_count": 82,
     "metadata": {},
     "output_type": "execute_result"
    }
   ],
   "source": [
    "svckpcolorsgs.score(X_test, y_test)"
   ]
  },
  {
   "cell_type": "code",
   "execution_count": 83,
   "metadata": {},
   "outputs": [
    {
     "data": {
      "text/plain": [
       "{'featureasm__color__kmcol__n_clusters': 10,\n",
       " 'featureasm__kp__kmkp__n_clusters': 200,\n",
       " 'svc__C': 0.001}"
      ]
     },
     "execution_count": 83,
     "metadata": {},
     "output_type": "execute_result"
    }
   ],
   "source": [
    "svckpcolorsgs.best_params_"
   ]
  },
  {
   "cell_type": "code",
   "execution_count": 121,
   "metadata": {},
   "outputs": [
    {
     "name": "stderr",
     "output_type": "stream",
     "text": [
      "/Users/cricket/anaconda3/lib/python3.6/site-packages/sklearn/preprocessing/label.py:151: DeprecationWarning: The truth value of an empty array is ambiguous. Returning False, but in future this will result in an error. Use `array.size > 0` to check that an array is not empty.\n",
      "  if diff:\n",
      "/Users/cricket/anaconda3/lib/python3.6/site-packages/sklearn/preprocessing/label.py:151: DeprecationWarning: The truth value of an empty array is ambiguous. Returning False, but in future this will result in an error. Use `array.size > 0` to check that an array is not empty.\n",
      "  if diff:\n",
      "/Users/cricket/anaconda3/lib/python3.6/site-packages/sklearn/preprocessing/label.py:151: DeprecationWarning: The truth value of an empty array is ambiguous. Returning False, but in future this will result in an error. Use `array.size > 0` to check that an array is not empty.\n",
      "  if diff:\n",
      "/Users/cricket/anaconda3/lib/python3.6/site-packages/sklearn/preprocessing/label.py:151: DeprecationWarning: The truth value of an empty array is ambiguous. Returning False, but in future this will result in an error. Use `array.size > 0` to check that an array is not empty.\n",
      "  if diff:\n",
      "/Users/cricket/anaconda3/lib/python3.6/site-packages/sklearn/preprocessing/label.py:151: DeprecationWarning: The truth value of an empty array is ambiguous. Returning False, but in future this will result in an error. Use `array.size > 0` to check that an array is not empty.\n",
      "  if diff:\n"
     ]
    },
    {
     "data": {
      "image/png": "[encoded data removed]",
      "text/plain": [
       "<Figure size 432x288 with 2 Axes>"
      ]
     },
     "metadata": {},
     "output_type": "display_data"
    }
   ],
   "source": [
    "plot_confusion_matrix(svckpcolorsgs)"
   ]
  },
  {
   "cell_type": "markdown",
   "metadata": {},
   "source": [
    "# XGboost"
   ]
  },
  {
   "cell_type": "code",
   "execution_count": 97,
   "metadata": {},
   "outputs": [],
   "source": [
    "import xgboost as xgb\n",
    "\n",
    "ind_params = {'learning_rate': 0.1, 'n_estimators': 10, 'objective': 'multi:softmax', 'tree_method':'hist'}\n",
    "\n",
    "xgblist = [('featureasm',featureasm), ('xgb',xgb.XGBClassifier(**ind_params))]\n",
    "xgbpipe = Pipeline(xgblist)"
   ]
  },
  {
   "cell_type": "code",
   "execution_count": 99,
   "metadata": {},
   "outputs": [
    {
     "name": "stdout",
     "output_type": "stream",
     "text": [
      "Fitting 3 folds for each of 27 candidates, totalling 81 fits\n",
      "[CV] featureasm__color__kmcol__n_clusters=6, featureasm__kp__kmkp__n_clusters=225, xgb__max_depth=50 \n",
      "[CV] featureasm__color__kmcol__n_clusters=6, featureasm__kp__kmkp__n_clusters=225, xgb__max_depth=50 \n",
      "[CV] featureasm__color__kmcol__n_clusters=6, featureasm__kp__kmkp__n_clusters=225, xgb__max_depth=50 \n"
     ]
    },
    {
     "name": "stderr",
     "output_type": "stream",
     "text": [
      "/Users/cricket/anaconda3/lib/python3.6/site-packages/sklearn/preprocessing/label.py:151: DeprecationWarning: The truth value of an empty array is ambiguous. Returning False, but in future this will result in an error. Use `array.size > 0` to check that an array is not empty.\n",
      "  if diff:\n",
      "/Users/cricket/anaconda3/lib/python3.6/site-packages/sklearn/preprocessing/label.py:151: DeprecationWarning: The truth value of an empty array is ambiguous. Returning False, but in future this will result in an error. Use `array.size > 0` to check that an array is not empty.\n",
      "  if diff:\n",
      "/Users/cricket/anaconda3/lib/python3.6/site-packages/sklearn/preprocessing/label.py:151: DeprecationWarning: The truth value of an empty array is ambiguous. Returning False, but in future this will result in an error. Use `array.size > 0` to check that an array is not empty.\n",
      "  if diff:\n"
     ]
    },
    {
     "name": "stdout",
     "output_type": "stream",
     "text": [
      "[CV]  featureasm__color__kmcol__n_clusters=6, featureasm__kp__kmkp__n_clusters=225, xgb__max_depth=50, score=0.28846153846153844, total=  26.5s\n"
     ]
    },
    {
     "name": "stderr",
     "output_type": "stream",
     "text": [
      "/Users/cricket/anaconda3/lib/python3.6/site-packages/sklearn/preprocessing/label.py:151: DeprecationWarning: The truth value of an empty array is ambiguous. Returning False, but in future this will result in an error. Use `array.size > 0` to check that an array is not empty.\n",
      "  if diff:\n"
     ]
    },
    {
     "name": "stdout",
     "output_type": "stream",
     "text": [
      "[CV]  featureasm__color__kmcol__n_clusters=6, featureasm__kp__kmkp__n_clusters=225, xgb__max_depth=50, score=0.34782608695652173, total=  25.7s\n",
      "[CV] featureasm__color__kmcol__n_clusters=6, featureasm__kp__kmkp__n_clusters=225, xgb__max_depth=75 \n"
     ]
    },
    {
     "name": "stderr",
     "output_type": "stream",
     "text": [
      "/Users/cricket/anaconda3/lib/python3.6/site-packages/sklearn/preprocessing/label.py:151: DeprecationWarning: The truth value of an empty array is ambiguous. Returning False, but in future this will result in an error. Use `array.size > 0` to check that an array is not empty.\n",
      "  if diff:\n",
      "/Users/cricket/anaconda3/lib/python3.6/site-packages/sklearn/preprocessing/label.py:151: DeprecationWarning: The truth value of an empty array is ambiguous. Returning False, but in future this will result in an error. Use `array.size > 0` to check that an array is not empty.\n",
      "  if diff:\n"
     ]
    },
    {
     "name": "stdout",
     "output_type": "stream",
     "text": [
      "[CV]  featureasm__color__kmcol__n_clusters=6, featureasm__kp__kmkp__n_clusters=225, xgb__max_depth=50, score=0.31862745098039214, total=  26.5s\n",
      "[CV] featureasm__color__kmcol__n_clusters=6, featureasm__kp__kmkp__n_clusters=225, xgb__max_depth=75 \n",
      "[CV] featureasm__color__kmcol__n_clusters=6, featureasm__kp__kmkp__n_clusters=225, xgb__max_depth=75 \n"
     ]
    },
    {
     "name": "stderr",
     "output_type": "stream",
     "text": [
      "/Users/cricket/anaconda3/lib/python3.6/site-packages/sklearn/preprocessing/label.py:151: DeprecationWarning: The truth value of an empty array is ambiguous. Returning False, but in future this will result in an error. Use `array.size > 0` to check that an array is not empty.\n",
      "  if diff:\n",
      "/Users/cricket/anaconda3/lib/python3.6/site-packages/sklearn/preprocessing/label.py:151: DeprecationWarning: The truth value of an empty array is ambiguous. Returning False, but in future this will result in an error. Use `array.size > 0` to check that an array is not empty.\n",
      "  if diff:\n"
     ]
    },
    {
     "name": "stdout",
     "output_type": "stream",
     "text": [
      "[CV]  featureasm__color__kmcol__n_clusters=6, featureasm__kp__kmkp__n_clusters=225, xgb__max_depth=75, score=0.3605769230769231, total=  27.6s\n",
      "[CV] featureasm__color__kmcol__n_clusters=6, featureasm__kp__kmkp__n_clusters=225, xgb__max_depth=100 \n"
     ]
    },
    {
     "name": "stderr",
     "output_type": "stream",
     "text": [
      "/Users/cricket/anaconda3/lib/python3.6/site-packages/sklearn/preprocessing/label.py:151: DeprecationWarning: The truth value of an empty array is ambiguous. Returning False, but in future this will result in an error. Use `array.size > 0` to check that an array is not empty.\n",
      "  if diff:\n",
      "/Users/cricket/anaconda3/lib/python3.6/site-packages/sklearn/preprocessing/label.py:151: DeprecationWarning: The truth value of an empty array is ambiguous. Returning False, but in future this will result in an error. Use `array.size > 0` to check that an array is not empty.\n",
      "  if diff:\n"
     ]
    },
    {
     "name": "stdout",
     "output_type": "stream",
     "text": [
      "[CV]  featureasm__color__kmcol__n_clusters=6, featureasm__kp__kmkp__n_clusters=225, xgb__max_depth=75, score=0.3671497584541063, total=  27.4s\n"
     ]
    },
    {
     "name": "stderr",
     "output_type": "stream",
     "text": [
      "/Users/cricket/anaconda3/lib/python3.6/site-packages/sklearn/preprocessing/label.py:151: DeprecationWarning: The truth value of an empty array is ambiguous. Returning False, but in future this will result in an error. Use `array.size > 0` to check that an array is not empty.\n",
      "  if diff:\n"
     ]
    },
    {
     "name": "stdout",
     "output_type": "stream",
     "text": [
      "[CV] featureasm__color__kmcol__n_clusters=6, featureasm__kp__kmkp__n_clusters=225, xgb__max_depth=100 \n"
     ]
    },
    {
     "name": "stderr",
     "output_type": "stream",
     "text": [
      "/Users/cricket/anaconda3/lib/python3.6/site-packages/sklearn/preprocessing/label.py:151: DeprecationWarning: The truth value of an empty array is ambiguous. Returning False, but in future this will result in an error. Use `array.size > 0` to check that an array is not empty.\n",
      "  if diff:\n"
     ]
    },
    {
     "name": "stdout",
     "output_type": "stream",
     "text": [
      "[CV]  featureasm__color__kmcol__n_clusters=6, featureasm__kp__kmkp__n_clusters=225, xgb__max_depth=75, score=0.3088235294117647, total=  27.5s\n",
      "[CV] featureasm__color__kmcol__n_clusters=6, featureasm__kp__kmkp__n_clusters=225, xgb__max_depth=100 \n"
     ]
    },
    {
     "name": "stderr",
     "output_type": "stream",
     "text": [
      "/Users/cricket/anaconda3/lib/python3.6/site-packages/sklearn/preprocessing/label.py:151: DeprecationWarning: The truth value of an empty array is ambiguous. Returning False, but in future this will result in an error. Use `array.size > 0` to check that an array is not empty.\n",
      "  if diff:\n",
      "/Users/cricket/anaconda3/lib/python3.6/site-packages/sklearn/preprocessing/label.py:151: DeprecationWarning: The truth value of an empty array is ambiguous. Returning False, but in future this will result in an error. Use `array.size > 0` to check that an array is not empty.\n",
      "  if diff:\n"
     ]
    },
    {
     "name": "stdout",
     "output_type": "stream",
     "text": [
      "[CV]  featureasm__color__kmcol__n_clusters=6, featureasm__kp__kmkp__n_clusters=225, xgb__max_depth=100, score=0.33653846153846156, total=  28.9s\n"
     ]
    },
    {
     "name": "stderr",
     "output_type": "stream",
     "text": [
      "/Users/cricket/anaconda3/lib/python3.6/site-packages/sklearn/preprocessing/label.py:151: DeprecationWarning: The truth value of an empty array is ambiguous. Returning False, but in future this will result in an error. Use `array.size > 0` to check that an array is not empty.\n",
      "  if diff:\n"
     ]
    },
    {
     "name": "stdout",
     "output_type": "stream",
     "text": [
      "[CV] featureasm__color__kmcol__n_clusters=6, featureasm__kp__kmkp__n_clusters=175, xgb__max_depth=50 \n"
     ]
    },
    {
     "name": "stderr",
     "output_type": "stream",
     "text": [
      "/Users/cricket/anaconda3/lib/python3.6/site-packages/sklearn/preprocessing/label.py:151: DeprecationWarning: The truth value of an empty array is ambiguous. Returning False, but in future this will result in an error. Use `array.size > 0` to check that an array is not empty.\n",
      "  if diff:\n"
     ]
    },
    {
     "name": "stdout",
     "output_type": "stream",
     "text": [
      "[CV]  featureasm__color__kmcol__n_clusters=6, featureasm__kp__kmkp__n_clusters=225, xgb__max_depth=100, score=0.3140096618357488, total=  28.5s\n"
     ]
    },
    {
     "name": "stderr",
     "output_type": "stream",
     "text": [
      "/Users/cricket/anaconda3/lib/python3.6/site-packages/sklearn/preprocessing/label.py:151: DeprecationWarning: The truth value of an empty array is ambiguous. Returning False, but in future this will result in an error. Use `array.size > 0` to check that an array is not empty.\n",
      "  if diff:\n"
     ]
    },
    {
     "name": "stdout",
     "output_type": "stream",
     "text": [
      "[CV] featureasm__color__kmcol__n_clusters=6, featureasm__kp__kmkp__n_clusters=175, xgb__max_depth=50 \n"
     ]
    },
    {
     "name": "stderr",
     "output_type": "stream",
     "text": [
      "/Users/cricket/anaconda3/lib/python3.6/site-packages/sklearn/preprocessing/label.py:151: DeprecationWarning: The truth value of an empty array is ambiguous. Returning False, but in future this will result in an error. Use `array.size > 0` to check that an array is not empty.\n",
      "  if diff:\n"
     ]
    },
    {
     "name": "stdout",
     "output_type": "stream",
     "text": [
      "[CV]  featureasm__color__kmcol__n_clusters=6, featureasm__kp__kmkp__n_clusters=225, xgb__max_depth=100, score=0.29901960784313725, total=  28.6s\n",
      "[CV] featureasm__color__kmcol__n_clusters=6, featureasm__kp__kmkp__n_clusters=175, xgb__max_depth=50 \n"
     ]
    },
    {
     "name": "stderr",
     "output_type": "stream",
     "text": [
      "/Users/cricket/anaconda3/lib/python3.6/site-packages/sklearn/preprocessing/label.py:151: DeprecationWarning: The truth value of an empty array is ambiguous. Returning False, but in future this will result in an error. Use `array.size > 0` to check that an array is not empty.\n",
      "  if diff:\n",
      "/Users/cricket/anaconda3/lib/python3.6/site-packages/sklearn/preprocessing/label.py:151: DeprecationWarning: The truth value of an empty array is ambiguous. Returning False, but in future this will result in an error. Use `array.size > 0` to check that an array is not empty.\n",
      "  if diff:\n"
     ]
    },
    {
     "name": "stdout",
     "output_type": "stream",
     "text": [
      "[CV]  featureasm__color__kmcol__n_clusters=6, featureasm__kp__kmkp__n_clusters=175, xgb__max_depth=50, score=0.375, total=  24.3s\n"
     ]
    },
    {
     "name": "stderr",
     "output_type": "stream",
     "text": [
      "/Users/cricket/anaconda3/lib/python3.6/site-packages/sklearn/preprocessing/label.py:151: DeprecationWarning: The truth value of an empty array is ambiguous. Returning False, but in future this will result in an error. Use `array.size > 0` to check that an array is not empty.\n",
      "  if diff:\n"
     ]
    },
    {
     "name": "stdout",
     "output_type": "stream",
     "text": [
      "[CV] featureasm__color__kmcol__n_clusters=6, featureasm__kp__kmkp__n_clusters=175, xgb__max_depth=75 \n"
     ]
    },
    {
     "name": "stderr",
     "output_type": "stream",
     "text": [
      "/Users/cricket/anaconda3/lib/python3.6/site-packages/sklearn/preprocessing/label.py:151: DeprecationWarning: The truth value of an empty array is ambiguous. Returning False, but in future this will result in an error. Use `array.size > 0` to check that an array is not empty.\n",
      "  if diff:\n"
     ]
    },
    {
     "name": "stdout",
     "output_type": "stream",
     "text": [
      "[CV]  featureasm__color__kmcol__n_clusters=6, featureasm__kp__kmkp__n_clusters=175, xgb__max_depth=50, score=0.2995169082125604, total=  23.7s\n"
     ]
    },
    {
     "name": "stderr",
     "output_type": "stream",
     "text": [
      "/Users/cricket/anaconda3/lib/python3.6/site-packages/sklearn/preprocessing/label.py:151: DeprecationWarning: The truth value of an empty array is ambiguous. Returning False, but in future this will result in an error. Use `array.size > 0` to check that an array is not empty.\n",
      "  if diff:\n"
     ]
    },
    {
     "name": "stdout",
     "output_type": "stream",
     "text": [
      "[CV] featureasm__color__kmcol__n_clusters=6, featureasm__kp__kmkp__n_clusters=175, xgb__max_depth=75 \n"
     ]
    },
    {
     "name": "stderr",
     "output_type": "stream",
     "text": [
      "/Users/cricket/anaconda3/lib/python3.6/site-packages/sklearn/preprocessing/label.py:151: DeprecationWarning: The truth value of an empty array is ambiguous. Returning False, but in future this will result in an error. Use `array.size > 0` to check that an array is not empty.\n",
      "  if diff:\n"
     ]
    },
    {
     "name": "stdout",
     "output_type": "stream",
     "text": [
      "[CV]  featureasm__color__kmcol__n_clusters=6, featureasm__kp__kmkp__n_clusters=175, xgb__max_depth=50, score=0.3137254901960784, total=  23.5s\n"
     ]
    },
    {
     "name": "stderr",
     "output_type": "stream",
     "text": [
      "[Parallel(n_jobs=3)]: Done  12 tasks      | elapsed:  2.4min\n"
     ]
    },
    {
     "name": "stdout",
     "output_type": "stream",
     "text": [
      "[CV] featureasm__color__kmcol__n_clusters=6, featureasm__kp__kmkp__n_clusters=175, xgb__max_depth=75 \n"
     ]
    },
    {
     "name": "stderr",
     "output_type": "stream",
     "text": [
      "/Users/cricket/anaconda3/lib/python3.6/site-packages/sklearn/preprocessing/label.py:151: DeprecationWarning: The truth value of an empty array is ambiguous. Returning False, but in future this will result in an error. Use `array.size > 0` to check that an array is not empty.\n",
      "  if diff:\n",
      "/Users/cricket/anaconda3/lib/python3.6/site-packages/sklearn/preprocessing/label.py:151: DeprecationWarning: The truth value of an empty array is ambiguous. Returning False, but in future this will result in an error. Use `array.size > 0` to check that an array is not empty.\n",
      "  if diff:\n"
     ]
    },
    {
     "name": "stdout",
     "output_type": "stream",
     "text": [
      "[CV]  featureasm__color__kmcol__n_clusters=6, featureasm__kp__kmkp__n_clusters=175, xgb__max_depth=75, score=0.34134615384615385, total=  25.6s\n"
     ]
    },
    {
     "name": "stderr",
     "output_type": "stream",
     "text": [
      "/Users/cricket/anaconda3/lib/python3.6/site-packages/sklearn/preprocessing/label.py:151: DeprecationWarning: The truth value of an empty array is ambiguous. Returning False, but in future this will result in an error. Use `array.size > 0` to check that an array is not empty.\n",
      "  if diff:\n"
     ]
    },
    {
     "name": "stdout",
     "output_type": "stream",
     "text": [
      "[CV] featureasm__color__kmcol__n_clusters=6, featureasm__kp__kmkp__n_clusters=175, xgb__max_depth=100 \n"
     ]
    },
    {
     "name": "stderr",
     "output_type": "stream",
     "text": [
      "/Users/cricket/anaconda3/lib/python3.6/site-packages/sklearn/preprocessing/label.py:151: DeprecationWarning: The truth value of an empty array is ambiguous. Returning False, but in future this will result in an error. Use `array.size > 0` to check that an array is not empty.\n",
      "  if diff:\n"
     ]
    },
    {
     "name": "stdout",
     "output_type": "stream",
     "text": [
      "[CV]  featureasm__color__kmcol__n_clusters=6, featureasm__kp__kmkp__n_clusters=175, xgb__max_depth=75, score=0.37681159420289856, total=  25.2s\n"
     ]
    },
    {
     "name": "stderr",
     "output_type": "stream",
     "text": [
      "/Users/cricket/anaconda3/lib/python3.6/site-packages/sklearn/preprocessing/label.py:151: DeprecationWarning: The truth value of an empty array is ambiguous. Returning False, but in future this will result in an error. Use `array.size > 0` to check that an array is not empty.\n",
      "  if diff:\n"
     ]
    },
    {
     "name": "stdout",
     "output_type": "stream",
     "text": [
      "[CV] featureasm__color__kmcol__n_clusters=6, featureasm__kp__kmkp__n_clusters=175, xgb__max_depth=100 \n"
     ]
    },
    {
     "name": "stderr",
     "output_type": "stream",
     "text": [
      "/Users/cricket/anaconda3/lib/python3.6/site-packages/sklearn/preprocessing/label.py:151: DeprecationWarning: The truth value of an empty array is ambiguous. Returning False, but in future this will result in an error. Use `array.size > 0` to check that an array is not empty.\n",
      "  if diff:\n"
     ]
    },
    {
     "name": "stdout",
     "output_type": "stream",
     "text": [
      "[CV]  featureasm__color__kmcol__n_clusters=6, featureasm__kp__kmkp__n_clusters=175, xgb__max_depth=75, score=0.37254901960784315, total=  24.4s\n",
      "[CV] featureasm__color__kmcol__n_clusters=6, featureasm__kp__kmkp__n_clusters=175, xgb__max_depth=100 \n"
     ]
    },
    {
     "name": "stderr",
     "output_type": "stream",
     "text": [
      "/Users/cricket/anaconda3/lib/python3.6/site-packages/sklearn/preprocessing/label.py:151: DeprecationWarning: The truth value of an empty array is ambiguous. Returning False, but in future this will result in an error. Use `array.size > 0` to check that an array is not empty.\n",
      "  if diff:\n",
      "/Users/cricket/anaconda3/lib/python3.6/site-packages/sklearn/preprocessing/label.py:151: DeprecationWarning: The truth value of an empty array is ambiguous. Returning False, but in future this will result in an error. Use `array.size > 0` to check that an array is not empty.\n",
      "  if diff:\n"
     ]
    },
    {
     "name": "stdout",
     "output_type": "stream",
     "text": [
      "[CV]  featureasm__color__kmcol__n_clusters=6, featureasm__kp__kmkp__n_clusters=175, xgb__max_depth=100, score=0.2932692307692308, total=  23.6s\n"
     ]
    },
    {
     "name": "stderr",
     "output_type": "stream",
     "text": [
      "/Users/cricket/anaconda3/lib/python3.6/site-packages/sklearn/preprocessing/label.py:151: DeprecationWarning: The truth value of an empty array is ambiguous. Returning False, but in future this will result in an error. Use `array.size > 0` to check that an array is not empty.\n",
      "  if diff:\n"
     ]
    },
    {
     "name": "stdout",
     "output_type": "stream",
     "text": [
      "[CV] featureasm__color__kmcol__n_clusters=6, featureasm__kp__kmkp__n_clusters=200, xgb__max_depth=50 \n"
     ]
    },
    {
     "name": "stderr",
     "output_type": "stream",
     "text": [
      "/Users/cricket/anaconda3/lib/python3.6/site-packages/sklearn/preprocessing/label.py:151: DeprecationWarning: The truth value of an empty array is ambiguous. Returning False, but in future this will result in an error. Use `array.size > 0` to check that an array is not empty.\n",
      "  if diff:\n"
     ]
    },
    {
     "name": "stdout",
     "output_type": "stream",
     "text": [
      "[CV]  featureasm__color__kmcol__n_clusters=6, featureasm__kp__kmkp__n_clusters=175, xgb__max_depth=100, score=0.357487922705314, total=  24.0s\n"
     ]
    },
    {
     "name": "stderr",
     "output_type": "stream",
     "text": [
      "/Users/cricket/anaconda3/lib/python3.6/site-packages/sklearn/preprocessing/label.py:151: DeprecationWarning: The truth value of an empty array is ambiguous. Returning False, but in future this will result in an error. Use `array.size > 0` to check that an array is not empty.\n",
      "  if diff:\n"
     ]
    },
    {
     "name": "stdout",
     "output_type": "stream",
     "text": [
      "[CV] featureasm__color__kmcol__n_clusters=6, featureasm__kp__kmkp__n_clusters=200, xgb__max_depth=50 \n"
     ]
    },
    {
     "name": "stderr",
     "output_type": "stream",
     "text": [
      "/Users/cricket/anaconda3/lib/python3.6/site-packages/sklearn/preprocessing/label.py:151: DeprecationWarning: The truth value of an empty array is ambiguous. Returning False, but in future this will result in an error. Use `array.size > 0` to check that an array is not empty.\n",
      "  if diff:\n"
     ]
    },
    {
     "name": "stdout",
     "output_type": "stream",
     "text": [
      "[CV]  featureasm__color__kmcol__n_clusters=6, featureasm__kp__kmkp__n_clusters=175, xgb__max_depth=100, score=0.30392156862745096, total=  23.0s\n",
      "[CV] featureasm__color__kmcol__n_clusters=6, featureasm__kp__kmkp__n_clusters=200, xgb__max_depth=50 \n"
     ]
    },
    {
     "name": "stderr",
     "output_type": "stream",
     "text": [
      "/Users/cricket/anaconda3/lib/python3.6/site-packages/sklearn/preprocessing/label.py:151: DeprecationWarning: The truth value of an empty array is ambiguous. Returning False, but in future this will result in an error. Use `array.size > 0` to check that an array is not empty.\n",
      "  if diff:\n",
      "/Users/cricket/anaconda3/lib/python3.6/site-packages/sklearn/preprocessing/label.py:151: DeprecationWarning: The truth value of an empty array is ambiguous. Returning False, but in future this will result in an error. Use `array.size > 0` to check that an array is not empty.\n",
      "  if diff:\n"
     ]
    },
    {
     "name": "stdout",
     "output_type": "stream",
     "text": [
      "[CV]  featureasm__color__kmcol__n_clusters=6, featureasm__kp__kmkp__n_clusters=200, xgb__max_depth=50, score=0.33653846153846156, total=  24.4s\n"
     ]
    },
    {
     "name": "stderr",
     "output_type": "stream",
     "text": [
      "/Users/cricket/anaconda3/lib/python3.6/site-packages/sklearn/preprocessing/label.py:151: DeprecationWarning: The truth value of an empty array is ambiguous. Returning False, but in future this will result in an error. Use `array.size > 0` to check that an array is not empty.\n",
      "  if diff:\n"
     ]
    },
    {
     "name": "stdout",
     "output_type": "stream",
     "text": [
      "[CV] featureasm__color__kmcol__n_clusters=6, featureasm__kp__kmkp__n_clusters=200, xgb__max_depth=75 \n"
     ]
    },
    {
     "name": "stderr",
     "output_type": "stream",
     "text": [
      "/Users/cricket/anaconda3/lib/python3.6/site-packages/sklearn/preprocessing/label.py:151: DeprecationWarning: The truth value of an empty array is ambiguous. Returning False, but in future this will result in an error. Use `array.size > 0` to check that an array is not empty.\n",
      "  if diff:\n"
     ]
    },
    {
     "name": "stdout",
     "output_type": "stream",
     "text": [
      "[CV]  featureasm__color__kmcol__n_clusters=6, featureasm__kp__kmkp__n_clusters=200, xgb__max_depth=50, score=0.2946859903381642, total=  24.4s\n",
      "[CV] featureasm__color__kmcol__n_clusters=6, featureasm__kp__kmkp__n_clusters=200, xgb__max_depth=75 \n"
     ]
    },
    {
     "name": "stderr",
     "output_type": "stream",
     "text": [
      "/Users/cricket/anaconda3/lib/python3.6/site-packages/sklearn/preprocessing/label.py:151: DeprecationWarning: The truth value of an empty array is ambiguous. Returning False, but in future this will result in an error. Use `array.size > 0` to check that an array is not empty.\n",
      "  if diff:\n",
      "/Users/cricket/anaconda3/lib/python3.6/site-packages/sklearn/preprocessing/label.py:151: DeprecationWarning: The truth value of an empty array is ambiguous. Returning False, but in future this will result in an error. Use `array.size > 0` to check that an array is not empty.\n",
      "  if diff:\n"
     ]
    },
    {
     "name": "stdout",
     "output_type": "stream",
     "text": [
      "[CV]  featureasm__color__kmcol__n_clusters=6, featureasm__kp__kmkp__n_clusters=200, xgb__max_depth=50, score=0.3284313725490196, total=  24.4s\n",
      "[CV] featureasm__color__kmcol__n_clusters=6, featureasm__kp__kmkp__n_clusters=200, xgb__max_depth=75 \n"
     ]
    },
    {
     "name": "stderr",
     "output_type": "stream",
     "text": [
      "/Users/cricket/anaconda3/lib/python3.6/site-packages/sklearn/preprocessing/label.py:151: DeprecationWarning: The truth value of an empty array is ambiguous. Returning False, but in future this will result in an error. Use `array.size > 0` to check that an array is not empty.\n",
      "  if diff:\n",
      "/Users/cricket/anaconda3/lib/python3.6/site-packages/sklearn/preprocessing/label.py:151: DeprecationWarning: The truth value of an empty array is ambiguous. Returning False, but in future this will result in an error. Use `array.size > 0` to check that an array is not empty.\n",
      "  if diff:\n"
     ]
    },
    {
     "name": "stdout",
     "output_type": "stream",
     "text": [
      "[CV]  featureasm__color__kmcol__n_clusters=6, featureasm__kp__kmkp__n_clusters=200, xgb__max_depth=75, score=0.3317307692307692, total=  24.4s\n"
     ]
    },
    {
     "name": "stderr",
     "output_type": "stream",
     "text": [
      "/Users/cricket/anaconda3/lib/python3.6/site-packages/sklearn/preprocessing/label.py:151: DeprecationWarning: The truth value of an empty array is ambiguous. Returning False, but in future this will result in an error. Use `array.size > 0` to check that an array is not empty.\n",
      "  if diff:\n"
     ]
    },
    {
     "name": "stdout",
     "output_type": "stream",
     "text": [
      "[CV] featureasm__color__kmcol__n_clusters=6, featureasm__kp__kmkp__n_clusters=200, xgb__max_depth=100 \n"
     ]
    },
    {
     "name": "stderr",
     "output_type": "stream",
     "text": [
      "/Users/cricket/anaconda3/lib/python3.6/site-packages/sklearn/preprocessing/label.py:151: DeprecationWarning: The truth value of an empty array is ambiguous. Returning False, but in future this will result in an error. Use `array.size > 0` to check that an array is not empty.\n",
      "  if diff:\n"
     ]
    },
    {
     "name": "stdout",
     "output_type": "stream",
     "text": [
      "[CV]  featureasm__color__kmcol__n_clusters=6, featureasm__kp__kmkp__n_clusters=200, xgb__max_depth=75, score=0.2995169082125604, total=  24.0s\n",
      "[CV] featureasm__color__kmcol__n_clusters=6, featureasm__kp__kmkp__n_clusters=200, xgb__max_depth=100 \n"
     ]
    },
    {
     "name": "stderr",
     "output_type": "stream",
     "text": [
      "/Users/cricket/anaconda3/lib/python3.6/site-packages/sklearn/preprocessing/label.py:151: DeprecationWarning: The truth value of an empty array is ambiguous. Returning False, but in future this will result in an error. Use `array.size > 0` to check that an array is not empty.\n",
      "  if diff:\n",
      "/Users/cricket/anaconda3/lib/python3.6/site-packages/sklearn/preprocessing/label.py:151: DeprecationWarning: The truth value of an empty array is ambiguous. Returning False, but in future this will result in an error. Use `array.size > 0` to check that an array is not empty.\n",
      "  if diff:\n"
     ]
    },
    {
     "name": "stdout",
     "output_type": "stream",
     "text": [
      "[CV]  featureasm__color__kmcol__n_clusters=6, featureasm__kp__kmkp__n_clusters=200, xgb__max_depth=75, score=0.3284313725490196, total=  24.9s\n",
      "[CV] featureasm__color__kmcol__n_clusters=6, featureasm__kp__kmkp__n_clusters=200, xgb__max_depth=100 \n"
     ]
    },
    {
     "name": "stderr",
     "output_type": "stream",
     "text": [
      "/Users/cricket/anaconda3/lib/python3.6/site-packages/sklearn/preprocessing/label.py:151: DeprecationWarning: The truth value of an empty array is ambiguous. Returning False, but in future this will result in an error. Use `array.size > 0` to check that an array is not empty.\n",
      "  if diff:\n",
      "/Users/cricket/anaconda3/lib/python3.6/site-packages/sklearn/preprocessing/label.py:151: DeprecationWarning: The truth value of an empty array is ambiguous. Returning False, but in future this will result in an error. Use `array.size > 0` to check that an array is not empty.\n",
      "  if diff:\n"
     ]
    },
    {
     "name": "stdout",
     "output_type": "stream",
     "text": [
      "[CV]  featureasm__color__kmcol__n_clusters=6, featureasm__kp__kmkp__n_clusters=200, xgb__max_depth=100, score=0.34615384615384615, total=  26.7s\n"
     ]
    },
    {
     "name": "stderr",
     "output_type": "stream",
     "text": [
      "/Users/cricket/anaconda3/lib/python3.6/site-packages/sklearn/preprocessing/label.py:151: DeprecationWarning: The truth value of an empty array is ambiguous. Returning False, but in future this will result in an error. Use `array.size > 0` to check that an array is not empty.\n",
      "  if diff:\n"
     ]
    },
    {
     "name": "stdout",
     "output_type": "stream",
     "text": [
      "[CV] featureasm__color__kmcol__n_clusters=8, featureasm__kp__kmkp__n_clusters=225, xgb__max_depth=50 \n"
     ]
    },
    {
     "name": "stderr",
     "output_type": "stream",
     "text": [
      "/Users/cricket/anaconda3/lib/python3.6/site-packages/sklearn/preprocessing/label.py:151: DeprecationWarning: The truth value of an empty array is ambiguous. Returning False, but in future this will result in an error. Use `array.size > 0` to check that an array is not empty.\n",
      "  if diff:\n"
     ]
    },
    {
     "name": "stdout",
     "output_type": "stream",
     "text": [
      "[CV]  featureasm__color__kmcol__n_clusters=6, featureasm__kp__kmkp__n_clusters=200, xgb__max_depth=100, score=0.3719806763285024, total=  27.1s\n",
      "[CV] featureasm__color__kmcol__n_clusters=8, featureasm__kp__kmkp__n_clusters=225, xgb__max_depth=50 \n"
     ]
    },
    {
     "name": "stderr",
     "output_type": "stream",
     "text": [
      "/Users/cricket/anaconda3/lib/python3.6/site-packages/sklearn/preprocessing/label.py:151: DeprecationWarning: The truth value of an empty array is ambiguous. Returning False, but in future this will result in an error. Use `array.size > 0` to check that an array is not empty.\n",
      "  if diff:\n",
      "/Users/cricket/anaconda3/lib/python3.6/site-packages/sklearn/preprocessing/label.py:151: DeprecationWarning: The truth value of an empty array is ambiguous. Returning False, but in future this will result in an error. Use `array.size > 0` to check that an array is not empty.\n",
      "  if diff:\n"
     ]
    },
    {
     "name": "stdout",
     "output_type": "stream",
     "text": [
      "[CV]  featureasm__color__kmcol__n_clusters=6, featureasm__kp__kmkp__n_clusters=200, xgb__max_depth=100, score=0.31862745098039214, total=  25.8s\n",
      "[CV] featureasm__color__kmcol__n_clusters=8, featureasm__kp__kmkp__n_clusters=225, xgb__max_depth=50 \n"
     ]
    },
    {
     "name": "stderr",
     "output_type": "stream",
     "text": [
      "/Users/cricket/anaconda3/lib/python3.6/site-packages/sklearn/preprocessing/label.py:151: DeprecationWarning: The truth value of an empty array is ambiguous. Returning False, but in future this will result in an error. Use `array.size > 0` to check that an array is not empty.\n",
      "  if diff:\n",
      "/Users/cricket/anaconda3/lib/python3.6/site-packages/sklearn/preprocessing/label.py:151: DeprecationWarning: The truth value of an empty array is ambiguous. Returning False, but in future this will result in an error. Use `array.size > 0` to check that an array is not empty.\n",
      "  if diff:\n"
     ]
    },
    {
     "name": "stdout",
     "output_type": "stream",
     "text": [
      "[CV]  featureasm__color__kmcol__n_clusters=8, featureasm__kp__kmkp__n_clusters=225, xgb__max_depth=50, score=0.33653846153846156, total=  32.0s\n"
     ]
    },
    {
     "name": "stderr",
     "output_type": "stream",
     "text": [
      "/Users/cricket/anaconda3/lib/python3.6/site-packages/sklearn/preprocessing/label.py:151: DeprecationWarning: The truth value of an empty array is ambiguous. Returning False, but in future this will result in an error. Use `array.size > 0` to check that an array is not empty.\n",
      "  if diff:\n"
     ]
    },
    {
     "name": "stdout",
     "output_type": "stream",
     "text": [
      "[CV] featureasm__color__kmcol__n_clusters=8, featureasm__kp__kmkp__n_clusters=225, xgb__max_depth=75 \n"
     ]
    },
    {
     "name": "stderr",
     "output_type": "stream",
     "text": [
      "/Users/cricket/anaconda3/lib/python3.6/site-packages/sklearn/preprocessing/label.py:151: DeprecationWarning: The truth value of an empty array is ambiguous. Returning False, but in future this will result in an error. Use `array.size > 0` to check that an array is not empty.\n",
      "  if diff:\n"
     ]
    },
    {
     "name": "stdout",
     "output_type": "stream",
     "text": [
      "[CV]  featureasm__color__kmcol__n_clusters=8, featureasm__kp__kmkp__n_clusters=225, xgb__max_depth=50, score=0.3526570048309179, total=  31.0s\n",
      "[CV] featureasm__color__kmcol__n_clusters=8, featureasm__kp__kmkp__n_clusters=225, xgb__max_depth=75 \n"
     ]
    },
    {
     "name": "stderr",
     "output_type": "stream",
     "text": [
      "/Users/cricket/anaconda3/lib/python3.6/site-packages/sklearn/preprocessing/label.py:151: DeprecationWarning: The truth value of an empty array is ambiguous. Returning False, but in future this will result in an error. Use `array.size > 0` to check that an array is not empty.\n",
      "  if diff:\n",
      "/Users/cricket/anaconda3/lib/python3.6/site-packages/sklearn/preprocessing/label.py:151: DeprecationWarning: The truth value of an empty array is ambiguous. Returning False, but in future this will result in an error. Use `array.size > 0` to check that an array is not empty.\n",
      "  if diff:\n"
     ]
    },
    {
     "name": "stdout",
     "output_type": "stream",
     "text": [
      "[CV]  featureasm__color__kmcol__n_clusters=8, featureasm__kp__kmkp__n_clusters=225, xgb__max_depth=50, score=0.3480392156862745, total=  31.9s\n",
      "[CV] featureasm__color__kmcol__n_clusters=8, featureasm__kp__kmkp__n_clusters=225, xgb__max_depth=75 \n"
     ]
    },
    {
     "name": "stderr",
     "output_type": "stream",
     "text": [
      "/Users/cricket/anaconda3/lib/python3.6/site-packages/sklearn/preprocessing/label.py:151: DeprecationWarning: The truth value of an empty array is ambiguous. Returning False, but in future this will result in an error. Use `array.size > 0` to check that an array is not empty.\n",
      "  if diff:\n",
      "/Users/cricket/anaconda3/lib/python3.6/site-packages/sklearn/preprocessing/label.py:151: DeprecationWarning: The truth value of an empty array is ambiguous. Returning False, but in future this will result in an error. Use `array.size > 0` to check that an array is not empty.\n",
      "  if diff:\n"
     ]
    },
    {
     "name": "stdout",
     "output_type": "stream",
     "text": [
      "[CV]  featureasm__color__kmcol__n_clusters=8, featureasm__kp__kmkp__n_clusters=225, xgb__max_depth=75, score=0.3317307692307692, total=  45.1s\n"
     ]
    },
    {
     "name": "stderr",
     "output_type": "stream",
     "text": [
      "/Users/cricket/anaconda3/lib/python3.6/site-packages/sklearn/preprocessing/label.py:151: DeprecationWarning: The truth value of an empty array is ambiguous. Returning False, but in future this will result in an error. Use `array.size > 0` to check that an array is not empty.\n",
      "  if diff:\n",
      "/Users/cricket/anaconda3/lib/python3.6/site-packages/sklearn/preprocessing/label.py:151: DeprecationWarning: The truth value of an empty array is ambiguous. Returning False, but in future this will result in an error. Use `array.size > 0` to check that an array is not empty.\n",
      "  if diff:\n"
     ]
    },
    {
     "name": "stdout",
     "output_type": "stream",
     "text": [
      "[CV]  featureasm__color__kmcol__n_clusters=8, featureasm__kp__kmkp__n_clusters=225, xgb__max_depth=75, score=0.3140096618357488, total=  42.2s\n",
      "[CV] featureasm__color__kmcol__n_clusters=8, featureasm__kp__kmkp__n_clusters=225, xgb__max_depth=100 \n",
      "[CV] featureasm__color__kmcol__n_clusters=8, featureasm__kp__kmkp__n_clusters=225, xgb__max_depth=100 \n"
     ]
    },
    {
     "name": "stderr",
     "output_type": "stream",
     "text": [
      "/Users/cricket/anaconda3/lib/python3.6/site-packages/sklearn/preprocessing/label.py:151: DeprecationWarning: The truth value of an empty array is ambiguous. Returning False, but in future this will result in an error. Use `array.size > 0` to check that an array is not empty.\n",
      "  if diff:\n",
      "/Users/cricket/anaconda3/lib/python3.6/site-packages/sklearn/preprocessing/label.py:151: DeprecationWarning: The truth value of an empty array is ambiguous. Returning False, but in future this will result in an error. Use `array.size > 0` to check that an array is not empty.\n",
      "  if diff:\n"
     ]
    },
    {
     "name": "stdout",
     "output_type": "stream",
     "text": [
      "[CV]  featureasm__color__kmcol__n_clusters=8, featureasm__kp__kmkp__n_clusters=225, xgb__max_depth=75, score=0.35294117647058826, total=  30.5s\n",
      "[CV] featureasm__color__kmcol__n_clusters=8, featureasm__kp__kmkp__n_clusters=225, xgb__max_depth=100 \n"
     ]
    },
    {
     "name": "stderr",
     "output_type": "stream",
     "text": [
      "/Users/cricket/anaconda3/lib/python3.6/site-packages/sklearn/preprocessing/label.py:151: DeprecationWarning: The truth value of an empty array is ambiguous. Returning False, but in future this will result in an error. Use `array.size > 0` to check that an array is not empty.\n",
      "  if diff:\n",
      "/Users/cricket/anaconda3/lib/python3.6/site-packages/sklearn/preprocessing/label.py:151: DeprecationWarning: The truth value of an empty array is ambiguous. Returning False, but in future this will result in an error. Use `array.size > 0` to check that an array is not empty.\n",
      "  if diff:\n"
     ]
    },
    {
     "name": "stdout",
     "output_type": "stream",
     "text": [
      "[CV]  featureasm__color__kmcol__n_clusters=8, featureasm__kp__kmkp__n_clusters=225, xgb__max_depth=100, score=0.2932692307692308, total=  29.7s\n"
     ]
    },
    {
     "name": "stderr",
     "output_type": "stream",
     "text": [
      "/Users/cricket/anaconda3/lib/python3.6/site-packages/sklearn/preprocessing/label.py:151: DeprecationWarning: The truth value of an empty array is ambiguous. Returning False, but in future this will result in an error. Use `array.size > 0` to check that an array is not empty.\n",
      "  if diff:\n"
     ]
    },
    {
     "name": "stdout",
     "output_type": "stream",
     "text": [
      "[CV] featureasm__color__kmcol__n_clusters=8, featureasm__kp__kmkp__n_clusters=175, xgb__max_depth=50 \n"
     ]
    },
    {
     "name": "stderr",
     "output_type": "stream",
     "text": [
      "/Users/cricket/anaconda3/lib/python3.6/site-packages/sklearn/preprocessing/label.py:151: DeprecationWarning: The truth value of an empty array is ambiguous. Returning False, but in future this will result in an error. Use `array.size > 0` to check that an array is not empty.\n",
      "  if diff:\n"
     ]
    },
    {
     "name": "stdout",
     "output_type": "stream",
     "text": [
      "[CV]  featureasm__color__kmcol__n_clusters=8, featureasm__kp__kmkp__n_clusters=225, xgb__max_depth=100, score=0.3719806763285024, total=  27.5s\n",
      "[CV] featureasm__color__kmcol__n_clusters=8, featureasm__kp__kmkp__n_clusters=175, xgb__max_depth=50 \n"
     ]
    },
    {
     "name": "stderr",
     "output_type": "stream",
     "text": [
      "/Users/cricket/anaconda3/lib/python3.6/site-packages/sklearn/preprocessing/label.py:151: DeprecationWarning: The truth value of an empty array is ambiguous. Returning False, but in future this will result in an error. Use `array.size > 0` to check that an array is not empty.\n",
      "  if diff:\n",
      "/Users/cricket/anaconda3/lib/python3.6/site-packages/sklearn/preprocessing/label.py:151: DeprecationWarning: The truth value of an empty array is ambiguous. Returning False, but in future this will result in an error. Use `array.size > 0` to check that an array is not empty.\n",
      "  if diff:\n"
     ]
    },
    {
     "name": "stdout",
     "output_type": "stream",
     "text": [
      "[CV]  featureasm__color__kmcol__n_clusters=8, featureasm__kp__kmkp__n_clusters=225, xgb__max_depth=100, score=0.3088235294117647, total=  26.8s\n",
      "[CV] featureasm__color__kmcol__n_clusters=8, featureasm__kp__kmkp__n_clusters=175, xgb__max_depth=50 \n"
     ]
    },
    {
     "name": "stderr",
     "output_type": "stream",
     "text": [
      "/Users/cricket/anaconda3/lib/python3.6/site-packages/sklearn/preprocessing/label.py:151: DeprecationWarning: The truth value of an empty array is ambiguous. Returning False, but in future this will result in an error. Use `array.size > 0` to check that an array is not empty.\n",
      "  if diff:\n",
      "/Users/cricket/anaconda3/lib/python3.6/site-packages/sklearn/preprocessing/label.py:151: DeprecationWarning: The truth value of an empty array is ambiguous. Returning False, but in future this will result in an error. Use `array.size > 0` to check that an array is not empty.\n",
      "  if diff:\n"
     ]
    },
    {
     "name": "stdout",
     "output_type": "stream",
     "text": [
      "[CV]  featureasm__color__kmcol__n_clusters=8, featureasm__kp__kmkp__n_clusters=175, xgb__max_depth=50, score=0.3125, total=  22.7s\n"
     ]
    },
    {
     "name": "stderr",
     "output_type": "stream",
     "text": [
      "/Users/cricket/anaconda3/lib/python3.6/site-packages/sklearn/preprocessing/label.py:151: DeprecationWarning: The truth value of an empty array is ambiguous. Returning False, but in future this will result in an error. Use `array.size > 0` to check that an array is not empty.\n",
      "  if diff:\n"
     ]
    },
    {
     "name": "stdout",
     "output_type": "stream",
     "text": [
      "[CV] featureasm__color__kmcol__n_clusters=8, featureasm__kp__kmkp__n_clusters=175, xgb__max_depth=75 \n"
     ]
    },
    {
     "name": "stderr",
     "output_type": "stream",
     "text": [
      "/Users/cricket/anaconda3/lib/python3.6/site-packages/sklearn/preprocessing/label.py:151: DeprecationWarning: The truth value of an empty array is ambiguous. Returning False, but in future this will result in an error. Use `array.size > 0` to check that an array is not empty.\n",
      "  if diff:\n"
     ]
    },
    {
     "name": "stdout",
     "output_type": "stream",
     "text": [
      "[CV]  featureasm__color__kmcol__n_clusters=8, featureasm__kp__kmkp__n_clusters=175, xgb__max_depth=50, score=0.34299516908212563, total=  22.4s\n",
      "[CV] featureasm__color__kmcol__n_clusters=8, featureasm__kp__kmkp__n_clusters=175, xgb__max_depth=75 \n"
     ]
    },
    {
     "name": "stderr",
     "output_type": "stream",
     "text": [
      "/Users/cricket/anaconda3/lib/python3.6/site-packages/sklearn/preprocessing/label.py:151: DeprecationWarning: The truth value of an empty array is ambiguous. Returning False, but in future this will result in an error. Use `array.size > 0` to check that an array is not empty.\n",
      "  if diff:\n",
      "/Users/cricket/anaconda3/lib/python3.6/site-packages/sklearn/preprocessing/label.py:151: DeprecationWarning: The truth value of an empty array is ambiguous. Returning False, but in future this will result in an error. Use `array.size > 0` to check that an array is not empty.\n",
      "  if diff:\n"
     ]
    },
    {
     "name": "stdout",
     "output_type": "stream",
     "text": [
      "[CV]  featureasm__color__kmcol__n_clusters=8, featureasm__kp__kmkp__n_clusters=175, xgb__max_depth=50, score=0.3480392156862745, total=  23.3s\n",
      "[CV] featureasm__color__kmcol__n_clusters=8, featureasm__kp__kmkp__n_clusters=175, xgb__max_depth=75 \n"
     ]
    },
    {
     "name": "stderr",
     "output_type": "stream",
     "text": [
      "/Users/cricket/anaconda3/lib/python3.6/site-packages/sklearn/preprocessing/label.py:151: DeprecationWarning: The truth value of an empty array is ambiguous. Returning False, but in future this will result in an error. Use `array.size > 0` to check that an array is not empty.\n",
      "  if diff:\n",
      "/Users/cricket/anaconda3/lib/python3.6/site-packages/sklearn/preprocessing/label.py:151: DeprecationWarning: The truth value of an empty array is ambiguous. Returning False, but in future this will result in an error. Use `array.size > 0` to check that an array is not empty.\n",
      "  if diff:\n"
     ]
    },
    {
     "name": "stdout",
     "output_type": "stream",
     "text": [
      "[CV]  featureasm__color__kmcol__n_clusters=8, featureasm__kp__kmkp__n_clusters=175, xgb__max_depth=75, score=0.38461538461538464, total=  23.2s\n"
     ]
    },
    {
     "name": "stderr",
     "output_type": "stream",
     "text": [
      "/Users/cricket/anaconda3/lib/python3.6/site-packages/sklearn/preprocessing/label.py:151: DeprecationWarning: The truth value of an empty array is ambiguous. Returning False, but in future this will result in an error. Use `array.size > 0` to check that an array is not empty.\n",
      "  if diff:\n"
     ]
    },
    {
     "name": "stdout",
     "output_type": "stream",
     "text": [
      "[CV] featureasm__color__kmcol__n_clusters=8, featureasm__kp__kmkp__n_clusters=175, xgb__max_depth=100 \n"
     ]
    },
    {
     "name": "stderr",
     "output_type": "stream",
     "text": [
      "/Users/cricket/anaconda3/lib/python3.6/site-packages/sklearn/preprocessing/label.py:151: DeprecationWarning: The truth value of an empty array is ambiguous. Returning False, but in future this will result in an error. Use `array.size > 0` to check that an array is not empty.\n",
      "  if diff:\n"
     ]
    },
    {
     "name": "stdout",
     "output_type": "stream",
     "text": [
      "[CV]  featureasm__color__kmcol__n_clusters=8, featureasm__kp__kmkp__n_clusters=175, xgb__max_depth=75, score=0.28502415458937197, total=  23.4s\n",
      "[CV] featureasm__color__kmcol__n_clusters=8, featureasm__kp__kmkp__n_clusters=175, xgb__max_depth=100 \n"
     ]
    },
    {
     "name": "stderr",
     "output_type": "stream",
     "text": [
      "/Users/cricket/anaconda3/lib/python3.6/site-packages/sklearn/preprocessing/label.py:151: DeprecationWarning: The truth value of an empty array is ambiguous. Returning False, but in future this will result in an error. Use `array.size > 0` to check that an array is not empty.\n",
      "  if diff:\n",
      "/Users/cricket/anaconda3/lib/python3.6/site-packages/sklearn/preprocessing/label.py:151: DeprecationWarning: The truth value of an empty array is ambiguous. Returning False, but in future this will result in an error. Use `array.size > 0` to check that an array is not empty.\n",
      "  if diff:\n"
     ]
    },
    {
     "name": "stdout",
     "output_type": "stream",
     "text": [
      "[CV]  featureasm__color__kmcol__n_clusters=8, featureasm__kp__kmkp__n_clusters=175, xgb__max_depth=75, score=0.3382352941176471, total=  24.0s\n",
      "[CV] featureasm__color__kmcol__n_clusters=8, featureasm__kp__kmkp__n_clusters=175, xgb__max_depth=100 \n"
     ]
    },
    {
     "name": "stderr",
     "output_type": "stream",
     "text": [
      "/Users/cricket/anaconda3/lib/python3.6/site-packages/sklearn/preprocessing/label.py:151: DeprecationWarning: The truth value of an empty array is ambiguous. Returning False, but in future this will result in an error. Use `array.size > 0` to check that an array is not empty.\n",
      "  if diff:\n",
      "/Users/cricket/anaconda3/lib/python3.6/site-packages/sklearn/preprocessing/label.py:151: DeprecationWarning: The truth value of an empty array is ambiguous. Returning False, but in future this will result in an error. Use `array.size > 0` to check that an array is not empty.\n",
      "  if diff:\n"
     ]
    },
    {
     "name": "stdout",
     "output_type": "stream",
     "text": [
      "[CV]  featureasm__color__kmcol__n_clusters=8, featureasm__kp__kmkp__n_clusters=175, xgb__max_depth=100, score=0.34134615384615385, total=  24.7s\n",
      "[CV] featureasm__color__kmcol__n_clusters=8, featureasm__kp__kmkp__n_clusters=200, xgb__max_depth=50 \n"
     ]
    },
    {
     "name": "stderr",
     "output_type": "stream",
     "text": [
      "/Users/cricket/anaconda3/lib/python3.6/site-packages/sklearn/preprocessing/label.py:151: DeprecationWarning: The truth value of an empty array is ambiguous. Returning False, but in future this will result in an error. Use `array.size > 0` to check that an array is not empty.\n",
      "  if diff:\n",
      "/Users/cricket/anaconda3/lib/python3.6/site-packages/sklearn/preprocessing/label.py:151: DeprecationWarning: The truth value of an empty array is ambiguous. Returning False, but in future this will result in an error. Use `array.size > 0` to check that an array is not empty.\n",
      "  if diff:\n"
     ]
    },
    {
     "name": "stdout",
     "output_type": "stream",
     "text": [
      "[CV]  featureasm__color__kmcol__n_clusters=8, featureasm__kp__kmkp__n_clusters=175, xgb__max_depth=100, score=0.30434782608695654, total=  24.8s\n",
      "[CV] featureasm__color__kmcol__n_clusters=8, featureasm__kp__kmkp__n_clusters=200, xgb__max_depth=50 \n"
     ]
    },
    {
     "name": "stderr",
     "output_type": "stream",
     "text": [
      "/Users/cricket/anaconda3/lib/python3.6/site-packages/sklearn/preprocessing/label.py:151: DeprecationWarning: The truth value of an empty array is ambiguous. Returning False, but in future this will result in an error. Use `array.size > 0` to check that an array is not empty.\n",
      "  if diff:\n",
      "/Users/cricket/anaconda3/lib/python3.6/site-packages/sklearn/preprocessing/label.py:151: DeprecationWarning: The truth value of an empty array is ambiguous. Returning False, but in future this will result in an error. Use `array.size > 0` to check that an array is not empty.\n",
      "  if diff:\n"
     ]
    },
    {
     "name": "stdout",
     "output_type": "stream",
     "text": [
      "[CV]  featureasm__color__kmcol__n_clusters=8, featureasm__kp__kmkp__n_clusters=175, xgb__max_depth=100, score=0.35294117647058826, total=  27.6s\n",
      "[CV] featureasm__color__kmcol__n_clusters=8, featureasm__kp__kmkp__n_clusters=200, xgb__max_depth=50 \n"
     ]
    },
    {
     "name": "stderr",
     "output_type": "stream",
     "text": [
      "/Users/cricket/anaconda3/lib/python3.6/site-packages/sklearn/preprocessing/label.py:151: DeprecationWarning: The truth value of an empty array is ambiguous. Returning False, but in future this will result in an error. Use `array.size > 0` to check that an array is not empty.\n",
      "  if diff:\n",
      "/Users/cricket/anaconda3/lib/python3.6/site-packages/sklearn/preprocessing/label.py:151: DeprecationWarning: The truth value of an empty array is ambiguous. Returning False, but in future this will result in an error. Use `array.size > 0` to check that an array is not empty.\n",
      "  if diff:\n"
     ]
    },
    {
     "name": "stdout",
     "output_type": "stream",
     "text": [
      "[CV]  featureasm__color__kmcol__n_clusters=8, featureasm__kp__kmkp__n_clusters=200, xgb__max_depth=50, score=0.3173076923076923, total=  30.9s\n"
     ]
    },
    {
     "name": "stderr",
     "output_type": "stream",
     "text": [
      "/Users/cricket/anaconda3/lib/python3.6/site-packages/sklearn/preprocessing/label.py:151: DeprecationWarning: The truth value of an empty array is ambiguous. Returning False, but in future this will result in an error. Use `array.size > 0` to check that an array is not empty.\n",
      "  if diff:\n"
     ]
    },
    {
     "name": "stdout",
     "output_type": "stream",
     "text": [
      "[CV] featureasm__color__kmcol__n_clusters=8, featureasm__kp__kmkp__n_clusters=200, xgb__max_depth=75 \n"
     ]
    },
    {
     "name": "stderr",
     "output_type": "stream",
     "text": [
      "/Users/cricket/anaconda3/lib/python3.6/site-packages/sklearn/preprocessing/label.py:151: DeprecationWarning: The truth value of an empty array is ambiguous. Returning False, but in future this will result in an error. Use `array.size > 0` to check that an array is not empty.\n",
      "  if diff:\n"
     ]
    },
    {
     "name": "stdout",
     "output_type": "stream",
     "text": [
      "[CV]  featureasm__color__kmcol__n_clusters=8, featureasm__kp__kmkp__n_clusters=200, xgb__max_depth=50, score=0.33816425120772947, total=  29.0s\n",
      "[CV] featureasm__color__kmcol__n_clusters=8, featureasm__kp__kmkp__n_clusters=200, xgb__max_depth=75 \n"
     ]
    },
    {
     "name": "stderr",
     "output_type": "stream",
     "text": [
      "/Users/cricket/anaconda3/lib/python3.6/site-packages/sklearn/preprocessing/label.py:151: DeprecationWarning: The truth value of an empty array is ambiguous. Returning False, but in future this will result in an error. Use `array.size > 0` to check that an array is not empty.\n",
      "  if diff:\n",
      "/Users/cricket/anaconda3/lib/python3.6/site-packages/sklearn/preprocessing/label.py:151: DeprecationWarning: The truth value of an empty array is ambiguous. Returning False, but in future this will result in an error. Use `array.size > 0` to check that an array is not empty.\n",
      "  if diff:\n"
     ]
    },
    {
     "name": "stdout",
     "output_type": "stream",
     "text": [
      "[CV]  featureasm__color__kmcol__n_clusters=8, featureasm__kp__kmkp__n_clusters=200, xgb__max_depth=50, score=0.3235294117647059, total=  46.0s\n",
      "[CV] featureasm__color__kmcol__n_clusters=8, featureasm__kp__kmkp__n_clusters=200, xgb__max_depth=75 \n"
     ]
    },
    {
     "name": "stderr",
     "output_type": "stream",
     "text": [
      "/Users/cricket/anaconda3/lib/python3.6/site-packages/sklearn/preprocessing/label.py:151: DeprecationWarning: The truth value of an empty array is ambiguous. Returning False, but in future this will result in an error. Use `array.size > 0` to check that an array is not empty.\n",
      "  if diff:\n",
      "/Users/cricket/anaconda3/lib/python3.6/site-packages/sklearn/preprocessing/label.py:151: DeprecationWarning: The truth value of an empty array is ambiguous. Returning False, but in future this will result in an error. Use `array.size > 0` to check that an array is not empty.\n",
      "  if diff:\n"
     ]
    },
    {
     "name": "stdout",
     "output_type": "stream",
     "text": [
      "[CV]  featureasm__color__kmcol__n_clusters=8, featureasm__kp__kmkp__n_clusters=200, xgb__max_depth=75, score=0.2980769230769231, total= 1.2min\n",
      "[CV] featureasm__color__kmcol__n_clusters=8, featureasm__kp__kmkp__n_clusters=200, xgb__max_depth=100 \n"
     ]
    },
    {
     "name": "stderr",
     "output_type": "stream",
     "text": [
      "/Users/cricket/anaconda3/lib/python3.6/site-packages/sklearn/preprocessing/label.py:151: DeprecationWarning: The truth value of an empty array is ambiguous. Returning False, but in future this will result in an error. Use `array.size > 0` to check that an array is not empty.\n",
      "  if diff:\n",
      "/Users/cricket/anaconda3/lib/python3.6/site-packages/sklearn/preprocessing/label.py:151: DeprecationWarning: The truth value of an empty array is ambiguous. Returning False, but in future this will result in an error. Use `array.size > 0` to check that an array is not empty.\n",
      "  if diff:\n"
     ]
    },
    {
     "name": "stdout",
     "output_type": "stream",
     "text": [
      "[CV]  featureasm__color__kmcol__n_clusters=8, featureasm__kp__kmkp__n_clusters=200, xgb__max_depth=75, score=0.391304347826087, total=  51.0s\n",
      "[CV] featureasm__color__kmcol__n_clusters=8, featureasm__kp__kmkp__n_clusters=200, xgb__max_depth=100 \n"
     ]
    },
    {
     "name": "stderr",
     "output_type": "stream",
     "text": [
      "/Users/cricket/anaconda3/lib/python3.6/site-packages/sklearn/preprocessing/label.py:151: DeprecationWarning: The truth value of an empty array is ambiguous. Returning False, but in future this will result in an error. Use `array.size > 0` to check that an array is not empty.\n",
      "  if diff:\n",
      "/Users/cricket/anaconda3/lib/python3.6/site-packages/sklearn/preprocessing/label.py:151: DeprecationWarning: The truth value of an empty array is ambiguous. Returning False, but in future this will result in an error. Use `array.size > 0` to check that an array is not empty.\n",
      "  if diff:\n"
     ]
    },
    {
     "name": "stdout",
     "output_type": "stream",
     "text": [
      "[CV]  featureasm__color__kmcol__n_clusters=8, featureasm__kp__kmkp__n_clusters=200, xgb__max_depth=75, score=0.27450980392156865, total=  44.7s\n",
      "[CV] featureasm__color__kmcol__n_clusters=8, featureasm__kp__kmkp__n_clusters=200, xgb__max_depth=100 \n"
     ]
    },
    {
     "name": "stderr",
     "output_type": "stream",
     "text": [
      "/Users/cricket/anaconda3/lib/python3.6/site-packages/sklearn/preprocessing/label.py:151: DeprecationWarning: The truth value of an empty array is ambiguous. Returning False, but in future this will result in an error. Use `array.size > 0` to check that an array is not empty.\n",
      "  if diff:\n",
      "/Users/cricket/anaconda3/lib/python3.6/site-packages/sklearn/preprocessing/label.py:151: DeprecationWarning: The truth value of an empty array is ambiguous. Returning False, but in future this will result in an error. Use `array.size > 0` to check that an array is not empty.\n",
      "  if diff:\n"
     ]
    },
    {
     "name": "stdout",
     "output_type": "stream",
     "text": [
      "[CV]  featureasm__color__kmcol__n_clusters=8, featureasm__kp__kmkp__n_clusters=200, xgb__max_depth=100, score=0.28846153846153844, total=  27.0s\n",
      "[CV] featureasm__color__kmcol__n_clusters=10, featureasm__kp__kmkp__n_clusters=225, xgb__max_depth=50 \n"
     ]
    },
    {
     "name": "stderr",
     "output_type": "stream",
     "text": [
      "/Users/cricket/anaconda3/lib/python3.6/site-packages/sklearn/preprocessing/label.py:151: DeprecationWarning: The truth value of an empty array is ambiguous. Returning False, but in future this will result in an error. Use `array.size > 0` to check that an array is not empty.\n",
      "  if diff:\n",
      "/Users/cricket/anaconda3/lib/python3.6/site-packages/sklearn/preprocessing/label.py:151: DeprecationWarning: The truth value of an empty array is ambiguous. Returning False, but in future this will result in an error. Use `array.size > 0` to check that an array is not empty.\n",
      "  if diff:\n"
     ]
    },
    {
     "name": "stdout",
     "output_type": "stream",
     "text": [
      "[CV]  featureasm__color__kmcol__n_clusters=8, featureasm__kp__kmkp__n_clusters=200, xgb__max_depth=100, score=0.391304347826087, total=  24.4s\n",
      "[CV] featureasm__color__kmcol__n_clusters=10, featureasm__kp__kmkp__n_clusters=225, xgb__max_depth=50 \n"
     ]
    },
    {
     "name": "stderr",
     "output_type": "stream",
     "text": [
      "/Users/cricket/anaconda3/lib/python3.6/site-packages/sklearn/preprocessing/label.py:151: DeprecationWarning: The truth value of an empty array is ambiguous. Returning False, but in future this will result in an error. Use `array.size > 0` to check that an array is not empty.\n",
      "  if diff:\n",
      "/Users/cricket/anaconda3/lib/python3.6/site-packages/sklearn/preprocessing/label.py:151: DeprecationWarning: The truth value of an empty array is ambiguous. Returning False, but in future this will result in an error. Use `array.size > 0` to check that an array is not empty.\n",
      "  if diff:\n"
     ]
    },
    {
     "name": "stdout",
     "output_type": "stream",
     "text": [
      "[CV]  featureasm__color__kmcol__n_clusters=8, featureasm__kp__kmkp__n_clusters=200, xgb__max_depth=100, score=0.29411764705882354, total=  25.1s\n",
      "[CV] featureasm__color__kmcol__n_clusters=10, featureasm__kp__kmkp__n_clusters=225, xgb__max_depth=50 \n"
     ]
    },
    {
     "name": "stderr",
     "output_type": "stream",
     "text": [
      "/Users/cricket/anaconda3/lib/python3.6/site-packages/sklearn/preprocessing/label.py:151: DeprecationWarning: The truth value of an empty array is ambiguous. Returning False, but in future this will result in an error. Use `array.size > 0` to check that an array is not empty.\n",
      "  if diff:\n",
      "/Users/cricket/anaconda3/lib/python3.6/site-packages/sklearn/preprocessing/label.py:151: DeprecationWarning: The truth value of an empty array is ambiguous. Returning False, but in future this will result in an error. Use `array.size > 0` to check that an array is not empty.\n",
      "  if diff:\n"
     ]
    },
    {
     "name": "stdout",
     "output_type": "stream",
     "text": [
      "[CV]  featureasm__color__kmcol__n_clusters=10, featureasm__kp__kmkp__n_clusters=225, xgb__max_depth=50, score=0.3173076923076923, total=  26.6s\n",
      "[CV] featureasm__color__kmcol__n_clusters=10, featureasm__kp__kmkp__n_clusters=225, xgb__max_depth=75 \n"
     ]
    },
    {
     "name": "stderr",
     "output_type": "stream",
     "text": [
      "/Users/cricket/anaconda3/lib/python3.6/site-packages/sklearn/preprocessing/label.py:151: DeprecationWarning: The truth value of an empty array is ambiguous. Returning False, but in future this will result in an error. Use `array.size > 0` to check that an array is not empty.\n",
      "  if diff:\n",
      "/Users/cricket/anaconda3/lib/python3.6/site-packages/sklearn/preprocessing/label.py:151: DeprecationWarning: The truth value of an empty array is ambiguous. Returning False, but in future this will result in an error. Use `array.size > 0` to check that an array is not empty.\n",
      "  if diff:\n"
     ]
    },
    {
     "name": "stdout",
     "output_type": "stream",
     "text": [
      "[CV]  featureasm__color__kmcol__n_clusters=10, featureasm__kp__kmkp__n_clusters=225, xgb__max_depth=50, score=0.34782608695652173, total=  26.5s\n",
      "[CV] featureasm__color__kmcol__n_clusters=10, featureasm__kp__kmkp__n_clusters=225, xgb__max_depth=75 \n"
     ]
    },
    {
     "name": "stderr",
     "output_type": "stream",
     "text": [
      "/Users/cricket/anaconda3/lib/python3.6/site-packages/sklearn/preprocessing/label.py:151: DeprecationWarning: The truth value of an empty array is ambiguous. Returning False, but in future this will result in an error. Use `array.size > 0` to check that an array is not empty.\n",
      "  if diff:\n",
      "/Users/cricket/anaconda3/lib/python3.6/site-packages/sklearn/preprocessing/label.py:151: DeprecationWarning: The truth value of an empty array is ambiguous. Returning False, but in future this will result in an error. Use `array.size > 0` to check that an array is not empty.\n",
      "  if diff:\n"
     ]
    },
    {
     "name": "stdout",
     "output_type": "stream",
     "text": [
      "[CV]  featureasm__color__kmcol__n_clusters=10, featureasm__kp__kmkp__n_clusters=225, xgb__max_depth=50, score=0.29901960784313725, total=  26.2s\n",
      "[CV] featureasm__color__kmcol__n_clusters=10, featureasm__kp__kmkp__n_clusters=225, xgb__max_depth=75 \n"
     ]
    },
    {
     "name": "stderr",
     "output_type": "stream",
     "text": [
      "/Users/cricket/anaconda3/lib/python3.6/site-packages/sklearn/preprocessing/label.py:151: DeprecationWarning: The truth value of an empty array is ambiguous. Returning False, but in future this will result in an error. Use `array.size > 0` to check that an array is not empty.\n",
      "  if diff:\n",
      "/Users/cricket/anaconda3/lib/python3.6/site-packages/sklearn/preprocessing/label.py:151: DeprecationWarning: The truth value of an empty array is ambiguous. Returning False, but in future this will result in an error. Use `array.size > 0` to check that an array is not empty.\n",
      "  if diff:\n"
     ]
    },
    {
     "name": "stdout",
     "output_type": "stream",
     "text": [
      "[CV]  featureasm__color__kmcol__n_clusters=10, featureasm__kp__kmkp__n_clusters=225, xgb__max_depth=75, score=0.3557692307692308, total=  25.9s\n",
      "[CV] featureasm__color__kmcol__n_clusters=10, featureasm__kp__kmkp__n_clusters=225, xgb__max_depth=100 \n"
     ]
    },
    {
     "name": "stderr",
     "output_type": "stream",
     "text": [
      "/Users/cricket/anaconda3/lib/python3.6/site-packages/sklearn/preprocessing/label.py:151: DeprecationWarning: The truth value of an empty array is ambiguous. Returning False, but in future this will result in an error. Use `array.size > 0` to check that an array is not empty.\n",
      "  if diff:\n",
      "/Users/cricket/anaconda3/lib/python3.6/site-packages/sklearn/preprocessing/label.py:151: DeprecationWarning: The truth value of an empty array is ambiguous. Returning False, but in future this will result in an error. Use `array.size > 0` to check that an array is not empty.\n",
      "  if diff:\n"
     ]
    },
    {
     "name": "stdout",
     "output_type": "stream",
     "text": [
      "[CV]  featureasm__color__kmcol__n_clusters=10, featureasm__kp__kmkp__n_clusters=225, xgb__max_depth=75, score=0.33816425120772947, total=  26.1s\n",
      "[CV] featureasm__color__kmcol__n_clusters=10, featureasm__kp__kmkp__n_clusters=225, xgb__max_depth=100 \n"
     ]
    },
    {
     "name": "stderr",
     "output_type": "stream",
     "text": [
      "/Users/cricket/anaconda3/lib/python3.6/site-packages/sklearn/preprocessing/label.py:151: DeprecationWarning: The truth value of an empty array is ambiguous. Returning False, but in future this will result in an error. Use `array.size > 0` to check that an array is not empty.\n",
      "  if diff:\n",
      "/Users/cricket/anaconda3/lib/python3.6/site-packages/sklearn/preprocessing/label.py:151: DeprecationWarning: The truth value of an empty array is ambiguous. Returning False, but in future this will result in an error. Use `array.size > 0` to check that an array is not empty.\n",
      "  if diff:\n"
     ]
    },
    {
     "name": "stdout",
     "output_type": "stream",
     "text": [
      "[CV]  featureasm__color__kmcol__n_clusters=10, featureasm__kp__kmkp__n_clusters=225, xgb__max_depth=75, score=0.31862745098039214, total=  26.9s\n",
      "[CV] featureasm__color__kmcol__n_clusters=10, featureasm__kp__kmkp__n_clusters=225, xgb__max_depth=100 \n"
     ]
    },
    {
     "name": "stderr",
     "output_type": "stream",
     "text": [
      "/Users/cricket/anaconda3/lib/python3.6/site-packages/sklearn/preprocessing/label.py:151: DeprecationWarning: The truth value of an empty array is ambiguous. Returning False, but in future this will result in an error. Use `array.size > 0` to check that an array is not empty.\n",
      "  if diff:\n",
      "/Users/cricket/anaconda3/lib/python3.6/site-packages/sklearn/preprocessing/label.py:151: DeprecationWarning: The truth value of an empty array is ambiguous. Returning False, but in future this will result in an error. Use `array.size > 0` to check that an array is not empty.\n",
      "  if diff:\n"
     ]
    },
    {
     "name": "stdout",
     "output_type": "stream",
     "text": [
      "[CV]  featureasm__color__kmcol__n_clusters=10, featureasm__kp__kmkp__n_clusters=225, xgb__max_depth=100, score=0.33653846153846156, total=  28.7s\n",
      "[CV] featureasm__color__kmcol__n_clusters=10, featureasm__kp__kmkp__n_clusters=175, xgb__max_depth=50 \n"
     ]
    },
    {
     "name": "stderr",
     "output_type": "stream",
     "text": [
      "/Users/cricket/anaconda3/lib/python3.6/site-packages/sklearn/preprocessing/label.py:151: DeprecationWarning: The truth value of an empty array is ambiguous. Returning False, but in future this will result in an error. Use `array.size > 0` to check that an array is not empty.\n",
      "  if diff:\n",
      "/Users/cricket/anaconda3/lib/python3.6/site-packages/sklearn/preprocessing/label.py:151: DeprecationWarning: The truth value of an empty array is ambiguous. Returning False, but in future this will result in an error. Use `array.size > 0` to check that an array is not empty.\n",
      "  if diff:\n"
     ]
    },
    {
     "name": "stdout",
     "output_type": "stream",
     "text": [
      "[CV]  featureasm__color__kmcol__n_clusters=10, featureasm__kp__kmkp__n_clusters=225, xgb__max_depth=100, score=0.3333333333333333, total=  29.9s\n",
      "[CV] featureasm__color__kmcol__n_clusters=10, featureasm__kp__kmkp__n_clusters=175, xgb__max_depth=50 \n"
     ]
    },
    {
     "name": "stderr",
     "output_type": "stream",
     "text": [
      "/Users/cricket/anaconda3/lib/python3.6/site-packages/sklearn/preprocessing/label.py:151: DeprecationWarning: The truth value of an empty array is ambiguous. Returning False, but in future this will result in an error. Use `array.size > 0` to check that an array is not empty.\n",
      "  if diff:\n",
      "/Users/cricket/anaconda3/lib/python3.6/site-packages/sklearn/preprocessing/label.py:151: DeprecationWarning: The truth value of an empty array is ambiguous. Returning False, but in future this will result in an error. Use `array.size > 0` to check that an array is not empty.\n",
      "  if diff:\n"
     ]
    },
    {
     "name": "stdout",
     "output_type": "stream",
     "text": [
      "[CV]  featureasm__color__kmcol__n_clusters=10, featureasm__kp__kmkp__n_clusters=225, xgb__max_depth=100, score=0.3088235294117647, total=  30.4s\n",
      "[CV] featureasm__color__kmcol__n_clusters=10, featureasm__kp__kmkp__n_clusters=175, xgb__max_depth=50 \n"
     ]
    },
    {
     "name": "stderr",
     "output_type": "stream",
     "text": [
      "/Users/cricket/anaconda3/lib/python3.6/site-packages/sklearn/preprocessing/label.py:151: DeprecationWarning: The truth value of an empty array is ambiguous. Returning False, but in future this will result in an error. Use `array.size > 0` to check that an array is not empty.\n",
      "  if diff:\n",
      "/Users/cricket/anaconda3/lib/python3.6/site-packages/sklearn/preprocessing/label.py:151: DeprecationWarning: The truth value of an empty array is ambiguous. Returning False, but in future this will result in an error. Use `array.size > 0` to check that an array is not empty.\n",
      "  if diff:\n"
     ]
    },
    {
     "name": "stdout",
     "output_type": "stream",
     "text": [
      "[CV]  featureasm__color__kmcol__n_clusters=10, featureasm__kp__kmkp__n_clusters=175, xgb__max_depth=50, score=0.4182692307692308, total=  25.9s\n",
      "[CV] featureasm__color__kmcol__n_clusters=10, featureasm__kp__kmkp__n_clusters=175, xgb__max_depth=75 \n"
     ]
    },
    {
     "name": "stderr",
     "output_type": "stream",
     "text": [
      "/Users/cricket/anaconda3/lib/python3.6/site-packages/sklearn/preprocessing/label.py:151: DeprecationWarning: The truth value of an empty array is ambiguous. Returning False, but in future this will result in an error. Use `array.size > 0` to check that an array is not empty.\n",
      "  if diff:\n",
      "/Users/cricket/anaconda3/lib/python3.6/site-packages/sklearn/preprocessing/label.py:151: DeprecationWarning: The truth value of an empty array is ambiguous. Returning False, but in future this will result in an error. Use `array.size > 0` to check that an array is not empty.\n",
      "  if diff:\n"
     ]
    },
    {
     "name": "stdout",
     "output_type": "stream",
     "text": [
      "[CV]  featureasm__color__kmcol__n_clusters=10, featureasm__kp__kmkp__n_clusters=175, xgb__max_depth=50, score=0.3526570048309179, total=  25.8s\n",
      "[CV] featureasm__color__kmcol__n_clusters=10, featureasm__kp__kmkp__n_clusters=175, xgb__max_depth=75 \n"
     ]
    },
    {
     "name": "stderr",
     "output_type": "stream",
     "text": [
      "/Users/cricket/anaconda3/lib/python3.6/site-packages/sklearn/preprocessing/label.py:151: DeprecationWarning: The truth value of an empty array is ambiguous. Returning False, but in future this will result in an error. Use `array.size > 0` to check that an array is not empty.\n",
      "  if diff:\n",
      "/Users/cricket/anaconda3/lib/python3.6/site-packages/sklearn/preprocessing/label.py:151: DeprecationWarning: The truth value of an empty array is ambiguous. Returning False, but in future this will result in an error. Use `array.size > 0` to check that an array is not empty.\n",
      "  if diff:\n"
     ]
    },
    {
     "name": "stdout",
     "output_type": "stream",
     "text": [
      "[CV]  featureasm__color__kmcol__n_clusters=10, featureasm__kp__kmkp__n_clusters=175, xgb__max_depth=50, score=0.35294117647058826, total=  35.3s\n"
     ]
    },
    {
     "name": "stderr",
     "output_type": "stream",
     "text": [
      "[Parallel(n_jobs=3)]: Done  66 tasks      | elapsed: 13.5min\n"
     ]
    },
    {
     "name": "stdout",
     "output_type": "stream",
     "text": [
      "[CV] featureasm__color__kmcol__n_clusters=10, featureasm__kp__kmkp__n_clusters=175, xgb__max_depth=75 \n"
     ]
    },
    {
     "name": "stderr",
     "output_type": "stream",
     "text": [
      "/Users/cricket/anaconda3/lib/python3.6/site-packages/sklearn/preprocessing/label.py:151: DeprecationWarning: The truth value of an empty array is ambiguous. Returning False, but in future this will result in an error. Use `array.size > 0` to check that an array is not empty.\n",
      "  if diff:\n",
      "/Users/cricket/anaconda3/lib/python3.6/site-packages/sklearn/preprocessing/label.py:151: DeprecationWarning: The truth value of an empty array is ambiguous. Returning False, but in future this will result in an error. Use `array.size > 0` to check that an array is not empty.\n",
      "  if diff:\n"
     ]
    },
    {
     "name": "stdout",
     "output_type": "stream",
     "text": [
      "[CV]  featureasm__color__kmcol__n_clusters=10, featureasm__kp__kmkp__n_clusters=175, xgb__max_depth=75, score=0.35096153846153844, total=  36.0s\n"
     ]
    },
    {
     "name": "stderr",
     "output_type": "stream",
     "text": [
      "/Users/cricket/anaconda3/lib/python3.6/site-packages/sklearn/preprocessing/label.py:151: DeprecationWarning: The truth value of an empty array is ambiguous. Returning False, but in future this will result in an error. Use `array.size > 0` to check that an array is not empty.\n",
      "  if diff:\n"
     ]
    },
    {
     "name": "stdout",
     "output_type": "stream",
     "text": [
      "[CV] featureasm__color__kmcol__n_clusters=10, featureasm__kp__kmkp__n_clusters=175, xgb__max_depth=100 \n"
     ]
    },
    {
     "name": "stderr",
     "output_type": "stream",
     "text": [
      "/Users/cricket/anaconda3/lib/python3.6/site-packages/sklearn/preprocessing/label.py:151: DeprecationWarning: The truth value of an empty array is ambiguous. Returning False, but in future this will result in an error. Use `array.size > 0` to check that an array is not empty.\n",
      "  if diff:\n"
     ]
    },
    {
     "name": "stdout",
     "output_type": "stream",
     "text": [
      "[CV]  featureasm__color__kmcol__n_clusters=10, featureasm__kp__kmkp__n_clusters=175, xgb__max_depth=75, score=0.3671497584541063, total=  37.4s\n",
      "[CV] featureasm__color__kmcol__n_clusters=10, featureasm__kp__kmkp__n_clusters=175, xgb__max_depth=100 \n"
     ]
    },
    {
     "name": "stderr",
     "output_type": "stream",
     "text": [
      "/Users/cricket/anaconda3/lib/python3.6/site-packages/sklearn/preprocessing/label.py:151: DeprecationWarning: The truth value of an empty array is ambiguous. Returning False, but in future this will result in an error. Use `array.size > 0` to check that an array is not empty.\n",
      "  if diff:\n",
      "/Users/cricket/anaconda3/lib/python3.6/site-packages/sklearn/preprocessing/label.py:151: DeprecationWarning: The truth value of an empty array is ambiguous. Returning False, but in future this will result in an error. Use `array.size > 0` to check that an array is not empty.\n",
      "  if diff:\n"
     ]
    },
    {
     "name": "stdout",
     "output_type": "stream",
     "text": [
      "[CV]  featureasm__color__kmcol__n_clusters=10, featureasm__kp__kmkp__n_clusters=175, xgb__max_depth=75, score=0.3284313725490196, total= 1.3min\n",
      "[CV] featureasm__color__kmcol__n_clusters=10, featureasm__kp__kmkp__n_clusters=175, xgb__max_depth=100 \n"
     ]
    },
    {
     "name": "stderr",
     "output_type": "stream",
     "text": [
      "/Users/cricket/anaconda3/lib/python3.6/site-packages/sklearn/preprocessing/label.py:151: DeprecationWarning: The truth value of an empty array is ambiguous. Returning False, but in future this will result in an error. Use `array.size > 0` to check that an array is not empty.\n",
      "  if diff:\n",
      "/Users/cricket/anaconda3/lib/python3.6/site-packages/sklearn/preprocessing/label.py:151: DeprecationWarning: The truth value of an empty array is ambiguous. Returning False, but in future this will result in an error. Use `array.size > 0` to check that an array is not empty.\n",
      "  if diff:\n"
     ]
    },
    {
     "name": "stdout",
     "output_type": "stream",
     "text": [
      "[CV]  featureasm__color__kmcol__n_clusters=10, featureasm__kp__kmkp__n_clusters=175, xgb__max_depth=100, score=0.3557692307692308, total= 1.6min\n",
      "[CV] featureasm__color__kmcol__n_clusters=10, featureasm__kp__kmkp__n_clusters=200, xgb__max_depth=50 \n"
     ]
    },
    {
     "name": "stderr",
     "output_type": "stream",
     "text": [
      "/Users/cricket/anaconda3/lib/python3.6/site-packages/sklearn/preprocessing/label.py:151: DeprecationWarning: The truth value of an empty array is ambiguous. Returning False, but in future this will result in an error. Use `array.size > 0` to check that an array is not empty.\n",
      "  if diff:\n",
      "/Users/cricket/anaconda3/lib/python3.6/site-packages/sklearn/preprocessing/label.py:151: DeprecationWarning: The truth value of an empty array is ambiguous. Returning False, but in future this will result in an error. Use `array.size > 0` to check that an array is not empty.\n",
      "  if diff:\n"
     ]
    },
    {
     "name": "stdout",
     "output_type": "stream",
     "text": [
      "[CV]  featureasm__color__kmcol__n_clusters=10, featureasm__kp__kmkp__n_clusters=175, xgb__max_depth=100, score=0.357487922705314, total= 1.2min\n",
      "[CV] featureasm__color__kmcol__n_clusters=10, featureasm__kp__kmkp__n_clusters=200, xgb__max_depth=50 \n"
     ]
    },
    {
     "name": "stderr",
     "output_type": "stream",
     "text": [
      "/Users/cricket/anaconda3/lib/python3.6/site-packages/sklearn/preprocessing/label.py:151: DeprecationWarning: The truth value of an empty array is ambiguous. Returning False, but in future this will result in an error. Use `array.size > 0` to check that an array is not empty.\n",
      "  if diff:\n",
      "/Users/cricket/anaconda3/lib/python3.6/site-packages/sklearn/preprocessing/label.py:151: DeprecationWarning: The truth value of an empty array is ambiguous. Returning False, but in future this will result in an error. Use `array.size > 0` to check that an array is not empty.\n",
      "  if diff:\n"
     ]
    },
    {
     "name": "stdout",
     "output_type": "stream",
     "text": [
      "[CV]  featureasm__color__kmcol__n_clusters=10, featureasm__kp__kmkp__n_clusters=200, xgb__max_depth=50, score=0.3798076923076923, total=  24.9s\n",
      "[CV] featureasm__color__kmcol__n_clusters=10, featureasm__kp__kmkp__n_clusters=200, xgb__max_depth=50 \n"
     ]
    },
    {
     "name": "stderr",
     "output_type": "stream",
     "text": [
      "/Users/cricket/anaconda3/lib/python3.6/site-packages/sklearn/preprocessing/label.py:151: DeprecationWarning: The truth value of an empty array is ambiguous. Returning False, but in future this will result in an error. Use `array.size > 0` to check that an array is not empty.\n",
      "  if diff:\n",
      "/Users/cricket/anaconda3/lib/python3.6/site-packages/sklearn/preprocessing/label.py:151: DeprecationWarning: The truth value of an empty array is ambiguous. Returning False, but in future this will result in an error. Use `array.size > 0` to check that an array is not empty.\n",
      "  if diff:\n"
     ]
    },
    {
     "name": "stdout",
     "output_type": "stream",
     "text": [
      "[CV]  featureasm__color__kmcol__n_clusters=10, featureasm__kp__kmkp__n_clusters=175, xgb__max_depth=100, score=0.31862745098039214, total= 1.4min\n",
      "[CV] featureasm__color__kmcol__n_clusters=10, featureasm__kp__kmkp__n_clusters=200, xgb__max_depth=75 \n"
     ]
    },
    {
     "name": "stderr",
     "output_type": "stream",
     "text": [
      "/Users/cricket/anaconda3/lib/python3.6/site-packages/sklearn/preprocessing/label.py:151: DeprecationWarning: The truth value of an empty array is ambiguous. Returning False, but in future this will result in an error. Use `array.size > 0` to check that an array is not empty.\n",
      "  if diff:\n",
      "/Users/cricket/anaconda3/lib/python3.6/site-packages/sklearn/preprocessing/label.py:151: DeprecationWarning: The truth value of an empty array is ambiguous. Returning False, but in future this will result in an error. Use `array.size > 0` to check that an array is not empty.\n",
      "  if diff:\n"
     ]
    },
    {
     "name": "stdout",
     "output_type": "stream",
     "text": [
      "[CV]  featureasm__color__kmcol__n_clusters=10, featureasm__kp__kmkp__n_clusters=200, xgb__max_depth=50, score=0.3188405797101449, total=  24.8s\n",
      "[CV] featureasm__color__kmcol__n_clusters=10, featureasm__kp__kmkp__n_clusters=200, xgb__max_depth=75 \n"
     ]
    },
    {
     "name": "stderr",
     "output_type": "stream",
     "text": [
      "/Users/cricket/anaconda3/lib/python3.6/site-packages/sklearn/preprocessing/label.py:151: DeprecationWarning: The truth value of an empty array is ambiguous. Returning False, but in future this will result in an error. Use `array.size > 0` to check that an array is not empty.\n",
      "  if diff:\n",
      "/Users/cricket/anaconda3/lib/python3.6/site-packages/sklearn/preprocessing/label.py:151: DeprecationWarning: The truth value of an empty array is ambiguous. Returning False, but in future this will result in an error. Use `array.size > 0` to check that an array is not empty.\n",
      "  if diff:\n"
     ]
    },
    {
     "name": "stdout",
     "output_type": "stream",
     "text": [
      "[CV]  featureasm__color__kmcol__n_clusters=10, featureasm__kp__kmkp__n_clusters=200, xgb__max_depth=50, score=0.36764705882352944, total=  26.0s\n",
      "[CV] featureasm__color__kmcol__n_clusters=10, featureasm__kp__kmkp__n_clusters=200, xgb__max_depth=75 \n"
     ]
    },
    {
     "name": "stderr",
     "output_type": "stream",
     "text": [
      "/Users/cricket/anaconda3/lib/python3.6/site-packages/sklearn/preprocessing/label.py:151: DeprecationWarning: The truth value of an empty array is ambiguous. Returning False, but in future this will result in an error. Use `array.size > 0` to check that an array is not empty.\n",
      "  if diff:\n",
      "/Users/cricket/anaconda3/lib/python3.6/site-packages/sklearn/preprocessing/label.py:151: DeprecationWarning: The truth value of an empty array is ambiguous. Returning False, but in future this will result in an error. Use `array.size > 0` to check that an array is not empty.\n",
      "  if diff:\n"
     ]
    },
    {
     "name": "stdout",
     "output_type": "stream",
     "text": [
      "[CV]  featureasm__color__kmcol__n_clusters=10, featureasm__kp__kmkp__n_clusters=200, xgb__max_depth=75, score=0.25961538461538464, total=  25.6s\n",
      "[CV] featureasm__color__kmcol__n_clusters=10, featureasm__kp__kmkp__n_clusters=200, xgb__max_depth=100 \n"
     ]
    },
    {
     "name": "stderr",
     "output_type": "stream",
     "text": [
      "/Users/cricket/anaconda3/lib/python3.6/site-packages/sklearn/preprocessing/label.py:151: DeprecationWarning: The truth value of an empty array is ambiguous. Returning False, but in future this will result in an error. Use `array.size > 0` to check that an array is not empty.\n",
      "  if diff:\n",
      "/Users/cricket/anaconda3/lib/python3.6/site-packages/sklearn/preprocessing/label.py:151: DeprecationWarning: The truth value of an empty array is ambiguous. Returning False, but in future this will result in an error. Use `array.size > 0` to check that an array is not empty.\n",
      "  if diff:\n"
     ]
    },
    {
     "name": "stdout",
     "output_type": "stream",
     "text": [
      "[CV]  featureasm__color__kmcol__n_clusters=10, featureasm__kp__kmkp__n_clusters=200, xgb__max_depth=75, score=0.28502415458937197, total=  24.5s\n",
      "[CV] featureasm__color__kmcol__n_clusters=10, featureasm__kp__kmkp__n_clusters=200, xgb__max_depth=100 \n"
     ]
    },
    {
     "name": "stderr",
     "output_type": "stream",
     "text": [
      "/Users/cricket/anaconda3/lib/python3.6/site-packages/sklearn/preprocessing/label.py:151: DeprecationWarning: The truth value of an empty array is ambiguous. Returning False, but in future this will result in an error. Use `array.size > 0` to check that an array is not empty.\n",
      "  if diff:\n",
      "/Users/cricket/anaconda3/lib/python3.6/site-packages/sklearn/preprocessing/label.py:151: DeprecationWarning: The truth value of an empty array is ambiguous. Returning False, but in future this will result in an error. Use `array.size > 0` to check that an array is not empty.\n",
      "  if diff:\n"
     ]
    },
    {
     "name": "stdout",
     "output_type": "stream",
     "text": [
      "[CV]  featureasm__color__kmcol__n_clusters=10, featureasm__kp__kmkp__n_clusters=200, xgb__max_depth=75, score=0.35784313725490197, total=  25.1s\n",
      "[CV] featureasm__color__kmcol__n_clusters=10, featureasm__kp__kmkp__n_clusters=200, xgb__max_depth=100 \n"
     ]
    },
    {
     "name": "stderr",
     "output_type": "stream",
     "text": [
      "/Users/cricket/anaconda3/lib/python3.6/site-packages/sklearn/preprocessing/label.py:151: DeprecationWarning: The truth value of an empty array is ambiguous. Returning False, but in future this will result in an error. Use `array.size > 0` to check that an array is not empty.\n",
      "  if diff:\n",
      "/Users/cricket/anaconda3/lib/python3.6/site-packages/sklearn/preprocessing/label.py:151: DeprecationWarning: The truth value of an empty array is ambiguous. Returning False, but in future this will result in an error. Use `array.size > 0` to check that an array is not empty.\n",
      "  if diff:\n"
     ]
    },
    {
     "name": "stdout",
     "output_type": "stream",
     "text": [
      "[CV]  featureasm__color__kmcol__n_clusters=10, featureasm__kp__kmkp__n_clusters=200, xgb__max_depth=100, score=0.3269230769230769, total=  25.8s\n"
     ]
    },
    {
     "name": "stderr",
     "output_type": "stream",
     "text": [
      "/Users/cricket/anaconda3/lib/python3.6/site-packages/sklearn/preprocessing/label.py:151: DeprecationWarning: The truth value of an empty array is ambiguous. Returning False, but in future this will result in an error. Use `array.size > 0` to check that an array is not empty.\n",
      "  if diff:\n",
      "/Users/cricket/anaconda3/lib/python3.6/site-packages/sklearn/preprocessing/label.py:151: DeprecationWarning: The truth value of an empty array is ambiguous. Returning False, but in future this will result in an error. Use `array.size > 0` to check that an array is not empty.\n",
      "  if diff:\n"
     ]
    },
    {
     "name": "stdout",
     "output_type": "stream",
     "text": [
      "[CV]  featureasm__color__kmcol__n_clusters=10, featureasm__kp__kmkp__n_clusters=200, xgb__max_depth=100, score=0.30917874396135264, total=  26.0s\n"
     ]
    },
    {
     "name": "stderr",
     "output_type": "stream",
     "text": [
      "/Users/cricket/anaconda3/lib/python3.6/site-packages/sklearn/preprocessing/label.py:151: DeprecationWarning: The truth value of an empty array is ambiguous. Returning False, but in future this will result in an error. Use `array.size > 0` to check that an array is not empty.\n",
      "  if diff:\n",
      "/Users/cricket/anaconda3/lib/python3.6/site-packages/sklearn/preprocessing/label.py:151: DeprecationWarning: The truth value of an empty array is ambiguous. Returning False, but in future this will result in an error. Use `array.size > 0` to check that an array is not empty.\n",
      "  if diff:\n"
     ]
    },
    {
     "name": "stdout",
     "output_type": "stream",
     "text": [
      "[CV]  featureasm__color__kmcol__n_clusters=10, featureasm__kp__kmkp__n_clusters=200, xgb__max_depth=100, score=0.3382352941176471, total=  21.7s\n"
     ]
    },
    {
     "name": "stderr",
     "output_type": "stream",
     "text": [
      "[Parallel(n_jobs=3)]: Done  81 out of  81 | elapsed: 17.8min finished\n"
     ]
    },
    {
     "data": {
      "text/plain": [
       "{'featureasm__color__kmcol__n_clusters': 10,\n",
       " 'featureasm__kp__kmkp__n_clusters': 175,\n",
       " 'xgb__max_depth': 50}"
      ]
     },
     "execution_count": 99,
     "metadata": {},
     "output_type": "execute_result"
    }
   ],
   "source": [
    "# STep 1\n",
    "\n",
    "parameters = {'xgb__max_depth': range(50,101,25),\n",
    "              #'min_child_weight': range(1,6,2),\n",
    "              'featureasm__kp__kmkp__n_clusters':[225, 175, 200],\n",
    "              'featureasm__color__kmcol__n_clusters':[6,8,10],}\n",
    "\n",
    "xgbcclf = GridSearchCV(xgbpipe, parameters, scoring = scorer, n_jobs = 3, cv = skf, verbose = 5)\n",
    "xgbcclf.fit(X_train, y_train)\n",
    "xgbcclf.best_params_"
   ]
  },
  {
   "cell_type": "code",
   "execution_count": 100,
   "metadata": {},
   "outputs": [
    {
     "name": "stderr",
     "output_type": "stream",
     "text": [
      "/Users/cricket/anaconda3/lib/python3.6/site-packages/sklearn/preprocessing/label.py:151: DeprecationWarning: The truth value of an empty array is ambiguous. Returning False, but in future this will result in an error. Use `array.size > 0` to check that an array is not empty.\n",
      "  if diff:\n"
     ]
    },
    {
     "data": {
      "text/plain": [
       "0.3888888888888889"
      ]
     },
     "execution_count": 100,
     "metadata": {},
     "output_type": "execute_result"
    }
   ],
   "source": [
    "xgbcclf.score(X_test, y_test)"
   ]
  },
  {
   "cell_type": "markdown",
   "metadata": {},
   "source": [
    "# TO UPDTATE AFTER THAT !!!!"
   ]
  },
  {
   "cell_type": "code",
   "execution_count": null,
   "metadata": {},
   "outputs": [],
   "source": []
  },
  {
   "cell_type": "code",
   "execution_count": null,
   "metadata": {},
   "outputs": [],
   "source": []
  },
  {
   "cell_type": "code",
   "execution_count": null,
   "metadata": {},
   "outputs": [],
   "source": [
    "# Step 2\n",
    "\n",
    "step2 = {**xgbcclf1.best_params_, **step1}\n",
    "parameters = {'gamma':[i/10.0 for i in range(0,3)]}\n",
    "xgbc2 = xgb.XGBClassifier(**step2)\n",
    "xgbcclf2 = GridSearchCV(xgbc2, parameters, scoring = scorer, n_jobs = 3, cv = skf, verbose = 5, return_train_score=True)\n",
    "xgbcclf2.fit(X_train_scaled, ytrain[parametertoclass])\n",
    "xgbcclf2.score(X_test_scaled, ytest[parametertoclass])"
   ]
  },
  {
   "cell_type": "code",
   "execution_count": null,
   "metadata": {},
   "outputs": [],
   "source": [
    "# Step 3\n",
    "\n",
    "\n",
    "#Gridsearch creation - XGBoostingClassifier - Step 3\n",
    "step3 = {**xgbcclf2.best_params_, **step2}\n",
    "\n",
    "parameters = {'subsample':[i/10.0 for i in range(6,10)], 'colsample_bytree':[i/10.0 for i in range(6,10)]}\n",
    "xgbc3 = xgb.XGBClassifier(**step3)\n",
    "xgbcclf3 = GridSearchCV(xgbc3, parameters, scoring = scorer, n_jobs = 3, cv = skf, verbose = 5, return_train_score=True)\n",
    "xgbcclf3.fit(X_train_scaled, ytrain[parametertoclass])\n",
    "xgbcclf3.score(X_test_scaled, ytest[parametertoclass])\n",
    "\n"
   ]
  },
  {
   "cell_type": "code",
   "execution_count": null,
   "metadata": {},
   "outputs": [],
   "source": [
    "# Step 4\n",
    "\n",
    "#Gridsearch creation - XGBoostingClassifier - Step 4\n",
    "step4 = {**xgbcclf3.best_params_, **step3}\n",
    "\n",
    "parameters = {'learning_rate':[0.01, 0.05, 0.1]}\n",
    "xgbc4 = xgb.XGBClassifier(**step4)\n",
    "xgbcclf4 = GridSearchCV(xgbc4, parameters, scoring = scorer, n_jobs = 3, cv = skf, verbose = 5, return_train_score=True)\n",
    "xgbcclf4.fit(X_train_scaled, ytrain[parametertoclass])\n",
    "xgbcclf4.score(X_test_scaled, ytest[parametertoclass])"
   ]
  },
  {
   "cell_type": "code",
   "execution_count": null,
   "metadata": {},
   "outputs": [],
   "source": []
  }
 ],
 "metadata": {
  "kernelspec": {
   "display_name": "Python 3",
   "language": "python",
   "name": "python3"
  },
  "language_info": {
   "codemirror_mode": {
    "name": "ipython",
    "version": 3
   },
   "file_extension": ".py",
   "mimetype": "text/x-python",
   "name": "python",
   "nbconvert_exporter": "python",
   "pygments_lexer": "ipython3",
   "version": "3.6.4"
  }
 },
 "nbformat": 4,
 "nbformat_minor": 2
}
