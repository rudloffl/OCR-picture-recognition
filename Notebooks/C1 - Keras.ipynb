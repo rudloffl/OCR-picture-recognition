{
 "cells": [
  {
   "cell_type": "code",
   "execution_count": 2,
   "metadata": {},
   "outputs": [
    {
     "name": "stderr",
     "output_type": "stream",
     "text": [
      "/Users/cricket/anaconda3/lib/python3.6/site-packages/h5py/__init__.py:36: FutureWarning: Conversion of the second argument of issubdtype from `float` to `np.floating` is deprecated. In future, it will be treated as `np.float64 == np.dtype(float).type`.\n",
      "  from ._conv import register_converters as _register_converters\n",
      "Using TensorFlow backend.\n"
     ]
    }
   ],
   "source": [
    "#from keras.preprocessing import sequence\n",
    "#from keras.models import Sequential\n",
    "from keras.layers.core import Dense, Dropout, Activation, Lambda\n",
    "from keras.layers.embeddings import Embedding\n",
    "from keras.layers.convolutional import Convolution1D\n",
    "from keras.models import load_model\n",
    "import os\n",
    "import numpy as np"
   ]
  },
  {
   "cell_type": "markdown",
   "metadata": {},
   "source": [
    "https://github.com/lemuelbarango/dog-breed-classifier/blob/master/setup.ipynb"
   ]
  },
  {
   "cell_type": "markdown",
   "metadata": {},
   "source": [
    "https://github.com/saksham789/DOG-BREED-CLASSIFICATION-STANFORD-DOG-DATASET  \n",
    "http://course.fast.ai/lessons/lessons.html\n"
   ]
  },
  {
   "cell_type": "markdown",
   "metadata": {},
   "source": [
    "https://github.com/lemuelbarango/dog-breed-classifier  \n",
    "https://github.com/stormy-ua/dog-breeds-classification  \n",
    "https://towardsdatascience.com/dog-breed-classification-hands-on-approach-b5e4f88c333e  \n",
    "https://github.com/saksham789/DOG-BREED-CLASSIFICATION-STANFORD-DOG-DATASET"
   ]
  },
  {
   "cell_type": "markdown",
   "metadata": {},
   "source": [
    "https://github.com/Arsey/keras-transfer-learning-for-oxford102/blob/master/bootstrap.py  \n",
    "https://github.com/anujshah1003/Transfer-Learning-in-keras---custom-data/blob/master/transfer_learning_vgg16_custom_data.py  \n",
    "https://www.learnopencv.com/keras-tutorial-transfer-learning-using-pre-trained-models/  \n",
    "https://github.com/tzutalin/ImageNet_Utils  "
   ]
  },
  {
   "cell_type": "markdown",
   "metadata": {},
   "source": [
    "# Folder setting"
   ]
  },
  {
   "cell_type": "code",
   "execution_count": 5,
   "metadata": {},
   "outputs": [],
   "source": [
    "url = 'http://vision.stanford.edu/aditya86/ImageNetDogs/'\n",
    "num_classes = 120\n",
    "image_size = 224\n",
    "num_channels = 3\n",
    "np.random.seed(133)"
   ]
  },
  {
   "cell_type": "code",
   "execution_count": 3,
   "metadata": {},
   "outputs": [],
   "source": [
    "def file_create(path):\n",
    "    if  not os.path.exists(path):\n",
    "        os.mkdir(os.path.join(os.getcwd(), *path.split('/')))"
   ]
  },
  {
   "cell_type": "code",
   "execution_count": 6,
   "metadata": {},
   "outputs": [],
   "source": [
    "from six.moves.urllib.request import urlretrieve\n",
    "def downloadfile(filename, targetloc='..', url=url):\n",
    "    dest_filename = os.path.join(targetloc, filename)\n",
    "    filename, _ = urlretrieve(url + filename, dest_filename)\n",
    "    print(dest_filename, 'created')\n",
    "    return filename"
   ]
  },
  {
   "cell_type": "code",
   "execution_count": 5,
   "metadata": {},
   "outputs": [],
   "source": [
    "import tarfile\n",
    "import sys\n",
    "def extract(filename, target, location = '..'):\n",
    "    \n",
    "    tar = tarfile.open(filename)\n",
    "    sys.stdout.flush()\n",
    "    tar.extractall(target)\n",
    "    tar.close()\n",
    "    print(filename, 'created')"
   ]
  },
  {
   "cell_type": "code",
   "execution_count": 6,
   "metadata": {},
   "outputs": [],
   "source": [
    "# Folder creation\n",
    "file_create('../data')\n",
    "file_create('../images')\n",
    "file_create('../Annotation')\n",
    "file_create('../lists')\n",
    "file_create('../features')\n",
    "file_create('../data/train')\n",
    "file_create('../data/test')\n",
    "file_create('../data/cropped')\n",
    "file_create('../data/cropped/train')\n",
    "file_create('../data/cropped/test')"
   ]
  },
  {
   "cell_type": "code",
   "execution_count": 3,
   "metadata": {},
   "outputs": [
    {
     "ename": "NameError",
     "evalue": "name 'downloadfile' is not defined",
     "output_type": "error",
     "traceback": [
      "\u001b[0;31m---------------------------------------------------------------------------\u001b[0m",
      "\u001b[0;31mNameError\u001b[0m                                 Traceback (most recent call last)",
      "\u001b[0;32m<ipython-input-3-f99ccd2d6401>\u001b[0m in \u001b[0;36m<module>\u001b[0;34m()\u001b[0m\n\u001b[1;32m      1\u001b[0m \u001b[0;31m#download files\u001b[0m\u001b[0;34m\u001b[0m\u001b[0;34m\u001b[0m\u001b[0m\n\u001b[0;32m----> 2\u001b[0;31m \u001b[0mdownloadfile\u001b[0m\u001b[0;34m(\u001b[0m\u001b[0;34m'lists.tar'\u001b[0m\u001b[0;34m)\u001b[0m\u001b[0;34m\u001b[0m\u001b[0m\n\u001b[0m\u001b[1;32m      3\u001b[0m \u001b[0mdownloadfile\u001b[0m\u001b[0;34m(\u001b[0m\u001b[0;34m'annotation.tar'\u001b[0m\u001b[0;34m)\u001b[0m\u001b[0;34m\u001b[0m\u001b[0m\n\u001b[1;32m      4\u001b[0m \u001b[0mdownloadfile\u001b[0m\u001b[0;34m(\u001b[0m\u001b[0;34m'images.tar'\u001b[0m\u001b[0;34m)\u001b[0m\u001b[0;34m\u001b[0m\u001b[0m\n\u001b[1;32m      5\u001b[0m \u001b[0;31m#downloadfile('train_data.mat', targetloc = '../features')\u001b[0m\u001b[0;34m\u001b[0m\u001b[0;34m\u001b[0m\u001b[0m\n",
      "\u001b[0;31mNameError\u001b[0m: name 'downloadfile' is not defined"
     ]
    }
   ],
   "source": [
    "#download files\n",
    "downloadfile('lists.tar')\n",
    "downloadfile('annotation.tar')\n",
    "downloadfile('images.tar')\n",
    "#downloadfile('train_data.mat', targetloc = '../features')\n",
    "#downloadfile('test_data.mat', targetloc = '../features')"
   ]
  },
  {
   "cell_type": "code",
   "execution_count": 8,
   "metadata": {},
   "outputs": [
    {
     "name": "stdout",
     "output_type": "stream",
     "text": [
      "../lists.tar created\n",
      "../annotation.tar created\n",
      "../images.tar created\n"
     ]
    }
   ],
   "source": [
    "#Extract files\n",
    "extract('../lists.tar', '../lists/')\n",
    "extract('../annotation.tar', '..')\n",
    "extract('../images.tar', '..')\n"
   ]
  },
  {
   "cell_type": "code",
   "execution_count": 9,
   "metadata": {},
   "outputs": [],
   "source": [
    "images_filename = '../Images'\n",
    "annotation_filename = '../Annotation'"
   ]
  },
  {
   "cell_type": "markdown",
   "metadata": {},
   "source": [
    "# dataset re-ordering"
   ]
  },
  {
   "cell_type": "code",
   "execution_count": 10,
   "metadata": {},
   "outputs": [],
   "source": [
    "import scipy.io as sio\n",
    "test_list = sio.loadmat('../lists/test_list.mat')['file_list']\n",
    "train_list = sio.loadmat('../lists/train_list.mat')['file_list']"
   ]
  },
  {
   "cell_type": "code",
   "execution_count": 11,
   "metadata": {},
   "outputs": [],
   "source": [
    "#create empty folders\n",
    "images_folders = [folder for folder in os.listdir('../Images')if os.path.isdir(os.path.join('../Images', folder))]\n",
    "\n",
    "rootdir='../data'\n",
    "for folder in images_folders:\n",
    "    os.makedirs(os.path.join(rootdir, 'train', folder))#\"train/\"+folder.split(\"\\\\\")[-1])\n",
    "    os.makedirs(os.path.join(rootdir, 'test', folder))\n",
    "    os.makedirs(os.path.join(rootdir, 'cropped/train', folder))\n",
    "    os.makedirs(os.path.join(rootdir, 'cropped/test', folder))"
   ]
  },
  {
   "cell_type": "code",
   "execution_count": 12,
   "metadata": {},
   "outputs": [],
   "source": [
    "import shutil\n",
    "def move_data_files(image_list, new_folder, copy='../Images'):\n",
    "    for file in image_list:\n",
    "        if os.path.exists(os.path.join(copy, file[0][0])):\n",
    "            shutil.move(os.path.join(copy, file[0][0]), os.path.join(new_folder, file[0][0]))\n",
    "        elif not os.path.exists(os.path.join(copy, file[0][0])):\n",
    "            print('%s does not exist, it may be missing' % os.path.exists(os.path.join(copy, file[0][0])))\n",
    "    return [os.path.join(new_folder, folder) for folder in os.listdir(new_folder) if os.path.isdir(os.path.join(new_folder, folder))]"
   ]
  },
  {
   "cell_type": "code",
   "execution_count": 13,
   "metadata": {},
   "outputs": [],
   "source": [
    "test_folders = move_data_files(test_list, new_folder='../data/test')\n",
    "train_folders = move_data_files(train_list, new_folder='../data/train')"
   ]
  },
  {
   "cell_type": "markdown",
   "metadata": {},
   "source": [
    "# dataset creation"
   ]
  },
  {
   "cell_type": "code",
   "execution_count": 14,
   "metadata": {},
   "outputs": [],
   "source": [
    "import imageio\n",
    "from xml.dom import minidom\n",
    "from skimage import transform\n",
    "def load_breed(folder):\n",
    "    \"\"\"\n",
    "    Load the data for a single breed label.\n",
    "    \"\"\"\n",
    "    serie = folder.split('/')[2]\n",
    "    breed = folder.split('/')[-1]\n",
    "    image_files = os.listdir(folder)\n",
    "    dataset = np.ndarray(shape=(len(image_files), num_channels, image_size, image_size), dtype=np.float32)\n",
    "    num_images = 0\n",
    "    \n",
    "    for image in image_files:\n",
    "        #print(os.path.join('../data/cropped', serie, breed, image))\n",
    "        image_file = os.path.join(folder, image)\n",
    "        \n",
    "        try:\n",
    "            image_data = imageio.imread(image_file)[:,:,:3]\n",
    "            \n",
    "            annon_file = annotation_filename + '/' + folder.split('/')[-1] + '/' + image.split('.')[0]\n",
    "            annon_xml = minidom.parse(annon_file)\n",
    "            xmin = int(annon_xml.getElementsByTagName('xmin')[0].firstChild.nodeValue)\n",
    "            ymin = int(annon_xml.getElementsByTagName('ymin')[0].firstChild.nodeValue)\n",
    "            xmax = int(annon_xml.getElementsByTagName('xmax')[0].firstChild.nodeValue)\n",
    "            ymax = int(annon_xml.getElementsByTagName('ymax')[0].firstChild.nodeValue)\n",
    "            \n",
    "            new_image_data = image_data[ymin:ymax,xmin:xmax,:]\n",
    "            new_image_data = transform.resize(new_image_data, (image_size, image_size), mode='reflect')\n",
    "            \n",
    "            imageio.imwrite(os.path.join('../data/cropped', serie, breed, image), new_image_data)#'../cropped/' + folder + '/' + image, new_image_data)\n",
    "            dataset[num_images, :, :, :] = new_image_data.swapaxes(1,2).swapaxes(0,1)[1]\n",
    "            num_images += 1\n",
    "        except IOError as e:\n",
    "            print('Could not read:', image_file, ':', e, '- it\\'s ok, skipping.')\n",
    "\n",
    "    dataset = dataset[0:num_images, :, :, :]\n",
    "\n",
    "    print('Full dataset tensor:', dataset.shape)\n",
    "    return dataset\n",
    "\n",
    "#load_breed('../data/train/n02085782-Japanese_spaniel')"
   ]
  },
  {
   "cell_type": "code",
   "execution_count": 15,
   "metadata": {},
   "outputs": [],
   "source": [
    "from six.moves import cPickle as pickle\n",
    "def maybe_pickle(data_folders, force=False):\n",
    "    dataset_names = []\n",
    "    for folder in data_folders:\n",
    "        print(folder)\n",
    "        set_filename = folder + '.pickle'\n",
    "        dataset_names.append(set_filename)\n",
    "        if os.path.exists(set_filename) and not force:\n",
    "            print('%s already present - Skipping pickling.' % set_filename)\n",
    "        else:\n",
    "            print('Pickling %s.' % set_filename)\n",
    "            dataset = load_breed(folder)\n",
    "            try:\n",
    "                with open(set_filename, 'wb') as f:\n",
    "                    pickle.dump(dataset, f, pickle.HIGHEST_PROTOCOL)\n",
    "            except Exception as e:\n",
    "                print('Unable to save data to', set_filename, ':', e)\n",
    "  \n",
    "    return dataset_names"
   ]
  },
  {
   "cell_type": "code",
   "execution_count": 16,
   "metadata": {},
   "outputs": [
    {
     "name": "stdout",
     "output_type": "stream",
     "text": [
      "../data/train/n02085620-Chihuahua\n",
      "Pickling ../data/train/n02085620-Chihuahua.pickle.\n"
     ]
    },
    {
     "name": "stderr",
     "output_type": "stream",
     "text": [
      "/Users/cricket/anaconda3/lib/python3.6/site-packages/imageio/core/util.py:78: UserWarning: Lossy conversion from float64 to uint8, range [0, 1]\n",
      "  dtype_str, out_type.__name__))\n"
     ]
    },
    {
     "name": "stdout",
     "output_type": "stream",
     "text": [
      "Full dataset tensor: (100, 3, 224, 224)\n",
      "../data/train/n02085782-Japanese_spaniel\n",
      "Pickling ../data/train/n02085782-Japanese_spaniel.pickle.\n",
      "Full dataset tensor: (100, 3, 224, 224)\n",
      "../data/train/n02085936-Maltese_dog\n",
      "Pickling ../data/train/n02085936-Maltese_dog.pickle.\n",
      "Full dataset tensor: (100, 3, 224, 224)\n",
      "../data/train/n02086079-Pekinese\n",
      "Pickling ../data/train/n02086079-Pekinese.pickle.\n",
      "Full dataset tensor: (100, 3, 224, 224)\n",
      "../data/train/n02086240-Shih-Tzu\n",
      "Pickling ../data/train/n02086240-Shih-Tzu.pickle.\n",
      "Full dataset tensor: (100, 3, 224, 224)\n",
      "../data/train/n02086646-Blenheim_spaniel\n",
      "Pickling ../data/train/n02086646-Blenheim_spaniel.pickle.\n",
      "Full dataset tensor: (100, 3, 224, 224)\n",
      "../data/train/n02086910-papillon\n",
      "Pickling ../data/train/n02086910-papillon.pickle.\n",
      "Full dataset tensor: (100, 3, 224, 224)\n",
      "../data/train/n02087046-toy_terrier\n",
      "Pickling ../data/train/n02087046-toy_terrier.pickle.\n",
      "Full dataset tensor: (100, 3, 224, 224)\n",
      "../data/train/n02087394-Rhodesian_ridgeback\n",
      "Pickling ../data/train/n02087394-Rhodesian_ridgeback.pickle.\n",
      "Full dataset tensor: (100, 3, 224, 224)\n",
      "../data/train/n02088094-Afghan_hound\n",
      "Pickling ../data/train/n02088094-Afghan_hound.pickle.\n",
      "Full dataset tensor: (100, 3, 224, 224)\n",
      "../data/train/n02088238-basset\n",
      "Pickling ../data/train/n02088238-basset.pickle.\n",
      "Full dataset tensor: (100, 3, 224, 224)\n",
      "../data/train/n02088364-beagle\n",
      "Pickling ../data/train/n02088364-beagle.pickle.\n",
      "Full dataset tensor: (100, 3, 224, 224)\n",
      "../data/train/n02088466-bloodhound\n",
      "Pickling ../data/train/n02088466-bloodhound.pickle.\n",
      "Full dataset tensor: (100, 3, 224, 224)\n",
      "../data/train/n02088632-bluetick\n",
      "Pickling ../data/train/n02088632-bluetick.pickle.\n",
      "Full dataset tensor: (100, 3, 224, 224)\n",
      "../data/train/n02089078-black-and-tan_coonhound\n",
      "Pickling ../data/train/n02089078-black-and-tan_coonhound.pickle.\n",
      "Full dataset tensor: (100, 3, 224, 224)\n",
      "../data/train/n02089867-Walker_hound\n",
      "Pickling ../data/train/n02089867-Walker_hound.pickle.\n",
      "Full dataset tensor: (100, 3, 224, 224)\n",
      "../data/train/n02089973-English_foxhound\n",
      "Pickling ../data/train/n02089973-English_foxhound.pickle.\n",
      "Full dataset tensor: (100, 3, 224, 224)\n",
      "../data/train/n02090379-redbone\n",
      "Pickling ../data/train/n02090379-redbone.pickle.\n",
      "Full dataset tensor: (100, 3, 224, 224)\n",
      "../data/train/n02090622-borzoi\n",
      "Pickling ../data/train/n02090622-borzoi.pickle.\n",
      "Full dataset tensor: (100, 3, 224, 224)\n",
      "../data/train/n02090721-Irish_wolfhound\n",
      "Pickling ../data/train/n02090721-Irish_wolfhound.pickle.\n",
      "Full dataset tensor: (100, 3, 224, 224)\n",
      "../data/train/n02091032-Italian_greyhound\n",
      "Pickling ../data/train/n02091032-Italian_greyhound.pickle.\n",
      "Full dataset tensor: (100, 3, 224, 224)\n",
      "../data/train/n02091134-whippet\n",
      "Pickling ../data/train/n02091134-whippet.pickle.\n",
      "Full dataset tensor: (100, 3, 224, 224)\n",
      "../data/train/n02091244-Ibizan_hound\n",
      "Pickling ../data/train/n02091244-Ibizan_hound.pickle.\n",
      "Full dataset tensor: (100, 3, 224, 224)\n",
      "../data/train/n02091467-Norwegian_elkhound\n",
      "Pickling ../data/train/n02091467-Norwegian_elkhound.pickle.\n",
      "Full dataset tensor: (100, 3, 224, 224)\n",
      "../data/train/n02091635-otterhound\n",
      "Pickling ../data/train/n02091635-otterhound.pickle.\n",
      "Full dataset tensor: (100, 3, 224, 224)\n",
      "../data/train/n02091831-Saluki\n",
      "Pickling ../data/train/n02091831-Saluki.pickle.\n",
      "Full dataset tensor: (100, 3, 224, 224)\n",
      "../data/train/n02092002-Scottish_deerhound\n",
      "Pickling ../data/train/n02092002-Scottish_deerhound.pickle.\n",
      "Full dataset tensor: (100, 3, 224, 224)\n",
      "../data/train/n02092339-Weimaraner\n",
      "Pickling ../data/train/n02092339-Weimaraner.pickle.\n",
      "Full dataset tensor: (100, 3, 224, 224)\n",
      "../data/train/n02093256-Staffordshire_bullterrier\n",
      "Pickling ../data/train/n02093256-Staffordshire_bullterrier.pickle.\n",
      "Full dataset tensor: (100, 3, 224, 224)\n",
      "../data/train/n02093428-American_Staffordshire_terrier\n",
      "Pickling ../data/train/n02093428-American_Staffordshire_terrier.pickle.\n",
      "Full dataset tensor: (100, 3, 224, 224)\n",
      "../data/train/n02093647-Bedlington_terrier\n",
      "Pickling ../data/train/n02093647-Bedlington_terrier.pickle.\n",
      "Full dataset tensor: (100, 3, 224, 224)\n",
      "../data/train/n02093754-Border_terrier\n",
      "Pickling ../data/train/n02093754-Border_terrier.pickle.\n",
      "Full dataset tensor: (100, 3, 224, 224)\n",
      "../data/train/n02093859-Kerry_blue_terrier\n",
      "Pickling ../data/train/n02093859-Kerry_blue_terrier.pickle.\n",
      "Full dataset tensor: (100, 3, 224, 224)\n",
      "../data/train/n02093991-Irish_terrier\n",
      "Pickling ../data/train/n02093991-Irish_terrier.pickle.\n",
      "Full dataset tensor: (100, 3, 224, 224)\n",
      "../data/train/n02094114-Norfolk_terrier\n",
      "Pickling ../data/train/n02094114-Norfolk_terrier.pickle.\n",
      "Full dataset tensor: (100, 3, 224, 224)\n",
      "../data/train/n02094258-Norwich_terrier\n",
      "Pickling ../data/train/n02094258-Norwich_terrier.pickle.\n",
      "Full dataset tensor: (100, 3, 224, 224)\n",
      "../data/train/n02094433-Yorkshire_terrier\n",
      "Pickling ../data/train/n02094433-Yorkshire_terrier.pickle.\n",
      "Full dataset tensor: (100, 3, 224, 224)\n",
      "../data/train/n02095314-wire-haired_fox_terrier\n",
      "Pickling ../data/train/n02095314-wire-haired_fox_terrier.pickle.\n",
      "Full dataset tensor: (100, 3, 224, 224)\n",
      "../data/train/n02095570-Lakeland_terrier\n",
      "Pickling ../data/train/n02095570-Lakeland_terrier.pickle.\n",
      "Full dataset tensor: (100, 3, 224, 224)\n",
      "../data/train/n02095889-Sealyham_terrier\n",
      "Pickling ../data/train/n02095889-Sealyham_terrier.pickle.\n",
      "Full dataset tensor: (100, 3, 224, 224)\n",
      "../data/train/n02096051-Airedale\n",
      "Pickling ../data/train/n02096051-Airedale.pickle.\n",
      "Full dataset tensor: (100, 3, 224, 224)\n",
      "../data/train/n02096177-cairn\n",
      "Pickling ../data/train/n02096177-cairn.pickle.\n",
      "Full dataset tensor: (100, 3, 224, 224)\n",
      "../data/train/n02096294-Australian_terrier\n",
      "Pickling ../data/train/n02096294-Australian_terrier.pickle.\n",
      "Full dataset tensor: (100, 3, 224, 224)\n",
      "../data/train/n02096437-Dandie_Dinmont\n",
      "Pickling ../data/train/n02096437-Dandie_Dinmont.pickle.\n",
      "Full dataset tensor: (100, 3, 224, 224)\n",
      "../data/train/n02096585-Boston_bull\n",
      "Pickling ../data/train/n02096585-Boston_bull.pickle.\n",
      "Full dataset tensor: (100, 3, 224, 224)\n",
      "../data/train/n02097047-miniature_schnauzer\n",
      "Pickling ../data/train/n02097047-miniature_schnauzer.pickle.\n",
      "Full dataset tensor: (100, 3, 224, 224)\n",
      "../data/train/n02097130-giant_schnauzer\n",
      "Pickling ../data/train/n02097130-giant_schnauzer.pickle.\n",
      "Full dataset tensor: (100, 3, 224, 224)\n",
      "../data/train/n02097209-standard_schnauzer\n",
      "Pickling ../data/train/n02097209-standard_schnauzer.pickle.\n",
      "Full dataset tensor: (100, 3, 224, 224)\n",
      "../data/train/n02097298-Scotch_terrier\n",
      "Pickling ../data/train/n02097298-Scotch_terrier.pickle.\n",
      "Full dataset tensor: (100, 3, 224, 224)\n",
      "../data/train/n02097474-Tibetan_terrier\n",
      "Pickling ../data/train/n02097474-Tibetan_terrier.pickle.\n",
      "Full dataset tensor: (100, 3, 224, 224)\n",
      "../data/train/n02097658-silky_terrier\n",
      "Pickling ../data/train/n02097658-silky_terrier.pickle.\n",
      "Full dataset tensor: (100, 3, 224, 224)\n",
      "../data/train/n02098105-soft-coated_wheaten_terrier\n",
      "Pickling ../data/train/n02098105-soft-coated_wheaten_terrier.pickle.\n",
      "Full dataset tensor: (100, 3, 224, 224)\n",
      "../data/train/n02098286-West_Highland_white_terrier\n",
      "Pickling ../data/train/n02098286-West_Highland_white_terrier.pickle.\n",
      "Full dataset tensor: (100, 3, 224, 224)\n",
      "../data/train/n02098413-Lhasa\n",
      "Pickling ../data/train/n02098413-Lhasa.pickle.\n",
      "Full dataset tensor: (100, 3, 224, 224)\n",
      "../data/train/n02099267-flat-coated_retriever\n",
      "Pickling ../data/train/n02099267-flat-coated_retriever.pickle.\n",
      "Full dataset tensor: (100, 3, 224, 224)\n",
      "../data/train/n02099429-curly-coated_retriever\n",
      "Pickling ../data/train/n02099429-curly-coated_retriever.pickle.\n",
      "Full dataset tensor: (100, 3, 224, 224)\n",
      "../data/train/n02099601-golden_retriever\n",
      "Pickling ../data/train/n02099601-golden_retriever.pickle.\n",
      "Full dataset tensor: (100, 3, 224, 224)\n",
      "../data/train/n02099712-Labrador_retriever\n",
      "Pickling ../data/train/n02099712-Labrador_retriever.pickle.\n",
      "Full dataset tensor: (100, 3, 224, 224)\n",
      "../data/train/n02099849-Chesapeake_Bay_retriever\n",
      "Pickling ../data/train/n02099849-Chesapeake_Bay_retriever.pickle.\n",
      "Full dataset tensor: (100, 3, 224, 224)\n",
      "../data/train/n02100236-German_short-haired_pointer\n",
      "Pickling ../data/train/n02100236-German_short-haired_pointer.pickle.\n",
      "Full dataset tensor: (100, 3, 224, 224)\n",
      "../data/train/n02100583-vizsla\n",
      "Pickling ../data/train/n02100583-vizsla.pickle.\n",
      "Full dataset tensor: (100, 3, 224, 224)\n"
     ]
    },
    {
     "name": "stdout",
     "output_type": "stream",
     "text": [
      "../data/train/n02100735-English_setter\n",
      "Pickling ../data/train/n02100735-English_setter.pickle.\n",
      "Full dataset tensor: (100, 3, 224, 224)\n",
      "../data/train/n02100877-Irish_setter\n",
      "Pickling ../data/train/n02100877-Irish_setter.pickle.\n",
      "Full dataset tensor: (100, 3, 224, 224)\n",
      "../data/train/n02101006-Gordon_setter\n",
      "Pickling ../data/train/n02101006-Gordon_setter.pickle.\n",
      "Full dataset tensor: (100, 3, 224, 224)\n",
      "../data/train/n02101388-Brittany_spaniel\n",
      "Pickling ../data/train/n02101388-Brittany_spaniel.pickle.\n",
      "Full dataset tensor: (100, 3, 224, 224)\n",
      "../data/train/n02101556-clumber\n",
      "Pickling ../data/train/n02101556-clumber.pickle.\n",
      "Full dataset tensor: (100, 3, 224, 224)\n",
      "../data/train/n02102040-English_springer\n",
      "Pickling ../data/train/n02102040-English_springer.pickle.\n",
      "Full dataset tensor: (100, 3, 224, 224)\n",
      "../data/train/n02102177-Welsh_springer_spaniel\n",
      "Pickling ../data/train/n02102177-Welsh_springer_spaniel.pickle.\n",
      "Full dataset tensor: (100, 3, 224, 224)\n",
      "../data/train/n02102318-cocker_spaniel\n",
      "Pickling ../data/train/n02102318-cocker_spaniel.pickle.\n",
      "Full dataset tensor: (100, 3, 224, 224)\n",
      "../data/train/n02102480-Sussex_spaniel\n",
      "Pickling ../data/train/n02102480-Sussex_spaniel.pickle.\n",
      "Full dataset tensor: (100, 3, 224, 224)\n",
      "../data/train/n02102973-Irish_water_spaniel\n",
      "Pickling ../data/train/n02102973-Irish_water_spaniel.pickle.\n",
      "Full dataset tensor: (100, 3, 224, 224)\n",
      "../data/train/n02104029-kuvasz\n",
      "Pickling ../data/train/n02104029-kuvasz.pickle.\n",
      "Full dataset tensor: (100, 3, 224, 224)\n",
      "../data/train/n02104365-schipperke\n",
      "Pickling ../data/train/n02104365-schipperke.pickle.\n",
      "Full dataset tensor: (100, 3, 224, 224)\n",
      "../data/train/n02105056-groenendael\n",
      "Pickling ../data/train/n02105056-groenendael.pickle.\n",
      "Full dataset tensor: (100, 3, 224, 224)\n",
      "../data/train/n02105162-malinois\n",
      "Pickling ../data/train/n02105162-malinois.pickle.\n",
      "Full dataset tensor: (100, 3, 224, 224)\n",
      "../data/train/n02105251-briard\n",
      "Pickling ../data/train/n02105251-briard.pickle.\n",
      "Full dataset tensor: (100, 3, 224, 224)\n",
      "../data/train/n02105412-kelpie\n",
      "Pickling ../data/train/n02105412-kelpie.pickle.\n",
      "Full dataset tensor: (100, 3, 224, 224)\n",
      "../data/train/n02105505-komondor\n",
      "Pickling ../data/train/n02105505-komondor.pickle.\n",
      "Full dataset tensor: (100, 3, 224, 224)\n",
      "../data/train/n02105641-Old_English_sheepdog\n",
      "Pickling ../data/train/n02105641-Old_English_sheepdog.pickle.\n",
      "Full dataset tensor: (100, 3, 224, 224)\n",
      "../data/train/n02105855-Shetland_sheepdog\n",
      "Pickling ../data/train/n02105855-Shetland_sheepdog.pickle.\n"
     ]
    },
    {
     "name": "stderr",
     "output_type": "stream",
     "text": [
      "/Users/cricket/anaconda3/lib/python3.6/site-packages/imageio/core/util.py:104: UserWarning: Conversion from float64 to uint8, range [53.07989615453476, 255.0]\n",
      "  'range [{2}, {3}]'.format(dtype_str, out_type.__name__, mi, ma))\n"
     ]
    },
    {
     "name": "stdout",
     "output_type": "stream",
     "text": [
      "Full dataset tensor: (100, 3, 224, 224)\n",
      "../data/train/n02106030-collie\n",
      "Pickling ../data/train/n02106030-collie.pickle.\n",
      "Full dataset tensor: (100, 3, 224, 224)\n",
      "../data/train/n02106166-Border_collie\n",
      "Pickling ../data/train/n02106166-Border_collie.pickle.\n",
      "Full dataset tensor: (100, 3, 224, 224)\n",
      "../data/train/n02106382-Bouvier_des_Flandres\n",
      "Pickling ../data/train/n02106382-Bouvier_des_Flandres.pickle.\n",
      "Full dataset tensor: (100, 3, 224, 224)\n",
      "../data/train/n02106550-Rottweiler\n",
      "Pickling ../data/train/n02106550-Rottweiler.pickle.\n",
      "Full dataset tensor: (100, 3, 224, 224)\n",
      "../data/train/n02106662-German_shepherd\n",
      "Pickling ../data/train/n02106662-German_shepherd.pickle.\n",
      "Full dataset tensor: (100, 3, 224, 224)\n",
      "../data/train/n02107142-Doberman\n",
      "Pickling ../data/train/n02107142-Doberman.pickle.\n",
      "Full dataset tensor: (100, 3, 224, 224)\n",
      "../data/train/n02107312-miniature_pinscher\n",
      "Pickling ../data/train/n02107312-miniature_pinscher.pickle.\n",
      "Full dataset tensor: (100, 3, 224, 224)\n",
      "../data/train/n02107574-Greater_Swiss_Mountain_dog\n",
      "Pickling ../data/train/n02107574-Greater_Swiss_Mountain_dog.pickle.\n",
      "Full dataset tensor: (100, 3, 224, 224)\n",
      "../data/train/n02107683-Bernese_mountain_dog\n",
      "Pickling ../data/train/n02107683-Bernese_mountain_dog.pickle.\n",
      "Full dataset tensor: (100, 3, 224, 224)\n",
      "../data/train/n02107908-Appenzeller\n",
      "Pickling ../data/train/n02107908-Appenzeller.pickle.\n",
      "Full dataset tensor: (100, 3, 224, 224)\n",
      "../data/train/n02108000-EntleBucher\n",
      "Pickling ../data/train/n02108000-EntleBucher.pickle.\n",
      "Full dataset tensor: (100, 3, 224, 224)\n",
      "../data/train/n02108089-boxer\n",
      "Pickling ../data/train/n02108089-boxer.pickle.\n",
      "Full dataset tensor: (100, 3, 224, 224)\n",
      "../data/train/n02108422-bull_mastiff\n",
      "Pickling ../data/train/n02108422-bull_mastiff.pickle.\n",
      "Full dataset tensor: (100, 3, 224, 224)\n",
      "../data/train/n02108551-Tibetan_mastiff\n",
      "Pickling ../data/train/n02108551-Tibetan_mastiff.pickle.\n",
      "Full dataset tensor: (100, 3, 224, 224)\n",
      "../data/train/n02108915-French_bulldog\n",
      "Pickling ../data/train/n02108915-French_bulldog.pickle.\n",
      "Full dataset tensor: (100, 3, 224, 224)\n",
      "../data/train/n02109047-Great_Dane\n",
      "Pickling ../data/train/n02109047-Great_Dane.pickle.\n",
      "Full dataset tensor: (100, 3, 224, 224)\n",
      "../data/train/n02109525-Saint_Bernard\n",
      "Pickling ../data/train/n02109525-Saint_Bernard.pickle.\n",
      "Full dataset tensor: (100, 3, 224, 224)\n",
      "../data/train/n02109961-Eskimo_dog\n",
      "Pickling ../data/train/n02109961-Eskimo_dog.pickle.\n",
      "Full dataset tensor: (100, 3, 224, 224)\n",
      "../data/train/n02110063-malamute\n",
      "Pickling ../data/train/n02110063-malamute.pickle.\n",
      "Full dataset tensor: (100, 3, 224, 224)\n",
      "../data/train/n02110185-Siberian_husky\n",
      "Pickling ../data/train/n02110185-Siberian_husky.pickle.\n",
      "Full dataset tensor: (100, 3, 224, 224)\n",
      "../data/train/n02110627-affenpinscher\n",
      "Pickling ../data/train/n02110627-affenpinscher.pickle.\n",
      "Full dataset tensor: (100, 3, 224, 224)\n",
      "../data/train/n02110806-basenji\n",
      "Pickling ../data/train/n02110806-basenji.pickle.\n",
      "Full dataset tensor: (100, 3, 224, 224)\n",
      "../data/train/n02110958-pug\n",
      "Pickling ../data/train/n02110958-pug.pickle.\n",
      "Full dataset tensor: (100, 3, 224, 224)\n",
      "../data/train/n02111129-Leonberg\n",
      "Pickling ../data/train/n02111129-Leonberg.pickle.\n",
      "Full dataset tensor: (100, 3, 224, 224)\n",
      "../data/train/n02111277-Newfoundland\n",
      "Pickling ../data/train/n02111277-Newfoundland.pickle.\n",
      "Full dataset tensor: (100, 3, 224, 224)\n",
      "../data/train/n02111500-Great_Pyrenees\n",
      "Pickling ../data/train/n02111500-Great_Pyrenees.pickle.\n",
      "Full dataset tensor: (100, 3, 224, 224)\n",
      "../data/train/n02111889-Samoyed\n",
      "Pickling ../data/train/n02111889-Samoyed.pickle.\n",
      "Full dataset tensor: (100, 3, 224, 224)\n",
      "../data/train/n02112018-Pomeranian\n",
      "Pickling ../data/train/n02112018-Pomeranian.pickle.\n",
      "Full dataset tensor: (100, 3, 224, 224)\n",
      "../data/train/n02112137-chow\n",
      "Pickling ../data/train/n02112137-chow.pickle.\n",
      "Full dataset tensor: (100, 3, 224, 224)\n",
      "../data/train/n02112350-keeshond\n",
      "Pickling ../data/train/n02112350-keeshond.pickle.\n",
      "Full dataset tensor: (100, 3, 224, 224)\n",
      "../data/train/n02112706-Brabancon_griffon\n",
      "Pickling ../data/train/n02112706-Brabancon_griffon.pickle.\n",
      "Full dataset tensor: (100, 3, 224, 224)\n",
      "../data/train/n02113023-Pembroke\n",
      "Pickling ../data/train/n02113023-Pembroke.pickle.\n",
      "Full dataset tensor: (100, 3, 224, 224)\n",
      "../data/train/n02113186-Cardigan\n",
      "Pickling ../data/train/n02113186-Cardigan.pickle.\n",
      "Full dataset tensor: (100, 3, 224, 224)\n",
      "../data/train/n02113624-toy_poodle\n",
      "Pickling ../data/train/n02113624-toy_poodle.pickle.\n",
      "Full dataset tensor: (100, 3, 224, 224)\n",
      "../data/train/n02113712-miniature_poodle\n",
      "Pickling ../data/train/n02113712-miniature_poodle.pickle.\n",
      "Full dataset tensor: (100, 3, 224, 224)\n",
      "../data/train/n02113799-standard_poodle\n",
      "Pickling ../data/train/n02113799-standard_poodle.pickle.\n",
      "Full dataset tensor: (100, 3, 224, 224)\n",
      "../data/train/n02113978-Mexican_hairless\n",
      "Pickling ../data/train/n02113978-Mexican_hairless.pickle.\n",
      "Full dataset tensor: (100, 3, 224, 224)\n",
      "../data/train/n02115641-dingo\n",
      "Pickling ../data/train/n02115641-dingo.pickle.\n",
      "Full dataset tensor: (100, 3, 224, 224)\n",
      "../data/train/n02115913-dhole\n",
      "Pickling ../data/train/n02115913-dhole.pickle.\n",
      "Full dataset tensor: (100, 3, 224, 224)\n",
      "../data/train/n02116738-African_hunting_dog\n",
      "Pickling ../data/train/n02116738-African_hunting_dog.pickle.\n",
      "Full dataset tensor: (100, 3, 224, 224)\n",
      "../data/test/n02085620-Chihuahua\n",
      "Pickling ../data/test/n02085620-Chihuahua.pickle.\n",
      "Full dataset tensor: (52, 3, 224, 224)\n",
      "../data/test/n02085782-Japanese_spaniel\n",
      "Pickling ../data/test/n02085782-Japanese_spaniel.pickle.\n",
      "Full dataset tensor: (85, 3, 224, 224)\n",
      "../data/test/n02085936-Maltese_dog\n",
      "Pickling ../data/test/n02085936-Maltese_dog.pickle.\n",
      "Full dataset tensor: (152, 3, 224, 224)\n",
      "../data/test/n02086079-Pekinese\n",
      "Pickling ../data/test/n02086079-Pekinese.pickle.\n",
      "Full dataset tensor: (49, 3, 224, 224)\n",
      "../data/test/n02086240-Shih-Tzu\n",
      "Pickling ../data/test/n02086240-Shih-Tzu.pickle.\n",
      "Full dataset tensor: (114, 3, 224, 224)\n",
      "../data/test/n02086646-Blenheim_spaniel\n",
      "Pickling ../data/test/n02086646-Blenheim_spaniel.pickle.\n",
      "Full dataset tensor: (88, 3, 224, 224)\n",
      "../data/test/n02086910-papillon\n",
      "Pickling ../data/test/n02086910-papillon.pickle.\n",
      "Full dataset tensor: (96, 3, 224, 224)\n",
      "../data/test/n02087046-toy_terrier\n",
      "Pickling ../data/test/n02087046-toy_terrier.pickle.\n",
      "Full dataset tensor: (72, 3, 224, 224)\n",
      "../data/test/n02087394-Rhodesian_ridgeback\n",
      "Pickling ../data/test/n02087394-Rhodesian_ridgeback.pickle.\n",
      "Full dataset tensor: (72, 3, 224, 224)\n",
      "../data/test/n02088094-Afghan_hound\n",
      "Pickling ../data/test/n02088094-Afghan_hound.pickle.\n",
      "Full dataset tensor: (139, 3, 224, 224)\n",
      "../data/test/n02088238-basset\n",
      "Pickling ../data/test/n02088238-basset.pickle.\n",
      "Full dataset tensor: (75, 3, 224, 224)\n",
      "../data/test/n02088364-beagle\n",
      "Pickling ../data/test/n02088364-beagle.pickle.\n",
      "Full dataset tensor: (95, 3, 224, 224)\n",
      "../data/test/n02088466-bloodhound\n",
      "Pickling ../data/test/n02088466-bloodhound.pickle.\n",
      "Full dataset tensor: (87, 3, 224, 224)\n",
      "../data/test/n02088632-bluetick\n",
      "Pickling ../data/test/n02088632-bluetick.pickle.\n",
      "Full dataset tensor: (71, 3, 224, 224)\n",
      "../data/test/n02089078-black-and-tan_coonhound\n",
      "Pickling ../data/test/n02089078-black-and-tan_coonhound.pickle.\n",
      "Full dataset tensor: (59, 3, 224, 224)\n",
      "../data/test/n02089867-Walker_hound\n",
      "Pickling ../data/test/n02089867-Walker_hound.pickle.\n",
      "Full dataset tensor: (53, 3, 224, 224)\n",
      "../data/test/n02089973-English_foxhound\n",
      "Pickling ../data/test/n02089973-English_foxhound.pickle.\n",
      "Full dataset tensor: (57, 3, 224, 224)\n",
      "../data/test/n02090379-redbone\n",
      "Pickling ../data/test/n02090379-redbone.pickle.\n",
      "Full dataset tensor: (48, 3, 224, 224)\n",
      "../data/test/n02090622-borzoi\n",
      "Pickling ../data/test/n02090622-borzoi.pickle.\n",
      "Full dataset tensor: (51, 3, 224, 224)\n",
      "../data/test/n02090721-Irish_wolfhound\n",
      "Pickling ../data/test/n02090721-Irish_wolfhound.pickle.\n",
      "Full dataset tensor: (118, 3, 224, 224)\n",
      "../data/test/n02091032-Italian_greyhound\n",
      "Pickling ../data/test/n02091032-Italian_greyhound.pickle.\n",
      "Full dataset tensor: (82, 3, 224, 224)\n",
      "../data/test/n02091134-whippet\n",
      "Pickling ../data/test/n02091134-whippet.pickle.\n",
      "Full dataset tensor: (87, 3, 224, 224)\n",
      "../data/test/n02091244-Ibizan_hound\n",
      "Pickling ../data/test/n02091244-Ibizan_hound.pickle.\n",
      "Full dataset tensor: (88, 3, 224, 224)\n",
      "../data/test/n02091467-Norwegian_elkhound\n",
      "Pickling ../data/test/n02091467-Norwegian_elkhound.pickle.\n"
     ]
    },
    {
     "name": "stdout",
     "output_type": "stream",
     "text": [
      "Full dataset tensor: (96, 3, 224, 224)\n",
      "../data/test/n02091635-otterhound\n",
      "Pickling ../data/test/n02091635-otterhound.pickle.\n",
      "Full dataset tensor: (51, 3, 224, 224)\n",
      "../data/test/n02091831-Saluki\n",
      "Pickling ../data/test/n02091831-Saluki.pickle.\n",
      "Full dataset tensor: (100, 3, 224, 224)\n",
      "../data/test/n02092002-Scottish_deerhound\n",
      "Pickling ../data/test/n02092002-Scottish_deerhound.pickle.\n",
      "Full dataset tensor: (132, 3, 224, 224)\n",
      "../data/test/n02092339-Weimaraner\n",
      "Pickling ../data/test/n02092339-Weimaraner.pickle.\n",
      "Full dataset tensor: (60, 3, 224, 224)\n",
      "../data/test/n02093256-Staffordshire_bullterrier\n",
      "Pickling ../data/test/n02093256-Staffordshire_bullterrier.pickle.\n",
      "Full dataset tensor: (55, 3, 224, 224)\n",
      "../data/test/n02093428-American_Staffordshire_terrier\n",
      "Pickling ../data/test/n02093428-American_Staffordshire_terrier.pickle.\n",
      "Full dataset tensor: (64, 3, 224, 224)\n",
      "../data/test/n02093647-Bedlington_terrier\n",
      "Pickling ../data/test/n02093647-Bedlington_terrier.pickle.\n",
      "Full dataset tensor: (82, 3, 224, 224)\n",
      "../data/test/n02093754-Border_terrier\n",
      "Pickling ../data/test/n02093754-Border_terrier.pickle.\n",
      "Full dataset tensor: (72, 3, 224, 224)\n",
      "../data/test/n02093859-Kerry_blue_terrier\n",
      "Pickling ../data/test/n02093859-Kerry_blue_terrier.pickle.\n",
      "Full dataset tensor: (79, 3, 224, 224)\n",
      "../data/test/n02093991-Irish_terrier\n",
      "Pickling ../data/test/n02093991-Irish_terrier.pickle.\n",
      "Full dataset tensor: (69, 3, 224, 224)\n",
      "../data/test/n02094114-Norfolk_terrier\n",
      "Pickling ../data/test/n02094114-Norfolk_terrier.pickle.\n",
      "Full dataset tensor: (72, 3, 224, 224)\n",
      "../data/test/n02094258-Norwich_terrier\n",
      "Pickling ../data/test/n02094258-Norwich_terrier.pickle.\n",
      "Full dataset tensor: (85, 3, 224, 224)\n",
      "../data/test/n02094433-Yorkshire_terrier\n",
      "Pickling ../data/test/n02094433-Yorkshire_terrier.pickle.\n",
      "Full dataset tensor: (64, 3, 224, 224)\n",
      "../data/test/n02095314-wire-haired_fox_terrier\n",
      "Pickling ../data/test/n02095314-wire-haired_fox_terrier.pickle.\n",
      "Full dataset tensor: (57, 3, 224, 224)\n",
      "../data/test/n02095570-Lakeland_terrier\n",
      "Pickling ../data/test/n02095570-Lakeland_terrier.pickle.\n",
      "Full dataset tensor: (97, 3, 224, 224)\n",
      "../data/test/n02095889-Sealyham_terrier\n",
      "Pickling ../data/test/n02095889-Sealyham_terrier.pickle.\n",
      "Full dataset tensor: (102, 3, 224, 224)\n",
      "../data/test/n02096051-Airedale\n",
      "Pickling ../data/test/n02096051-Airedale.pickle.\n",
      "Full dataset tensor: (102, 3, 224, 224)\n",
      "../data/test/n02096177-cairn\n",
      "Pickling ../data/test/n02096177-cairn.pickle.\n",
      "Full dataset tensor: (97, 3, 224, 224)\n",
      "../data/test/n02096294-Australian_terrier\n",
      "Pickling ../data/test/n02096294-Australian_terrier.pickle.\n",
      "Full dataset tensor: (96, 3, 224, 224)\n",
      "../data/test/n02096437-Dandie_Dinmont\n",
      "Pickling ../data/test/n02096437-Dandie_Dinmont.pickle.\n",
      "Full dataset tensor: (80, 3, 224, 224)\n",
      "../data/test/n02096585-Boston_bull\n",
      "Pickling ../data/test/n02096585-Boston_bull.pickle.\n",
      "Full dataset tensor: (82, 3, 224, 224)\n",
      "../data/test/n02097047-miniature_schnauzer\n",
      "Pickling ../data/test/n02097047-miniature_schnauzer.pickle.\n",
      "Full dataset tensor: (54, 3, 224, 224)\n",
      "../data/test/n02097130-giant_schnauzer\n",
      "Pickling ../data/test/n02097130-giant_schnauzer.pickle.\n",
      "Full dataset tensor: (57, 3, 224, 224)\n",
      "../data/test/n02097209-standard_schnauzer\n",
      "Pickling ../data/test/n02097209-standard_schnauzer.pickle.\n",
      "Full dataset tensor: (55, 3, 224, 224)\n",
      "../data/test/n02097298-Scotch_terrier\n",
      "Pickling ../data/test/n02097298-Scotch_terrier.pickle.\n",
      "Full dataset tensor: (58, 3, 224, 224)\n",
      "../data/test/n02097474-Tibetan_terrier\n",
      "Pickling ../data/test/n02097474-Tibetan_terrier.pickle.\n",
      "Full dataset tensor: (106, 3, 224, 224)\n",
      "../data/test/n02097658-silky_terrier\n",
      "Pickling ../data/test/n02097658-silky_terrier.pickle.\n",
      "Full dataset tensor: (83, 3, 224, 224)\n",
      "../data/test/n02098105-soft-coated_wheaten_terrier\n",
      "Pickling ../data/test/n02098105-soft-coated_wheaten_terrier.pickle.\n",
      "Full dataset tensor: (56, 3, 224, 224)\n",
      "../data/test/n02098286-West_Highland_white_terrier\n",
      "Pickling ../data/test/n02098286-West_Highland_white_terrier.pickle.\n",
      "Full dataset tensor: (69, 3, 224, 224)\n",
      "../data/test/n02098413-Lhasa\n",
      "Pickling ../data/test/n02098413-Lhasa.pickle.\n",
      "Full dataset tensor: (86, 3, 224, 224)\n",
      "../data/test/n02099267-flat-coated_retriever\n",
      "Pickling ../data/test/n02099267-flat-coated_retriever.pickle.\n",
      "Full dataset tensor: (52, 3, 224, 224)\n",
      "../data/test/n02099429-curly-coated_retriever\n",
      "Pickling ../data/test/n02099429-curly-coated_retriever.pickle.\n",
      "Full dataset tensor: (51, 3, 224, 224)\n",
      "../data/test/n02099601-golden_retriever\n",
      "Pickling ../data/test/n02099601-golden_retriever.pickle.\n",
      "Full dataset tensor: (50, 3, 224, 224)\n",
      "../data/test/n02099712-Labrador_retriever\n",
      "Pickling ../data/test/n02099712-Labrador_retriever.pickle.\n",
      "Full dataset tensor: (71, 3, 224, 224)\n",
      "../data/test/n02099849-Chesapeake_Bay_retriever\n",
      "Pickling ../data/test/n02099849-Chesapeake_Bay_retriever.pickle.\n",
      "Full dataset tensor: (67, 3, 224, 224)\n",
      "../data/test/n02100236-German_short-haired_pointer\n",
      "Pickling ../data/test/n02100236-German_short-haired_pointer.pickle.\n",
      "Full dataset tensor: (52, 3, 224, 224)\n",
      "../data/test/n02100583-vizsla\n",
      "Pickling ../data/test/n02100583-vizsla.pickle.\n",
      "Full dataset tensor: (54, 3, 224, 224)\n",
      "../data/test/n02100735-English_setter\n",
      "Pickling ../data/test/n02100735-English_setter.pickle.\n",
      "Full dataset tensor: (61, 3, 224, 224)\n",
      "../data/test/n02100877-Irish_setter\n",
      "Pickling ../data/test/n02100877-Irish_setter.pickle.\n",
      "Full dataset tensor: (55, 3, 224, 224)\n",
      "../data/test/n02101006-Gordon_setter\n",
      "Pickling ../data/test/n02101006-Gordon_setter.pickle.\n",
      "Full dataset tensor: (53, 3, 224, 224)\n",
      "../data/test/n02101388-Brittany_spaniel\n",
      "Pickling ../data/test/n02101388-Brittany_spaniel.pickle.\n",
      "Full dataset tensor: (52, 3, 224, 224)\n",
      "../data/test/n02101556-clumber\n",
      "Pickling ../data/test/n02101556-clumber.pickle.\n",
      "Full dataset tensor: (50, 3, 224, 224)\n",
      "../data/test/n02102040-English_springer\n",
      "Pickling ../data/test/n02102040-English_springer.pickle.\n",
      "Full dataset tensor: (59, 3, 224, 224)\n",
      "../data/test/n02102177-Welsh_springer_spaniel\n",
      "Pickling ../data/test/n02102177-Welsh_springer_spaniel.pickle.\n",
      "Full dataset tensor: (50, 3, 224, 224)\n",
      "../data/test/n02102318-cocker_spaniel\n",
      "Pickling ../data/test/n02102318-cocker_spaniel.pickle.\n",
      "Full dataset tensor: (59, 3, 224, 224)\n",
      "../data/test/n02102480-Sussex_spaniel\n",
      "Pickling ../data/test/n02102480-Sussex_spaniel.pickle.\n",
      "Full dataset tensor: (51, 3, 224, 224)\n",
      "../data/test/n02102973-Irish_water_spaniel\n",
      "Pickling ../data/test/n02102973-Irish_water_spaniel.pickle.\n",
      "Full dataset tensor: (50, 3, 224, 224)\n",
      "../data/test/n02104029-kuvasz\n",
      "Pickling ../data/test/n02104029-kuvasz.pickle.\n",
      "Full dataset tensor: (50, 3, 224, 224)\n",
      "../data/test/n02104365-schipperke\n",
      "Pickling ../data/test/n02104365-schipperke.pickle.\n",
      "Full dataset tensor: (54, 3, 224, 224)\n",
      "../data/test/n02105056-groenendael\n",
      "Pickling ../data/test/n02105056-groenendael.pickle.\n",
      "Full dataset tensor: (50, 3, 224, 224)\n",
      "../data/test/n02105162-malinois\n",
      "Pickling ../data/test/n02105162-malinois.pickle.\n",
      "Full dataset tensor: (50, 3, 224, 224)\n",
      "../data/test/n02105251-briard\n",
      "Pickling ../data/test/n02105251-briard.pickle.\n",
      "Full dataset tensor: (52, 3, 224, 224)\n",
      "../data/test/n02105412-kelpie\n",
      "Pickling ../data/test/n02105412-kelpie.pickle.\n",
      "Full dataset tensor: (53, 3, 224, 224)\n",
      "../data/test/n02105505-komondor\n",
      "Pickling ../data/test/n02105505-komondor.pickle.\n",
      "Full dataset tensor: (54, 3, 224, 224)\n",
      "../data/test/n02105641-Old_English_sheepdog\n",
      "Pickling ../data/test/n02105641-Old_English_sheepdog.pickle.\n",
      "Full dataset tensor: (69, 3, 224, 224)\n",
      "../data/test/n02105855-Shetland_sheepdog\n",
      "Pickling ../data/test/n02105855-Shetland_sheepdog.pickle.\n",
      "Full dataset tensor: (57, 3, 224, 224)\n",
      "../data/test/n02106030-collie\n",
      "Pickling ../data/test/n02106030-collie.pickle.\n",
      "Full dataset tensor: (53, 3, 224, 224)\n",
      "../data/test/n02106166-Border_collie\n",
      "Pickling ../data/test/n02106166-Border_collie.pickle.\n",
      "Full dataset tensor: (50, 3, 224, 224)\n",
      "../data/test/n02106382-Bouvier_des_Flandres\n",
      "Pickling ../data/test/n02106382-Bouvier_des_Flandres.pickle.\n",
      "Full dataset tensor: (50, 3, 224, 224)\n",
      "../data/test/n02106550-Rottweiler\n",
      "Pickling ../data/test/n02106550-Rottweiler.pickle.\n",
      "Full dataset tensor: (52, 3, 224, 224)\n",
      "../data/test/n02106662-German_shepherd\n",
      "Pickling ../data/test/n02106662-German_shepherd.pickle.\n",
      "Full dataset tensor: (52, 3, 224, 224)\n"
     ]
    },
    {
     "name": "stdout",
     "output_type": "stream",
     "text": [
      "../data/test/n02107142-Doberman\n",
      "Pickling ../data/test/n02107142-Doberman.pickle.\n",
      "Full dataset tensor: (50, 3, 224, 224)\n",
      "../data/test/n02107312-miniature_pinscher\n",
      "Pickling ../data/test/n02107312-miniature_pinscher.pickle.\n",
      "Full dataset tensor: (84, 3, 224, 224)\n",
      "../data/test/n02107574-Greater_Swiss_Mountain_dog\n",
      "Pickling ../data/test/n02107574-Greater_Swiss_Mountain_dog.pickle.\n",
      "Full dataset tensor: (68, 3, 224, 224)\n",
      "../data/test/n02107683-Bernese_mountain_dog\n",
      "Pickling ../data/test/n02107683-Bernese_mountain_dog.pickle.\n",
      "Full dataset tensor: (118, 3, 224, 224)\n",
      "../data/test/n02107908-Appenzeller\n",
      "Pickling ../data/test/n02107908-Appenzeller.pickle.\n",
      "Full dataset tensor: (51, 3, 224, 224)\n",
      "../data/test/n02108000-EntleBucher\n",
      "Pickling ../data/test/n02108000-EntleBucher.pickle.\n",
      "Full dataset tensor: (102, 3, 224, 224)\n",
      "../data/test/n02108089-boxer\n",
      "Pickling ../data/test/n02108089-boxer.pickle.\n",
      "Full dataset tensor: (51, 3, 224, 224)\n",
      "../data/test/n02108422-bull_mastiff\n",
      "Pickling ../data/test/n02108422-bull_mastiff.pickle.\n",
      "Full dataset tensor: (56, 3, 224, 224)\n",
      "../data/test/n02108551-Tibetan_mastiff\n",
      "Pickling ../data/test/n02108551-Tibetan_mastiff.pickle.\n",
      "Full dataset tensor: (52, 3, 224, 224)\n",
      "../data/test/n02108915-French_bulldog\n",
      "Pickling ../data/test/n02108915-French_bulldog.pickle.\n",
      "Full dataset tensor: (59, 3, 224, 224)\n",
      "../data/test/n02109047-Great_Dane\n",
      "Pickling ../data/test/n02109047-Great_Dane.pickle.\n",
      "Full dataset tensor: (56, 3, 224, 224)\n",
      "../data/test/n02109525-Saint_Bernard\n",
      "Pickling ../data/test/n02109525-Saint_Bernard.pickle.\n",
      "Full dataset tensor: (70, 3, 224, 224)\n",
      "../data/test/n02109961-Eskimo_dog\n",
      "Pickling ../data/test/n02109961-Eskimo_dog.pickle.\n",
      "Full dataset tensor: (50, 3, 224, 224)\n",
      "../data/test/n02110063-malamute\n",
      "Pickling ../data/test/n02110063-malamute.pickle.\n",
      "Full dataset tensor: (78, 3, 224, 224)\n",
      "../data/test/n02110185-Siberian_husky\n",
      "Pickling ../data/test/n02110185-Siberian_husky.pickle.\n",
      "Full dataset tensor: (92, 3, 224, 224)\n",
      "../data/test/n02110627-affenpinscher\n",
      "Pickling ../data/test/n02110627-affenpinscher.pickle.\n",
      "Full dataset tensor: (50, 3, 224, 224)\n",
      "../data/test/n02110806-basenji\n",
      "Pickling ../data/test/n02110806-basenji.pickle.\n",
      "Full dataset tensor: (109, 3, 224, 224)\n",
      "../data/test/n02110958-pug\n",
      "Pickling ../data/test/n02110958-pug.pickle.\n",
      "Full dataset tensor: (100, 3, 224, 224)\n",
      "../data/test/n02111129-Leonberg\n",
      "Pickling ../data/test/n02111129-Leonberg.pickle.\n",
      "Full dataset tensor: (110, 3, 224, 224)\n",
      "../data/test/n02111277-Newfoundland\n",
      "Pickling ../data/test/n02111277-Newfoundland.pickle.\n",
      "Full dataset tensor: (95, 3, 224, 224)\n",
      "../data/test/n02111500-Great_Pyrenees\n",
      "Pickling ../data/test/n02111500-Great_Pyrenees.pickle.\n",
      "Full dataset tensor: (113, 3, 224, 224)\n",
      "../data/test/n02111889-Samoyed\n",
      "Pickling ../data/test/n02111889-Samoyed.pickle.\n",
      "Full dataset tensor: (118, 3, 224, 224)\n",
      "../data/test/n02112018-Pomeranian\n",
      "Pickling ../data/test/n02112018-Pomeranian.pickle.\n",
      "Full dataset tensor: (119, 3, 224, 224)\n",
      "../data/test/n02112137-chow\n",
      "Pickling ../data/test/n02112137-chow.pickle.\n",
      "Full dataset tensor: (96, 3, 224, 224)\n",
      "../data/test/n02112350-keeshond\n",
      "Pickling ../data/test/n02112350-keeshond.pickle.\n",
      "Full dataset tensor: (58, 3, 224, 224)\n",
      "../data/test/n02112706-Brabancon_griffon\n",
      "Pickling ../data/test/n02112706-Brabancon_griffon.pickle.\n",
      "Full dataset tensor: (53, 3, 224, 224)\n",
      "../data/test/n02113023-Pembroke\n",
      "Pickling ../data/test/n02113023-Pembroke.pickle.\n",
      "Full dataset tensor: (81, 3, 224, 224)\n",
      "../data/test/n02113186-Cardigan\n",
      "Pickling ../data/test/n02113186-Cardigan.pickle.\n",
      "Full dataset tensor: (55, 3, 224, 224)\n",
      "../data/test/n02113624-toy_poodle\n",
      "Pickling ../data/test/n02113624-toy_poodle.pickle.\n",
      "Full dataset tensor: (51, 3, 224, 224)\n",
      "../data/test/n02113712-miniature_poodle\n",
      "Pickling ../data/test/n02113712-miniature_poodle.pickle.\n",
      "Full dataset tensor: (55, 3, 224, 224)\n",
      "../data/test/n02113799-standard_poodle\n",
      "Pickling ../data/test/n02113799-standard_poodle.pickle.\n",
      "Full dataset tensor: (59, 3, 224, 224)\n",
      "../data/test/n02113978-Mexican_hairless\n",
      "Pickling ../data/test/n02113978-Mexican_hairless.pickle.\n",
      "Full dataset tensor: (55, 3, 224, 224)\n",
      "../data/test/n02115641-dingo\n",
      "Pickling ../data/test/n02115641-dingo.pickle.\n",
      "Full dataset tensor: (56, 3, 224, 224)\n",
      "../data/test/n02115913-dhole\n",
      "Pickling ../data/test/n02115913-dhole.pickle.\n",
      "Full dataset tensor: (50, 3, 224, 224)\n",
      "../data/test/n02116738-African_hunting_dog\n",
      "Pickling ../data/test/n02116738-African_hunting_dog.pickle.\n",
      "Full dataset tensor: (69, 3, 224, 224)\n"
     ]
    }
   ],
   "source": [
    "train_datasets = maybe_pickle(train_folders, force=True)\n",
    "test_datasets = maybe_pickle(test_folders, force=True)"
   ]
  },
  {
   "cell_type": "markdown",
   "metadata": {},
   "source": [
    "# dataset formatting"
   ]
  },
  {
   "cell_type": "code",
   "execution_count": 17,
   "metadata": {},
   "outputs": [],
   "source": [
    "def make_arrays(nb_rows, img_size):\n",
    "    if nb_rows:\n",
    "        dataset = np.ndarray((nb_rows, num_channels, img_size, img_size), dtype=np.float32)\n",
    "        labels = np.ndarray(nb_rows, dtype=np.int32)\n",
    "    else:\n",
    "        dataset, labels = None, None\n",
    "    return dataset, labels"
   ]
  },
  {
   "cell_type": "code",
   "execution_count": 18,
   "metadata": {},
   "outputs": [],
   "source": [
    "def merge_datasets(pickle_files, train_size, valid_size=0, even_size=True):\n",
    "    num_classes = len(pickle_files)\n",
    "    valid_dataset, valid_labels = make_arrays(valid_size, image_size)\n",
    "    train_dataset, train_labels = make_arrays(train_size, image_size)\n",
    "    vsize_per_class = valid_size // num_classes\n",
    "    tsize_per_class = train_size // num_classes\n",
    "    \n",
    "    start_v, start_t = 0, 0\n",
    "    end_v, end_t = vsize_per_class, tsize_per_class\n",
    "    end_l = vsize_per_class+tsize_per_class\n",
    "    for label, pickle_file in enumerate(pickle_files):\n",
    "        try:\n",
    "            with open(pickle_file, 'rb') as f:\n",
    "                breed_set = pickle.load(f)\n",
    "                np.random.shuffle(breed_set)\n",
    "                \n",
    "            if not even_size:\n",
    "                tsize_per_class,end_l = len(breed_set),len(breed_set)\n",
    "                end_t = start_t + tsize_per_class\n",
    "                \n",
    "            if valid_dataset is not None:\n",
    "                valid_breed = breed_set[:vsize_per_class, :, :, :]\n",
    "                valid_dataset[start_v:end_v, :, :, :] = valid_breed\n",
    "                valid_labels[start_v:end_v] = label\n",
    "                start_v += vsize_per_class\n",
    "                end_v += vsize_per_class\n",
    "\n",
    "            \n",
    "            train_breed = breed_set[vsize_per_class:end_l, :, :, :]\n",
    "            train_dataset[start_t:end_t, :, :, :] = train_breed\n",
    "            train_labels[start_t:end_t] = label\n",
    "            start_t += tsize_per_class\n",
    "            end_t += tsize_per_class\n",
    "        except Exception as e:\n",
    "            print('Unable to process data from', pickle_file, ':', e)\n",
    "            raise\n",
    "    \n",
    "    return valid_dataset, valid_labels, train_dataset, train_labels"
   ]
  },
  {
   "cell_type": "code",
   "execution_count": 19,
   "metadata": {},
   "outputs": [
    {
     "name": "stdout",
     "output_type": "stream",
     "text": [
      "Training: (9600, 3, 224, 224) (9600,)\n",
      "Validation: (2400, 3, 224, 224) (2400,)\n",
      "Testing: (8580, 3, 224, 224) (8580,)\n"
     ]
    }
   ],
   "source": [
    "train_size = 9600\n",
    "valid_size = 2400\n",
    "test_size = 8580\n",
    "\n",
    "valid_dataset, valid_labels, train_dataset, train_labels = merge_datasets(\n",
    "  train_datasets, train_size, valid_size)\n",
    "_, _, test_dataset, test_labels = merge_datasets(test_datasets, test_size, even_size=False)\n",
    "\n",
    "print('Training:', train_dataset.shape, train_labels.shape)\n",
    "print('Validation:', valid_dataset.shape, valid_labels.shape)\n",
    "print('Testing:', test_dataset.shape, test_labels.shape)"
   ]
  },
  {
   "cell_type": "markdown",
   "metadata": {},
   "source": [
    "# Dataset saving"
   ]
  },
  {
   "cell_type": "code",
   "execution_count": 21,
   "metadata": {},
   "outputs": [],
   "source": [
    "np.savez('../train_dataset.npz', train_dataset)\n",
    "np.savez('../train_labels.npz', train_labels)\n",
    "np.savez('../valid_dataset.npz', valid_dataset)\n",
    "np.savez('../valid_labels.npz', valid_labels)\n",
    "np.savez('../test_dataset.npz', test_dataset)\n",
    "np.savez('../test_labels.npz', test_labels)"
   ]
  },
  {
   "cell_type": "code",
   "execution_count": null,
   "metadata": {},
   "outputs": [],
   "source": []
  },
  {
   "cell_type": "code",
   "execution_count": null,
   "metadata": {},
   "outputs": [],
   "source": []
  },
  {
   "cell_type": "code",
   "execution_count": null,
   "metadata": {},
   "outputs": [],
   "source": []
  },
  {
   "cell_type": "code",
   "execution_count": null,
   "metadata": {},
   "outputs": [],
   "source": []
  },
  {
   "cell_type": "code",
   "execution_count": null,
   "metadata": {},
   "outputs": [],
   "source": []
  },
  {
   "cell_type": "code",
   "execution_count": null,
   "metadata": {},
   "outputs": [],
   "source": []
  },
  {
   "cell_type": "code",
   "execution_count": 90,
   "metadata": {},
   "outputs": [
    {
     "data": {
      "text/plain": [
       "(229, 229, 3)"
      ]
     },
     "execution_count": 90,
     "metadata": {},
     "output_type": "execute_result"
    }
   ],
   "source": [
    "from keras.preprocessing import image\n",
    "i=image.load_img('../data/test/n02085620-Chihuahua/n02085620_588.jpg',target_size=(229,229))\n",
    "image.img_to_array(i).shape"
   ]
  },
  {
   "cell_type": "code",
   "execution_count": 101,
   "metadata": {},
   "outputs": [
    {
     "data": {
      "text/plain": [
       "<matplotlib.image.AxesImage at 0x181a2928d0>"
      ]
     },
     "execution_count": 101,
     "metadata": {},
     "output_type": "execute_result"
    },
    {
     "data": {
      "image/png": "[encoded data removed]",
      "text/plain": [
       "<Figure size 432x288 with 1 Axes>"
      ]
     },
     "metadata": {},
     "output_type": "display_data"
    }
   ],
   "source": [
    "import imageio\n",
    "from matplotlib.pyplot import imshow\n",
    "a=imageio.imread('../data/test/n02085620-Chihuahua/n02085620_588.jpg')[:,:,:3]\n",
    "imshow(a)"
   ]
  },
  {
   "cell_type": "code",
   "execution_count": null,
   "metadata": {},
   "outputs": [],
   "source": []
  },
  {
   "cell_type": "code",
   "execution_count": null,
   "metadata": {},
   "outputs": [],
   "source": []
  },
  {
   "cell_type": "code",
   "execution_count": null,
   "metadata": {},
   "outputs": [],
   "source": []
  },
  {
   "cell_type": "code",
   "execution_count": null,
   "metadata": {},
   "outputs": [],
   "source": []
  },
  {
   "cell_type": "code",
   "execution_count": null,
   "metadata": {},
   "outputs": [],
   "source": []
  },
  {
   "cell_type": "code",
   "execution_count": null,
   "metadata": {},
   "outputs": [],
   "source": []
  },
  {
   "cell_type": "code",
   "execution_count": null,
   "metadata": {},
   "outputs": [],
   "source": []
  },
  {
   "cell_type": "code",
   "execution_count": null,
   "metadata": {},
   "outputs": [],
   "source": []
  },
  {
   "cell_type": "code",
   "execution_count": null,
   "metadata": {},
   "outputs": [],
   "source": []
  },
  {
   "cell_type": "code",
   "execution_count": null,
   "metadata": {},
   "outputs": [],
   "source": []
  },
  {
   "cell_type": "code",
   "execution_count": null,
   "metadata": {},
   "outputs": [],
   "source": []
  },
  {
   "cell_type": "code",
   "execution_count": null,
   "metadata": {},
   "outputs": [],
   "source": []
  },
  {
   "cell_type": "code",
   "execution_count": 7,
   "metadata": {},
   "outputs": [
    {
     "name": "stdout",
     "output_type": "stream",
     "text": [
      "../features/test_data.mat created\n"
     ]
    }
   ],
   "source": [
    "import scipy.io as sio\n",
    "downloadfile('test_data.mat', targetloc = '../features')\n",
    "test_data = sio.loadmat('../features/test_data.mat')\n",
    "#train_data = sio.loadmat('../features/train_data.mat')"
   ]
  },
  {
   "cell_type": "code",
   "execution_count": 8,
   "metadata": {},
   "outputs": [
    {
     "data": {
      "text/plain": [
       "dict_keys(['__header__', '__version__', '__globals__', 'test_info', 'test_fg_data', 'test_data'])"
      ]
     },
     "execution_count": 8,
     "metadata": {},
     "output_type": "execute_result"
    }
   ],
   "source": [
    "test_data.keys()"
   ]
  },
  {
   "cell_type": "code",
   "execution_count": 9,
   "metadata": {},
   "outputs": [
    {
     "data": {
      "text/plain": [
       "array([[0.42297642, 0.44567102, 0.44322268, ..., 0.11023967, 0.28878223,\n",
       "        0.16612349],\n",
       "       [0.4346575 , 0.36657143, 0.37279967, ..., 0.22414799, 0.30590121,\n",
       "        0.25217826],\n",
       "       [0.41025734, 0.45473016, 0.42543391, ..., 0.15453042, 0.32431428,\n",
       "        0.20263375],\n",
       "       ...,\n",
       "       [0.28498557, 0.20938963, 0.24384632, ..., 0.49464286, 0.32798978,\n",
       "        0.47575572],\n",
       "       [0.39380501, 0.33590476, 0.33118885, ..., 0.2584127 , 0.34057349,\n",
       "        0.31977051],\n",
       "       [0.33602892, 0.2005464 , 0.21812583, ..., 0.36979167, 0.25407723,\n",
       "        0.35944589]])"
      ]
     },
     "execution_count": 9,
     "metadata": {},
     "output_type": "execute_result"
    }
   ],
   "source": [
    "test_data['test_data']"
   ]
  },
  {
   "cell_type": "code",
   "execution_count": 10,
   "metadata": {},
   "outputs": [
    {
     "data": {
      "text/plain": [
       "array([[2.13068182e-04, 0.00000000e+00, 7.10227273e-05, ...,\n",
       "        1.06534091e-04, 7.10227273e-05, 1.74005682e-03],\n",
       "       [0.00000000e+00, 8.40336134e-04, 6.53594771e-04, ...,\n",
       "        1.40056022e-04, 7.93650794e-04, 1.40056022e-03],\n",
       "       [7.55857899e-05, 0.00000000e+00, 1.51171580e-04, ...,\n",
       "        3.77928949e-05, 7.55857899e-05, 3.17460317e-03],\n",
       "       ...,\n",
       "       [0.00000000e+00, 0.00000000e+00, 2.34375000e-04, ...,\n",
       "        3.55468750e-03, 3.90625000e-05, 2.73437500e-04],\n",
       "       [0.00000000e+00, 8.92857143e-05, 0.00000000e+00, ...,\n",
       "        1.78571429e-04, 7.14285714e-04, 1.11607143e-03],\n",
       "       [6.72043011e-05, 0.00000000e+00, 0.00000000e+00, ...,\n",
       "        1.71370968e-03, 2.15053763e-03, 8.73655914e-04]])"
      ]
     },
     "execution_count": 10,
     "metadata": {},
     "output_type": "execute_result"
    }
   ],
   "source": [
    "test_data['test_fg_data']"
   ]
  },
  {
   "cell_type": "code",
   "execution_count": null,
   "metadata": {},
   "outputs": [],
   "source": []
  },
  {
   "cell_type": "code",
   "execution_count": 4,
   "metadata": {},
   "outputs": [],
   "source": [
    "#Dataset loading model and lists\n",
    "test_data = sio.loadmat('../model/test_data.mat')\n",
    "train_data = sio.loadmat('../model/train_data.mat')\n",
    "\n",
    "file_list = sio.loadmat('../lists/file_list.mat')\n",
    "test_list = sio.loadmat('../lists/test_list.mat')\n",
    "train_list = sio.loadmat('../lists/train_list.mat')"
   ]
  },
  {
   "cell_type": "code",
   "execution_count": 6,
   "metadata": {},
   "outputs": [
    {
     "data": {
      "text/plain": [
       "dict_keys(['__header__', '__version__', '__globals__', 'test_info', 'test_fg_data', 'test_data'])"
      ]
     },
     "execution_count": 6,
     "metadata": {},
     "output_type": "execute_result"
    }
   ],
   "source": [
    "test_data.keys()"
   ]
  },
  {
   "cell_type": "code",
   "execution_count": 7,
   "metadata": {},
   "outputs": [
    {
     "data": {
      "text/plain": [
       "dict_keys(['__header__', '__version__', '__globals__', 'file_list', 'annotation_list', 'labels'])"
      ]
     },
     "execution_count": 7,
     "metadata": {},
     "output_type": "execute_result"
    }
   ],
   "source": [
    "file_list.keys()"
   ]
  },
  {
   "cell_type": "code",
   "execution_count": null,
   "metadata": {},
   "outputs": [],
   "source": []
  }
 ],
 "metadata": {
  "kernelspec": {
   "display_name": "Python 3",
   "language": "python",
   "name": "python3"
  },
  "language_info": {
   "codemirror_mode": {
    "name": "ipython",
    "version": 3
   },
   "file_extension": ".py",
   "mimetype": "text/x-python",
   "name": "python",
   "nbconvert_exporter": "python",
   "pygments_lexer": "ipython3",
   "version": "3.6.4"
  }
 },
 "nbformat": 4,
 "nbformat_minor": 2
}
