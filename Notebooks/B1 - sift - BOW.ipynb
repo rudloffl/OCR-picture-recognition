{
 "cells": [
  {
   "cell_type": "code",
   "execution_count": 100,
   "metadata": {},
   "outputs": [
    {
     "name": "stdout",
     "output_type": "stream",
     "text": [
      "3.3.1\n"
     ]
    }
   ],
   "source": [
    "import cv2\n",
    "import numpy as np\n",
    "import matplotlib.pyplot as plt\n",
    "#print('OpenCV Version (should be 3.1.0, with nonfree packages installed, for this tutorial):')\n",
    "print(cv2.__version__)\n",
    "import PIL\n",
    "from PIL import Image, ImageOps\n",
    "import os\n",
    "import pandas as pd\n",
    "from sklearn.preprocessing import StandardScaler\n",
    "from sklearn.cluster import KMeans\n",
    "%matplotlib inline\n",
    "from sklearn.feature_extraction.text import CountVectorizer\n",
    "from sklearn.model_selection import GridSearchCV\n",
    "from sklearn.model_selection import train_test_split\n",
    "from sklearn.metrics import f1_score\n",
    "from sklearn.metrics import make_scorer\n",
    "from sklearn.base import BaseEstimator, TransformerMixin\n",
    "#from keras.preprocessing.image import ImageDataGenerator, array_to_img, img_to_array, load_img\n",
    "from sklearn.decomposition import PCA\n",
    "from sklearn.ensemble import RandomForestClassifier\n",
    "from sklearn import preprocessing\n",
    "from sklearn.metrics import confusion_matrix\n",
    "from sklearn.metrics import f1_score\n",
    "from sklearn.metrics import make_scorer"
   ]
  },
  {
   "cell_type": "markdown",
   "metadata": {},
   "source": [
    "# Some links..."
   ]
  },
  {
   "cell_type": "markdown",
   "metadata": {},
   "source": [
    "https://www.pyimagesearch.com/2014/05/26/opencv-python-k-means-color-clustering/  \n",
    "http://charlesleifer.com/blog/using-python-and-k-means-to-find-the-dominant-colors-in-images/  \n",
    "https://docs.opencv.org/3.0-beta/doc/py_tutorials/py_ml/py_kmeans/py_kmeans_opencv/py_kmeans_opencv.html"
   ]
  },
  {
   "cell_type": "markdown",
   "metadata": {},
   "source": [
    "# Dataset loading"
   ]
  },
  {
   "cell_type": "code",
   "execution_count": 2,
   "metadata": {},
   "outputs": [
    {
     "data": {
      "text/html": [
       "<div>\n",
       "<style scoped>\n",
       "    .dataframe tbody tr th:only-of-type {\n",
       "        vertical-align: middle;\n",
       "    }\n",
       "\n",
       "    .dataframe tbody tr th {\n",
       "        vertical-align: top;\n",
       "    }\n",
       "\n",
       "    .dataframe thead th {\n",
       "        text-align: right;\n",
       "    }\n",
       "</style>\n",
       "<table border=\"1\" class=\"dataframe\">\n",
       "  <thead>\n",
       "    <tr style=\"text-align: right;\">\n",
       "      <th></th>\n",
       "      <th>breed</th>\n",
       "      <th>file</th>\n",
       "      <th>xmin</th>\n",
       "      <th>ymin</th>\n",
       "      <th>xmax</th>\n",
       "      <th>ymax</th>\n",
       "      <th>foldername</th>\n",
       "      <th>filename</th>\n",
       "      <th>dog_number</th>\n",
       "      <th>prepfilename</th>\n",
       "      <th>xdelta</th>\n",
       "      <th>ydelta</th>\n",
       "    </tr>\n",
       "  </thead>\n",
       "  <tbody>\n",
       "    <tr>\n",
       "      <th>n02085620_10074</th>\n",
       "      <td>Chihuahua</td>\n",
       "      <td>n02085620_10074</td>\n",
       "      <td>25.0</td>\n",
       "      <td>10.0</td>\n",
       "      <td>276.0</td>\n",
       "      <td>498.0</td>\n",
       "      <td>02085620</td>\n",
       "      <td>n02085620_10074</td>\n",
       "      <td>1</td>\n",
       "      <td>n02085620_10074-Chihuahua_cr1</td>\n",
       "      <td>251.0</td>\n",
       "      <td>488.0</td>\n",
       "    </tr>\n",
       "    <tr>\n",
       "      <th>n02085620_10131</th>\n",
       "      <td>Chihuahua</td>\n",
       "      <td>n02085620_10131</td>\n",
       "      <td>49.0</td>\n",
       "      <td>9.0</td>\n",
       "      <td>393.0</td>\n",
       "      <td>493.0</td>\n",
       "      <td>02085620</td>\n",
       "      <td>n02085620_10131</td>\n",
       "      <td>1</td>\n",
       "      <td>n02085620_10131-Chihuahua_cr1</td>\n",
       "      <td>344.0</td>\n",
       "      <td>484.0</td>\n",
       "    </tr>\n",
       "    <tr>\n",
       "      <th>n02085620_10621</th>\n",
       "      <td>Chihuahua</td>\n",
       "      <td>n02085620_10621</td>\n",
       "      <td>142.0</td>\n",
       "      <td>43.0</td>\n",
       "      <td>335.0</td>\n",
       "      <td>250.0</td>\n",
       "      <td>02085620</td>\n",
       "      <td>n02085620_10621</td>\n",
       "      <td>1</td>\n",
       "      <td>n02085620_10621-Chihuahua_cr1</td>\n",
       "      <td>193.0</td>\n",
       "      <td>207.0</td>\n",
       "    </tr>\n",
       "    <tr>\n",
       "      <th>n02085620_1073</th>\n",
       "      <td>Chihuahua</td>\n",
       "      <td>n02085620_1073</td>\n",
       "      <td>0.0</td>\n",
       "      <td>27.0</td>\n",
       "      <td>312.0</td>\n",
       "      <td>498.0</td>\n",
       "      <td>02085620</td>\n",
       "      <td>n02085620_1073</td>\n",
       "      <td>1</td>\n",
       "      <td>n02085620_1073-Chihuahua_cr1</td>\n",
       "      <td>312.0</td>\n",
       "      <td>471.0</td>\n",
       "    </tr>\n",
       "    <tr>\n",
       "      <th>n02085620_10976</th>\n",
       "      <td>Chihuahua</td>\n",
       "      <td>n02085620_10976</td>\n",
       "      <td>90.0</td>\n",
       "      <td>104.0</td>\n",
       "      <td>242.0</td>\n",
       "      <td>452.0</td>\n",
       "      <td>02085620</td>\n",
       "      <td>n02085620_10976</td>\n",
       "      <td>1</td>\n",
       "      <td>n02085620_10976-Chihuahua_cr1</td>\n",
       "      <td>152.0</td>\n",
       "      <td>348.0</td>\n",
       "    </tr>\n",
       "  </tbody>\n",
       "</table>\n",
       "</div>"
      ],
      "text/plain": [
       "                     breed             file   xmin   ymin   xmax   ymax  \\\n",
       "n02085620_10074  Chihuahua  n02085620_10074   25.0   10.0  276.0  498.0   \n",
       "n02085620_10131  Chihuahua  n02085620_10131   49.0    9.0  393.0  493.0   \n",
       "n02085620_10621  Chihuahua  n02085620_10621  142.0   43.0  335.0  250.0   \n",
       "n02085620_1073   Chihuahua   n02085620_1073    0.0   27.0  312.0  498.0   \n",
       "n02085620_10976  Chihuahua  n02085620_10976   90.0  104.0  242.0  452.0   \n",
       "\n",
       "                foldername         filename  dog_number  \\\n",
       "n02085620_10074   02085620  n02085620_10074           1   \n",
       "n02085620_10131   02085620  n02085620_10131           1   \n",
       "n02085620_10621   02085620  n02085620_10621           1   \n",
       "n02085620_1073    02085620   n02085620_1073           1   \n",
       "n02085620_10976   02085620  n02085620_10976           1   \n",
       "\n",
       "                                  prepfilename  xdelta  ydelta  \n",
       "n02085620_10074  n02085620_10074-Chihuahua_cr1   251.0   488.0  \n",
       "n02085620_10131  n02085620_10131-Chihuahua_cr1   344.0   484.0  \n",
       "n02085620_10621  n02085620_10621-Chihuahua_cr1   193.0   207.0  \n",
       "n02085620_1073    n02085620_1073-Chihuahua_cr1   312.0   471.0  \n",
       "n02085620_10976  n02085620_10976-Chihuahua_cr1   152.0   348.0  "
      ]
     },
     "execution_count": 2,
     "metadata": {},
     "output_type": "execute_result"
    }
   ],
   "source": [
    "dataset = pd.read_csv('Z1-picture_cropping.csv', index_col=0, dtype={'foldername':'object'})\n",
    "dataset.head()"
   ]
  },
  {
   "cell_type": "code",
   "execution_count": 3,
   "metadata": {},
   "outputs": [
    {
     "name": "stdout",
     "output_type": "stream",
     "text": [
      "['Afghan_hound' 'African_hunting_dog' 'Airedale'\n",
      " 'American_Staffordshire_terrier' 'Appenzeller' 'Australian_terrier'\n",
      " 'Bedlington_terrier' 'Bernese_mountain_dog' 'Blenheim_spaniel'\n",
      " 'Border_collie' 'Border_terrier' 'Boston_bull' 'Bouvier_des_Flandres'\n",
      " 'Brabancon_griffon' 'Brittany_spaniel' 'Cardigan'\n",
      " 'Chesapeake_Bay_retriever' 'Chihuahua' 'Dandie_Dinmont' 'Doberman'\n",
      " 'English_foxhound' 'English_setter' 'English_springer' 'EntleBucher'\n",
      " 'Eskimo_dog' 'French_bulldog' 'German_shepherd'\n",
      " 'German_short-haired_pointer' 'Gordon_setter' 'Great_Dane'\n",
      " 'Great_Pyrenees' 'Greater_Swiss_Mountain_dog' 'Ibizan_hound'\n",
      " 'Irish_setter' 'Irish_terrier' 'Irish_water_spaniel' 'Irish_wolfhound'\n",
      " 'Italian_greyhound' 'Japanese_spaniel' 'Kerry_blue_terrier'\n",
      " 'Labrador_retriever' 'Lakeland_terrier' 'Leonberg' 'Lhasa' 'Maltese_dog'\n",
      " 'Mexican_hairless' 'Newfoundland' 'Norfolk_terrier' 'Norwegian_elkhound'\n",
      " 'Norwich_terrier' 'Old_English_sheepdog' 'Pekinese' 'Pembroke'\n",
      " 'Pomeranian' 'Rhodesian_ridgeback' 'Rottweiler' 'Saint_Bernard' 'Saluki'\n",
      " 'Samoyed' 'Scotch_terrier' 'Scottish_deerhound' 'Sealyham_terrier'\n",
      " 'Shetland_sheepdog' 'Shih-Tzu' 'Siberian_husky'\n",
      " 'Staffordshire_bullterrier' 'Sussex_spaniel' 'Tibetan_mastiff'\n",
      " 'Tibetan_terrier' 'Walker_hound' 'Weimaraner' 'Welsh_springer_spaniel'\n",
      " 'West_Highland_white_terrier' 'Yorkshire_terrier' 'affenpinscher'\n",
      " 'basenji' 'basset' 'beagle' 'black-and-tan_coonhound' 'bloodhound'\n",
      " 'bluetick' 'borzoi' 'boxer' 'briard' 'bull_mastiff' 'cairn' 'chow'\n",
      " 'clumber' 'cocker_spaniel' 'collie' 'curly-coated_retriever' 'dhole'\n",
      " 'dingo' 'flat-coated_retriever' 'giant_schnauzer' 'golden_retriever'\n",
      " 'groenendael' 'keeshond' 'kelpie' 'komondor' 'kuvasz' 'malamute'\n",
      " 'malinois' 'miniature_pinscher' 'miniature_poodle' 'miniature_schnauzer'\n",
      " 'otterhound' 'papillon' 'pug' 'redbone' 'schipperke' 'silky_terrier'\n",
      " 'soft-coated_wheaten_terrier' 'standard_poodle' 'standard_schnauzer'\n",
      " 'toy_poodle' 'toy_terrier' 'vizsla' 'whippet' 'wire-haired_fox_terrier']\n"
     ]
    },
    {
     "data": {
      "text/html": [
       "<div>\n",
       "<style scoped>\n",
       "    .dataframe tbody tr th:only-of-type {\n",
       "        vertical-align: middle;\n",
       "    }\n",
       "\n",
       "    .dataframe tbody tr th {\n",
       "        vertical-align: top;\n",
       "    }\n",
       "\n",
       "    .dataframe thead th {\n",
       "        text-align: right;\n",
       "    }\n",
       "</style>\n",
       "<table border=\"1\" class=\"dataframe\">\n",
       "  <thead>\n",
       "    <tr style=\"text-align: right;\">\n",
       "      <th></th>\n",
       "      <th>breed</th>\n",
       "      <th>file</th>\n",
       "      <th>xmin</th>\n",
       "      <th>ymin</th>\n",
       "      <th>xmax</th>\n",
       "      <th>ymax</th>\n",
       "      <th>foldername</th>\n",
       "      <th>filename</th>\n",
       "      <th>dog_number</th>\n",
       "      <th>prepfilename</th>\n",
       "      <th>xdelta</th>\n",
       "      <th>ydelta</th>\n",
       "      <th>breed_code</th>\n",
       "    </tr>\n",
       "  </thead>\n",
       "  <tbody>\n",
       "    <tr>\n",
       "      <th>n02085620_10074</th>\n",
       "      <td>Chihuahua</td>\n",
       "      <td>n02085620_10074</td>\n",
       "      <td>25.0</td>\n",
       "      <td>10.0</td>\n",
       "      <td>276.0</td>\n",
       "      <td>498.0</td>\n",
       "      <td>02085620</td>\n",
       "      <td>n02085620_10074</td>\n",
       "      <td>1</td>\n",
       "      <td>n02085620_10074-Chihuahua_cr1</td>\n",
       "      <td>251.0</td>\n",
       "      <td>488.0</td>\n",
       "      <td>17</td>\n",
       "    </tr>\n",
       "    <tr>\n",
       "      <th>n02085620_10131</th>\n",
       "      <td>Chihuahua</td>\n",
       "      <td>n02085620_10131</td>\n",
       "      <td>49.0</td>\n",
       "      <td>9.0</td>\n",
       "      <td>393.0</td>\n",
       "      <td>493.0</td>\n",
       "      <td>02085620</td>\n",
       "      <td>n02085620_10131</td>\n",
       "      <td>1</td>\n",
       "      <td>n02085620_10131-Chihuahua_cr1</td>\n",
       "      <td>344.0</td>\n",
       "      <td>484.0</td>\n",
       "      <td>17</td>\n",
       "    </tr>\n",
       "    <tr>\n",
       "      <th>n02085620_10621</th>\n",
       "      <td>Chihuahua</td>\n",
       "      <td>n02085620_10621</td>\n",
       "      <td>142.0</td>\n",
       "      <td>43.0</td>\n",
       "      <td>335.0</td>\n",
       "      <td>250.0</td>\n",
       "      <td>02085620</td>\n",
       "      <td>n02085620_10621</td>\n",
       "      <td>1</td>\n",
       "      <td>n02085620_10621-Chihuahua_cr1</td>\n",
       "      <td>193.0</td>\n",
       "      <td>207.0</td>\n",
       "      <td>17</td>\n",
       "    </tr>\n",
       "    <tr>\n",
       "      <th>n02085620_1073</th>\n",
       "      <td>Chihuahua</td>\n",
       "      <td>n02085620_1073</td>\n",
       "      <td>0.0</td>\n",
       "      <td>27.0</td>\n",
       "      <td>312.0</td>\n",
       "      <td>498.0</td>\n",
       "      <td>02085620</td>\n",
       "      <td>n02085620_1073</td>\n",
       "      <td>1</td>\n",
       "      <td>n02085620_1073-Chihuahua_cr1</td>\n",
       "      <td>312.0</td>\n",
       "      <td>471.0</td>\n",
       "      <td>17</td>\n",
       "    </tr>\n",
       "    <tr>\n",
       "      <th>n02085620_10976</th>\n",
       "      <td>Chihuahua</td>\n",
       "      <td>n02085620_10976</td>\n",
       "      <td>90.0</td>\n",
       "      <td>104.0</td>\n",
       "      <td>242.0</td>\n",
       "      <td>452.0</td>\n",
       "      <td>02085620</td>\n",
       "      <td>n02085620_10976</td>\n",
       "      <td>1</td>\n",
       "      <td>n02085620_10976-Chihuahua_cr1</td>\n",
       "      <td>152.0</td>\n",
       "      <td>348.0</td>\n",
       "      <td>17</td>\n",
       "    </tr>\n",
       "  </tbody>\n",
       "</table>\n",
       "</div>"
      ],
      "text/plain": [
       "                     breed             file   xmin   ymin   xmax   ymax  \\\n",
       "n02085620_10074  Chihuahua  n02085620_10074   25.0   10.0  276.0  498.0   \n",
       "n02085620_10131  Chihuahua  n02085620_10131   49.0    9.0  393.0  493.0   \n",
       "n02085620_10621  Chihuahua  n02085620_10621  142.0   43.0  335.0  250.0   \n",
       "n02085620_1073   Chihuahua   n02085620_1073    0.0   27.0  312.0  498.0   \n",
       "n02085620_10976  Chihuahua  n02085620_10976   90.0  104.0  242.0  452.0   \n",
       "\n",
       "                foldername         filename  dog_number  \\\n",
       "n02085620_10074   02085620  n02085620_10074           1   \n",
       "n02085620_10131   02085620  n02085620_10131           1   \n",
       "n02085620_10621   02085620  n02085620_10621           1   \n",
       "n02085620_1073    02085620   n02085620_1073           1   \n",
       "n02085620_10976   02085620  n02085620_10976           1   \n",
       "\n",
       "                                  prepfilename  xdelta  ydelta  breed_code  \n",
       "n02085620_10074  n02085620_10074-Chihuahua_cr1   251.0   488.0          17  \n",
       "n02085620_10131  n02085620_10131-Chihuahua_cr1   344.0   484.0          17  \n",
       "n02085620_10621  n02085620_10621-Chihuahua_cr1   193.0   207.0          17  \n",
       "n02085620_1073    n02085620_1073-Chihuahua_cr1   312.0   471.0          17  \n",
       "n02085620_10976  n02085620_10976-Chihuahua_cr1   152.0   348.0          17  "
      ]
     },
     "execution_count": 3,
     "metadata": {},
     "output_type": "execute_result"
    }
   ],
   "source": [
    "le = preprocessing.LabelEncoder()\n",
    "le.fit(dataset['breed'])\n",
    "print(le.classes_)\n",
    "dataset['breed_code'] = le.transform(dataset['breed'])\n",
    "dataset.head()"
   ]
  },
  {
   "cell_type": "code",
   "execution_count": 4,
   "metadata": {},
   "outputs": [
    {
     "data": {
      "text/plain": [
       "(774, 13)"
      ]
     },
     "execution_count": 4,
     "metadata": {},
     "output_type": "execute_result"
    }
   ],
   "source": [
    "subset = dataset[dataset['breed_code'] < 4]\n",
    "subset.shape"
   ]
  },
  {
   "cell_type": "code",
   "execution_count": 5,
   "metadata": {},
   "outputs": [
    {
     "data": {
      "text/html": [
       "<div>\n",
       "<style scoped>\n",
       "    .dataframe tbody tr th:only-of-type {\n",
       "        vertical-align: middle;\n",
       "    }\n",
       "\n",
       "    .dataframe tbody tr th {\n",
       "        vertical-align: top;\n",
       "    }\n",
       "\n",
       "    .dataframe thead th {\n",
       "        text-align: right;\n",
       "    }\n",
       "</style>\n",
       "<table border=\"1\" class=\"dataframe\">\n",
       "  <thead>\n",
       "    <tr style=\"text-align: right;\">\n",
       "      <th></th>\n",
       "      <th>breed</th>\n",
       "      <th>file</th>\n",
       "      <th>xmin</th>\n",
       "      <th>ymin</th>\n",
       "      <th>xmax</th>\n",
       "      <th>ymax</th>\n",
       "      <th>foldername</th>\n",
       "      <th>filename</th>\n",
       "      <th>dog_number</th>\n",
       "      <th>prepfilename</th>\n",
       "      <th>xdelta</th>\n",
       "      <th>ydelta</th>\n",
       "      <th>breed_code</th>\n",
       "    </tr>\n",
       "  </thead>\n",
       "  <tbody>\n",
       "    <tr>\n",
       "      <th>n02088094_1003</th>\n",
       "      <td>Afghan_hound</td>\n",
       "      <td>n02088094_1003</td>\n",
       "      <td>45.0</td>\n",
       "      <td>43.0</td>\n",
       "      <td>289.0</td>\n",
       "      <td>490.0</td>\n",
       "      <td>02088094</td>\n",
       "      <td>n02088094_1003</td>\n",
       "      <td>1</td>\n",
       "      <td>n02088094_1003-Afghan_hound_cr1</td>\n",
       "      <td>244.0</td>\n",
       "      <td>447.0</td>\n",
       "      <td>0</td>\n",
       "    </tr>\n",
       "    <tr>\n",
       "      <th>n02088094_1007</th>\n",
       "      <td>Afghan_hound</td>\n",
       "      <td>n02088094_1007</td>\n",
       "      <td>236.0</td>\n",
       "      <td>80.0</td>\n",
       "      <td>447.0</td>\n",
       "      <td>332.0</td>\n",
       "      <td>02088094</td>\n",
       "      <td>n02088094_1007</td>\n",
       "      <td>1</td>\n",
       "      <td>n02088094_1007-Afghan_hound_cr1</td>\n",
       "      <td>211.0</td>\n",
       "      <td>252.0</td>\n",
       "      <td>0</td>\n",
       "    </tr>\n",
       "    <tr>\n",
       "      <th>n02088094_1023</th>\n",
       "      <td>Afghan_hound</td>\n",
       "      <td>n02088094_1023</td>\n",
       "      <td>174.0</td>\n",
       "      <td>214.0</td>\n",
       "      <td>267.0</td>\n",
       "      <td>382.0</td>\n",
       "      <td>02088094</td>\n",
       "      <td>n02088094_1023</td>\n",
       "      <td>2</td>\n",
       "      <td>n02088094_1023-Afghan_hound_cr2</td>\n",
       "      <td>93.0</td>\n",
       "      <td>168.0</td>\n",
       "      <td>0</td>\n",
       "    </tr>\n",
       "    <tr>\n",
       "      <th>n02088094_10263</th>\n",
       "      <td>Afghan_hound</td>\n",
       "      <td>n02088094_10263</td>\n",
       "      <td>11.0</td>\n",
       "      <td>115.0</td>\n",
       "      <td>355.0</td>\n",
       "      <td>423.0</td>\n",
       "      <td>02088094</td>\n",
       "      <td>n02088094_10263</td>\n",
       "      <td>1</td>\n",
       "      <td>n02088094_10263-Afghan_hound_cr1</td>\n",
       "      <td>344.0</td>\n",
       "      <td>308.0</td>\n",
       "      <td>0</td>\n",
       "    </tr>\n",
       "    <tr>\n",
       "      <th>n02088094_10715</th>\n",
       "      <td>Afghan_hound</td>\n",
       "      <td>n02088094_10715</td>\n",
       "      <td>31.0</td>\n",
       "      <td>43.0</td>\n",
       "      <td>290.0</td>\n",
       "      <td>483.0</td>\n",
       "      <td>02088094</td>\n",
       "      <td>n02088094_10715</td>\n",
       "      <td>1</td>\n",
       "      <td>n02088094_10715-Afghan_hound_cr1</td>\n",
       "      <td>259.0</td>\n",
       "      <td>440.0</td>\n",
       "      <td>0</td>\n",
       "    </tr>\n",
       "  </tbody>\n",
       "</table>\n",
       "</div>"
      ],
      "text/plain": [
       "                        breed             file   xmin   ymin   xmax   ymax  \\\n",
       "n02088094_1003   Afghan_hound   n02088094_1003   45.0   43.0  289.0  490.0   \n",
       "n02088094_1007   Afghan_hound   n02088094_1007  236.0   80.0  447.0  332.0   \n",
       "n02088094_1023   Afghan_hound   n02088094_1023  174.0  214.0  267.0  382.0   \n",
       "n02088094_10263  Afghan_hound  n02088094_10263   11.0  115.0  355.0  423.0   \n",
       "n02088094_10715  Afghan_hound  n02088094_10715   31.0   43.0  290.0  483.0   \n",
       "\n",
       "                foldername         filename  dog_number  \\\n",
       "n02088094_1003    02088094   n02088094_1003           1   \n",
       "n02088094_1007    02088094   n02088094_1007           1   \n",
       "n02088094_1023    02088094   n02088094_1023           2   \n",
       "n02088094_10263   02088094  n02088094_10263           1   \n",
       "n02088094_10715   02088094  n02088094_10715           1   \n",
       "\n",
       "                                     prepfilename  xdelta  ydelta  breed_code  \n",
       "n02088094_1003    n02088094_1003-Afghan_hound_cr1   244.0   447.0           0  \n",
       "n02088094_1007    n02088094_1007-Afghan_hound_cr1   211.0   252.0           0  \n",
       "n02088094_1023    n02088094_1023-Afghan_hound_cr2    93.0   168.0           0  \n",
       "n02088094_10263  n02088094_10263-Afghan_hound_cr1   344.0   308.0           0  \n",
       "n02088094_10715  n02088094_10715-Afghan_hound_cr1   259.0   440.0           0  "
      ]
     },
     "execution_count": 5,
     "metadata": {},
     "output_type": "execute_result"
    }
   ],
   "source": [
    "subset.head()"
   ]
  },
  {
   "cell_type": "code",
   "execution_count": 6,
   "metadata": {},
   "outputs": [],
   "source": [
    "X_train, X_test, y_train, y_test = train_test_split(subset, subset['breed_code'], test_size=0.33, random_state=0, stratify=subset['breed_code'])"
   ]
  },
  {
   "cell_type": "markdown",
   "metadata": {},
   "source": [
    "# Class creation"
   ]
  },
  {
   "cell_type": "code",
   "execution_count": 118,
   "metadata": {},
   "outputs": [
    {
     "name": "stdout",
     "output_type": "stream",
     "text": [
      "Pictures loaded\n",
      "No PCA\n",
      "Sift fitted\n",
      "Color dominance fitted\n",
      "BOW fitted\n",
      "Training score 1.0\n"
     ]
    },
    {
     "data": {
      "text/plain": [
       "<3x60 sparse matrix of type '<class 'numpy.int64'>'\n",
       "\twith 120 stored elements in Compressed Sparse Row format>"
      ]
     },
     "execution_count": 118,
     "metadata": {},
     "output_type": "execute_result"
    }
   ],
   "source": [
    "class SiftBOW(BaseEstimator, TransformerMixin):\n",
    "\n",
    "    def __init__(self, estimator, **params):        \n",
    "        self.kmeans_params = {'n_clusters':30, 'verbose':0, 'random_state':3, 'max_iter': 300}\n",
    "        self.sift_params = {'nfeatures':0}\n",
    "        self.estimator_params = {'max_depth':None, 'random_state':0, 'verbose':0, 'n_estimators':10}\n",
    "        self.pca_params = {'n_components':10, 'random_state':0}\n",
    "        self.cvect_params = {'ngram_range':(1,1), 'min_df':1, 'max_df':1.}\n",
    "        self.color_params = {'n_clusters':30, 'random_state':0}\n",
    "        self.pics_params = {'save_pics':True, 'equalyze':True, }\n",
    "        \n",
    "        self.clf_params = {'trained':False, 'kmean_sample_size':10000}\n",
    "        \n",
    "        self.params = {**{'kmeans_'+k:v for k,v in self.kmeans_params.items()},\n",
    "                       **{'sift_'+k:v for k,v in self.sift_params.items()},\n",
    "                       **{'estimator_'+k:v for k,v in self.estimator_params.items()},\n",
    "                       **{'cvect_'+k:v for k,v in self.cvect_params.items()},\n",
    "                       **{'clf_'+k:v for k,v in self.clf_params.items()},\n",
    "                       **{'pca_'+k:v for k,v in self.pca_params.items()},\n",
    "                       **{'color_'+k:v for k,v in self.color_params.items()},\n",
    "                       **{'pics_'+k:v for k,v in self.pics_params.items()},\n",
    "                       **params}\n",
    "        \n",
    "        self.update_params()\n",
    "        \n",
    "        self.estimator = estimator\n",
    "        self.estimator.set_params(**self.estimator_params)\n",
    "        self.kmeans = KMeans(**self.kmeans_params)\n",
    "        self.scaler = StandardScaler()\n",
    "        self.color_scaler = StandardScaler()\n",
    "        self.cvect = CountVectorizer(**self.cvect_params, analyzer='word', tokenizer=None)\n",
    "        self.sift = cv2.xfeatures2d.SIFT_create(**self.sift_params)\n",
    "        self.pca = PCA(**self.pca_params)\n",
    "        self.color_kmeans = KMeans(**self.color_params)\n",
    "        \n",
    "    def get_params(self, deep=True):\n",
    "        return self.params\n",
    "    \n",
    "    def set_params(self, **params):\n",
    "        self.params = {**self.params, **params}\n",
    "        self.update_params()\n",
    "        return self\n",
    "        \n",
    "    def update_params(self):\n",
    "        \n",
    "        self.kmeans_params = {k[7:]:v for k,v in self.params.items() if k.startswith('kmeans_')}\n",
    "        self.sift_params = {k[5:]:v for k,v in self.params.items() if k.startswith('sift_')}\n",
    "        self.estimator_params = {k[10:]:v for k,v in self.params.items() if k.startswith('estimator_')}\n",
    "        self.pics_params = {k[5:]:v for k,v in self.params.items() if k.startswith('pics_')}\n",
    "        self.color_params = {k[6:]:v for k,v in self.params.items() if k.startswith('color_')}\n",
    "        \n",
    "        self.cvect_params = {k[6:]:v for k,v in self.params.items() if k.startswith('cvect_')}\n",
    "        self.pca_params = {k[4:]:v for k,v in self.params.items() if k.startswith('pca_')}\n",
    "        self.clf_params = {k[4:]:v for k,v in self.params.items() if k.startswith('clf_')}\n",
    "\n",
    "        return self\n",
    "\n",
    "    def get_feature_importances_(self):\n",
    "        pass\n",
    "    \n",
    "    def score(self, X, y):\n",
    "        pics, sift_desc , colors = self.transform(X)\n",
    "        bow = self.compute_data(sift_desc , colors)\n",
    "        Xbow = self.transform_bow(bow)\n",
    "        \n",
    "        return self.estimator.score(Xbow, y)\n",
    "    \n",
    "    def fit_bow(self, keydescriptors):\n",
    "        self.cvect.fit(keydescriptors)\n",
    "        print('BOW fitted')\n",
    "        return self\n",
    "    \n",
    "    def fit_colors(self, colors, samplesize=10000):\n",
    "        colorlist = colors.reshape(-1,3)\n",
    "        indices = np.random.randint(0, colorlist.shape[0], samplesize)\n",
    "        Xsample = colors[indices]\n",
    "        Xscaled = self.color_scaler.fit_transform(Xsample)\n",
    "        self.color_kmeans.fit(Xscaled)\n",
    "        print('Color dominance fitted')\n",
    "        return self\n",
    "    \n",
    "    def transform_bow(self, keydescriptors):\n",
    "        return self.cvect.transform(keydescriptors)\n",
    "    \n",
    "    def fit(self, X, y):\n",
    "        pics, sift_desc, color_dominance = self.transform(X, y)\n",
    "        self.fit_sift(np.concatenate(sift_desc))\n",
    "        self.fit_colors(np.concatenate(color_dominance))\n",
    "        \n",
    "        bow = self.compute_data(sift_desc, color_dominance)\n",
    "        self.fit_bow(bow)\n",
    "        Xbow = self.transform_bow(bow)\n",
    "        self.estimator.fit(Xbow, y)\n",
    "        trainingscore = self.estimator.score(Xbow, y)\n",
    "        print('Training score', trainingscore)\n",
    "        self.clf_params['trained'] = True\n",
    "        return Xbow\n",
    "    \n",
    "    def color_domincance(self, picture, n_cluster=10):\n",
    "        #Converts to openCV\n",
    "        imcv = cv2.cvtColor(np.array(picture), cv2.COLOR_RGB2BGR)\n",
    "        \n",
    "        #Flatten all the pixels\n",
    "        Z = imcv.reshape((-1,3))\n",
    "\n",
    "        # convert to np.float32\n",
    "        Z = np.float32(Z)\n",
    "\n",
    "        # define criteria, number of clusters(K) and apply kmeans()\n",
    "        criteria = (cv2.TERM_CRITERIA_EPS + cv2.TERM_CRITERIA_MAX_ITER, 10, 1.0)\n",
    "        K = n_cluster\n",
    "        ret, label, color_dominance = cv2.kmeans(Z,K,None,criteria,10,cv2.KMEANS_RANDOM_CENTERS)\n",
    "        return color_dominance\n",
    "    \n",
    "    def transform(self, X, y=None):\n",
    "        sift_desc = []\n",
    "        colors = []\n",
    "        pics = []\n",
    "        filenames = []\n",
    "        for index, picture in X.iterrows():\n",
    "            xmax = picture.xmax\n",
    "            ymax = picture.ymax\n",
    "            xmin = picture.xmin\n",
    "            ymin = picture.ymin\n",
    "            foldername = picture.foldername\n",
    "            breed = picture.breed\n",
    "            filename = picture.filename\n",
    "            prepfilename = picture.prepfilename\n",
    "        \n",
    "            filenames.append(prepfilename)\n",
    "        \n",
    "            #Image opening\n",
    "            img = Image.open('../Images/n{}-{}/{}.jpg'.format(foldername, breed, filename))\n",
    "            \n",
    "            color_dominance = self.color_domincance(img)\n",
    "            \n",
    "            #Image cropping\n",
    "            area = (xmin, ymin, xmax, ymax)\n",
    "            img = img.crop(area)\n",
    "\n",
    "#            #Image greyscale\n",
    "#            img = ImageOps.grayscale(img)\n",
    "            \n",
    "            #Image equalization\n",
    "            img = ImageOps.equalize(img)\n",
    "\n",
    "            temp_img, temp_sift, temp_color = self.treat_pictures(img, prepfilename)\n",
    "            colors.append(temp_color)\n",
    "            pics.append(temp_img)\n",
    "            sift_desc.append(temp_sift)\n",
    "        \n",
    "        print('Pictures loaded')\n",
    "        \n",
    "        return pics, sift_desc, colors\n",
    "    \n",
    "    def predict(self, X, y):\n",
    "        pics, sift_desc, colors = self.transform(X, y)\n",
    "        bow = self.compute_data(sift_desc, colors)\n",
    "        Xbow = self.transform_bow(bow)\n",
    "        \n",
    "        return self.estimator.predict(Xbow)\n",
    "    \n",
    "    def fit_sift(self, descriptors):\n",
    "        indices = np.random.randint(0,descriptors.shape[0],self.clf_params['kmean_sample_size'])\n",
    "        Xsample = descriptors[indices]\n",
    "        Xscaled = self.scaler.fit_transform(Xsample)\n",
    "        if self.clf_params['apply_pca']:\n",
    "            Xscaled = self.pca.fit_transform(Xscaled)\n",
    "            print('PCA fitted')\n",
    "        else:\n",
    "            print('No PCA')\n",
    "        self.kmeans.fit(Xscaled)\n",
    "        print('Sift fitted')\n",
    "        return self\n",
    "    \n",
    "    def compute_data(self, descriptors, colors):\n",
    "        toreturn = []\n",
    "        for descriptor , color in zip(descriptors, colors):\n",
    "            #Key points treatment\n",
    "            XScaled = self.scaler.transform(descriptor)\n",
    "            if self.clf_params['apply_pca']:\n",
    "                XScaled = self.pca.transform(XScaled)\n",
    "            bow_keys = [self.kmeans.predict(keydescription.reshape(1, -1))[0] for keydescription in XScaled]\n",
    "            keystring = ' '.join(['kp'+str(x) for x in bow_keys])\n",
    "            \n",
    "            #Colors treatment\n",
    "            XScaled = self.color_scaler.transform(color)\n",
    "            bow_colors = [self.color_kmeans.predict(majorcolor.reshape(1, -1))[0] for majorcolor in XScaled]\n",
    "            colorstring = ' '.join(['cl'+str(x) for x in bow_colors])\n",
    "            \n",
    "            toreturn.append(keystring+' '+colorstring) #\n",
    "        return toreturn\n",
    "    \n",
    "    def exportset(self, X):\n",
    "        pics, sift_desc, colors = self.transform(X)\n",
    "        bow = self.compute_data(sift_desc, colors)\n",
    "        Xbow = self.transform_bow(bow)\n",
    "        return Xbow\n",
    "    \n",
    "    def treat_pictures(self, picture, prepfilename='zzz'):\n",
    "\n",
    "        color_dominance = self.color_domincance(picture)\n",
    "        imcv = cv2.cvtColor(np.array(picture), cv2.COLOR_RGB2BGR)\n",
    "        imcv_gr = cv2.cvtColor(imcv, cv2.IMREAD_GRAYSCALE)\n",
    "        \n",
    "        #plt.imshow(cv2.cvtColor(imcv, cv2.CV_32S))\n",
    "        #plt.show()\n",
    "        \n",
    "        imcv_kp, imcv_desc = self.sift.detectAndCompute(imcv_gr, None)\n",
    "\n",
    "        if self.pics_params['save_pics']:\n",
    "            #Image saving OpenCV\n",
    "            cv2.imwrite('../pics/{}.jpg'.format(prepfilename),cv2.drawKeypoints(imcv, imcv_kp, imcv.copy()))\n",
    "        \n",
    "        return picture, imcv_desc, color_dominance\n",
    "\n",
    "clf = RandomForestClassifier()\n",
    "dogreconizer = SiftBOW(clf, **{'pics_save_pics':True, 'clf_apply_pca':False})\n",
    "dogreconizer.get_params()\n",
    "dogreconizer.fit(X_train[:3], y_train[:3])"
   ]
  },
  {
   "cell_type": "code",
   "execution_count": 58,
   "metadata": {},
   "outputs": [],
   "source": [
    "clf = RandomForestClassifier()\n",
    "dogreconizer = SiftBOW(clf, **{'pics_save_pics':True, 'clf_apply_pca':False})"
   ]
  },
  {
   "cell_type": "code",
   "execution_count": 83,
   "metadata": {},
   "outputs": [
    {
     "name": "stdout",
     "output_type": "stream",
     "text": [
      "Pictures loaded\n",
      "No PCA\n",
      "Sift fitted\n",
      "Color dominance fitted\n",
      "BOW fitted\n",
      "Training score 0.9903474903474904\n"
     ]
    }
   ],
   "source": [
    "XX_train = dogreconizer.fit(X_train, y_train)"
   ]
  },
  {
   "cell_type": "code",
   "execution_count": 60,
   "metadata": {},
   "outputs": [
    {
     "name": "stdout",
     "output_type": "stream",
     "text": [
      "Pictures loaded\n"
     ]
    },
    {
     "data": {
      "text/plain": [
       "array([1, 0, 0, 2, 1, 3, 0, 1, 0, 0, 0, 0, 2, 2, 1, 1, 2, 0, 0, 2, 0, 2,\n",
       "       0, 3, 2, 0, 2, 2, 2, 3, 0, 1, 0, 3, 2, 1, 0, 1, 2, 0, 2, 1, 0, 3,\n",
       "       3, 1, 0, 2, 0, 0, 2, 0, 1, 3, 2, 1, 0, 2, 2, 0, 1, 0, 0, 3, 1, 0,\n",
       "       2, 1, 0, 1, 3, 1, 0, 1, 0, 3, 0, 3, 3, 3, 0, 3, 3, 0, 0, 0, 3, 0,\n",
       "       2, 2, 2, 2, 2, 0, 1, 3, 1, 1, 0, 0, 3, 1, 3, 2, 0, 2, 1, 1, 0, 0,\n",
       "       1, 0, 2, 0, 2, 1, 2, 0, 2, 0, 3, 3, 0, 0, 3, 1, 1, 0, 0, 0, 3, 3,\n",
       "       0, 2, 2, 0, 0, 0, 0, 1, 1, 1, 2, 1, 1, 1, 1, 0, 1, 3, 2, 0, 2, 2,\n",
       "       2, 2, 3, 0, 0, 2, 2, 3, 3, 0, 0, 1, 2, 0, 2, 2, 3, 1, 1, 1, 2, 0,\n",
       "       0, 1, 2, 2, 0, 0, 3, 0, 1, 0, 2, 2, 2, 0, 0, 0, 1, 2, 0, 3, 2, 2,\n",
       "       0, 2, 0, 3, 0, 0, 1, 2, 1, 0, 1, 1, 0, 3, 0, 2, 0, 3, 0, 1, 1, 2,\n",
       "       3, 1, 2, 0, 0, 2, 2, 0, 1, 1, 2, 2, 0, 0, 1, 0, 0, 1, 3, 1, 1, 0,\n",
       "       1, 0, 3, 0, 1, 0, 2, 2, 0, 1, 0, 2, 2, 1])"
      ]
     },
     "execution_count": 60,
     "metadata": {},
     "output_type": "execute_result"
    }
   ],
   "source": [
    "y_pred = dogreconizer.predict(X_test, y_test)\n",
    "y_pred"
   ]
  },
  {
   "cell_type": "code",
   "execution_count": 61,
   "metadata": {},
   "outputs": [
    {
     "data": {
      "text/plain": [
       "array([[53, 10,  7,  9],\n",
       "       [12, 28, 13,  3],\n",
       "       [14, 10, 36,  7],\n",
       "       [15, 12,  9, 18]])"
      ]
     },
     "execution_count": 61,
     "metadata": {},
     "output_type": "execute_result"
    }
   ],
   "source": [
    "confusion_matrix(y_test, y_pred)\n"
   ]
  },
  {
   "cell_type": "code",
   "execution_count": 62,
   "metadata": {},
   "outputs": [
    {
     "name": "stdout",
     "output_type": "stream",
     "text": [
      "Pictures loaded\n"
     ]
    },
    {
     "data": {
      "text/plain": [
       "0.54296875"
      ]
     },
     "execution_count": 62,
     "metadata": {},
     "output_type": "execute_result"
    }
   ],
   "source": [
    "dogreconizer.score(X_test, y_test)"
   ]
  },
  {
   "cell_type": "code",
   "execution_count": 84,
   "metadata": {},
   "outputs": [
    {
     "name": "stdout",
     "output_type": "stream",
     "text": [
      "Pictures loaded\n"
     ]
    }
   ],
   "source": [
    "XX_test = dogreconizer.exportset(X_test)"
   ]
  },
  {
   "cell_type": "code",
   "execution_count": 23,
   "metadata": {},
   "outputs": [
    {
     "data": {
      "text/plain": [
       "(518, 13)"
      ]
     },
     "execution_count": 23,
     "metadata": {},
     "output_type": "execute_result"
    }
   ],
   "source": [
    "X_train.shape"
   ]
  },
  {
   "cell_type": "markdown",
   "metadata": {},
   "source": [
    "# KNeighborsClassifier"
   ]
  },
  {
   "cell_type": "code",
   "execution_count": 88,
   "metadata": {},
   "outputs": [
    {
     "data": {
      "text/plain": [
       "0.55859375"
      ]
     },
     "execution_count": 88,
     "metadata": {},
     "output_type": "execute_result"
    }
   ],
   "source": [
    "from sklearn.neighbors import KNeighborsClassifier\n",
    "neigh = KNeighborsClassifier(n_neighbors=12, n_jobs=3)\n",
    "neigh.fit(XX_train.toarray(), y_train.values)\n",
    "neigh.score(XX_test.toarray(), y_test.values)"
   ]
  },
  {
   "cell_type": "code",
   "execution_count": 102,
   "metadata": {},
   "outputs": [
    {
     "name": "stdout",
     "output_type": "stream",
     "text": [
      "Fitting 3 folds for each of 30 candidates, totalling 90 fits\n"
     ]
    },
    {
     "name": "stderr",
     "output_type": "stream",
     "text": [
      "[Parallel(n_jobs=5)]: Done  40 tasks      | elapsed:    1.7s\n",
      "[Parallel(n_jobs=5)]: Done  90 out of  90 | elapsed:    3.9s finished\n"
     ]
    },
    {
     "data": {
      "text/plain": [
       "0.56640625"
      ]
     },
     "execution_count": 102,
     "metadata": {},
     "output_type": "execute_result"
    }
   ],
   "source": [
    "parameters = {'n_neighbors':[3,5,7,9,15,20], 'leaf_size': [10,20,30,40,50]}\n",
    "scorer = make_scorer(f1_score, average='micro')\n",
    "\n",
    "clfknn = GridSearchCV(neigh, parameters, verbose=1, cv=3, n_jobs=5, scoring=scorer)\n",
    "clfknn.fit(XX_train.toarray(), y_train.values)\n",
    "clfknn.score(XX_test.toarray(), y_test.values)"
   ]
  },
  {
   "cell_type": "markdown",
   "metadata": {},
   "source": [
    "# SVC"
   ]
  },
  {
   "cell_type": "code",
   "execution_count": 89,
   "metadata": {},
   "outputs": [
    {
     "data": {
      "text/plain": [
       "0.30859375"
      ]
     },
     "execution_count": 89,
     "metadata": {},
     "output_type": "execute_result"
    }
   ],
   "source": [
    "from sklearn.svm import SVC\n",
    "clf = SVC()\n",
    "clf.fit(XX_train.toarray(), y_train.values)\n",
    "clf.score(XX_test.toarray(), y_test.values)"
   ]
  },
  {
   "cell_type": "code",
   "execution_count": 101,
   "metadata": {},
   "outputs": [
    {
     "name": "stdout",
     "output_type": "stream",
     "text": [
      "Fitting 3 folds for each of 121 candidates, totalling 363 fits\n"
     ]
    },
    {
     "name": "stderr",
     "output_type": "stream",
     "text": [
      "[Parallel(n_jobs=5)]: Done 190 tasks      | elapsed:    1.7s\n",
      "[Parallel(n_jobs=5)]: Done 363 out of 363 | elapsed:    3.5s finished\n"
     ]
    },
    {
     "data": {
      "text/plain": [
       "0.66015625"
      ]
     },
     "execution_count": 101,
     "metadata": {},
     "output_type": "execute_result"
    }
   ],
   "source": [
    "parameters = {'C':np.logspace(-5, 5, 11), 'gamma':np.logspace(-5, 5, 11)}\n",
    "scorer = make_scorer(f1_score, average='micro')\n",
    "\n",
    "clfsvc = GridSearchCV(clf, parameters, verbose=1, cv=3, n_jobs=5, scoring=scorer)\n",
    "clfsvc.fit(XX_train.toarray(), y_train.values)\n",
    "clfsvc.score(XX_test.toarray(), y_test.values)"
   ]
  },
  {
   "cell_type": "code",
   "execution_count": 97,
   "metadata": {},
   "outputs": [
    {
     "data": {
      "text/plain": [
       "{'C': 31.622776601683793, 'gamma': 1e-05}"
      ]
     },
     "execution_count": 97,
     "metadata": {},
     "output_type": "execute_result"
    }
   ],
   "source": [
    "clfsvc.best_params_"
   ]
  },
  {
   "cell_type": "markdown",
   "metadata": {},
   "source": [
    "# Random Forrest"
   ]
  },
  {
   "cell_type": "code",
   "execution_count": 103,
   "metadata": {},
   "outputs": [],
   "source": [
    "clf = RandomForestClassifier(random_state=0)"
   ]
  },
  {
   "cell_type": "code",
   "execution_count": 105,
   "metadata": {},
   "outputs": [
    {
     "name": "stdout",
     "output_type": "stream",
     "text": [
      "Fitting 5 folds for each of 48 candidates, totalling 240 fits\n"
     ]
    },
    {
     "name": "stderr",
     "output_type": "stream",
     "text": [
      "[Parallel(n_jobs=3)]: Done 110 tasks      | elapsed:   13.4s\n",
      "[Parallel(n_jobs=3)]: Done 240 out of 240 | elapsed:   31.3s finished\n"
     ]
    },
    {
     "data": {
      "text/plain": [
       "0.60546875"
      ]
     },
     "execution_count": 105,
     "metadata": {},
     "output_type": "execute_result"
    }
   ],
   "source": [
    "parameters = {'n_estimators':[10,50,100,500],\n",
    "              'max_depth':[None,10,15,20],\n",
    "              'min_samples_split':[2,3,5],}\n",
    "scorer = make_scorer(f1_score, average='micro')\n",
    "\n",
    "clfrfc = GridSearchCV(clf, parameters, verbose=1, cv=5, n_jobs=3, scoring=scorer)\n",
    "clfrfc.fit(XX_train.toarray(), y_train.values)\n",
    "clfrfc.score(XX_test.toarray(), y_test.values)"
   ]
  },
  {
   "cell_type": "code",
   "execution_count": 108,
   "metadata": {},
   "outputs": [
    {
     "data": {
      "text/plain": [
       "{'max_depth': None, 'min_samples_split': 2, 'n_estimators': 500}"
      ]
     },
     "execution_count": 108,
     "metadata": {},
     "output_type": "execute_result"
    }
   ],
   "source": [
    "clfrfc.best_params_"
   ]
  },
  {
   "cell_type": "code",
   "execution_count": 117,
   "metadata": {},
   "outputs": [
    {
     "data": {
      "text/plain": [
       "array([0.0063605 , 0.00868034, 0.0040952 , 0.00629071, 0.00633876,\n",
       "       0.00349886, 0.00558821, 0.00490639, 0.00813842, 0.00320802,\n",
       "       0.00168273, 0.00488969, 0.00087108, 0.00090622, 0.00407985,\n",
       "       0.00444978, 0.0110547 , 0.00542311, 0.00236389, 0.0052936 ,\n",
       "       0.00319175, 0.00208255, 0.00433431, 0.0067357 , 0.00616975,\n",
       "       0.00106261, 0.00650464, 0.00500105, 0.00220205, 0.00291759,\n",
       "       0.03062906, 0.02213617, 0.03246236, 0.02325279, 0.03313535,\n",
       "       0.04250873, 0.02656952, 0.02528625, 0.03620736, 0.02846499,\n",
       "       0.0367549 , 0.02806883, 0.02492078, 0.01991885, 0.02716017,\n",
       "       0.03276097, 0.02239816, 0.02538317, 0.02932026, 0.02349456,\n",
       "       0.01976998, 0.03567668, 0.03953854, 0.03207228, 0.03894835,\n",
       "       0.02169546, 0.02644777, 0.0232633 , 0.02352138, 0.02991099])"
      ]
     },
     "execution_count": 117,
     "metadata": {},
     "output_type": "execute_result"
    }
   ],
   "source": [
    "clf = RandomForestClassifier(random_state=0, **clfrfc.best_params_)\n",
    "clf.fit(XX_train.toarray(), y_train.values)\n",
    "clf.feature_importances_\n",
    "\n",
    "\n"
   ]
  },
  {
   "cell_type": "markdown",
   "metadata": {},
   "source": [
    "# GradientBoostingClassifier"
   ]
  },
  {
   "cell_type": "code",
   "execution_count": 109,
   "metadata": {},
   "outputs": [],
   "source": [
    "from sklearn.ensemble import GradientBoostingClassifier\n",
    "clf = GradientBoostingClassifier()"
   ]
  },
  {
   "cell_type": "code",
   "execution_count": 110,
   "metadata": {},
   "outputs": [
    {
     "name": "stdout",
     "output_type": "stream",
     "text": [
      "Fitting 5 folds for each of 48 candidates, totalling 240 fits\n"
     ]
    },
    {
     "name": "stderr",
     "output_type": "stream",
     "text": [
      "[Parallel(n_jobs=3)]: Done  44 tasks      | elapsed:   27.8s\n",
      "[Parallel(n_jobs=3)]: Done 194 tasks      | elapsed:  2.2min\n",
      "[Parallel(n_jobs=3)]: Done 240 out of 240 | elapsed:  2.9min finished\n"
     ]
    },
    {
     "data": {
      "text/plain": [
       "0.51953125"
      ]
     },
     "execution_count": 110,
     "metadata": {},
     "output_type": "execute_result"
    }
   ],
   "source": [
    "parameters = {'n_estimators':[10,50,100,500],\n",
    "              'max_depth':[None,10,15,20],\n",
    "              'min_samples_split':[2,3,5],}\n",
    "scorer = make_scorer(f1_score, average='micro')\n",
    "\n",
    "clfgbc = GridSearchCV(clf, parameters, verbose=1, cv=5, n_jobs=3, scoring=scorer)\n",
    "clfgbc.fit(XX_train.toarray(), y_train.values)\n",
    "clfgbc.score(XX_test.toarray(), y_test.values)"
   ]
  },
  {
   "cell_type": "code",
   "execution_count": 111,
   "metadata": {},
   "outputs": [
    {
     "data": {
      "text/plain": [
       "{'max_depth': 10, 'min_samples_split': 2, 'n_estimators': 500}"
      ]
     },
     "execution_count": 111,
     "metadata": {},
     "output_type": "execute_result"
    }
   ],
   "source": [
    "clfgbc.best_params_"
   ]
  },
  {
   "cell_type": "code",
   "execution_count": 114,
   "metadata": {},
   "outputs": [
    {
     "data": {
      "text/plain": [
       "GradientBoostingClassifier(criterion='friedman_mse', init=None,\n",
       "              learning_rate=0.1, loss='deviance', max_depth=10,\n",
       "              max_features=None, max_leaf_nodes=None,\n",
       "              min_impurity_decrease=0.0, min_impurity_split=None,\n",
       "              min_samples_leaf=1, min_samples_split=2,\n",
       "              min_weight_fraction_leaf=0.0, n_estimators=500,\n",
       "              presort='auto', random_state=None, subsample=1.0, verbose=0,\n",
       "              warm_start=False)"
      ]
     },
     "execution_count": 114,
     "metadata": {},
     "output_type": "execute_result"
    }
   ],
   "source": [
    "clf = GradientBoostingClassifier(**clfgbc.best_params_)\n",
    "clf.fit(XX_train.toarray(), y_train.values)"
   ]
  },
  {
   "cell_type": "code",
   "execution_count": null,
   "metadata": {},
   "outputs": [],
   "source": []
  },
  {
   "cell_type": "code",
   "execution_count": null,
   "metadata": {},
   "outputs": [],
   "source": []
  },
  {
   "cell_type": "code",
   "execution_count": null,
   "metadata": {},
   "outputs": [],
   "source": []
  },
  {
   "cell_type": "code",
   "execution_count": null,
   "metadata": {},
   "outputs": [],
   "source": []
  },
  {
   "cell_type": "code",
   "execution_count": 49,
   "metadata": {},
   "outputs": [
    {
     "name": "stderr",
     "output_type": "stream",
     "text": [
      "/Users/cricket/anaconda3/lib/python3.6/site-packages/keras/preprocessing/image.py:492: UserWarning: This ImageDataGenerator specifies `zca_whitening`, which overrides setting of `featurewise_center`.\n",
      "  warnings.warn('This ImageDataGenerator specifies '\n"
     ]
    },
    {
     "data": {
      "image/png": "[encoded data removed]",
      "text/plain": [
       "<Figure size 432x288 with 9 Axes>"
      ]
     },
     "metadata": {},
     "output_type": "display_data"
    }
   ],
   "source": [
    "# ZCA whitening\n",
    "from keras.datasets import mnist\n",
    "from keras.preprocessing.image import ImageDataGenerator\n",
    "from matplotlib import pyplot\n",
    "from keras import backend as K\n",
    "K.set_image_dim_ordering('th')\n",
    "# load data\n",
    "(X_train, y_train), (X_test, y_test) = mnist.load_data()\n",
    "# reshape to be [samples][pixels][width][height]\n",
    "X_train = X_train.reshape(X_train.shape[0], 1, 28, 28)\n",
    "X_test = X_test.reshape(X_test.shape[0], 1, 28, 28)\n",
    "# convert from int to float\n",
    "X_train = X_train.astype('float32')\n",
    "X_test = X_test.astype('float32')\n",
    "# define data preparation\n",
    "datagen = ImageDataGenerator(zca_whitening=True)\n",
    "# fit parameters from data\n",
    "datagen.fit(X_train)\n",
    "# configure batch size and retrieve one batch of images\n",
    "for X_batch, y_batch in datagen.flow(X_train, y_train, batch_size=9):\n",
    "    # create a grid of 3x3 images\n",
    "    for i in range(0, 9):\n",
    "        pyplot.subplot(330 + 1 + i)\n",
    "        pyplot.imshow(X_batch[i].reshape(28, 28), cmap=pyplot.get_cmap('gray'))\n",
    "    # show the plot\n",
    "    pyplot.show()\n",
    "    break"
   ]
  },
  {
   "cell_type": "code",
   "execution_count": 53,
   "metadata": {},
   "outputs": [
    {
     "data": {
      "text/plain": [
       "(60000, 28, 28)"
      ]
     },
     "execution_count": 53,
     "metadata": {},
     "output_type": "execute_result"
    }
   ],
   "source": [
    "# load data\n",
    "(X_train, y_train), (X_test, y_test) = mnist.load_data()\n",
    "X_train.shape"
   ]
  },
  {
   "cell_type": "code",
   "execution_count": null,
   "metadata": {},
   "outputs": [],
   "source": [
    "plt.imshow(X_train[1].reshape(28, 28), cmap=pyplot.get_cmap('gray'))\n",
    "plt.show()"
   ]
  },
  {
   "cell_type": "code",
   "execution_count": null,
   "metadata": {},
   "outputs": [],
   "source": [
    "X_train[0][0]"
   ]
  },
  {
   "cell_type": "code",
   "execution_count": null,
   "metadata": {},
   "outputs": [],
   "source": []
  }
 ],
 "metadata": {
  "kernelspec": {
   "display_name": "Python 3",
   "language": "python",
   "name": "python3"
  },
  "language_info": {
   "codemirror_mode": {
    "name": "ipython",
    "version": 3
   },
   "file_extension": ".py",
   "mimetype": "text/x-python",
   "name": "python",
   "nbconvert_exporter": "python",
   "pygments_lexer": "ipython3",
   "version": "3.6.4"
  }
 },
 "nbformat": 4,
 "nbformat_minor": 2
}
